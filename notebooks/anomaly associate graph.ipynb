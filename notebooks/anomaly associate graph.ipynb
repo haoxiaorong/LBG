{
 "cells": [
  {
   "cell_type": "code",
   "execution_count": 1,
   "id": "2ee85a40",
   "metadata": {},
   "outputs": [],
   "source": [
    "import os\n",
    "import logging\n",
    "import networkx as nx\n",
    "import numpy as np\n",
    "#import seaborn as sns\n",
    "import random\n",
    "import math\n",
    "from scipy.stats import truncnorm\n",
    "import time\n",
    "import copy\n",
    "import matplotlib.pyplot as plt\n",
    "from random import sample\n",
    "import itertools\n",
    "\n",
    "data_name = \"auth\"\n",
    "NCCPATH =  '../data/LANL/TCG_LANL.txt'\n",
    "SEED = 1\n",
    "ASG = \"./anomaly_associate_graph.txt\"\n",
    "\n",
    "\n",
    "sample_user = 2000  # 2000 normal users"
   ]
  },
  {
   "cell_type": "code",
   "execution_count": 2,
   "id": "357f03a2",
   "metadata": {},
   "outputs": [],
   "source": [
    "red_team = './nredteam.txt'\n",
    "anomaly_user = set()\n",
    "with open(red_team, 'r', encoding='utf-8') as fi:\n",
    "    while True:\n",
    "        line = fi.readline()\n",
    "        if not line:\n",
    "            break\n",
    "        l = line.strip().split(',')\n",
    "        anomaly_user.add(l[1])"
   ]
  },
  {
   "cell_type": "code",
   "execution_count": 8,
   "id": "df830c5b",
   "metadata": {},
   "outputs": [
    {
     "name": "stdout",
     "output_type": "stream",
     "text": [
      "0.0\n",
      "0.0\n",
      "0.0\n",
      "0.0\n",
      "0.0\n",
      "0.0\n",
      "0.0\n",
      "0.0\n",
      "0.0\n",
      "0.0\n",
      "0.0\n",
      "0.0\n",
      "0.0\n",
      "0.0\n",
      "0.0\n",
      "0.000993490219116211\n",
      "0.0\n",
      "0.0\n",
      "0.0\n",
      "0.0\n",
      "0.0\n",
      "0.0\n",
      "0.0\n",
      "0.0\n",
      "0.0\n",
      "0.0\n",
      "0.0\n",
      "0.0\n",
      "0.0\n",
      "0.0\n",
      "0.0\n",
      "0.0009970664978027344\n",
      "0.0\n",
      "0.0\n",
      "0.0\n",
      "0.0\n"
     ]
    }
   ],
   "source": [
    "\n",
    "def sample_users(file_path, sample_user):\n",
    "    with open(file_path, \"r\") as f:\n",
    "        line = f.readline()\n",
    "        sampled_users = set()\n",
    "        num_lines_read = 0\n",
    "        start = time.time()\n",
    "        while True:\n",
    "            line = f.readline()\n",
    "            if not line:\n",
    "                break\n",
    "            l = line.strip().split(',')\n",
    "            if len(sampled_users) < sample_user and l[1] not in anomaly_user:\n",
    "                sampled_users.add(l[1])\n",
    "            elif(l[1] not in anomaly_user and l[1] not in sampled_users):\n",
    "                index_to_replace = random.randint(0, sample_user - 1)\n",
    "                list(sampled_users)[index_to_replace] = l[1]\n",
    "            num_lines_read += 1\n",
    "            if (num_lines_read % 5000000 == 0):\n",
    "                print(time.time() - start)\n",
    "    return sampled_users\n",
    "\n",
    "\n",
    "sampled_users = sample_users(NCCPATH, sample_user)\n"
   ]
  },
  {
   "cell_type": "code",
   "execution_count": 17,
   "id": "69c25ea9",
   "metadata": {},
   "outputs": [
    {
     "name": "stdout",
     "output_type": "stream",
     "text": [
      "4.178261995315552\n",
      "8.160568237304688\n",
      "12.843894481658936\n",
      "17.572509050369263\n",
      "21.878676652908325\n",
      "26.15847134590149\n",
      "30.72716212272644\n",
      "35.106136322021484\n",
      "39.628639459609985\n",
      "44.53762459754944\n",
      "49.06537175178528\n",
      "53.82852792739868\n"
     ]
    }
   ],
   "source": [
    "def write_lines(file_path,ASG, sample_user):\n",
    "    with open(file_path, \"r\") as f:\n",
    "        line = f.readline()\n",
    "        num_lines_read = 0\n",
    "        start = time.time()\n",
    "        sf = open(ASG, 'a')\n",
    "        while True:\n",
    "            line = f.readline()\n",
    "            if not line:\n",
    "                break\n",
    "            l = line.strip().split(',')\n",
    "            if l[1] in sampled_users or l[1] in anomaly_user:\n",
    "                sf.write(line)\n",
    "            num_lines_read += 1\n",
    "            if (num_lines_read % 3000000 == 0):\n",
    "                print(time.time() - start)\n",
    "    return num_lines_read\n",
    "\n",
    "with open(ASG, 'a') as sf:\n",
    "    sf.truncate(0)\n",
    "    sf.close()\n",
    "num_lines_read = write_lines(NCCPATH,ASG, sample_user)\n"
   ]
  },
  {
   "cell_type": "code",
   "execution_count": 18,
   "id": "e352b2af",
   "metadata": {},
   "outputs": [],
   "source": [
    "red_team = '../data/LANL/nredteam.txt'\n",
    "red_file = set(open(red_team, 'r').readlines())\n",
    "ASG_events = 0\n",
    "ASG_node = set()\n",
    "ASG_anomaly_node = set()\n",
    "ASG_anomaly_events = 0 \n",
    "with open(ASG, 'r', encoding='utf-8') as fi:\n",
    "    while True:\n",
    "        line = fi.readline()\n",
    "        if not line:\n",
    "            break\n",
    "        l = line.strip().split(',')\n",
    "        ASG_events += 1\n",
    "        ASG_node.add(l[3])\n",
    "        ASG_node.add(l[6])\n",
    "        str_line = str(l[0]) + ',' + str(l[1]) + ',' + str(l[2]) + ',' + str(l[3]) + ',' + str(l[6]) + '\\n'\n",
    "        if str_line in red_file:\n",
    "            ASG_anomaly_events+=1\n",
    "            ASG_anomaly_node.add(l[3])\n",
    "            ASG_anomaly_node.add(l[6])\n",
    "    fi.close()\n"
   ]
  },
  {
   "cell_type": "code",
   "execution_count": 19,
   "id": "9e005432",
   "metadata": {},
   "outputs": [
    {
     "name": "stdout",
     "output_type": "stream",
     "text": [
      "num of all events: 11839847\n",
      "num of all nodes: 8548\n",
      "num of all anomaly events: 702\n",
      "num of all anomaly nodes: 299\n"
     ]
    }
   ],
   "source": [
    "print(\"num of all events:\",ASG_events)\n",
    "print(\"num of all nodes:\",len(ASG_node))\n",
    "print(\"num of all anomaly events:\",ASG_anomaly_events)\n",
    "print(\"num of all anomaly nodes:\",len(ASG_anomaly_node))"
   ]
  },
  {
   "cell_type": "code",
   "execution_count": null,
   "id": "d30332e0",
   "metadata": {},
   "outputs": [],
   "source": []
  },
  {
   "cell_type": "code",
   "execution_count": null,
   "id": "d87010d7",
   "metadata": {},
   "outputs": [],
   "source": []
  },
  {
   "cell_type": "code",
   "execution_count": null,
   "id": "24c44aff",
   "metadata": {},
   "outputs": [],
   "source": []
  }
 ],
 "metadata": {
  "kernelspec": {
   "display_name": "Python [conda env:cybersim] *",
   "language": "python",
   "name": "conda-env-cybersim-py"
  },
  "language_info": {
   "codemirror_mode": {
    "name": "ipython",
    "version": 3
   },
   "file_extension": ".py",
   "mimetype": "text/x-python",
   "name": "python",
   "nbconvert_exporter": "python",
   "pygments_lexer": "ipython3",
   "version": "3.9.19"
  }
 },
 "nbformat": 4,
 "nbformat_minor": 5
}

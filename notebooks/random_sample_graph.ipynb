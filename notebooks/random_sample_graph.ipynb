{
 "cells": [
  {
   "cell_type": "code",
   "execution_count": 1,
   "id": "3925cb14",
   "metadata": {},
   "outputs": [],
   "source": [
    "import os\n",
    "import logging\n",
    "import networkx as nx\n",
    "import numpy as np\n",
    "#import seaborn as sns\n",
    "import random\n",
    "import math\n",
    "from scipy.stats import truncnorm\n",
    "import time\n",
    "import copy\n",
    "import matplotlib.pyplot as plt\n",
    "from random import sample\n",
    "import itertools\n",
    "\n",
    "data_name = \"auth\"\n",
    "NCCPATH = './filter_events.txt'\n",
    "SEED = 1\n",
    "RSG = \"./random_sample_graph.txt\"\n",
    "\n",
    "# random sample_size\n",
    "sample_size = 3694609  "
   ]
  },
  {
   "cell_type": "code",
   "execution_count": 2,
   "id": "1da81d2e",
   "metadata": {},
   "outputs": [
    {
     "name": "stdout",
     "output_type": "stream",
     "text": [
      "0.5690009593963623\n",
      "1.170048475265503\n",
      "1.9110875129699707\n",
      "2.8287413120269775\n",
      "4.84679651260376\n",
      "6.524381160736084\n",
      "8.164499521255493\n",
      "9.87024712562561\n",
      "11.45435357093811\n",
      "13.08981966972351\n",
      "14.78002381324768\n",
      "16.84142255783081\n",
      "18.694754600524902\n",
      "20.337281703948975\n",
      "21.940845727920532\n",
      "23.619324684143066\n",
      "25.375725269317627\n",
      "26.95033359527588\n",
      "28.59001851081848\n",
      "30.230679988861084\n",
      "32.09376883506775\n",
      "33.681371450424194\n",
      "35.25422978401184\n",
      "36.83014941215515\n",
      "38.420222997665405\n",
      "39.983487129211426\n",
      "41.57157063484192\n",
      "43.182653188705444\n",
      "44.82496190071106\n",
      "46.469584226608276\n",
      "48.17972922325134\n",
      "49.82573199272156\n",
      "51.56977653503418\n",
      "53.22278070449829\n",
      "54.902769565582275\n",
      "56.568927526474\n"
     ]
    }
   ],
   "source": [
    "\n",
    "def sample_lines(file_path, sample_size):\n",
    "    with open(file_path, \"r\") as f:\n",
    "        line_iterator = iter(f)\n",
    "        line = next(line_iterator, None)\n",
    "        sampled_lines = []\n",
    "        num_lines_read = 0\n",
    "        start = time.time()\n",
    "        while line:\n",
    "            if len(sampled_lines) < sample_size:\n",
    "                sampled_lines.append(line)\n",
    "            else:\n",
    "                # random \n",
    "                #print(1) replace\n",
    "                index_to_replace = random.randint(0, sample_size - 1)\n",
    "                sampled_lines[index_to_replace] = line\n",
    "            # \n",
    "            line = next(line_iterator, None)\n",
    "            num_lines_read += 1\n",
    "            if (num_lines_read % 1000000 == 0):\n",
    "                print(time.time() - start)\n",
    "    f.close()\n",
    "    return sampled_lines\n",
    "\n",
    "\n",
    "sampled_lines = sample_lines(NCCPATH, sample_size)\n"
   ]
  },
  {
   "cell_type": "code",
   "execution_count": 3,
   "id": "c434bd84",
   "metadata": {},
   "outputs": [],
   "source": [
    "sort_line = sorted(sampled_lines)"
   ]
  },
  {
   "cell_type": "code",
   "execution_count": 4,
   "id": "97b769ac",
   "metadata": {},
   "outputs": [],
   "source": [
    "with open(RSG, 'a') as sf:\n",
    "    sf.truncate(0)\n",
    "    sf.close()\n",
    "unique_nodes = set()\n",
    "sf = open(RSG, 'a')\n",
    "for line in sort_line:\n",
    "    lline = line.strip().split(',')\n",
    "    unique_nodes.add(lline[3])  # source node\n",
    "    unique_nodes.add(lline[6])  # destination node\n",
    "    sf.write(line)\n",
    "sf.close()"
   ]
  },
  {
   "cell_type": "code",
   "execution_count": 5,
   "id": "1ed824c8",
   "metadata": {},
   "outputs": [
    {
     "name": "stdout",
     "output_type": "stream",
     "text": [
      "all events 3694609\n",
      "all nodes 13353\n"
     ]
    }
   ],
   "source": [
    "total_events = len(sampled_lines)\n",
    "total_nodes = len(unique_nodes)\n",
    "print(\"all events\",total_events)# \n",
    "print(\"all nodes\",total_nodes)# "
   ]
  },
  {
   "cell_type": "code",
   "execution_count": 6,
   "id": "98e95048",
   "metadata": {},
   "outputs": [],
   "source": [
    "red_team = './nredteam.txt'\n",
    "red_file = set(open(red_team, 'r').readlines())\n",
    "RSG_anomaly_node = set()\n",
    "RSG_anomaly_events = 0 \n",
    "with open(RSG, 'r', encoding='utf-8') as fi:\n",
    "    while True:\n",
    "        line = fi.readline()\n",
    "        if not line:\n",
    "            break\n",
    "        l = line.strip().split(',')\n",
    "        str_line = str(l[0]) + ',' + str(l[1]) + ',' + str(l[2]) + ',' + str(l[3]) + ',' + str(l[6]) + '\\n'\n",
    "        if str_line in red_file:\n",
    "            RSG_anomaly_events+=1\n",
    "            RSG_anomaly_node.add(l[3])\n",
    "            RSG_anomaly_node.add(l[6])\n",
    "    fi.close()\n"
   ]
  },
  {
   "cell_type": "code",
   "execution_count": 7,
   "id": "ceee690b",
   "metadata": {},
   "outputs": [
    {
     "name": "stdout",
     "output_type": "stream",
     "text": [
      "num of attack events 1\n",
      "num of attack nodes 2\n"
     ]
    }
   ],
   "source": [
    "print(\"num of attack events\",RSG_anomaly_events)\n",
    "print(\"num of attack nodes\",len(RSG_anomaly_node))"
   ]
  },
  {
   "cell_type": "markdown",
   "id": "bdb024ed",
   "metadata": {},
   "source": [
    "# optc数据"
   ]
  },
  {
   "cell_type": "code",
   "execution_count": 1,
   "id": "1dc27e46",
   "metadata": {},
   "outputs": [],
   "source": [
    "import os\n",
    "import logging\n",
    "import networkx as nx\n",
    "import numpy as np\n",
    "import random\n",
    "import math\n",
    "from scipy.stats import truncnorm\n",
    "import time\n",
    "import copy\n",
    "import matplotlib.pyplot as plt\n",
    "from random import sample\n",
    "import itertools\n",
    "\n",
    "path = 'G:/EngD/data/optc/ecar-bro'\n",
    "NCCPATH = path+'/labeloptcn.txt'\n",
    "SEED = 1\n",
    "RSG = \"./rsg_optc.txt\"\n",
    "\n",
    "# \n",
    "sample_size = int(80722068/10) #"
   ]
  },
  {
   "cell_type": "code",
   "execution_count": 2,
   "id": "cdcc1c71",
   "metadata": {},
   "outputs": [
    {
     "name": "stdout",
     "output_type": "stream",
     "text": [
      "0.6715056896209717\n",
      "1.189011812210083\n",
      "1.7480156421661377\n",
      "2.268004894256592\n",
      "2.7935523986816406\n",
      "3.3055579662323\n",
      "3.8456287384033203\n",
      "4.410621643066406\n",
      "6.2702696323394775\n",
      "8.217697143554688\n",
      "10.127802848815918\n",
      "11.893796443939209\n",
      "13.651878595352173\n",
      "15.57394814491272\n",
      "17.3170428276062\n",
      "19.067035913467407\n",
      "20.850252866744995\n",
      "22.5886652469635\n",
      "24.3397696018219\n",
      "26.208799362182617\n",
      "28.148943662643433\n",
      "29.969620943069458\n",
      "31.780622482299805\n",
      "33.55906081199646\n",
      "35.36429047584534\n",
      "37.18430733680725\n",
      "38.93973708152771\n",
      "40.73008179664612\n",
      "42.54596519470215\n",
      "44.33313965797424\n",
      "46.15275025367737\n",
      "47.92753267288208\n",
      "49.70147728919983\n",
      "51.61424398422241\n",
      "53.413814544677734\n",
      "55.20884656906128\n",
      "56.97620868682861\n",
      "58.7459077835083\n",
      "60.62625050544739\n",
      "62.46487522125244\n",
      "64.22950673103333\n",
      "66.0276825428009\n",
      "67.78032946586609\n",
      "69.56101751327515\n",
      "71.39194226264954\n",
      "73.40461802482605\n",
      "75.43720936775208\n",
      "77.47391819953918\n",
      "79.44842386245728\n",
      "81.24529218673706\n",
      "83.04664492607117\n",
      "84.81727433204651\n",
      "86.64791345596313\n",
      "88.47464966773987\n",
      "90.26415300369263\n",
      "92.3138976097107\n",
      "94.07400703430176\n",
      "95.82615900039673\n",
      "97.65845608711243\n",
      "99.49579882621765\n",
      "101.40635299682617\n",
      "103.28849577903748\n",
      "105.10366463661194\n",
      "106.86768388748169\n",
      "108.70466732978821\n",
      "110.4677734375\n",
      "112.481205701828\n",
      "114.37713289260864\n",
      "116.22429966926575\n",
      "117.99459838867188\n",
      "119.75835752487183\n",
      "121.51160264015198\n",
      "123.31833171844482\n",
      "125.08422923088074\n",
      "126.81722903251648\n",
      "128.76531553268433\n",
      "130.60963988304138\n",
      "132.3906397819519\n",
      "134.2379801273346\n",
      "136.05854892730713\n"
     ]
    }
   ],
   "source": [
    "\n",
    "def sample_lines(file_path, sample_size):\n",
    "    with open(file_path, \"r\") as f:\n",
    "        \n",
    "        line_iterator = iter(f)\n",
    "        line = next(line_iterator, None)\n",
    "        sampled_lines = []\n",
    "        num_lines_read = 0\n",
    "        start = time.time()\n",
    "        while line:\n",
    "            if len(sampled_lines) < sample_size:\n",
    "                sampled_lines.append(line)\n",
    "            else:\n",
    "                index_to_replace = random.randint(0, sample_size - 1)\n",
    "                sampled_lines[index_to_replace] = line\n",
    "            line = next(line_iterator, None)\n",
    "            num_lines_read += 1\n",
    "            if (num_lines_read % 1000000 == 0):\n",
    "                print(time.time() - start)\n",
    "    f.close()\n",
    "    return sampled_lines\n",
    "\n",
    "\n",
    "sampled_lines = sample_lines(NCCPATH, sample_size)\n"
   ]
  },
  {
   "cell_type": "code",
   "execution_count": 3,
   "id": "000a2651",
   "metadata": {},
   "outputs": [
    {
     "name": "stdout",
     "output_type": "stream",
     "text": [
      "all events 8072206\n",
      "all nodes 679\n",
      "num of attack events 18270\n",
      "num of attack nodes 26\n"
     ]
    }
   ],
   "source": [
    "sort_line = sorted(sampled_lines)\n",
    "with open(RSG, 'a') as sf:\n",
    "    sf.truncate(0)\n",
    "    sf.close()\n",
    "unique_nodes = set()\n",
    "sf = open(RSG, 'a')\n",
    "RSG_anomaly_node = set()\n",
    "RSG_anomaly_events = 0 \n",
    "for line in sort_line:\n",
    "    lline = line.strip().split(',')\n",
    "    unique_nodes.add(lline[1])  \n",
    "    unique_nodes.add(lline[2])  \n",
    "    sf.write(line)\n",
    "    if(int(lline[-1])==1):\n",
    "        RSG_anomaly_events+=1\n",
    "        RSG_anomaly_node.add(lline[1])\n",
    "sf.close()\n",
    "total_events = len(sampled_lines)\n",
    "total_nodes = len(unique_nodes)\n",
    "print(\"all events\",total_events)\n",
    "print(\"all nodes\",total_nodes)\n",
    "\n",
    "print(\"num of attack events\",RSG_anomaly_events)\n",
    "print(\"num of attack nodes\",len(RSG_anomaly_node))"
   ]
  },
  {
   "cell_type": "code",
   "execution_count": null,
   "id": "569f27ef",
   "metadata": {},
   "outputs": [],
   "source": []
  }
 ],
 "metadata": {
  "kernelspec": {
   "display_name": "pytorch_env",
   "language": "python",
   "name": "pytorch_env"
  },
  "language_info": {
   "codemirror_mode": {
    "name": "ipython",
    "version": 3
   },
   "file_extension": ".py",
   "mimetype": "text/x-python",
   "name": "python",
   "nbconvert_exporter": "python",
   "pygments_lexer": "ipython3",
   "version": "3.7.11"
  }
 },
 "nbformat": 4,
 "nbformat_minor": 5
}

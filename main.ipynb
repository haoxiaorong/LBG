{
 "cells": [
  {
   "cell_type": "code",
   "execution_count": 1,
   "id": "9aa599ab",
   "metadata": {},
   "outputs": [
    {
     "name": "stdout",
     "output_type": "stream",
     "text": [
      "2024-09-02 04:28:55,701 140564686231360 2959834583.py[line:87] - INFO: \n",
      "---------------------------------------new start training--------------------------------------\n",
      "\n",
      "2024-09-02 04:28:55,703 140564686231360 2959834583.py[line:88] - INFO: parameter,ADGAT_EPOCHS:150,BATCH_SIZE:2000,NUM_LAYER:1\n",
      "2024-09-02 04:28:55,704 140564686231360 2959834583.py[line:89] - INFO: parameter,NUM_NEIGHBORS:24,NUM_HEADS:16,DROP_OUT:0.1,input_feat:128\n",
      "2024-09-02 04:28:55,705 140564686231360 2959834583.py[line:97] - INFO: current file:./data/LANL/exampleAIG_LANL.txt\n",
      "2024-09-02 04:28:55,727 140564686231360 2959834583.py[line:101] - INFO: gpu cuda is available!\n",
      "2024-09-02 04:28:56,261 140564686231360 2959834583.py[line:196] - INFO: Finish Loading Data\n"
     ]
    }
   ],
   "source": [
    "import os\n",
    "import math\n",
    "\n",
    "import numpy as np\n",
    "import random\n",
    "\n",
    "from tqdm import tqdm\n",
    "import matplotlib\n",
    "matplotlib.use('TkAgg')\n",
    "import matplotlib.pyplot as plt\n",
    "\n",
    "import torch\n",
    "\n",
    "from sklearn.metrics import confusion_matrix, average_precision_score, roc_curve, roc_auc_score, accuracy_score,f1_score, normalized_mutual_info_score\n",
    "\n",
    "from model.models import LBG\n",
    "from model.temporalNeighbor import temporalNeighbor\n",
    "from logger import logger\n",
    "from collections import Counter\n",
    "from sklearn.preprocessing import StandardScaler\n",
    "#聚类指标：轮廓系数\n",
    "from sklearn.metrics import silhouette_score\n",
    "\n",
    "### Utility function and class\n",
    "class EarlyStopMonitor(object):\n",
    "    def __init__(self, max_round=5, higher_better=True, tolerance=1e-3):\n",
    "        self.max_round = max_round\n",
    "        self.num_round = 0\n",
    "\n",
    "        self.epoch_count = 0\n",
    "        self.best_epoch = 0\n",
    "\n",
    "        self.last_best = None\n",
    "        self.higher_better = higher_better\n",
    "        self.tolerance = tolerance\n",
    "\n",
    "    def early_stop_check(self, curr_val):\n",
    "\n",
    "        if not self.higher_better:\n",
    "            curr_val *= -1\n",
    "        if self.last_best is None:\n",
    "            self.last_best = curr_val\n",
    "        elif (curr_val - self.last_best) / np.abs(self.last_best) < -self.tolerance:\n",
    "            self.last_best = curr_val\n",
    "            self.num_round = 0\n",
    "            self.best_epoch = self.epoch_count\n",
    "        else:\n",
    "            self.num_round += 1\n",
    "        self.epoch_count += 1\n",
    "        print('last_best,best_epoch',self.last_best,self.best_epoch)\n",
    "        return self.num_round >= self.max_round\n",
    "\n",
    "class RandEdgeSampler(object):\n",
    "    def __init__(self, src_list, dst_list):\n",
    "        self.src_list = np.unique(src_list)\n",
    "        self.dst_list = np.unique(dst_list)\n",
    "\n",
    "    def sample(self, size):\n",
    "        src_index = np.random.randint(0, len(self.src_list), size)\n",
    "        dst_index = np.random.randint(0, len(self.dst_list), size)\n",
    "        return self.src_list[src_index], self.dst_list[dst_index]\n",
    "\n",
    "SEED = 1\n",
    "ADGAT_EPOCHS = 150\n",
    "BATCH_SIZE = 2000\n",
    "NUM_LAYER = 1\n",
    "UNIFORM = True\n",
    "GPU = 1\n",
    "NUM_NEIGHBORS = 24\n",
    "NUM_HEADS = 16\n",
    "DROP_OUT = 0.1\n",
    "input_feat = 128\n",
    "output_feat = 128\n",
    "hidden = 128\n",
    "USE_TIME = 'time'\n",
    "AGG_METHOD = 'attn'\n",
    "ATTN_MODE = 'prod'\n",
    "objective = 'soft-boundary' #'hard'\n",
    "SEQ_LEN = NUM_NEIGHBORS\n",
    "LEARNING_RATE = 1e-3\n",
    "DATA = 'LANL'\n",
    "c = None\n",
    "R=0\n",
    "RR = 20#threshold\n",
    "nu = 1e-5 \n",
    "\n",
    "logger.info('\\n---------------------------------------new start training--------------------------------------\\n')\n",
    "logger.info('parameter,ADGAT_EPOCHS:{},BATCH_SIZE:{},NUM_LAYER:{}'.format(ADGAT_EPOCHS,BATCH_SIZE,NUM_LAYER))\n",
    "logger.info('parameter,NUM_NEIGHBORS:{},NUM_HEADS:{},DROP_OUT:{},input_feat:{}'.format(NUM_NEIGHBORS,NUM_HEADS,DROP_OUT,input_feat))\n",
    "\n",
    "ALLEDGEPATH= './data/LANL/exampleAIG_LANL.txt'#41590401,4603678\n",
    "ADGATMODEL_SAVE_PATH = f'./save_models/{AGG_METHOD}-{ATTN_MODE}-{DATA}.pth'\n",
    "ADGATget_checkpoint_path = lambda epoch: f'./save_checkpoints/{AGG_METHOD}-{ATTN_MODE}-{DATA}-{epoch}.pth'\n",
    "red_team_name = './data/LANL/nredteam.txt'\n",
    "data_name =  './data/LANL/TCG_LANL.txt'\n",
    "precess_file_path =  './data/LANL/iniACG_LANL.txt'\n",
    "logger.info('current file:{}'.format(ALLEDGEPATH))\n",
    "\n",
    "def setup_seed(seed):\n",
    "    if torch.cuda.is_available():\n",
    "        logger.info(\"gpu cuda is available!\")\n",
    "        torch.cuda.manual_seed_all(seed)\n",
    "    else:\n",
    "        logger.info(\"cuda is not available! cpu is available!\")\n",
    "        torch.manual_seed(seed)\n",
    "    torch.manual_seed(seed)\n",
    "    np.random.seed(seed)\n",
    "    random.seed(seed)\n",
    "    torch.backends.cudnn.deterministic = True\n",
    "    os.environ['PYTHONHASHSEED'] = str(seed)\n",
    "\n",
    "\n",
    "setup_seed(SEED)\n",
    "red_team_file = set(open(red_team_name, 'r').readlines())\n",
    "\n",
    "\n",
    "def model_roc_curve(test_node,FPR, TPR):\n",
    "    fig_roc = plt.figure()\n",
    "    plt.plot([0, 1], [0, 1], 'k--')\n",
    "    A, = plt.step(FPR, TPR, color=\"#ff5722\", linestyle='-.', alpha=1, where='post', label=\"roc\")\n",
    "    font1 = {'family': 'Times New Roman',\n",
    "             'weight': 'normal',\n",
    "             'size': 16,\n",
    "             }\n",
    "    font2 = {'family': 'Times New Roman',\n",
    "             'weight': 'normal',\n",
    "             'size': 13,\n",
    "             }\n",
    "    plt.tick_params(labelsize=12)\n",
    "    plt.xlabel('False positive rate', font1)\n",
    "    plt.ylabel('True positive rate', font1)\n",
    "    plt.ylim([0.0, 1.05])\n",
    "    plt.xlim([0.0, 1.0])\n",
    "\n",
    "    legend = plt.legend(handles=[A], prop=font2)\n",
    "\n",
    "    plt.title('ROC curve', fontsize=14)\n",
    "\n",
    "    fig_roc.savefig(test_node+\".png\", dpi=500, bbox_inches='tight')\n",
    "\n",
    "\n",
    "def load_data(file):\n",
    "    edge_train = []\n",
    "    label_src = []\n",
    "    label_dst = []\n",
    "    node_id = set()\n",
    "    train_src_l = []\n",
    "    train_dst_l = []\n",
    "    train_ts_l = []\n",
    "    train_label_l = []\n",
    "    i = 0\n",
    "    with open(file, 'r', encoding='utf-8') as fi:\n",
    "        while True:\n",
    "            line = fi.readline()\n",
    "            if not line:\n",
    "                break\n",
    "            l = line.strip().split(',')\n",
    "            if (int(l[0]) > 150884):#72-83\n",
    "                break\n",
    "            str_line = str(l[0]) + ',' + str(l[1]) + ',' + str(l[2]) + ',' + str(l[3]) + ',' + str(l[6]) + '\\n'\n",
    "            if str_line in red_team_file:\n",
    "                train_label_l.append(1)\n",
    "            else:\n",
    "                train_label_l.append(0)\n",
    "            C1 = int(l[3].strip('C'))\n",
    "            C2 = int(l[6].strip('C'))\n",
    "            node_id.add(C1)\n",
    "            node_id.add(C2)\n",
    "            i = i + 1\n",
    "\n",
    "            edge_train.append([C1, C2, int(l[0])])\n",
    "            train_src_l.append(C1)\n",
    "            label_src.append(0)\n",
    "            train_dst_l.append(C2)\n",
    "            label_dst.append(0)\n",
    "            train_ts_l.append(int(l[0]))\n",
    "\n",
    "    return node_id, train_src_l, train_dst_l, train_ts_l, train_label_l, label_src, label_dst\n",
    "\n",
    "\n",
    "node_id, train_src_l, train_dst_l, train_ts_l, train_label_l, label_src, label_dst = load_data(ALLEDGEPATH)\n",
    "\n",
    "feat_edge = np.zeros((len(train_src_l), input_feat))\n",
    "max_idx = max(30000, max(node_id))  #max(node_id)27193\n",
    "\n",
    "feat_node = np.random.random((max_idx, input_feat))\n",
    "feat_nodes = feat_node\n",
    "Mm = StandardScaler()\n",
    "feat_node_nor = Mm.fit_transform(feat_nodes)\n",
    "\n",
    "\n",
    "assert (len(train_src_l) == len(train_dst_l))\n",
    "assert (len(train_dst_l) == len(train_ts_l))\n",
    "#assert(len(train_ts_l)==len(feat_edge))\n",
    "train_e_idx_l = list(np.arange(len(train_src_l)))\n",
    "logger.info(\"Finish Loading Data\")\n",
    "\n"
   ]
  },
  {
   "cell_type": "code",
   "execution_count": 2,
   "id": "c187ab81-0f2f-4cfb-a5a8-ef1ec3a203ad",
   "metadata": {},
   "outputs": [
    {
     "name": "stdout",
     "output_type": "stream",
     "text": [
      "2024-09-02 04:28:57,295 140564686231360 3827178830.py[line:24] - INFO: num of training instances: 126284\n",
      "2024-09-02 04:28:57,296 140564686231360 3827178830.py[line:25] - INFO: num of batches per epoch: 64\n",
      "2024-09-02 04:28:57,304 140564686231360 3827178830.py[line:26] - INFO: num of red team: 0\n"
     ]
    },
    {
     "name": "stderr",
     "output_type": "stream",
     "text": [
      "100%|██████████| 64/64 [00:03<00:00, 21.03it/s]\n"
     ]
    }
   ],
   "source": [
    "adj_list = [[] for _ in range(max_idx + 1)]\n",
    "train_src_l = np.array(train_src_l)\n",
    "train_dst_l = np.array(train_dst_l)\n",
    "train_ts_l = np.array(train_ts_l)\n",
    "train_label_l = np.array(train_label_l)\n",
    "label_src = np.array(label_src)\n",
    "label_dst = np.array(label_dst)\n",
    "# NUM_HEADS = 4\n",
    "### Initialize the data structure for graph and edge sampling\n",
    "for src, dst, eidx, ts in zip(train_src_l, train_dst_l, train_e_idx_l, train_ts_l):\n",
    "    adj_list[src].append((dst, eidx, ts))\n",
    "train_ngh_finder = temporalNeighbor(adj_list, uniform=UNIFORM)\n",
    "### Model initialize\n",
    "device = torch.device('cuda:{}'.format(GPU))\n",
    "lbg = LBG(train_ngh_finder, feat_node_nor,num_layers=NUM_LAYER, use_time=USE_TIME,\n",
    "            agg_method=AGG_METHOD, attn_mode=ATTN_MODE, seq_len=SEQ_LEN, n_head=NUM_HEADS,\n",
    "            drop_out=DROP_OUT, node_dim=hidden, time_dim=hidden)\n",
    "# optimizer = torch.optim.SGD(lbg.parameters(), lr=LEARNING_RATE)\n",
    "optimizer = torch.optim.SGD(lbg.parameters(), lr=LEARNING_RATE, weight_decay=1e-4)\n",
    "lbg = lbg.to(device)\n",
    "\n",
    "num_instance = len(train_src_l)\n",
    "num_batch = math.ceil(num_instance / BATCH_SIZE)\n",
    "logger.info('num of training instances: {}'.format(num_instance))\n",
    "logger.info('num of batches per epoch: {}'.format(num_batch))\n",
    "logger.info('num of red team: {}'.format(sum(train_label_l)))\n",
    "\n",
    "train_rand_sampler = RandEdgeSampler(train_src_l, train_dst_l)\n",
    "\n",
    "idc = np.arange(num_instance)\n",
    "\n",
    "\n",
    "def Deep_SVDD(output, R, c, nu):\n",
    "    dist = torch.sum((output-c) ** 2, dim=1)\n",
    "    # if objective == 'soft-boundary':\n",
    "    #     scores = dist - R ** 2\n",
    "    #     loss = R ** 2 + (1 / nu) * torch.mean(torch.max(torch.zeros_like(scores), scores))\n",
    "    # else:\n",
    "    scores = dist\n",
    "    loss = torch.mean(dist)\n",
    "    return scores,loss\n",
    "\n",
    "def update_center(src_l, dst_l,ts_l,lbg,num_instance,num_batch):\n",
    "    c = torch.zeros(2 * (output_feat)).to(device)\n",
    "    eps = 0.1\n",
    "    lbg = lbg.eval()\n",
    "    n_samples = 0\n",
    "    idx = np.arange(num_instance)\n",
    "    with torch.no_grad():\n",
    "        for k in tqdm(range(num_batch)):\n",
    "            s_idx = k * BATCH_SIZE\n",
    "            e_idx = min(num_instance - 1, s_idx + BATCH_SIZE)\n",
    "            if (s_idx == e_idx):\n",
    "                continue\n",
    "            batch_idx = idx[s_idx:e_idx]\n",
    "            src_l_cut, dst_l_cut,ts_l_cut = src_l[batch_idx], dst_l[batch_idx],ts_l[batch_idx]\n",
    "            enc = lbg(src_l_cut, dst_l_cut, ts_l_cut, NUM_NEIGHBORS)\n",
    "            n_samples += enc.shape[0]\n",
    "            c += torch.sum(enc, dim=0)\n",
    "        c /= n_samples\n",
    "        c[(abs(c) < eps) & (c < 0)] = -eps\n",
    "        c[(abs(c) < eps) & (c > 0)] = eps\n",
    "    return c\n",
    "center = update_center( train_src_l, train_dst_l,train_ts_l,lbg,num_instance,num_batch).to(device)\n",
    "ADGATearly_stopper = EarlyStopMonitor()\n",
    "\n",
    "\n"
   ]
  },
  {
   "cell_type": "code",
   "execution_count": 3,
   "id": "06289903",
   "metadata": {},
   "outputs": [
    {
     "name": "stdout",
     "output_type": "stream",
     "text": [
      "2024-09-02 04:29:00,387 140564686231360 584914274.py[line:12] - INFO: start 0 epoch\n"
     ]
    },
    {
     "name": "stderr",
     "output_type": "stream",
     "text": [
      "100%|██████████| 64/64 [00:03<00:00, 16.99it/s]\n"
     ]
    },
    {
     "name": "stdout",
     "output_type": "stream",
     "text": [
      "2024-09-02 04:29:04,317 140564686231360 584914274.py[line:46] - INFO: Epoch mean loss: 68.46895635128021\n",
      "last_best,best_epoch 68.46895635128021 0\n",
      "2024-09-02 04:29:04,377 140564686231360 584914274.py[line:12] - INFO: start 1 epoch\n"
     ]
    },
    {
     "name": "stderr",
     "output_type": "stream",
     "text": [
      "100%|██████████| 64/64 [00:03<00:00, 16.03it/s]\n"
     ]
    },
    {
     "name": "stdout",
     "output_type": "stream",
     "text": [
      "2024-09-02 04:29:08,536 140564686231360 584914274.py[line:46] - INFO: Epoch mean loss: 50.78185302019119\n",
      "last_best,best_epoch 50.78185302019119 1\n",
      "2024-09-02 04:29:08,585 140564686231360 584914274.py[line:12] - INFO: start 2 epoch\n"
     ]
    },
    {
     "name": "stderr",
     "output_type": "stream",
     "text": [
      "100%|██████████| 64/64 [00:04<00:00, 15.99it/s]\n"
     ]
    },
    {
     "name": "stdout",
     "output_type": "stream",
     "text": [
      "2024-09-02 04:29:12,757 140564686231360 584914274.py[line:46] - INFO: Epoch mean loss: 45.39605510234833\n",
      "last_best,best_epoch 45.39605510234833 2\n",
      "2024-09-02 04:29:12,807 140564686231360 584914274.py[line:12] - INFO: start 3 epoch\n"
     ]
    },
    {
     "name": "stderr",
     "output_type": "stream",
     "text": [
      "100%|██████████| 64/64 [00:04<00:00, 15.96it/s]\n"
     ]
    },
    {
     "name": "stdout",
     "output_type": "stream",
     "text": [
      "2024-09-02 04:29:17,011 140564686231360 584914274.py[line:46] - INFO: Epoch mean loss: 41.480988919734955\n",
      "last_best,best_epoch 41.480988919734955 3\n",
      "2024-09-02 04:29:17,065 140564686231360 584914274.py[line:12] - INFO: start 4 epoch\n"
     ]
    },
    {
     "name": "stderr",
     "output_type": "stream",
     "text": [
      "100%|██████████| 64/64 [00:03<00:00, 16.54it/s]\n"
     ]
    },
    {
     "name": "stdout",
     "output_type": "stream",
     "text": [
      "2024-09-02 04:29:21,127 140564686231360 584914274.py[line:46] - INFO: Epoch mean loss: 38.35434365272522\n",
      "last_best,best_epoch 38.35434365272522 4\n",
      "2024-09-02 04:29:21,176 140564686231360 584914274.py[line:12] - INFO: start 5 epoch\n"
     ]
    },
    {
     "name": "stderr",
     "output_type": "stream",
     "text": [
      "100%|██████████| 64/64 [00:03<00:00, 16.97it/s]\n"
     ]
    },
    {
     "name": "stdout",
     "output_type": "stream",
     "text": [
      "2024-09-02 04:29:25,120 140564686231360 584914274.py[line:46] - INFO: Epoch mean loss: 35.67196577787399\n",
      "last_best,best_epoch 35.67196577787399 5\n",
      "2024-09-02 04:29:25,168 140564686231360 584914274.py[line:12] - INFO: start 6 epoch\n"
     ]
    },
    {
     "name": "stderr",
     "output_type": "stream",
     "text": [
      "100%|██████████| 64/64 [00:03<00:00, 17.48it/s]\n"
     ]
    },
    {
     "name": "stdout",
     "output_type": "stream",
     "text": [
      "2024-09-02 04:29:28,988 140564686231360 584914274.py[line:46] - INFO: Epoch mean loss: 33.37616431713104\n",
      "last_best,best_epoch 33.37616431713104 6\n",
      "2024-09-02 04:29:29,037 140564686231360 584914274.py[line:12] - INFO: start 7 epoch\n"
     ]
    },
    {
     "name": "stderr",
     "output_type": "stream",
     "text": [
      "100%|██████████| 64/64 [00:03<00:00, 16.99it/s]\n"
     ]
    },
    {
     "name": "stdout",
     "output_type": "stream",
     "text": [
      "2024-09-02 04:29:32,972 140564686231360 584914274.py[line:46] - INFO: Epoch mean loss: 31.293516010046005\n",
      "last_best,best_epoch 31.293516010046005 7\n",
      "2024-09-02 04:29:33,022 140564686231360 584914274.py[line:12] - INFO: start 8 epoch\n"
     ]
    },
    {
     "name": "stderr",
     "output_type": "stream",
     "text": [
      "100%|██████████| 64/64 [00:03<00:00, 17.09it/s]\n"
     ]
    },
    {
     "name": "stdout",
     "output_type": "stream",
     "text": [
      "2024-09-02 04:29:36,935 140564686231360 584914274.py[line:46] - INFO: Epoch mean loss: 29.407111912965775\n",
      "last_best,best_epoch 29.407111912965775 8\n",
      "2024-09-02 04:29:36,983 140564686231360 584914274.py[line:12] - INFO: start 9 epoch\n"
     ]
    },
    {
     "name": "stderr",
     "output_type": "stream",
     "text": [
      "100%|██████████| 64/64 [00:03<00:00, 16.83it/s]\n"
     ]
    },
    {
     "name": "stdout",
     "output_type": "stream",
     "text": [
      "2024-09-02 04:29:40,986 140564686231360 584914274.py[line:46] - INFO: Epoch mean loss: 27.71983501315117\n",
      "last_best,best_epoch 27.71983501315117 9\n",
      "2024-09-02 04:29:41,041 140564686231360 584914274.py[line:12] - INFO: start 10 epoch\n"
     ]
    },
    {
     "name": "stderr",
     "output_type": "stream",
     "text": [
      "100%|██████████| 64/64 [00:03<00:00, 16.93it/s]\n"
     ]
    },
    {
     "name": "stdout",
     "output_type": "stream",
     "text": [
      "2024-09-02 04:29:44,987 140564686231360 584914274.py[line:46] - INFO: Epoch mean loss: 26.19092297554016\n",
      "last_best,best_epoch 26.19092297554016 10\n",
      "2024-09-02 04:29:45,039 140564686231360 584914274.py[line:12] - INFO: start 11 epoch\n"
     ]
    },
    {
     "name": "stderr",
     "output_type": "stream",
     "text": [
      "100%|██████████| 64/64 [00:03<00:00, 17.96it/s]\n"
     ]
    },
    {
     "name": "stdout",
     "output_type": "stream",
     "text": [
      "2024-09-02 04:29:48,764 140564686231360 584914274.py[line:46] - INFO: Epoch mean loss: 24.767867416143417\n",
      "last_best,best_epoch 24.767867416143417 11\n",
      "2024-09-02 04:29:48,812 140564686231360 584914274.py[line:12] - INFO: start 12 epoch\n"
     ]
    },
    {
     "name": "stderr",
     "output_type": "stream",
     "text": [
      "100%|██████████| 64/64 [00:03<00:00, 16.21it/s]\n"
     ]
    },
    {
     "name": "stdout",
     "output_type": "stream",
     "text": [
      "2024-09-02 04:29:52,932 140564686231360 584914274.py[line:46] - INFO: Epoch mean loss: 23.45889949798584\n",
      "last_best,best_epoch 23.45889949798584 12\n",
      "2024-09-02 04:29:52,982 140564686231360 584914274.py[line:12] - INFO: start 13 epoch\n"
     ]
    },
    {
     "name": "stderr",
     "output_type": "stream",
     "text": [
      "100%|██████████| 64/64 [00:03<00:00, 17.42it/s]\n"
     ]
    },
    {
     "name": "stdout",
     "output_type": "stream",
     "text": [
      "2024-09-02 04:29:56,838 140564686231360 584914274.py[line:46] - INFO: Epoch mean loss: 22.27194932103157\n",
      "last_best,best_epoch 22.27194932103157 13\n",
      "2024-09-02 04:29:56,885 140564686231360 584914274.py[line:12] - INFO: start 14 epoch\n"
     ]
    },
    {
     "name": "stderr",
     "output_type": "stream",
     "text": [
      "100%|██████████| 64/64 [00:03<00:00, 17.09it/s]\n"
     ]
    },
    {
     "name": "stdout",
     "output_type": "stream",
     "text": [
      "2024-09-02 04:30:00,789 140564686231360 584914274.py[line:46] - INFO: Epoch mean loss: 21.18153715133667\n",
      "last_best,best_epoch 21.18153715133667 14\n",
      "2024-09-02 04:30:00,838 140564686231360 584914274.py[line:12] - INFO: start 15 epoch\n"
     ]
    },
    {
     "name": "stderr",
     "output_type": "stream",
     "text": [
      "100%|██████████| 64/64 [00:03<00:00, 17.26it/s]\n"
     ]
    },
    {
     "name": "stdout",
     "output_type": "stream",
     "text": [
      "2024-09-02 04:30:04,706 140564686231360 584914274.py[line:46] - INFO: Epoch mean loss: 20.157982289791107\n",
      "last_best,best_epoch 20.157982289791107 15\n",
      "2024-09-02 04:30:04,758 140564686231360 584914274.py[line:12] - INFO: start 16 epoch\n"
     ]
    },
    {
     "name": "stderr",
     "output_type": "stream",
     "text": [
      "100%|██████████| 64/64 [00:03<00:00, 17.43it/s]\n"
     ]
    },
    {
     "name": "stdout",
     "output_type": "stream",
     "text": [
      "2024-09-02 04:30:08,593 140564686231360 584914274.py[line:46] - INFO: Epoch mean loss: 19.215007215738297\n",
      "last_best,best_epoch 19.215007215738297 16\n",
      "2024-09-02 04:30:08,641 140564686231360 584914274.py[line:12] - INFO: start 17 epoch\n"
     ]
    },
    {
     "name": "stderr",
     "output_type": "stream",
     "text": [
      "100%|██████████| 64/64 [00:03<00:00, 17.03it/s]\n"
     ]
    },
    {
     "name": "stdout",
     "output_type": "stream",
     "text": [
      "2024-09-02 04:30:12,587 140564686231360 584914274.py[line:46] - INFO: Epoch mean loss: 18.349580585956573\n",
      "last_best,best_epoch 18.349580585956573 17\n",
      "2024-09-02 04:30:12,640 140564686231360 584914274.py[line:12] - INFO: start 18 epoch\n"
     ]
    },
    {
     "name": "stderr",
     "output_type": "stream",
     "text": [
      "100%|██████████| 64/64 [00:03<00:00, 17.29it/s]\n"
     ]
    },
    {
     "name": "stdout",
     "output_type": "stream",
     "text": [
      "2024-09-02 04:30:16,502 140564686231360 584914274.py[line:46] - INFO: Epoch mean loss: 17.547239005565643\n",
      "last_best,best_epoch 17.547239005565643 18\n",
      "2024-09-02 04:30:16,549 140564686231360 584914274.py[line:12] - INFO: start 19 epoch\n"
     ]
    },
    {
     "name": "stderr",
     "output_type": "stream",
     "text": [
      "100%|██████████| 64/64 [00:03<00:00, 17.11it/s]\n"
     ]
    },
    {
     "name": "stdout",
     "output_type": "stream",
     "text": [
      "2024-09-02 04:30:20,482 140564686231360 584914274.py[line:46] - INFO: Epoch mean loss: 16.785934954881668\n",
      "last_best,best_epoch 16.785934954881668 19\n",
      "2024-09-02 04:30:20,533 140564686231360 584914274.py[line:12] - INFO: start 20 epoch\n"
     ]
    },
    {
     "name": "stderr",
     "output_type": "stream",
     "text": [
      "100%|██████████| 64/64 [00:03<00:00, 17.24it/s]\n"
     ]
    },
    {
     "name": "stdout",
     "output_type": "stream",
     "text": [
      "2024-09-02 04:30:24,416 140564686231360 584914274.py[line:46] - INFO: Epoch mean loss: 16.103715553879738\n",
      "last_best,best_epoch 16.103715553879738 20\n",
      "2024-09-02 04:30:24,465 140564686231360 584914274.py[line:12] - INFO: start 21 epoch\n"
     ]
    },
    {
     "name": "stderr",
     "output_type": "stream",
     "text": [
      "100%|██████████| 64/64 [00:03<00:00, 18.20it/s]\n"
     ]
    },
    {
     "name": "stdout",
     "output_type": "stream",
     "text": [
      "2024-09-02 04:30:28,161 140564686231360 584914274.py[line:46] - INFO: Epoch mean loss: 15.441807329654694\n",
      "last_best,best_epoch 15.441807329654694 21\n",
      "2024-09-02 04:30:28,224 140564686231360 584914274.py[line:12] - INFO: start 22 epoch\n"
     ]
    },
    {
     "name": "stderr",
     "output_type": "stream",
     "text": [
      "100%|██████████| 64/64 [00:03<00:00, 17.69it/s]\n"
     ]
    },
    {
     "name": "stdout",
     "output_type": "stream",
     "text": [
      "2024-09-02 04:30:32,000 140564686231360 584914274.py[line:46] - INFO: Epoch mean loss: 14.834763050079346\n",
      "last_best,best_epoch 14.834763050079346 22\n",
      "2024-09-02 04:30:32,047 140564686231360 584914274.py[line:12] - INFO: start 23 epoch\n"
     ]
    },
    {
     "name": "stderr",
     "output_type": "stream",
     "text": [
      "100%|██████████| 64/64 [00:03<00:00, 18.10it/s]\n"
     ]
    },
    {
     "name": "stdout",
     "output_type": "stream",
     "text": [
      "2024-09-02 04:30:35,740 140564686231360 584914274.py[line:46] - INFO: Epoch mean loss: 14.28137993812561\n",
      "last_best,best_epoch 14.28137993812561 23\n",
      "2024-09-02 04:30:35,792 140564686231360 584914274.py[line:12] - INFO: start 24 epoch\n"
     ]
    },
    {
     "name": "stderr",
     "output_type": "stream",
     "text": [
      "100%|██████████| 64/64 [00:03<00:00, 17.57it/s]\n"
     ]
    },
    {
     "name": "stdout",
     "output_type": "stream",
     "text": [
      "2024-09-02 04:30:39,619 140564686231360 584914274.py[line:46] - INFO: Epoch mean loss: 13.753796309232712\n",
      "last_best,best_epoch 13.753796309232712 24\n",
      "2024-09-02 04:30:39,669 140564686231360 584914274.py[line:12] - INFO: start 25 epoch\n"
     ]
    },
    {
     "name": "stderr",
     "output_type": "stream",
     "text": [
      "100%|██████████| 64/64 [00:03<00:00, 17.44it/s]\n"
     ]
    },
    {
     "name": "stdout",
     "output_type": "stream",
     "text": [
      "2024-09-02 04:30:43,503 140564686231360 584914274.py[line:46] - INFO: Epoch mean loss: 13.283864051103592\n",
      "last_best,best_epoch 13.283864051103592 25\n",
      "2024-09-02 04:30:43,552 140564686231360 584914274.py[line:12] - INFO: start 26 epoch\n"
     ]
    },
    {
     "name": "stderr",
     "output_type": "stream",
     "text": [
      "100%|██████████| 64/64 [00:03<00:00, 17.82it/s]\n"
     ]
    },
    {
     "name": "stdout",
     "output_type": "stream",
     "text": [
      "2024-09-02 04:30:47,315 140564686231360 584914274.py[line:46] - INFO: Epoch mean loss: 12.818137899041176\n",
      "last_best,best_epoch 12.818137899041176 26\n",
      "2024-09-02 04:30:47,364 140564686231360 584914274.py[line:12] - INFO: start 27 epoch\n"
     ]
    },
    {
     "name": "stderr",
     "output_type": "stream",
     "text": [
      "100%|██████████| 64/64 [00:03<00:00, 17.87it/s]\n"
     ]
    },
    {
     "name": "stdout",
     "output_type": "stream",
     "text": [
      "2024-09-02 04:30:51,104 140564686231360 584914274.py[line:46] - INFO: Epoch mean loss: 12.414564967155457\n",
      "last_best,best_epoch 12.414564967155457 27\n",
      "2024-09-02 04:30:51,151 140564686231360 584914274.py[line:12] - INFO: start 28 epoch\n"
     ]
    },
    {
     "name": "stderr",
     "output_type": "stream",
     "text": [
      "100%|██████████| 64/64 [00:03<00:00, 17.39it/s]\n"
     ]
    },
    {
     "name": "stdout",
     "output_type": "stream",
     "text": [
      "2024-09-02 04:30:54,991 140564686231360 584914274.py[line:46] - INFO: Epoch mean loss: 12.007550179958344\n",
      "last_best,best_epoch 12.007550179958344 28\n",
      "2024-09-02 04:30:55,037 140564686231360 584914274.py[line:12] - INFO: start 29 epoch\n"
     ]
    },
    {
     "name": "stderr",
     "output_type": "stream",
     "text": [
      "100%|██████████| 64/64 [00:03<00:00, 17.78it/s]\n"
     ]
    },
    {
     "name": "stdout",
     "output_type": "stream",
     "text": [
      "2024-09-02 04:30:58,818 140564686231360 584914274.py[line:46] - INFO: Epoch mean loss: 11.635978624224663\n",
      "last_best,best_epoch 11.635978624224663 29\n",
      "2024-09-02 04:30:58,869 140564686231360 584914274.py[line:12] - INFO: start 30 epoch\n"
     ]
    },
    {
     "name": "stderr",
     "output_type": "stream",
     "text": [
      "100%|██████████| 64/64 [00:03<00:00, 17.61it/s]\n"
     ]
    },
    {
     "name": "stdout",
     "output_type": "stream",
     "text": [
      "2024-09-02 04:31:02,662 140564686231360 584914274.py[line:46] - INFO: Epoch mean loss: 11.28986057639122\n",
      "last_best,best_epoch 11.28986057639122 30\n",
      "2024-09-02 04:31:02,709 140564686231360 584914274.py[line:12] - INFO: start 31 epoch\n"
     ]
    },
    {
     "name": "stderr",
     "output_type": "stream",
     "text": [
      "100%|██████████| 64/64 [00:03<00:00, 17.75it/s]\n"
     ]
    },
    {
     "name": "stdout",
     "output_type": "stream",
     "text": [
      "2024-09-02 04:31:06,471 140564686231360 584914274.py[line:46] - INFO: Epoch mean loss: 10.975349053740501\n",
      "last_best,best_epoch 10.975349053740501 31\n",
      "2024-09-02 04:31:06,518 140564686231360 584914274.py[line:12] - INFO: start 32 epoch\n"
     ]
    },
    {
     "name": "stderr",
     "output_type": "stream",
     "text": [
      "100%|██████████| 64/64 [00:03<00:00, 18.17it/s]\n"
     ]
    },
    {
     "name": "stdout",
     "output_type": "stream",
     "text": [
      "2024-09-02 04:31:10,199 140564686231360 584914274.py[line:46] - INFO: Epoch mean loss: 10.654855147004128\n",
      "last_best,best_epoch 10.654855147004128 32\n",
      "2024-09-02 04:31:10,247 140564686231360 584914274.py[line:12] - INFO: start 33 epoch\n"
     ]
    },
    {
     "name": "stderr",
     "output_type": "stream",
     "text": [
      "100%|██████████| 64/64 [00:03<00:00, 18.11it/s]\n"
     ]
    },
    {
     "name": "stdout",
     "output_type": "stream",
     "text": [
      "2024-09-02 04:31:13,950 140564686231360 584914274.py[line:46] - INFO: Epoch mean loss: 10.37177237868309\n",
      "last_best,best_epoch 10.37177237868309 33\n",
      "2024-09-02 04:31:13,998 140564686231360 584914274.py[line:12] - INFO: start 34 epoch\n"
     ]
    },
    {
     "name": "stderr",
     "output_type": "stream",
     "text": [
      "100%|██████████| 64/64 [00:03<00:00, 17.99it/s]\n"
     ]
    },
    {
     "name": "stdout",
     "output_type": "stream",
     "text": [
      "2024-09-02 04:31:17,714 140564686231360 584914274.py[line:46] - INFO: Epoch mean loss: 10.094051986932755\n",
      "last_best,best_epoch 10.094051986932755 34\n",
      "2024-09-02 04:31:17,761 140564686231360 584914274.py[line:12] - INFO: start 35 epoch\n"
     ]
    },
    {
     "name": "stderr",
     "output_type": "stream",
     "text": [
      "100%|██████████| 64/64 [00:03<00:00, 18.93it/s]\n"
     ]
    },
    {
     "name": "stdout",
     "output_type": "stream",
     "text": [
      "2024-09-02 04:31:21,299 140564686231360 584914274.py[line:46] - INFO: Epoch mean loss: 9.837709069252014\n",
      "last_best,best_epoch 9.837709069252014 35\n",
      "2024-09-02 04:31:21,346 140564686231360 584914274.py[line:12] - INFO: start 36 epoch\n"
     ]
    },
    {
     "name": "stderr",
     "output_type": "stream",
     "text": [
      "100%|██████████| 64/64 [00:03<00:00, 17.78it/s]\n"
     ]
    },
    {
     "name": "stdout",
     "output_type": "stream",
     "text": [
      "2024-09-02 04:31:25,105 140564686231360 584914274.py[line:46] - INFO: Epoch mean loss: 9.590370133519173\n",
      "last_best,best_epoch 9.590370133519173 36\n",
      "2024-09-02 04:31:25,152 140564686231360 584914274.py[line:12] - INFO: start 37 epoch\n"
     ]
    },
    {
     "name": "stderr",
     "output_type": "stream",
     "text": [
      "100%|██████████| 64/64 [00:03<00:00, 18.06it/s]\n"
     ]
    },
    {
     "name": "stdout",
     "output_type": "stream",
     "text": [
      "2024-09-02 04:31:28,878 140564686231360 584914274.py[line:46] - INFO: Epoch mean loss: 9.374117642641068\n",
      "last_best,best_epoch 9.374117642641068 37\n",
      "2024-09-02 04:31:28,927 140564686231360 584914274.py[line:12] - INFO: start 38 epoch\n"
     ]
    },
    {
     "name": "stderr",
     "output_type": "stream",
     "text": [
      "100%|██████████| 64/64 [00:03<00:00, 18.36it/s]\n"
     ]
    },
    {
     "name": "stdout",
     "output_type": "stream",
     "text": [
      "2024-09-02 04:31:32,575 140564686231360 584914274.py[line:46] - INFO: Epoch mean loss: 9.166546508669853\n",
      "last_best,best_epoch 9.166546508669853 38\n",
      "2024-09-02 04:31:32,629 140564686231360 584914274.py[line:12] - INFO: start 39 epoch\n"
     ]
    },
    {
     "name": "stderr",
     "output_type": "stream",
     "text": [
      "100%|██████████| 64/64 [00:03<00:00, 17.96it/s]\n"
     ]
    },
    {
     "name": "stdout",
     "output_type": "stream",
     "text": [
      "2024-09-02 04:31:36,367 140564686231360 584914274.py[line:46] - INFO: Epoch mean loss: 8.967457070946693\n",
      "last_best,best_epoch 8.967457070946693 39\n",
      "2024-09-02 04:31:36,416 140564686231360 584914274.py[line:12] - INFO: start 40 epoch\n"
     ]
    },
    {
     "name": "stderr",
     "output_type": "stream",
     "text": [
      "100%|██████████| 64/64 [00:03<00:00, 18.17it/s]\n"
     ]
    },
    {
     "name": "stdout",
     "output_type": "stream",
     "text": [
      "2024-09-02 04:31:40,103 140564686231360 584914274.py[line:46] - INFO: Epoch mean loss: 8.786329671740532\n",
      "last_best,best_epoch 8.786329671740532 40\n",
      "2024-09-02 04:31:40,151 140564686231360 584914274.py[line:12] - INFO: start 41 epoch\n"
     ]
    },
    {
     "name": "stderr",
     "output_type": "stream",
     "text": [
      "100%|██████████| 64/64 [00:03<00:00, 17.94it/s]\n"
     ]
    },
    {
     "name": "stdout",
     "output_type": "stream",
     "text": [
      "2024-09-02 04:31:43,882 140564686231360 584914274.py[line:46] - INFO: Epoch mean loss: 8.61104565858841\n",
      "last_best,best_epoch 8.61104565858841 41\n",
      "2024-09-02 04:31:43,930 140564686231360 584914274.py[line:12] - INFO: start 42 epoch\n"
     ]
    },
    {
     "name": "stderr",
     "output_type": "stream",
     "text": [
      "100%|██████████| 64/64 [00:03<00:00, 18.11it/s]\n"
     ]
    },
    {
     "name": "stdout",
     "output_type": "stream",
     "text": [
      "2024-09-02 04:31:47,625 140564686231360 584914274.py[line:46] - INFO: Epoch mean loss: 8.4600720256567\n",
      "last_best,best_epoch 8.4600720256567 42\n",
      "2024-09-02 04:31:47,673 140564686231360 584914274.py[line:12] - INFO: start 43 epoch\n"
     ]
    },
    {
     "name": "stderr",
     "output_type": "stream",
     "text": [
      "100%|██████████| 64/64 [00:03<00:00, 18.26it/s]\n"
     ]
    },
    {
     "name": "stdout",
     "output_type": "stream",
     "text": [
      "2024-09-02 04:31:51,336 140564686231360 584914274.py[line:46] - INFO: Epoch mean loss: 8.283786162734032\n",
      "last_best,best_epoch 8.283786162734032 43\n",
      "2024-09-02 04:31:51,383 140564686231360 584914274.py[line:12] - INFO: start 44 epoch\n"
     ]
    },
    {
     "name": "stderr",
     "output_type": "stream",
     "text": [
      "100%|██████████| 64/64 [00:03<00:00, 18.19it/s]\n"
     ]
    },
    {
     "name": "stdout",
     "output_type": "stream",
     "text": [
      "2024-09-02 04:31:55,060 140564686231360 584914274.py[line:46] - INFO: Epoch mean loss: 8.132235303521156\n",
      "last_best,best_epoch 8.132235303521156 44\n",
      "2024-09-02 04:31:55,114 140564686231360 584914274.py[line:12] - INFO: start 45 epoch\n"
     ]
    },
    {
     "name": "stderr",
     "output_type": "stream",
     "text": [
      "100%|██████████| 64/64 [00:03<00:00, 17.22it/s]\n"
     ]
    },
    {
     "name": "stdout",
     "output_type": "stream",
     "text": [
      "2024-09-02 04:31:59,001 140564686231360 584914274.py[line:46] - INFO: Epoch mean loss: 7.980383291840553\n",
      "last_best,best_epoch 7.980383291840553 45\n",
      "2024-09-02 04:31:59,049 140564686231360 584914274.py[line:12] - INFO: start 46 epoch\n"
     ]
    },
    {
     "name": "stderr",
     "output_type": "stream",
     "text": [
      "100%|██████████| 64/64 [00:03<00:00, 17.96it/s]\n"
     ]
    },
    {
     "name": "stdout",
     "output_type": "stream",
     "text": [
      "2024-09-02 04:32:02,770 140564686231360 584914274.py[line:46] - INFO: Epoch mean loss: 7.845016106963158\n",
      "last_best,best_epoch 7.845016106963158 46\n",
      "2024-09-02 04:32:02,817 140564686231360 584914274.py[line:12] - INFO: start 47 epoch\n"
     ]
    },
    {
     "name": "stderr",
     "output_type": "stream",
     "text": [
      "100%|██████████| 64/64 [00:03<00:00, 18.95it/s]\n"
     ]
    },
    {
     "name": "stdout",
     "output_type": "stream",
     "text": [
      "2024-09-02 04:32:06,351 140564686231360 584914274.py[line:46] - INFO: Epoch mean loss: 7.718334898352623\n",
      "last_best,best_epoch 7.718334898352623 47\n",
      "2024-09-02 04:32:06,397 140564686231360 584914274.py[line:12] - INFO: start 48 epoch\n"
     ]
    },
    {
     "name": "stderr",
     "output_type": "stream",
     "text": [
      "100%|██████████| 64/64 [00:03<00:00, 16.50it/s]\n"
     ]
    },
    {
     "name": "stdout",
     "output_type": "stream",
     "text": [
      "2024-09-02 04:32:10,504 140564686231360 584914274.py[line:46] - INFO: Epoch mean loss: 7.59086412191391\n",
      "last_best,best_epoch 7.59086412191391 48\n",
      "2024-09-02 04:32:10,561 140564686231360 584914274.py[line:12] - INFO: start 49 epoch\n"
     ]
    },
    {
     "name": "stderr",
     "output_type": "stream",
     "text": [
      "100%|██████████| 64/64 [00:03<00:00, 17.32it/s]\n"
     ]
    },
    {
     "name": "stdout",
     "output_type": "stream",
     "text": [
      "2024-09-02 04:32:14,466 140564686231360 584914274.py[line:46] - INFO: Epoch mean loss: 7.464992620050907\n",
      "last_best,best_epoch 7.464992620050907 49\n",
      "2024-09-02 04:32:14,517 140564686231360 584914274.py[line:12] - INFO: start 50 epoch\n"
     ]
    },
    {
     "name": "stderr",
     "output_type": "stream",
     "text": [
      "100%|██████████| 64/64 [00:03<00:00, 17.62it/s]\n"
     ]
    },
    {
     "name": "stdout",
     "output_type": "stream",
     "text": [
      "2024-09-02 04:32:18,324 140564686231360 584914274.py[line:46] - INFO: Epoch mean loss: 7.339567855000496\n",
      "last_best,best_epoch 7.339567855000496 50\n",
      "2024-09-02 04:32:18,373 140564686231360 584914274.py[line:12] - INFO: start 51 epoch\n"
     ]
    },
    {
     "name": "stderr",
     "output_type": "stream",
     "text": [
      "100%|██████████| 64/64 [00:03<00:00, 17.93it/s]\n"
     ]
    },
    {
     "name": "stdout",
     "output_type": "stream",
     "text": [
      "2024-09-02 04:32:22,118 140564686231360 584914274.py[line:46] - INFO: Epoch mean loss: 7.221104227006435\n",
      "last_best,best_epoch 7.221104227006435 51\n",
      "2024-09-02 04:32:22,170 140564686231360 584914274.py[line:12] - INFO: start 52 epoch\n"
     ]
    },
    {
     "name": "stderr",
     "output_type": "stream",
     "text": [
      "100%|██████████| 64/64 [00:03<00:00, 17.90it/s]\n"
     ]
    },
    {
     "name": "stdout",
     "output_type": "stream",
     "text": [
      "2024-09-02 04:32:25,909 140564686231360 584914274.py[line:46] - INFO: Epoch mean loss: 7.105971045792103\n",
      "last_best,best_epoch 7.105971045792103 52\n",
      "2024-09-02 04:32:25,956 140564686231360 584914274.py[line:12] - INFO: start 53 epoch\n"
     ]
    },
    {
     "name": "stderr",
     "output_type": "stream",
     "text": [
      "100%|██████████| 64/64 [00:03<00:00, 18.26it/s]\n"
     ]
    },
    {
     "name": "stdout",
     "output_type": "stream",
     "text": [
      "2024-09-02 04:32:29,620 140564686231360 584914274.py[line:46] - INFO: Epoch mean loss: 7.003563106060028\n",
      "last_best,best_epoch 7.003563106060028 53\n",
      "2024-09-02 04:32:29,665 140564686231360 584914274.py[line:12] - INFO: start 54 epoch\n"
     ]
    },
    {
     "name": "stderr",
     "output_type": "stream",
     "text": [
      "100%|██████████| 64/64 [00:03<00:00, 17.92it/s]\n"
     ]
    },
    {
     "name": "stdout",
     "output_type": "stream",
     "text": [
      "2024-09-02 04:32:33,396 140564686231360 584914274.py[line:46] - INFO: Epoch mean loss: 6.898593433201313\n",
      "last_best,best_epoch 6.898593433201313 54\n",
      "2024-09-02 04:32:33,441 140564686231360 584914274.py[line:12] - INFO: start 55 epoch\n"
     ]
    },
    {
     "name": "stderr",
     "output_type": "stream",
     "text": [
      "100%|██████████| 64/64 [00:03<00:00, 18.56it/s]\n"
     ]
    },
    {
     "name": "stdout",
     "output_type": "stream",
     "text": [
      "2024-09-02 04:32:37,044 140564686231360 584914274.py[line:46] - INFO: Epoch mean loss: 6.803302265703678\n",
      "last_best,best_epoch 6.803302265703678 55\n",
      "2024-09-02 04:32:37,092 140564686231360 584914274.py[line:12] - INFO: start 56 epoch\n"
     ]
    },
    {
     "name": "stderr",
     "output_type": "stream",
     "text": [
      "100%|██████████| 64/64 [00:03<00:00, 18.32it/s]\n"
     ]
    },
    {
     "name": "stdout",
     "output_type": "stream",
     "text": [
      "2024-09-02 04:32:40,742 140564686231360 584914274.py[line:46] - INFO: Epoch mean loss: 6.711302347481251\n",
      "last_best,best_epoch 6.711302347481251 56\n",
      "2024-09-02 04:32:40,789 140564686231360 584914274.py[line:12] - INFO: start 57 epoch\n"
     ]
    },
    {
     "name": "stderr",
     "output_type": "stream",
     "text": [
      "100%|██████████| 64/64 [00:03<00:00, 18.24it/s]\n"
     ]
    },
    {
     "name": "stdout",
     "output_type": "stream",
     "text": [
      "2024-09-02 04:32:44,478 140564686231360 584914274.py[line:46] - INFO: Epoch mean loss: 6.621205233037472\n",
      "last_best,best_epoch 6.621205233037472 57\n",
      "2024-09-02 04:32:44,527 140564686231360 584914274.py[line:12] - INFO: start 58 epoch\n"
     ]
    },
    {
     "name": "stderr",
     "output_type": "stream",
     "text": [
      "100%|██████████| 64/64 [00:03<00:00, 18.05it/s]\n"
     ]
    },
    {
     "name": "stdout",
     "output_type": "stream",
     "text": [
      "2024-09-02 04:32:48,246 140564686231360 584914274.py[line:46] - INFO: Epoch mean loss: 6.536506183445454\n",
      "last_best,best_epoch 6.536506183445454 58\n",
      "2024-09-02 04:32:48,294 140564686231360 584914274.py[line:12] - INFO: start 59 epoch\n"
     ]
    },
    {
     "name": "stderr",
     "output_type": "stream",
     "text": [
      "100%|██████████| 64/64 [00:03<00:00, 19.19it/s]\n"
     ]
    },
    {
     "name": "stdout",
     "output_type": "stream",
     "text": [
      "2024-09-02 04:32:51,809 140564686231360 584914274.py[line:46] - INFO: Epoch mean loss: 6.455819196999073\n",
      "last_best,best_epoch 6.455819196999073 59\n",
      "2024-09-02 04:32:51,859 140564686231360 584914274.py[line:12] - INFO: start 60 epoch\n"
     ]
    },
    {
     "name": "stderr",
     "output_type": "stream",
     "text": [
      "100%|██████████| 64/64 [00:03<00:00, 17.53it/s]\n"
     ]
    },
    {
     "name": "stdout",
     "output_type": "stream",
     "text": [
      "2024-09-02 04:32:55,680 140564686231360 584914274.py[line:46] - INFO: Epoch mean loss: 6.369829885661602\n",
      "last_best,best_epoch 6.369829885661602 60\n",
      "2024-09-02 04:32:55,729 140564686231360 584914274.py[line:12] - INFO: start 61 epoch\n"
     ]
    },
    {
     "name": "stderr",
     "output_type": "stream",
     "text": [
      "100%|██████████| 64/64 [00:03<00:00, 18.27it/s]\n"
     ]
    },
    {
     "name": "stdout",
     "output_type": "stream",
     "text": [
      "2024-09-02 04:32:59,399 140564686231360 584914274.py[line:46] - INFO: Epoch mean loss: 6.304103635251522\n",
      "last_best,best_epoch 6.304103635251522 61\n",
      "2024-09-02 04:32:59,446 140564686231360 584914274.py[line:12] - INFO: start 62 epoch\n"
     ]
    },
    {
     "name": "stderr",
     "output_type": "stream",
     "text": [
      "100%|██████████| 64/64 [00:03<00:00, 18.07it/s]\n"
     ]
    },
    {
     "name": "stdout",
     "output_type": "stream",
     "text": [
      "2024-09-02 04:33:03,147 140564686231360 584914274.py[line:46] - INFO: Epoch mean loss: 6.215145900845528\n",
      "last_best,best_epoch 6.215145900845528 62\n",
      "2024-09-02 04:33:03,208 140564686231360 584914274.py[line:12] - INFO: start 63 epoch\n"
     ]
    },
    {
     "name": "stderr",
     "output_type": "stream",
     "text": [
      "100%|██████████| 64/64 [00:03<00:00, 18.48it/s]\n"
     ]
    },
    {
     "name": "stdout",
     "output_type": "stream",
     "text": [
      "2024-09-02 04:33:06,828 140564686231360 584914274.py[line:46] - INFO: Epoch mean loss: 6.143992982804775\n",
      "last_best,best_epoch 6.143992982804775 63\n",
      "2024-09-02 04:33:06,874 140564686231360 584914274.py[line:12] - INFO: start 64 epoch\n"
     ]
    },
    {
     "name": "stderr",
     "output_type": "stream",
     "text": [
      "100%|██████████| 64/64 [00:03<00:00, 17.85it/s]\n"
     ]
    },
    {
     "name": "stdout",
     "output_type": "stream",
     "text": [
      "2024-09-02 04:33:10,617 140564686231360 584914274.py[line:46] - INFO: Epoch mean loss: 6.067096404731274\n",
      "last_best,best_epoch 6.067096404731274 64\n",
      "2024-09-02 04:33:10,665 140564686231360 584914274.py[line:12] - INFO: start 65 epoch\n"
     ]
    },
    {
     "name": "stderr",
     "output_type": "stream",
     "text": [
      "100%|██████████| 64/64 [00:03<00:00, 17.79it/s]\n"
     ]
    },
    {
     "name": "stdout",
     "output_type": "stream",
     "text": [
      "2024-09-02 04:33:14,443 140564686231360 584914274.py[line:46] - INFO: Epoch mean loss: 6.00118613243103\n",
      "last_best,best_epoch 6.00118613243103 65\n",
      "2024-09-02 04:33:14,492 140564686231360 584914274.py[line:12] - INFO: start 66 epoch\n"
     ]
    },
    {
     "name": "stderr",
     "output_type": "stream",
     "text": [
      "100%|██████████| 64/64 [00:03<00:00, 17.94it/s]\n"
     ]
    },
    {
     "name": "stdout",
     "output_type": "stream",
     "text": [
      "2024-09-02 04:33:18,239 140564686231360 584914274.py[line:46] - INFO: Epoch mean loss: 5.934088312089443\n",
      "last_best,best_epoch 5.934088312089443 66\n",
      "2024-09-02 04:33:18,290 140564686231360 584914274.py[line:12] - INFO: start 67 epoch\n"
     ]
    },
    {
     "name": "stderr",
     "output_type": "stream",
     "text": [
      "100%|██████████| 64/64 [00:03<00:00, 18.17it/s]\n"
     ]
    },
    {
     "name": "stdout",
     "output_type": "stream",
     "text": [
      "2024-09-02 04:33:21,967 140564686231360 584914274.py[line:46] - INFO: Epoch mean loss: 5.865137740969658\n",
      "last_best,best_epoch 5.865137740969658 67\n",
      "2024-09-02 04:33:22,013 140564686231360 584914274.py[line:12] - INFO: start 68 epoch\n"
     ]
    },
    {
     "name": "stderr",
     "output_type": "stream",
     "text": [
      "100%|██████████| 64/64 [00:03<00:00, 17.69it/s]\n"
     ]
    },
    {
     "name": "stdout",
     "output_type": "stream",
     "text": [
      "2024-09-02 04:33:25,788 140564686231360 584914274.py[line:46] - INFO: Epoch mean loss: 5.786654278635979\n",
      "last_best,best_epoch 5.786654278635979 68\n",
      "2024-09-02 04:33:25,835 140564686231360 584914274.py[line:12] - INFO: start 69 epoch\n"
     ]
    },
    {
     "name": "stderr",
     "output_type": "stream",
     "text": [
      "100%|██████████| 64/64 [00:03<00:00, 18.25it/s]\n"
     ]
    },
    {
     "name": "stdout",
     "output_type": "stream",
     "text": [
      "2024-09-02 04:33:29,498 140564686231360 584914274.py[line:46] - INFO: Epoch mean loss: 5.723686151206493\n",
      "last_best,best_epoch 5.723686151206493 69\n",
      "2024-09-02 04:33:29,544 140564686231360 584914274.py[line:12] - INFO: start 70 epoch\n"
     ]
    },
    {
     "name": "stderr",
     "output_type": "stream",
     "text": [
      "100%|██████████| 64/64 [00:03<00:00, 18.25it/s]\n"
     ]
    },
    {
     "name": "stdout",
     "output_type": "stream",
     "text": [
      "2024-09-02 04:33:33,209 140564686231360 584914274.py[line:46] - INFO: Epoch mean loss: 5.656300902366638\n",
      "last_best,best_epoch 5.656300902366638 70\n",
      "2024-09-02 04:33:33,256 140564686231360 584914274.py[line:12] - INFO: start 71 epoch\n"
     ]
    },
    {
     "name": "stderr",
     "output_type": "stream",
     "text": [
      "100%|██████████| 64/64 [00:03<00:00, 19.08it/s]\n"
     ]
    },
    {
     "name": "stdout",
     "output_type": "stream",
     "text": [
      "2024-09-02 04:33:36,795 140564686231360 584914274.py[line:46] - INFO: Epoch mean loss: 5.603118598461151\n",
      "last_best,best_epoch 5.603118598461151 71\n",
      "2024-09-02 04:33:36,844 140564686231360 584914274.py[line:12] - INFO: start 72 epoch\n"
     ]
    },
    {
     "name": "stderr",
     "output_type": "stream",
     "text": [
      "100%|██████████| 64/64 [00:03<00:00, 17.66it/s]\n"
     ]
    },
    {
     "name": "stdout",
     "output_type": "stream",
     "text": [
      "2024-09-02 04:33:40,624 140564686231360 584914274.py[line:46] - INFO: Epoch mean loss: 5.533607639372349\n",
      "last_best,best_epoch 5.533607639372349 72\n",
      "2024-09-02 04:33:40,671 140564686231360 584914274.py[line:12] - INFO: start 73 epoch\n"
     ]
    },
    {
     "name": "stderr",
     "output_type": "stream",
     "text": [
      "100%|██████████| 64/64 [00:03<00:00, 17.71it/s]\n"
     ]
    },
    {
     "name": "stdout",
     "output_type": "stream",
     "text": [
      "2024-09-02 04:33:44,443 140564686231360 584914274.py[line:46] - INFO: Epoch mean loss: 5.469087243080139\n",
      "last_best,best_epoch 5.469087243080139 73\n",
      "2024-09-02 04:33:44,490 140564686231360 584914274.py[line:12] - INFO: start 74 epoch\n"
     ]
    },
    {
     "name": "stderr",
     "output_type": "stream",
     "text": [
      "100%|██████████| 64/64 [00:03<00:00, 18.16it/s]\n"
     ]
    },
    {
     "name": "stdout",
     "output_type": "stream",
     "text": [
      "2024-09-02 04:33:48,171 140564686231360 584914274.py[line:46] - INFO: Epoch mean loss: 5.407267078757286\n",
      "last_best,best_epoch 5.407267078757286 74\n",
      "2024-09-02 04:33:48,217 140564686231360 584914274.py[line:12] - INFO: start 75 epoch\n"
     ]
    },
    {
     "name": "stderr",
     "output_type": "stream",
     "text": [
      "100%|██████████| 64/64 [00:03<00:00, 17.63it/s]\n"
     ]
    },
    {
     "name": "stdout",
     "output_type": "stream",
     "text": [
      "2024-09-02 04:33:52,009 140564686231360 584914274.py[line:46] - INFO: Epoch mean loss: 5.3504878282547\n",
      "last_best,best_epoch 5.3504878282547 75\n",
      "2024-09-02 04:33:52,057 140564686231360 584914274.py[line:12] - INFO: start 76 epoch\n"
     ]
    },
    {
     "name": "stderr",
     "output_type": "stream",
     "text": [
      "100%|██████████| 64/64 [00:03<00:00, 18.33it/s]\n"
     ]
    },
    {
     "name": "stdout",
     "output_type": "stream",
     "text": [
      "2024-09-02 04:33:55,706 140564686231360 584914274.py[line:46] - INFO: Epoch mean loss: 5.288343541324139\n",
      "last_best,best_epoch 5.288343541324139 76\n",
      "2024-09-02 04:33:55,752 140564686231360 584914274.py[line:12] - INFO: start 77 epoch\n"
     ]
    },
    {
     "name": "stderr",
     "output_type": "stream",
     "text": [
      "100%|██████████| 64/64 [00:03<00:00, 18.38it/s]\n"
     ]
    },
    {
     "name": "stdout",
     "output_type": "stream",
     "text": [
      "2024-09-02 04:33:59,391 140564686231360 584914274.py[line:46] - INFO: Epoch mean loss: 5.222373954951763\n",
      "last_best,best_epoch 5.222373954951763 77\n",
      "2024-09-02 04:33:59,437 140564686231360 584914274.py[line:12] - INFO: start 78 epoch\n"
     ]
    },
    {
     "name": "stderr",
     "output_type": "stream",
     "text": [
      "100%|██████████| 64/64 [00:03<00:00, 17.88it/s]\n"
     ]
    },
    {
     "name": "stdout",
     "output_type": "stream",
     "text": [
      "2024-09-02 04:34:03,221 140564686231360 584914274.py[line:46] - INFO: Epoch mean loss: 5.17330227047205\n",
      "last_best,best_epoch 5.17330227047205 78\n",
      "2024-09-02 04:34:03,276 140564686231360 584914274.py[line:12] - INFO: start 79 epoch\n"
     ]
    },
    {
     "name": "stderr",
     "output_type": "stream",
     "text": [
      "100%|██████████| 64/64 [00:03<00:00, 17.34it/s]\n"
     ]
    },
    {
     "name": "stdout",
     "output_type": "stream",
     "text": [
      "2024-09-02 04:34:07,142 140564686231360 584914274.py[line:46] - INFO: Epoch mean loss: 5.110867343842983\n",
      "last_best,best_epoch 5.110867343842983 79\n",
      "2024-09-02 04:34:07,191 140564686231360 584914274.py[line:12] - INFO: start 80 epoch\n"
     ]
    },
    {
     "name": "stderr",
     "output_type": "stream",
     "text": [
      "100%|██████████| 64/64 [00:03<00:00, 17.86it/s]\n"
     ]
    },
    {
     "name": "stdout",
     "output_type": "stream",
     "text": [
      "2024-09-02 04:34:10,958 140564686231360 584914274.py[line:46] - INFO: Epoch mean loss: 5.0552695989608765\n",
      "last_best,best_epoch 5.0552695989608765 80\n",
      "2024-09-02 04:34:11,011 140564686231360 584914274.py[line:12] - INFO: start 81 epoch\n"
     ]
    },
    {
     "name": "stderr",
     "output_type": "stream",
     "text": [
      "100%|██████████| 64/64 [00:03<00:00, 18.14it/s]\n"
     ]
    },
    {
     "name": "stdout",
     "output_type": "stream",
     "text": [
      "2024-09-02 04:34:14,704 140564686231360 584914274.py[line:46] - INFO: Epoch mean loss: 4.997261591255665\n",
      "last_best,best_epoch 4.997261591255665 81\n",
      "2024-09-02 04:34:14,752 140564686231360 584914274.py[line:12] - INFO: start 82 epoch\n"
     ]
    },
    {
     "name": "stderr",
     "output_type": "stream",
     "text": [
      "100%|██████████| 64/64 [00:03<00:00, 18.36it/s]\n"
     ]
    },
    {
     "name": "stdout",
     "output_type": "stream",
     "text": [
      "2024-09-02 04:34:18,396 140564686231360 584914274.py[line:46] - INFO: Epoch mean loss: 4.93853884935379\n",
      "last_best,best_epoch 4.93853884935379 82\n",
      "2024-09-02 04:34:18,443 140564686231360 584914274.py[line:12] - INFO: start 83 epoch\n"
     ]
    },
    {
     "name": "stderr",
     "output_type": "stream",
     "text": [
      "100%|██████████| 64/64 [00:03<00:00, 17.56it/s]\n"
     ]
    },
    {
     "name": "stdout",
     "output_type": "stream",
     "text": [
      "2024-09-02 04:34:22,257 140564686231360 584914274.py[line:46] - INFO: Epoch mean loss: 4.881935261189938\n",
      "last_best,best_epoch 4.881935261189938 83\n",
      "2024-09-02 04:34:22,306 140564686231360 584914274.py[line:12] - INFO: start 84 epoch\n"
     ]
    },
    {
     "name": "stderr",
     "output_type": "stream",
     "text": [
      "100%|██████████| 64/64 [00:04<00:00, 15.72it/s]\n"
     ]
    },
    {
     "name": "stdout",
     "output_type": "stream",
     "text": [
      "2024-09-02 04:34:26,552 140564686231360 584914274.py[line:46] - INFO: Epoch mean loss: 4.832731015980244\n",
      "last_best,best_epoch 4.832731015980244 84\n",
      "2024-09-02 04:34:26,601 140564686231360 584914274.py[line:12] - INFO: start 85 epoch\n"
     ]
    },
    {
     "name": "stderr",
     "output_type": "stream",
     "text": [
      "100%|██████████| 64/64 [00:03<00:00, 16.61it/s]\n"
     ]
    },
    {
     "name": "stdout",
     "output_type": "stream",
     "text": [
      "2024-09-02 04:34:30,623 140564686231360 584914274.py[line:46] - INFO: Epoch mean loss: 4.7864393293857574\n",
      "last_best,best_epoch 4.7864393293857574 85\n",
      "2024-09-02 04:34:30,671 140564686231360 584914274.py[line:12] - INFO: start 86 epoch\n"
     ]
    },
    {
     "name": "stderr",
     "output_type": "stream",
     "text": [
      "100%|██████████| 64/64 [00:03<00:00, 17.45it/s]\n"
     ]
    },
    {
     "name": "stdout",
     "output_type": "stream",
     "text": [
      "2024-09-02 04:34:34,501 140564686231360 584914274.py[line:46] - INFO: Epoch mean loss: 4.728850647807121\n",
      "last_best,best_epoch 4.728850647807121 86\n",
      "2024-09-02 04:34:34,548 140564686231360 584914274.py[line:12] - INFO: start 87 epoch\n"
     ]
    },
    {
     "name": "stderr",
     "output_type": "stream",
     "text": [
      "100%|██████████| 64/64 [00:03<00:00, 17.14it/s]\n"
     ]
    },
    {
     "name": "stdout",
     "output_type": "stream",
     "text": [
      "2024-09-02 04:34:38,442 140564686231360 584914274.py[line:46] - INFO: Epoch mean loss: 4.6756016835570335\n",
      "last_best,best_epoch 4.6756016835570335 87\n",
      "2024-09-02 04:34:38,490 140564686231360 584914274.py[line:12] - INFO: start 88 epoch\n"
     ]
    },
    {
     "name": "stderr",
     "output_type": "stream",
     "text": [
      "100%|██████████| 64/64 [00:03<00:00, 17.07it/s]\n"
     ]
    },
    {
     "name": "stdout",
     "output_type": "stream",
     "text": [
      "2024-09-02 04:34:42,406 140564686231360 584914274.py[line:46] - INFO: Epoch mean loss: 4.642623506486416\n",
      "last_best,best_epoch 4.642623506486416 88\n",
      "2024-09-02 04:34:42,453 140564686231360 584914274.py[line:12] - INFO: start 89 epoch\n"
     ]
    },
    {
     "name": "stderr",
     "output_type": "stream",
     "text": [
      "100%|██████████| 64/64 [00:03<00:00, 16.26it/s]\n"
     ]
    },
    {
     "name": "stdout",
     "output_type": "stream",
     "text": [
      "2024-09-02 04:34:46,575 140564686231360 584914274.py[line:46] - INFO: Epoch mean loss: 4.5780148804187775\n",
      "last_best,best_epoch 4.5780148804187775 89\n",
      "2024-09-02 04:34:46,629 140564686231360 584914274.py[line:12] - INFO: start 90 epoch\n"
     ]
    },
    {
     "name": "stderr",
     "output_type": "stream",
     "text": [
      "100%|██████████| 64/64 [00:03<00:00, 16.79it/s]\n"
     ]
    },
    {
     "name": "stdout",
     "output_type": "stream",
     "text": [
      "2024-09-02 04:34:50,630 140564686231360 584914274.py[line:46] - INFO: Epoch mean loss: 4.533882156014442\n",
      "last_best,best_epoch 4.533882156014442 90\n",
      "2024-09-02 04:34:50,683 140564686231360 584914274.py[line:12] - INFO: start 91 epoch\n"
     ]
    },
    {
     "name": "stderr",
     "output_type": "stream",
     "text": [
      "100%|██████████| 64/64 [00:03<00:00, 16.38it/s]\n"
     ]
    },
    {
     "name": "stdout",
     "output_type": "stream",
     "text": [
      "2024-09-02 04:34:54,762 140564686231360 584914274.py[line:46] - INFO: Epoch mean loss: 4.484040625393391\n",
      "last_best,best_epoch 4.484040625393391 91\n",
      "2024-09-02 04:34:54,811 140564686231360 584914274.py[line:12] - INFO: start 92 epoch\n"
     ]
    },
    {
     "name": "stderr",
     "output_type": "stream",
     "text": [
      "100%|██████████| 64/64 [00:03<00:00, 16.63it/s]\n"
     ]
    },
    {
     "name": "stdout",
     "output_type": "stream",
     "text": [
      "2024-09-02 04:34:58,832 140564686231360 584914274.py[line:46] - INFO: Epoch mean loss: 4.440805070102215\n",
      "last_best,best_epoch 4.440805070102215 92\n",
      "2024-09-02 04:34:58,882 140564686231360 584914274.py[line:12] - INFO: start 93 epoch\n"
     ]
    },
    {
     "name": "stderr",
     "output_type": "stream",
     "text": [
      "100%|██████████| 64/64 [00:03<00:00, 16.80it/s]\n"
     ]
    },
    {
     "name": "stdout",
     "output_type": "stream",
     "text": [
      "2024-09-02 04:35:02,859 140564686231360 584914274.py[line:46] - INFO: Epoch mean loss: 4.402941063046455\n",
      "last_best,best_epoch 4.402941063046455 93\n",
      "2024-09-02 04:35:02,909 140564686231360 584914274.py[line:12] - INFO: start 94 epoch\n"
     ]
    },
    {
     "name": "stderr",
     "output_type": "stream",
     "text": [
      "100%|██████████| 64/64 [00:03<00:00, 16.76it/s]\n"
     ]
    },
    {
     "name": "stdout",
     "output_type": "stream",
     "text": [
      "2024-09-02 04:35:06,924 140564686231360 584914274.py[line:46] - INFO: Epoch mean loss: 4.357765205204487\n",
      "last_best,best_epoch 4.357765205204487 94\n",
      "2024-09-02 04:35:06,978 140564686231360 584914274.py[line:12] - INFO: start 95 epoch\n"
     ]
    },
    {
     "name": "stderr",
     "output_type": "stream",
     "text": [
      "100%|██████████| 64/64 [00:03<00:00, 18.06it/s]\n"
     ]
    },
    {
     "name": "stdout",
     "output_type": "stream",
     "text": [
      "2024-09-02 04:35:10,682 140564686231360 584914274.py[line:46] - INFO: Epoch mean loss: 4.311928994953632\n",
      "last_best,best_epoch 4.311928994953632 95\n",
      "2024-09-02 04:35:10,732 140564686231360 584914274.py[line:12] - INFO: start 96 epoch\n"
     ]
    },
    {
     "name": "stderr",
     "output_type": "stream",
     "text": [
      "100%|██████████| 64/64 [00:03<00:00, 16.64it/s]\n"
     ]
    },
    {
     "name": "stdout",
     "output_type": "stream",
     "text": [
      "2024-09-02 04:35:14,749 140564686231360 584914274.py[line:46] - INFO: Epoch mean loss: 4.284987263381481\n",
      "last_best,best_epoch 4.284987263381481 96\n",
      "2024-09-02 04:35:14,799 140564686231360 584914274.py[line:12] - INFO: start 97 epoch\n"
     ]
    },
    {
     "name": "stderr",
     "output_type": "stream",
     "text": [
      "100%|██████████| 64/64 [00:03<00:00, 16.89it/s]\n"
     ]
    },
    {
     "name": "stdout",
     "output_type": "stream",
     "text": [
      "2024-09-02 04:35:18,774 140564686231360 584914274.py[line:46] - INFO: Epoch mean loss: 4.24200988560915\n",
      "last_best,best_epoch 4.24200988560915 97\n",
      "2024-09-02 04:35:18,823 140564686231360 584914274.py[line:12] - INFO: start 98 epoch\n"
     ]
    },
    {
     "name": "stderr",
     "output_type": "stream",
     "text": [
      "100%|██████████| 64/64 [00:03<00:00, 16.58it/s]\n"
     ]
    },
    {
     "name": "stdout",
     "output_type": "stream",
     "text": [
      "2024-09-02 04:35:22,889 140564686231360 584914274.py[line:46] - INFO: Epoch mean loss: 4.209824092686176\n",
      "last_best,best_epoch 4.209824092686176 98\n",
      "2024-09-02 04:35:22,945 140564686231360 584914274.py[line:12] - INFO: start 99 epoch\n"
     ]
    },
    {
     "name": "stderr",
     "output_type": "stream",
     "text": [
      "100%|██████████| 64/64 [00:04<00:00, 15.53it/s]\n"
     ]
    },
    {
     "name": "stdout",
     "output_type": "stream",
     "text": [
      "2024-09-02 04:35:27,239 140564686231360 584914274.py[line:46] - INFO: Epoch mean loss: 4.164834588766098\n",
      "last_best,best_epoch 4.164834588766098 99\n",
      "2024-09-02 04:35:27,296 140564686231360 584914274.py[line:12] - INFO: start 100 epoch\n"
     ]
    },
    {
     "name": "stderr",
     "output_type": "stream",
     "text": [
      "100%|██████████| 64/64 [00:03<00:00, 16.79it/s]\n"
     ]
    },
    {
     "name": "stdout",
     "output_type": "stream",
     "text": [
      "2024-09-02 04:35:31,274 140564686231360 584914274.py[line:46] - INFO: Epoch mean loss: 4.135727096349001\n",
      "last_best,best_epoch 4.135727096349001 100\n",
      "2024-09-02 04:35:31,321 140564686231360 584914274.py[line:12] - INFO: start 101 epoch\n"
     ]
    },
    {
     "name": "stderr",
     "output_type": "stream",
     "text": [
      "100%|██████████| 64/64 [00:03<00:00, 16.89it/s]\n"
     ]
    },
    {
     "name": "stdout",
     "output_type": "stream",
     "text": [
      "2024-09-02 04:35:35,282 140564686231360 584914274.py[line:46] - INFO: Epoch mean loss: 4.105880942195654\n",
      "last_best,best_epoch 4.105880942195654 101\n",
      "2024-09-02 04:35:35,331 140564686231360 584914274.py[line:12] - INFO: start 102 epoch\n"
     ]
    },
    {
     "name": "stderr",
     "output_type": "stream",
     "text": [
      "100%|██████████| 64/64 [00:03<00:00, 16.85it/s]\n"
     ]
    },
    {
     "name": "stdout",
     "output_type": "stream",
     "text": [
      "2024-09-02 04:35:39,320 140564686231360 584914274.py[line:46] - INFO: Epoch mean loss: 4.070222292095423\n",
      "last_best,best_epoch 4.070222292095423 102\n",
      "2024-09-02 04:35:39,376 140564686231360 584914274.py[line:12] - INFO: start 103 epoch\n"
     ]
    },
    {
     "name": "stderr",
     "output_type": "stream",
     "text": [
      "100%|██████████| 64/64 [00:03<00:00, 16.08it/s]\n"
     ]
    },
    {
     "name": "stdout",
     "output_type": "stream",
     "text": [
      "2024-09-02 04:35:43,518 140564686231360 584914274.py[line:46] - INFO: Epoch mean loss: 4.035218093544245\n",
      "last_best,best_epoch 4.035218093544245 103\n",
      "2024-09-02 04:35:43,564 140564686231360 584914274.py[line:12] - INFO: start 104 epoch\n"
     ]
    },
    {
     "name": "stderr",
     "output_type": "stream",
     "text": [
      "100%|██████████| 64/64 [00:03<00:00, 16.41it/s]\n"
     ]
    },
    {
     "name": "stdout",
     "output_type": "stream",
     "text": [
      "2024-09-02 04:35:47,656 140564686231360 584914274.py[line:46] - INFO: Epoch mean loss: 4.004215583205223\n",
      "last_best,best_epoch 4.004215583205223 104\n",
      "2024-09-02 04:35:47,705 140564686231360 584914274.py[line:12] - INFO: start 105 epoch\n"
     ]
    },
    {
     "name": "stderr",
     "output_type": "stream",
     "text": [
      "100%|██████████| 64/64 [00:03<00:00, 16.99it/s]\n"
     ]
    },
    {
     "name": "stdout",
     "output_type": "stream",
     "text": [
      "2024-09-02 04:35:51,651 140564686231360 584914274.py[line:46] - INFO: Epoch mean loss: 3.9789953008294106\n",
      "last_best,best_epoch 3.9789953008294106 105\n",
      "2024-09-02 04:35:51,698 140564686231360 584914274.py[line:12] - INFO: start 106 epoch\n"
     ]
    },
    {
     "name": "stderr",
     "output_type": "stream",
     "text": [
      "100%|██████████| 64/64 [00:03<00:00, 17.26it/s]\n"
     ]
    },
    {
     "name": "stdout",
     "output_type": "stream",
     "text": [
      "2024-09-02 04:35:55,588 140564686231360 584914274.py[line:46] - INFO: Epoch mean loss: 3.9482700042426586\n",
      "last_best,best_epoch 3.9482700042426586 106\n",
      "2024-09-02 04:35:55,635 140564686231360 584914274.py[line:12] - INFO: start 107 epoch\n"
     ]
    },
    {
     "name": "stderr",
     "output_type": "stream",
     "text": [
      "100%|██████████| 64/64 [00:03<00:00, 17.69it/s]\n"
     ]
    },
    {
     "name": "stdout",
     "output_type": "stream",
     "text": [
      "2024-09-02 04:35:59,410 140564686231360 584914274.py[line:46] - INFO: Epoch mean loss: 3.9141298718750477\n",
      "last_best,best_epoch 3.9141298718750477 107\n",
      "2024-09-02 04:35:59,456 140564686231360 584914274.py[line:12] - INFO: start 108 epoch\n"
     ]
    },
    {
     "name": "stderr",
     "output_type": "stream",
     "text": [
      "100%|██████████| 64/64 [00:03<00:00, 16.10it/s]\n"
     ]
    },
    {
     "name": "stdout",
     "output_type": "stream",
     "text": [
      "2024-09-02 04:36:03,617 140564686231360 584914274.py[line:46] - INFO: Epoch mean loss: 3.8901773057878017\n",
      "last_best,best_epoch 3.8901773057878017 108\n",
      "2024-09-02 04:36:03,665 140564686231360 584914274.py[line:12] - INFO: start 109 epoch\n"
     ]
    },
    {
     "name": "stderr",
     "output_type": "stream",
     "text": [
      "100%|██████████| 64/64 [00:03<00:00, 16.93it/s]\n"
     ]
    },
    {
     "name": "stdout",
     "output_type": "stream",
     "text": [
      "2024-09-02 04:36:07,605 140564686231360 584914274.py[line:46] - INFO: Epoch mean loss: 3.8608556166291237\n",
      "last_best,best_epoch 3.8608556166291237 109\n",
      "2024-09-02 04:36:07,651 140564686231360 584914274.py[line:12] - INFO: start 110 epoch\n"
     ]
    },
    {
     "name": "stderr",
     "output_type": "stream",
     "text": [
      "100%|██████████| 64/64 [00:03<00:00, 16.88it/s]\n"
     ]
    },
    {
     "name": "stdout",
     "output_type": "stream",
     "text": [
      "2024-09-02 04:36:11,619 140564686231360 584914274.py[line:46] - INFO: Epoch mean loss: 3.829799387603998\n",
      "last_best,best_epoch 3.829799387603998 110\n",
      "2024-09-02 04:36:11,669 140564686231360 584914274.py[line:12] - INFO: start 111 epoch\n"
     ]
    },
    {
     "name": "stderr",
     "output_type": "stream",
     "text": [
      "100%|██████████| 64/64 [00:03<00:00, 16.26it/s]\n"
     ]
    },
    {
     "name": "stdout",
     "output_type": "stream",
     "text": [
      "2024-09-02 04:36:15,784 140564686231360 584914274.py[line:46] - INFO: Epoch mean loss: 3.8016635440289974\n",
      "last_best,best_epoch 3.8016635440289974 111\n",
      "2024-09-02 04:36:15,832 140564686231360 584914274.py[line:12] - INFO: start 112 epoch\n"
     ]
    },
    {
     "name": "stderr",
     "output_type": "stream",
     "text": [
      "100%|██████████| 64/64 [00:03<00:00, 17.51it/s]\n"
     ]
    },
    {
     "name": "stdout",
     "output_type": "stream",
     "text": [
      "2024-09-02 04:36:19,650 140564686231360 584914274.py[line:46] - INFO: Epoch mean loss: 3.7816125005483627\n",
      "last_best,best_epoch 3.7816125005483627 112\n",
      "2024-09-02 04:36:19,697 140564686231360 584914274.py[line:12] - INFO: start 113 epoch\n"
     ]
    },
    {
     "name": "stderr",
     "output_type": "stream",
     "text": [
      "100%|██████████| 64/64 [00:03<00:00, 16.66it/s]\n"
     ]
    },
    {
     "name": "stdout",
     "output_type": "stream",
     "text": [
      "2024-09-02 04:36:23,720 140564686231360 584914274.py[line:46] - INFO: Epoch mean loss: 3.7525960132479668\n",
      "last_best,best_epoch 3.7525960132479668 113\n",
      "2024-09-02 04:36:23,768 140564686231360 584914274.py[line:12] - INFO: start 114 epoch\n"
     ]
    },
    {
     "name": "stderr",
     "output_type": "stream",
     "text": [
      "100%|██████████| 64/64 [00:03<00:00, 16.49it/s]\n"
     ]
    },
    {
     "name": "stdout",
     "output_type": "stream",
     "text": [
      "2024-09-02 04:36:27,808 140564686231360 584914274.py[line:46] - INFO: Epoch mean loss: 3.728511553257704\n",
      "last_best,best_epoch 3.728511553257704 114\n",
      "2024-09-02 04:36:27,855 140564686231360 584914274.py[line:12] - INFO: start 115 epoch\n"
     ]
    },
    {
     "name": "stderr",
     "output_type": "stream",
     "text": [
      "100%|██████████| 64/64 [00:03<00:00, 16.23it/s]\n"
     ]
    },
    {
     "name": "stdout",
     "output_type": "stream",
     "text": [
      "2024-09-02 04:36:31,965 140564686231360 584914274.py[line:46] - INFO: Epoch mean loss: 3.696683570742607\n",
      "last_best,best_epoch 3.696683570742607 115\n",
      "2024-09-02 04:36:32,012 140564686231360 584914274.py[line:12] - INFO: start 116 epoch\n"
     ]
    },
    {
     "name": "stderr",
     "output_type": "stream",
     "text": [
      "100%|██████████| 64/64 [00:03<00:00, 16.89it/s]\n"
     ]
    },
    {
     "name": "stdout",
     "output_type": "stream",
     "text": [
      "2024-09-02 04:36:35,960 140564686231360 584914274.py[line:46] - INFO: Epoch mean loss: 3.67148245498538\n",
      "last_best,best_epoch 3.67148245498538 116\n",
      "2024-09-02 04:36:36,009 140564686231360 584914274.py[line:12] - INFO: start 117 epoch\n"
     ]
    },
    {
     "name": "stderr",
     "output_type": "stream",
     "text": [
      "100%|██████████| 64/64 [00:03<00:00, 17.04it/s]\n"
     ]
    },
    {
     "name": "stdout",
     "output_type": "stream",
     "text": [
      "2024-09-02 04:36:39,924 140564686231360 584914274.py[line:46] - INFO: Epoch mean loss: 3.642214797437191\n",
      "last_best,best_epoch 3.642214797437191 117\n",
      "2024-09-02 04:36:39,973 140564686231360 584914274.py[line:12] - INFO: start 118 epoch\n"
     ]
    },
    {
     "name": "stderr",
     "output_type": "stream",
     "text": [
      "100%|██████████| 64/64 [00:03<00:00, 17.00it/s]\n"
     ]
    },
    {
     "name": "stdout",
     "output_type": "stream",
     "text": [
      "2024-09-02 04:36:43,912 140564686231360 584914274.py[line:46] - INFO: Epoch mean loss: 3.61818053945899\n",
      "last_best,best_epoch 3.61818053945899 118\n",
      "2024-09-02 04:36:43,960 140564686231360 584914274.py[line:12] - INFO: start 119 epoch\n"
     ]
    },
    {
     "name": "stderr",
     "output_type": "stream",
     "text": [
      "100%|██████████| 64/64 [00:03<00:00, 16.91it/s]\n"
     ]
    },
    {
     "name": "stdout",
     "output_type": "stream",
     "text": [
      "2024-09-02 04:36:47,925 140564686231360 584914274.py[line:46] - INFO: Epoch mean loss: 3.5941931195557117\n",
      "last_best,best_epoch 3.5941931195557117 119\n",
      "2024-09-02 04:36:47,973 140564686231360 584914274.py[line:12] - INFO: start 120 epoch\n"
     ]
    },
    {
     "name": "stderr",
     "output_type": "stream",
     "text": [
      "100%|██████████| 64/64 [00:03<00:00, 16.21it/s]\n"
     ]
    },
    {
     "name": "stdout",
     "output_type": "stream",
     "text": [
      "2024-09-02 04:36:52,080 140564686231360 584914274.py[line:46] - INFO: Epoch mean loss: 3.571226481348276\n",
      "last_best,best_epoch 3.571226481348276 120\n",
      "2024-09-02 04:36:52,126 140564686231360 584914274.py[line:12] - INFO: start 121 epoch\n"
     ]
    },
    {
     "name": "stderr",
     "output_type": "stream",
     "text": [
      "100%|██████████| 64/64 [00:03<00:00, 16.94it/s]\n"
     ]
    },
    {
     "name": "stdout",
     "output_type": "stream",
     "text": [
      "2024-09-02 04:36:56,068 140564686231360 584914274.py[line:46] - INFO: Epoch mean loss: 3.544173091650009\n",
      "last_best,best_epoch 3.544173091650009 121\n",
      "2024-09-02 04:36:56,114 140564686231360 584914274.py[line:12] - INFO: start 122 epoch\n"
     ]
    },
    {
     "name": "stderr",
     "output_type": "stream",
     "text": [
      "100%|██████████| 64/64 [00:03<00:00, 16.66it/s]\n"
     ]
    },
    {
     "name": "stdout",
     "output_type": "stream",
     "text": [
      "2024-09-02 04:37:00,117 140564686231360 584914274.py[line:46] - INFO: Epoch mean loss: 3.526555933058262\n",
      "last_best,best_epoch 3.526555933058262 122\n",
      "2024-09-02 04:37:00,165 140564686231360 584914274.py[line:12] - INFO: start 123 epoch\n"
     ]
    },
    {
     "name": "stderr",
     "output_type": "stream",
     "text": [
      "100%|██████████| 64/64 [00:03<00:00, 16.93it/s]\n"
     ]
    },
    {
     "name": "stdout",
     "output_type": "stream",
     "text": [
      "2024-09-02 04:37:04,115 140564686231360 584914274.py[line:46] - INFO: Epoch mean loss: 3.5071592181921005\n",
      "last_best,best_epoch 3.5071592181921005 123\n",
      "2024-09-02 04:37:04,165 140564686231360 584914274.py[line:12] - INFO: start 124 epoch\n"
     ]
    },
    {
     "name": "stderr",
     "output_type": "stream",
     "text": [
      "100%|██████████| 64/64 [00:03<00:00, 16.44it/s]\n"
     ]
    },
    {
     "name": "stdout",
     "output_type": "stream",
     "text": [
      "2024-09-02 04:37:08,239 140564686231360 584914274.py[line:46] - INFO: Epoch mean loss: 3.4837784096598625\n",
      "last_best,best_epoch 3.4837784096598625 124\n",
      "2024-09-02 04:37:08,288 140564686231360 584914274.py[line:12] - INFO: start 125 epoch\n"
     ]
    },
    {
     "name": "stderr",
     "output_type": "stream",
     "text": [
      "100%|██████████| 64/64 [00:03<00:00, 16.07it/s]\n"
     ]
    },
    {
     "name": "stdout",
     "output_type": "stream",
     "text": [
      "2024-09-02 04:37:12,469 140564686231360 584914274.py[line:46] - INFO: Epoch mean loss: 3.4613015465438366\n",
      "last_best,best_epoch 3.4613015465438366 125\n",
      "2024-09-02 04:37:12,521 140564686231360 584914274.py[line:12] - INFO: start 126 epoch\n"
     ]
    },
    {
     "name": "stderr",
     "output_type": "stream",
     "text": [
      "100%|██████████| 64/64 [00:03<00:00, 16.64it/s]\n"
     ]
    },
    {
     "name": "stdout",
     "output_type": "stream",
     "text": [
      "2024-09-02 04:37:16,545 140564686231360 584914274.py[line:46] - INFO: Epoch mean loss: 3.4430101737380028\n",
      "last_best,best_epoch 3.4430101737380028 126\n",
      "2024-09-02 04:37:16,592 140564686231360 584914274.py[line:12] - INFO: start 127 epoch\n"
     ]
    },
    {
     "name": "stderr",
     "output_type": "stream",
     "text": [
      "100%|██████████| 64/64 [00:03<00:00, 16.74it/s]\n"
     ]
    },
    {
     "name": "stdout",
     "output_type": "stream",
     "text": [
      "2024-09-02 04:37:20,597 140564686231360 584914274.py[line:46] - INFO: Epoch mean loss: 3.4242468364536762\n",
      "last_best,best_epoch 3.4242468364536762 127\n",
      "2024-09-02 04:37:20,643 140564686231360 584914274.py[line:12] - INFO: start 128 epoch\n"
     ]
    },
    {
     "name": "stderr",
     "output_type": "stream",
     "text": [
      "100%|██████████| 64/64 [00:03<00:00, 16.91it/s]\n"
     ]
    },
    {
     "name": "stdout",
     "output_type": "stream",
     "text": [
      "2024-09-02 04:37:24,606 140564686231360 584914274.py[line:46] - INFO: Epoch mean loss: 3.4156665690243244\n",
      "last_best,best_epoch 3.4156665690243244 128\n",
      "2024-09-02 04:37:24,653 140564686231360 584914274.py[line:12] - INFO: start 129 epoch\n"
     ]
    },
    {
     "name": "stderr",
     "output_type": "stream",
     "text": [
      "100%|██████████| 64/64 [00:03<00:00, 17.03it/s]\n"
     ]
    },
    {
     "name": "stdout",
     "output_type": "stream",
     "text": [
      "2024-09-02 04:37:28,573 140564686231360 584914274.py[line:46] - INFO: Epoch mean loss: 3.393105126917362\n",
      "last_best,best_epoch 3.393105126917362 129\n",
      "2024-09-02 04:37:28,620 140564686231360 584914274.py[line:12] - INFO: start 130 epoch\n"
     ]
    },
    {
     "name": "stderr",
     "output_type": "stream",
     "text": [
      "100%|██████████| 64/64 [00:03<00:00, 16.38it/s]\n"
     ]
    },
    {
     "name": "stdout",
     "output_type": "stream",
     "text": [
      "2024-09-02 04:37:32,717 140564686231360 584914274.py[line:46] - INFO: Epoch mean loss: 3.3799621164798737\n",
      "last_best,best_epoch 3.3799621164798737 130\n",
      "2024-09-02 04:37:32,764 140564686231360 584914274.py[line:12] - INFO: start 131 epoch\n"
     ]
    },
    {
     "name": "stderr",
     "output_type": "stream",
     "text": [
      "100%|██████████| 64/64 [00:03<00:00, 17.26it/s]\n"
     ]
    },
    {
     "name": "stdout",
     "output_type": "stream",
     "text": [
      "2024-09-02 04:37:36,677 140564686231360 584914274.py[line:46] - INFO: Epoch mean loss: 3.3669810630381107\n",
      "last_best,best_epoch 3.3669810630381107 131\n",
      "2024-09-02 04:37:36,724 140564686231360 584914274.py[line:12] - INFO: start 132 epoch\n"
     ]
    },
    {
     "name": "stderr",
     "output_type": "stream",
     "text": [
      "100%|██████████| 64/64 [00:03<00:00, 16.40it/s]\n"
     ]
    },
    {
     "name": "stdout",
     "output_type": "stream",
     "text": [
      "2024-09-02 04:37:40,809 140564686231360 584914274.py[line:46] - INFO: Epoch mean loss: 3.3481055572628975\n",
      "last_best,best_epoch 3.3481055572628975 132\n",
      "2024-09-02 04:37:40,858 140564686231360 584914274.py[line:12] - INFO: start 133 epoch\n"
     ]
    },
    {
     "name": "stderr",
     "output_type": "stream",
     "text": [
      "100%|██████████| 64/64 [00:03<00:00, 16.09it/s]\n"
     ]
    },
    {
     "name": "stdout",
     "output_type": "stream",
     "text": [
      "2024-09-02 04:37:45,009 140564686231360 584914274.py[line:46] - INFO: Epoch mean loss: 3.3385633789002895\n",
      "last_best,best_epoch 3.3385633789002895 133\n",
      "2024-09-02 04:37:45,058 140564686231360 584914274.py[line:12] - INFO: start 134 epoch\n"
     ]
    },
    {
     "name": "stderr",
     "output_type": "stream",
     "text": [
      "100%|██████████| 64/64 [00:03<00:00, 16.54it/s]\n"
     ]
    },
    {
     "name": "stdout",
     "output_type": "stream",
     "text": [
      "2024-09-02 04:37:49,091 140564686231360 584914274.py[line:46] - INFO: Epoch mean loss: 3.324698507785797\n",
      "last_best,best_epoch 3.324698507785797 134\n",
      "2024-09-02 04:37:49,138 140564686231360 584914274.py[line:12] - INFO: start 135 epoch\n"
     ]
    },
    {
     "name": "stderr",
     "output_type": "stream",
     "text": [
      "100%|██████████| 64/64 [00:03<00:00, 16.78it/s]\n"
     ]
    },
    {
     "name": "stdout",
     "output_type": "stream",
     "text": [
      "2024-09-02 04:37:53,150 140564686231360 584914274.py[line:46] - INFO: Epoch mean loss: 3.313618902117014\n",
      "last_best,best_epoch 3.313618902117014 135\n",
      "2024-09-02 04:37:53,206 140564686231360 584914274.py[line:12] - INFO: start 136 epoch\n"
     ]
    },
    {
     "name": "stderr",
     "output_type": "stream",
     "text": [
      "100%|██████████| 64/64 [00:03<00:00, 16.80it/s]\n"
     ]
    },
    {
     "name": "stdout",
     "output_type": "stream",
     "text": [
      "2024-09-02 04:37:57,225 140564686231360 584914274.py[line:46] - INFO: Epoch mean loss: 3.294407334178686\n",
      "last_best,best_epoch 3.294407334178686 136\n",
      "2024-09-02 04:37:57,281 140564686231360 584914274.py[line:12] - INFO: start 137 epoch\n"
     ]
    },
    {
     "name": "stderr",
     "output_type": "stream",
     "text": [
      "100%|██████████| 64/64 [00:03<00:00, 16.13it/s]\n"
     ]
    },
    {
     "name": "stdout",
     "output_type": "stream",
     "text": [
      "2024-09-02 04:38:01,416 140564686231360 584914274.py[line:46] - INFO: Epoch mean loss: 3.286415308713913\n",
      "last_best,best_epoch 3.286415308713913 137\n",
      "2024-09-02 04:38:01,465 140564686231360 584914274.py[line:12] - INFO: start 138 epoch\n"
     ]
    },
    {
     "name": "stderr",
     "output_type": "stream",
     "text": [
      "100%|██████████| 64/64 [00:03<00:00, 16.91it/s]\n"
     ]
    },
    {
     "name": "stdout",
     "output_type": "stream",
     "text": [
      "2024-09-02 04:38:05,429 140564686231360 584914274.py[line:46] - INFO: Epoch mean loss: 3.2699212208390236\n",
      "last_best,best_epoch 3.2699212208390236 138\n",
      "2024-09-02 04:38:05,480 140564686231360 584914274.py[line:12] - INFO: start 139 epoch\n"
     ]
    },
    {
     "name": "stderr",
     "output_type": "stream",
     "text": [
      "100%|██████████| 64/64 [00:03<00:00, 17.33it/s]\n"
     ]
    },
    {
     "name": "stdout",
     "output_type": "stream",
     "text": [
      "2024-09-02 04:38:09,333 140564686231360 584914274.py[line:46] - INFO: Epoch mean loss: 3.2585082687437534\n",
      "last_best,best_epoch 3.2585082687437534 139\n",
      "2024-09-02 04:38:09,380 140564686231360 584914274.py[line:12] - INFO: start 140 epoch\n"
     ]
    },
    {
     "name": "stderr",
     "output_type": "stream",
     "text": [
      "100%|██████████| 64/64 [00:03<00:00, 17.27it/s]\n"
     ]
    },
    {
     "name": "stdout",
     "output_type": "stream",
     "text": [
      "2024-09-02 04:38:13,246 140564686231360 584914274.py[line:46] - INFO: Epoch mean loss: 3.247214064002037\n",
      "last_best,best_epoch 3.247214064002037 140\n",
      "2024-09-02 04:38:13,293 140564686231360 584914274.py[line:12] - INFO: start 141 epoch\n"
     ]
    },
    {
     "name": "stderr",
     "output_type": "stream",
     "text": [
      "100%|██████████| 64/64 [00:03<00:00, 16.86it/s]\n"
     ]
    },
    {
     "name": "stdout",
     "output_type": "stream",
     "text": [
      "2024-09-02 04:38:17,275 140564686231360 584914274.py[line:46] - INFO: Epoch mean loss: 3.235508818179369\n",
      "last_best,best_epoch 3.235508818179369 141\n",
      "2024-09-02 04:38:17,327 140564686231360 584914274.py[line:12] - INFO: start 142 epoch\n"
     ]
    },
    {
     "name": "stderr",
     "output_type": "stream",
     "text": [
      "100%|██████████| 64/64 [00:03<00:00, 17.33it/s]\n"
     ]
    },
    {
     "name": "stdout",
     "output_type": "stream",
     "text": [
      "2024-09-02 04:38:21,211 140564686231360 584914274.py[line:46] - INFO: Epoch mean loss: 3.2216858007013798\n",
      "last_best,best_epoch 3.2216858007013798 142\n",
      "2024-09-02 04:38:21,259 140564686231360 584914274.py[line:12] - INFO: start 143 epoch\n"
     ]
    },
    {
     "name": "stderr",
     "output_type": "stream",
     "text": [
      "100%|██████████| 64/64 [00:03<00:00, 18.04it/s]\n"
     ]
    },
    {
     "name": "stdout",
     "output_type": "stream",
     "text": [
      "2024-09-02 04:38:24,965 140564686231360 584914274.py[line:46] - INFO: Epoch mean loss: 3.2114446125924587\n",
      "last_best,best_epoch 3.2114446125924587 143\n",
      "2024-09-02 04:38:25,013 140564686231360 584914274.py[line:12] - INFO: start 144 epoch\n"
     ]
    },
    {
     "name": "stderr",
     "output_type": "stream",
     "text": [
      "100%|██████████| 64/64 [00:03<00:00, 16.80it/s]\n"
     ]
    },
    {
     "name": "stdout",
     "output_type": "stream",
     "text": [
      "2024-09-02 04:38:28,982 140564686231360 584914274.py[line:46] - INFO: Epoch mean loss: 3.200978957116604\n",
      "last_best,best_epoch 3.200978957116604 144\n",
      "2024-09-02 04:38:29,029 140564686231360 584914274.py[line:12] - INFO: start 145 epoch\n"
     ]
    },
    {
     "name": "stderr",
     "output_type": "stream",
     "text": [
      "100%|██████████| 64/64 [00:03<00:00, 16.77it/s]\n"
     ]
    },
    {
     "name": "stdout",
     "output_type": "stream",
     "text": [
      "2024-09-02 04:38:33,065 140564686231360 584914274.py[line:46] - INFO: Epoch mean loss: 3.192874990403652\n",
      "last_best,best_epoch 3.192874990403652 145\n",
      "2024-09-02 04:38:33,120 140564686231360 584914274.py[line:12] - INFO: start 146 epoch\n"
     ]
    },
    {
     "name": "stderr",
     "output_type": "stream",
     "text": [
      "100%|██████████| 64/64 [00:03<00:00, 16.48it/s]\n"
     ]
    },
    {
     "name": "stdout",
     "output_type": "stream",
     "text": [
      "2024-09-02 04:38:37,175 140564686231360 584914274.py[line:46] - INFO: Epoch mean loss: 3.182708863168955\n",
      "last_best,best_epoch 3.182708863168955 146\n",
      "2024-09-02 04:38:37,223 140564686231360 584914274.py[line:12] - INFO: start 147 epoch\n"
     ]
    },
    {
     "name": "stderr",
     "output_type": "stream",
     "text": [
      "100%|██████████| 64/64 [00:03<00:00, 16.84it/s]\n"
     ]
    },
    {
     "name": "stdout",
     "output_type": "stream",
     "text": [
      "2024-09-02 04:38:41,185 140564686231360 584914274.py[line:46] - INFO: Epoch mean loss: 3.165511406958103\n",
      "last_best,best_epoch 3.165511406958103 147\n",
      "2024-09-02 04:38:41,233 140564686231360 584914274.py[line:12] - INFO: start 148 epoch\n"
     ]
    },
    {
     "name": "stderr",
     "output_type": "stream",
     "text": [
      "100%|██████████| 64/64 [00:03<00:00, 16.03it/s]\n"
     ]
    },
    {
     "name": "stdout",
     "output_type": "stream",
     "text": [
      "2024-09-02 04:38:45,423 140564686231360 584914274.py[line:46] - INFO: Epoch mean loss: 3.1542757526040077\n",
      "last_best,best_epoch 3.1542757526040077 148\n",
      "2024-09-02 04:38:45,472 140564686231360 584914274.py[line:12] - INFO: start 149 epoch\n"
     ]
    },
    {
     "name": "stderr",
     "output_type": "stream",
     "text": [
      "100%|██████████| 64/64 [00:03<00:00, 16.28it/s]\n"
     ]
    },
    {
     "name": "stdout",
     "output_type": "stream",
     "text": [
      "2024-09-02 04:38:49,589 140564686231360 584914274.py[line:46] - INFO: Epoch mean loss: 3.1401260048151016\n",
      "last_best,best_epoch 3.1401260048151016 149\n",
      "2024-09-02 04:38:49,629 140564686231360 584914274.py[line:56] - INFO: Traing endding\n"
     ]
    }
   ],
   "source": [
    "def get_radius(dist: torch.Tensor, nu: float):\n",
    "    \"\"\"Optimally solve for radius R via the (1-nu)-quantile of distances.\"\"\"\n",
    "    return np.quantile(np.sqrt(dist.clone().data.cpu().numpy()), 1 - nu)\n",
    "\n",
    "j=1\n",
    "for epoch in (range(ADGAT_EPOCHS)):\n",
    "    # Training\n",
    "    # training use only training graph\n",
    "    lbg.ngh_finder = train_ngh_finder\n",
    "    acc, ap, f1, auc, m_loss, fpr, tpr, nmi,temR = [], [], [], [], [], [], [], [],[]\n",
    "    pred_ll, true_ll, link_embed = [], [], []\n",
    "    logger.info('start {} epoch'.format(epoch))\n",
    "    idx = np.arange(num_instance)\n",
    "    np.random.shuffle(idx)\n",
    "    for k in tqdm(range(num_batch)):\n",
    "        s_idx = k * BATCH_SIZE\n",
    "        e_idx = min(num_instance - 1, s_idx + BATCH_SIZE)\n",
    "        if (s_idx == e_idx):\n",
    "            continue\n",
    "        batch_idx = idx[s_idx:e_idx]\n",
    "        src_l_cut, dst_l_cut, ts_l_cut= train_src_l[batch_idx], train_dst_l[batch_idx],train_ts_l[batch_idx]\n",
    "        label_l_cut = train_label_l[batch_idx]\n",
    "        size = len(src_l_cut)\n",
    "\n",
    "        with torch.no_grad():\n",
    "            pos_label = torch.from_numpy(label_l_cut).float().to(device)\n",
    "        optimizer.zero_grad()\n",
    "\n",
    "        lbg = lbg.train()\n",
    "        link = lbg(src_l_cut, dst_l_cut, ts_l_cut, NUM_NEIGHBORS)\n",
    "        score, loss = Deep_SVDD(link, R, center, nu)\n",
    "        loss.backward()\n",
    "        optimizer.step()\n",
    "        link_embed.extend(link.cpu())\n",
    "        m_loss.append(loss.item())\n",
    "        with torch.no_grad():\n",
    "            lbg = lbg.eval()\n",
    "            pred_score = score.cpu().detach().numpy()\n",
    "            true_label = pos_label.cpu().numpy()\n",
    "            pred_ll.extend(list(pred_score))\n",
    "            true_ll.extend(list(true_label))\n",
    "    pred_ll = np.array(pred_ll)\n",
    "    true_ll = np.array(true_ll)\n",
    "    link_embed = torch.stack(link_embed)\n",
    "    RR = get_radius(torch.sum((link_embed - center.cpu()) ** 2, dim=1), nu)\n",
    "    logger.info('Epoch mean loss: {}'.format(np.mean(m_loss)))\n",
    "    if ADGATearly_stopper.early_stop_check(np.mean(m_loss)):\n",
    "        logger.info('Loss is no decline over {} epochs , stop training'.format(ADGATearly_stopper.max_round))\n",
    "        logger.info(f'Loading the best model at epoch {ADGATearly_stopper.best_epoch}')\n",
    "        best_model_path = ADGATget_checkpoint_path(ADGATearly_stopper.best_epoch)\n",
    "        lbg.load_state_dict(torch.load(best_model_path))\n",
    "        logger.info(f'Loaded the best model at epoch {ADGATearly_stopper.best_epoch} for inference')\n",
    "        break\n",
    "    else:\n",
    "        torch.save(lbg.state_dict(), ADGATget_checkpoint_path(epoch))\n",
    "logger.info('Traing endding')\n",
    "\n",
    "\n"
   ]
  },
  {
   "cell_type": "code",
   "execution_count": 4,
   "id": "0da8e409-e64c-44b8-9a12-a19b16dabd96",
   "metadata": {},
   "outputs": [],
   "source": [
    "def test(test_node,lbg,R,num_instance,src_l,dst_l,ts_l,label_l,center):\n",
    "    logger.info(\"{}\".format(test_node))\n",
    "    acc, ap, f1, auc, m_loss, fpr, tpr, nmi = [], [], [], [], [], [], [], []\n",
    "    link_embed= []\n",
    "    pred_ll, true_ll = [], []\n",
    "    with torch.no_grad():\n",
    "        lbg = lbg.eval()\n",
    "        BATCH_SIZE = 2000\n",
    "        num_batch = math.ceil(num_instance / BATCH_SIZE)\n",
    "        for k in tqdm(range(num_batch)):\n",
    "            s_idx = k * BATCH_SIZE\n",
    "            e_idx = min(num_instance - 1, s_idx + BATCH_SIZE)\n",
    "            if (s_idx == e_idx):\n",
    "                continue\n",
    "            batch_idx = idc[s_idx:e_idx]\n",
    "            src_l_cut, dst_l_cut,ts_l_cut = src_l[batch_idx], dst_l[batch_idx],ts_l[batch_idx]\n",
    "\n",
    "            label_l_cut = label_l[batch_idx]\n",
    "\n",
    "            pos_label = torch.from_numpy(label_l_cut).float().to(device)\n",
    "            link = lbg(src_l_cut, dst_l_cut, ts_l_cut, NUM_NEIGHBORS)\n",
    "            score,_= Deep_SVDD(link, R, center, nu)\n",
    "            pred_score = score.cpu().detach().numpy()\n",
    "            true_label = pos_label.cpu().numpy()\n",
    "            pred_ll.extend(list(pred_score))\n",
    "            true_ll.extend(list(true_label))\n",
    "            link_embed.extend(link.cpu())\n",
    "            m_loss.append(_.item())\n",
    "\n",
    "        pred_ll = np.array(pred_ll)\n",
    "        true_ll = np.array(true_ll)\n",
    "        link_embed = torch.stack(link_embed)\n",
    "        auc = roc_auc_score(true_ll, pred_ll)\n",
    "        FPR_curve, TPR_curve, threshold1s = roc_curve(true_ll, pred_ll)\n",
    "        logger.info(\"FPR_curve,: {},TPR_curve,:{}\".format(FPR_curve, TPR_curve))\n",
    "        tn, fp, fn, tp = confusion_matrix(true_ll, pred_ll>RR, labels=[False, True]).ravel()\n",
    "        logger.info('Epoch mean loss: {}'.format(np.mean(m_loss)))\n",
    "        logger.info(\"Confusion Matrix:{}\".format(confusion_matrix(true_ll, pred_ll>RR, labels=[False, True])))\n",
    "        FPR = fp / (fp + tn)\n",
    "        TPR = tp / (tp + fn)\n",
    "        logger.info(\"FPR: {}\".format(FPR))\n",
    "        logger.info(\"TPR: {}\".format(TPR))\n",
    "        print(FPR,TPR,auc)\n",
    "        logger.info('test auc: {}'.format(auc))\n",
    "        pred_label = pred_ll>RR\n",
    "        redlink_idx = np.where(pred_label==1)[0]\n",
    "        red_src_detect, red_dst_detect,red_tsl_detect = src_l[redlink_idx], dst_l[redlink_idx],ts_l[redlink_idx]\n",
    "    return red_src_detect, red_dst_detect,red_tsl_detect,link_embed,true_ll"
   ]
  },
  {
   "cell_type": "code",
   "execution_count": 5,
   "id": "4a0b9523",
   "metadata": {},
   "outputs": [],
   "source": [
    "def load_data(file):\n",
    "    edge_train = []\n",
    "    label_src = []\n",
    "    label_dst = []\n",
    "    node_id = set()\n",
    "    train_src_l = []\n",
    "    train_dst_l = []\n",
    "    train_ts_l = []\n",
    "    train_label_l = []\n",
    "    i = 0\n",
    "    with open(file, 'r', encoding='utf-8') as fi:\n",
    "        while True:\n",
    "            line = fi.readline()\n",
    "            if not line:\n",
    "                break\n",
    "            l = line.strip().split(',')\n",
    "            if (int(l[0]) < 150885 ):#72-83\n",
    "                 continue\n",
    "            str_line = str(l[0]) + ',' + str(l[1]) + ',' + str(l[2]) + ',' + str(l[3]) + ',' + str(l[6]) + '\\n'\n",
    "            if str_line in red_team_file:\n",
    "                train_label_l.append(1)\n",
    "            else:\n",
    "                train_label_l.append(0)\n",
    "            C1 = int(l[3].strip('C'))\n",
    "            C2 = int(l[6].strip('C'))\n",
    "            node_id.add(C1)\n",
    "            node_id.add(C2)\n",
    "            i = i + 1\n",
    "\n",
    "            edge_train.append([C1, C2, int(l[0])])\n",
    "            train_src_l.append(C1)\n",
    "            label_src.append(0)\n",
    "            train_dst_l.append(C2)\n",
    "            label_dst.append(0)\n",
    "            train_ts_l.append(int(l[0]))\n",
    "\n",
    "    return node_id, train_src_l, train_dst_l, train_ts_l, train_label_l, label_src, label_dst\n",
    "\n",
    "\n",
    "node_id, te_src_l, te_dst_l, te_ts_l, te_label_l, label_src, label_dst = load_data(ALLEDGEPATH)\n",
    "te_src_l = np.array(te_src_l)\n",
    "te_dst_l = np.array(te_dst_l)\n",
    "te_ts_l = np.array(te_ts_l)\n",
    "te_label_l = np.array(te_label_l)\n",
    "num_instance = len(te_src_l)\n",
    "full_adj_list = adj_list.copy()\n",
    "e_idx_l = list(np.arange(len(train_src_l)+len(te_src_l)))\n",
    "for src, dst, eidx, ts in zip(te_src_l, te_dst_l, e_idx_l, te_ts_l):\n",
    "    full_adj_list[src].append((dst, eidx, ts))\n",
    "full_ngh_finder = temporalNeighbor(full_adj_list, uniform=UNIFORM)\n",
    "lbg.ngh_finder = full_ngh_finder\n",
    "idc = np.arange(num_instance)\n",
    "num_batch = math.ceil(num_instance / BATCH_SIZE)"
   ]
  },
  {
   "cell_type": "code",
   "execution_count": 6,
   "id": "25316cc4",
   "metadata": {},
   "outputs": [
    {
     "name": "stdout",
     "output_type": "stream",
     "text": [
      "2024-09-02 04:39:03,844 140564686231360 2644694426.py[line:2] - INFO: test for old nodes\n"
     ]
    },
    {
     "name": "stderr",
     "output_type": "stream",
     "text": [
      "100%|██████████| 1257/1257 [01:27<00:00, 14.36it/s]\n"
     ]
    },
    {
     "name": "stdout",
     "output_type": "stream",
     "text": [
      "2024-09-02 04:40:36,207 140564686231360 2644694426.py[line:35] - INFO: FPR_curve,: [0.00000000e+00 3.98069047e-07 3.86126975e-05 ... 9.99676768e-01\n",
      " 9.99677564e-01 1.00000000e+00],TPR_curve,:[0. 0. 0. ... 1. 1. 1.]\n",
      "2024-09-02 04:40:36,553 140564686231360 2644694426.py[line:37] - INFO: Epoch mean loss: 4.050813403884475\n",
      "2024-09-02 04:40:36,896 140564686231360 2644694426.py[line:38] - INFO: Confusion Matrix:[[2435954   76173]\n",
      " [      4     494]]\n",
      "2024-09-02 04:40:36,897 140564686231360 2644694426.py[line:41] - INFO: FPR: 0.03032211349187362\n",
      "2024-09-02 04:40:36,898 140564686231360 2644694426.py[line:42] - INFO: TPR: 0.9919678714859438\n",
      "0.03032211349187362 0.9919678714859438 0.9919213133941923\n",
      "2024-09-02 04:40:36,898 140564686231360 2644694426.py[line:44] - INFO: test auc: 0.9919213133941923\n"
     ]
    }
   ],
   "source": [
    "red_links = test('test for old nodes',lbg,R,num_instance,te_src_l,te_dst_l,te_ts_l,te_label_l,center)\n",
    "rednodes_predict = set(red_links[0])|set(red_links[1])"
   ]
  },
  {
   "cell_type": "markdown",
   "id": "797e4d80-f6da-4bd5-b563-540b2e5dc4a3",
   "metadata": {},
   "source": [
    "ACG"
   ]
  },
  {
   "cell_type": "code",
   "execution_count": 7,
   "id": "84ca0b73-8a61-4ba5-be71-cf573c7ce4b9",
   "metadata": {},
   "outputs": [],
   "source": [
    "data_name =  './data/LANL/TCG_LANL.txt'\n",
    "precess_file_path =  './data/LANL/iniACG_LANL.txt'"
   ]
  },
  {
   "cell_type": "code",
   "execution_count": 8,
   "id": "386a449b-2594-4b3d-b6dd-ce968eb50fef",
   "metadata": {},
   "outputs": [],
   "source": [
    "filter_edge = set()\n",
    "with open(ALLEDGEPATH, 'r', encoding='utf-8') as fi:\n",
    "    while True:\n",
    "        line = fi.readline()\n",
    "        if not line:\n",
    "            break\n",
    "        l = line.strip().split(',')\n",
    "        filter_edge.add((l[3], l[6]))"
   ]
  },
  {
   "cell_type": "code",
   "execution_count": 9,
   "id": "23d2591a-e258-4933-a301-4fb627bb01bb",
   "metadata": {},
   "outputs": [],
   "source": [
    "with open(precess_file_path, 'a') as sf:\n",
    "    sf.truncate(0)\n",
    "    sf.close()\n",
    "with open(data_name, 'r', encoding='utf-8') as fi:\n",
    "    fi.readline()\n",
    "    sf = open(precess_file_path, 'a')\n",
    "    while True:\n",
    "        line = fi.readline()\n",
    "        if not line:\n",
    "            break\n",
    "        l = line.strip().split(',')\n",
    "        if ((l[3],l[6]) in filter_edge):\n",
    "            continue\n",
    "        else:\n",
    "            sf.write(line)\n",
    "sf.close()"
   ]
  },
  {
   "cell_type": "code",
   "execution_count": 17,
   "id": "6dccb57d",
   "metadata": {},
   "outputs": [
    {
     "name": "stdout",
     "output_type": "stream",
     "text": [
      "2024-09-02 05:58:46,852 140564686231360 2600890899.py[line:5] - INFO: num of predict red nodes: 80\n",
      "2024-09-02 05:58:46,866 140564686231360 2600890899.py[line:7] - INFO: num of predict red edges: 76667\n",
      "2024-09-02 05:59:23,152 140564686231360 2600890899.py[line:45] - INFO: num of new nodes: 653\n",
      "2024-09-02 05:59:23,155 140564686231360 2600890899.py[line:46] - INFO: num of new events: 2493378\n",
      "2024-09-02 05:59:23,173 140564686231360 2600890899.py[line:47] - INFO: num of red team: 98\n"
     ]
    }
   ],
   "source": [
    "nodes_count = dict(Counter(list(red_links[0])+list(red_links[1])))\n",
    "#red_samenodes = [key for key,value in nodes_count.items()if value > 1]\n",
    "node_sort=sorted(nodes_count.items(), key=lambda x: x[1], reverse=True)\n",
    "red_samenodes = dict(node_sort[:80]).keys()\n",
    "logger.info('num of predict red nodes: {}'.format(len(red_samenodes)))\n",
    "nred_links = [(x,y) for x,y in zip(red_links[0],red_links[1])]\n",
    "logger.info('num of predict red edges: {}'.format(len(nred_links)))\n",
    "min_t = 0\n",
    "max_t = 1296000\n",
    "RR = 20\n",
    "def inductive_link(red_samenodes,min_t,max_t):\n",
    "    node_id = set()\n",
    "    test_src_l = []\n",
    "    test_dst_l = []\n",
    "    test_ts_l = []\n",
    "    test_label_l = []\n",
    "    i = 0\n",
    "    with open(precess_file_path, 'r', encoding='utf-8') as fi:\n",
    "        fi.readline()\n",
    "        while True:\n",
    "            line = fi.readline()\n",
    "            if not line:\n",
    "                break\n",
    "            l = line.strip().split(',')\n",
    "            C1 = int(l[3].strip('C'))\n",
    "            C2 = int(l[6].strip('C'))\n",
    "            if (int(l[0]) < min_t or int(l[0]) > max_t):\n",
    "                continue\n",
    "            if (C1 in red_samenodes or C2 in red_samenodes):\n",
    "                test_src_l.append(C1)\n",
    "                test_dst_l.append(C2)\n",
    "                test_ts_l.append(int(l[0]))\n",
    "                node_id.add(C1)\n",
    "                node_id.add(C2)\n",
    "                str_line = str(l[0]) + ',' + str(l[1]) + ',' + str(l[2]) + ',' + str(l[3]) + ',' + str(l[6]) + '\\n'\n",
    "                if str_line in red_team_file:\n",
    "                    test_label_l.append(1)\n",
    "                else:\n",
    "                    test_label_l.append(0)\n",
    "            i = i + 1\n",
    "\n",
    "    return node_id, test_src_l, test_dst_l, test_ts_l, test_label_l\n",
    "\n",
    "test_node_id, test_src_l, test_dst_l, test_ts_l, test_label_l = inductive_link(red_samenodes,min_t,max_t)\n",
    "logger.info('num of new nodes: {}'.format(len(set(test_node_id)-set(node_id))))\n",
    "logger.info('num of new events: {}'.format(len(test_src_l)))\n",
    "logger.info('num of red team: {}'.format(sum(test_label_l)))\n",
    "test_src_l = np.array(test_src_l)\n",
    "test_dst_l = np.array(test_dst_l)\n",
    "test_ts_l = np.array(test_ts_l)\n",
    "test_label_l = np.array(test_label_l)\n",
    "num_instance = len(test_src_l)\n",
    "full_adj_list = adj_list.copy()\n",
    "e_idx_l = list(np.arange(len(train_src_l)+len(test_src_l)))\n",
    "for src, dst, eidx, ts in zip(test_src_l, test_dst_l, e_idx_l, test_ts_l):\n",
    "    full_adj_list[src].append((dst, eidx, ts))\n",
    "full_ngh_finder = temporalNeighbor(full_adj_list, uniform=UNIFORM)\n",
    "lbg.ngh_finder = full_ngh_finder\n",
    "idc = np.arange(num_instance)\n",
    "num_batch = math.ceil(num_instance / BATCH_SIZE)"
   ]
  },
  {
   "cell_type": "code",
   "execution_count": null,
   "id": "1bd727c9-49f9-4ebf-adfc-894077bf85b1",
   "metadata": {},
   "outputs": [
    {
     "name": "stderr",
     "output_type": "stream",
     "text": [
      "100%|██████████| 1247/1247 [01:35<00:00, 13.10it/s]"
     ]
    },
    {
     "name": "stdout",
     "output_type": "stream",
     "text": [
      "2024-09-02 06:01:13,762 140564686231360 2644694426.py[line:2] - INFO: test for new nodes\n"
     ]
    },
    {
     "name": "stderr",
     "output_type": "stream",
     "text": [
      "\n",
      " 51%|█████▏    | 642/1247 [00:53<00:49, 12.19it/s]"
     ]
    }
   ],
   "source": [
    "new_center = update_center( test_src_l, test_dst_l,test_ts_l,lbg,num_instance,num_batch).to(device)\n",
    "new_redlinks = test('test for new nodes', lbg, R, num_instance, test_src_l, test_dst_l, test_ts_l, test_label_l,new_center)"
   ]
  },
  {
   "cell_type": "code",
   "execution_count": null,
   "id": "710d1d84-d330-4510-9465-72633c9b1f42",
   "metadata": {},
   "outputs": [],
   "source": []
  }
 ],
 "metadata": {
  "kernelspec": {
   "display_name": "Python [conda env:cybersim] *",
   "language": "python",
   "name": "conda-env-cybersim-py"
  },
  "language_info": {
   "codemirror_mode": {
    "name": "ipython",
    "version": 3
   },
   "file_extension": ".py",
   "mimetype": "text/x-python",
   "name": "python",
   "nbconvert_exporter": "python",
   "pygments_lexer": "ipython3",
   "version": "3.9.19"
  }
 },
 "nbformat": 4,
 "nbformat_minor": 5
}

{
 "cells": [
  {
   "cell_type": "code",
   "execution_count": 1,
   "id": "7b641453-5315-406a-aa32-57018bca20ee",
   "metadata": {
    "pycharm": {
     "is_executing": true
    }
   },
   "outputs": [
    {
     "name": "stdout",
     "output_type": "stream",
     "text": [
      "2023-03-11 00:27:19,162 19860 1479355589.py[line:98] - INFO: \n",
      "---------------------------------------new start training--------------------------------------\n",
      "\n",
      "2023-03-11 00:27:19,168 19860 1479355589.py[line:99] - INFO: parameter,ADGAT_EPOCHS:150,BATCH_SIZE:2000,NUM_LAYER:1\n",
      "2023-03-11 00:27:19,169 19860 1479355589.py[line:100] - INFO: parameter,NUM_NEIGHBORS:200,NUM_HEADS:16,DROP_OUT:0.1,input_feat:128\n",
      "2023-03-11 00:27:19,171 19860 1479355589.py[line:101] - INFO: nu:1e-05,att_feat:4,warm_up_n_epochs:5\n",
      "2023-03-11 00:27:19,172 19860 1479355589.py[line:109] - INFO: current file:./auth/opt_TUDCC3.txt\n",
      "2023-03-11 00:27:19,256 19860 1479355589.py[line:113] - INFO: gpu cuda is available!\n",
      "2023-03-11 00:27:26,580 19860 1479355589.py[line:224] - INFO: Finish Loading Data\n",
      "2023-03-11 00:27:27,018 19860 1479355589.py[line:250] - INFO: num of training instances: 72717\n",
      "2023-03-11 00:27:27,019 19860 1479355589.py[line:251] - INFO: num of batches per epoch: 37\n",
      "2023-03-11 00:27:27,026 19860 1479355589.py[line:252] - INFO: num of red team: 0\n"
     ]
    },
    {
     "name": "stderr",
     "output_type": "stream",
     "text": [
      "100%|██████████████████████████████████████████████████████████████████████████████████| 37/37 [00:10<00:00,  3.51it/s]"
     ]
    },
    {
     "name": "stdout",
     "output_type": "stream",
     "text": [
      "2023-03-11 00:27:37,581 19860 1479355589.py[line:306] - INFO: start 0 epoch\n"
     ]
    },
    {
     "name": "stderr",
     "output_type": "stream",
     "text": [
      "\n",
      "100%|██████████████████████████████████████████████████████████████████████████████████| 37/37 [00:08<00:00,  4.11it/s]\n"
     ]
    },
    {
     "name": "stdout",
     "output_type": "stream",
     "text": [
      "2023-03-11 00:27:46,805 19860 1479355589.py[line:347] - INFO: Epoch mean loss: 97.83767329035578\n",
      "2023-03-11 00:27:46,807 19860 1479355589.py[line:348] - INFO: warm_up_n_epochs:5\n",
      "2023-03-11 00:27:46,819 19860 1479355589.py[line:349] - INFO: Confusion Matrix:[[    0 72716]\n",
      " [    0     0]]\n",
      "2023-03-11 00:27:46,826 19860 1479355589.py[line:350] - INFO: FPR: 1.0\n",
      "2023-03-11 00:27:46,831 19860 1479355589.py[line:351] - INFO: TPR: nan\n",
      "2023-03-11 00:27:46,836 19860 1479355589.py[line:352] - INFO: test RR: 16.419602322961122\n",
      "last_best,best_epoch 97.83767329035578 0\n",
      "2023-03-11 00:27:47,002 19860 1479355589.py[line:306] - INFO: start 1 epoch\n"
     ]
    },
    {
     "name": "stderr",
     "output_type": "stream",
     "text": [
      "C:\\Users\\hxr\\AppData\\Local\\Temp\\2\\ipykernel_20156\\1479355589.py:346: RuntimeWarning: invalid value encountered in longlong_scalars\n",
      "  TPR = tp / (tp + fn)\n",
      "100%|██████████████████████████████████████████████████████████████████████████████████| 37/37 [00:09<00:00,  4.04it/s]\n"
     ]
    },
    {
     "name": "stdout",
     "output_type": "stream",
     "text": [
      "2023-03-11 00:27:56,398 19860 1479355589.py[line:347] - INFO: Epoch mean loss: 63.263083380621836\n",
      "2023-03-11 00:27:56,412 19860 1479355589.py[line:348] - INFO: warm_up_n_epochs:5\n",
      "2023-03-11 00:27:56,432 19860 1479355589.py[line:349] - INFO: Confusion Matrix:[[    0 72716]\n",
      " [    0     0]]\n",
      "2023-03-11 00:27:56,445 19860 1479355589.py[line:350] - INFO: FPR: 1.0\n",
      "2023-03-11 00:27:56,454 19860 1479355589.py[line:351] - INFO: TPR: nan\n",
      "2023-03-11 00:27:56,460 19860 1479355589.py[line:352] - INFO: test RR: 13.217774391079715\n",
      "last_best,best_epoch 63.263083380621836 1\n",
      "2023-03-11 00:27:56,595 19860 1479355589.py[line:306] - INFO: start 2 epoch\n"
     ]
    },
    {
     "name": "stderr",
     "output_type": "stream",
     "text": [
      "C:\\Users\\hxr\\AppData\\Local\\Temp\\2\\ipykernel_20156\\1479355589.py:346: RuntimeWarning: invalid value encountered in longlong_scalars\n",
      "  TPR = tp / (tp + fn)\n",
      "100%|██████████████████████████████████████████████████████████████████████████████████| 37/37 [00:08<00:00,  4.29it/s]\n"
     ]
    },
    {
     "name": "stdout",
     "output_type": "stream",
     "text": [
      "2023-03-11 00:28:05,460 19860 1479355589.py[line:347] - INFO: Epoch mean loss: 53.22497001854149\n",
      "2023-03-11 00:28:05,461 19860 1479355589.py[line:348] - INFO: warm_up_n_epochs:5\n",
      "2023-03-11 00:28:05,472 19860 1479355589.py[line:349] - INFO: Confusion Matrix:[[    0 72716]\n",
      " [    0     0]]\n",
      "2023-03-11 00:28:05,473 19860 1479355589.py[line:350] - INFO: FPR: 1.0\n",
      "2023-03-11 00:28:05,475 19860 1479355589.py[line:351] - INFO: TPR: nan\n",
      "2023-03-11 00:28:05,476 19860 1479355589.py[line:352] - INFO: test RR: 12.664147391177034\n"
     ]
    },
    {
     "name": "stderr",
     "output_type": "stream",
     "text": [
      "C:\\Users\\hxr\\AppData\\Local\\Temp\\2\\ipykernel_20156\\1479355589.py:346: RuntimeWarning: invalid value encountered in longlong_scalars\n",
      "  TPR = tp / (tp + fn)\n"
     ]
    },
    {
     "name": "stdout",
     "output_type": "stream",
     "text": [
      "last_best,best_epoch 53.22497001854149 2\n",
      "2023-03-11 00:28:05,736 19860 1479355589.py[line:306] - INFO: start 3 epoch\n"
     ]
    },
    {
     "name": "stderr",
     "output_type": "stream",
     "text": [
      "100%|██████████████████████████████████████████████████████████████████████████████████| 37/37 [00:08<00:00,  4.30it/s]\n"
     ]
    },
    {
     "name": "stdout",
     "output_type": "stream",
     "text": [
      "2023-03-11 00:28:14,570 19860 1479355589.py[line:347] - INFO: Epoch mean loss: 48.34187533404376\n",
      "2023-03-11 00:28:14,577 19860 1479355589.py[line:348] - INFO: warm_up_n_epochs:5\n",
      "2023-03-11 00:28:14,593 19860 1479355589.py[line:349] - INFO: Confusion Matrix:[[    0 72716]\n",
      " [    0     0]]\n",
      "2023-03-11 00:28:14,595 19860 1479355589.py[line:350] - INFO: FPR: 1.0\n",
      "2023-03-11 00:28:14,598 19860 1479355589.py[line:351] - INFO: TPR: nan\n",
      "2023-03-11 00:28:14,600 19860 1479355589.py[line:352] - INFO: test RR: 12.879759592395436\n",
      "last_best,best_epoch 48.34187533404376 3\n",
      "2023-03-11 00:28:14,745 19860 1479355589.py[line:306] - INFO: start 4 epoch\n"
     ]
    },
    {
     "name": "stderr",
     "output_type": "stream",
     "text": [
      "C:\\Users\\hxr\\AppData\\Local\\Temp\\2\\ipykernel_20156\\1479355589.py:346: RuntimeWarning: invalid value encountered in longlong_scalars\n",
      "  TPR = tp / (tp + fn)\n",
      "100%|██████████████████████████████████████████████████████████████████████████████████| 37/37 [00:08<00:00,  4.37it/s]\n"
     ]
    },
    {
     "name": "stdout",
     "output_type": "stream",
     "text": [
      "2023-03-11 00:28:23,525 19860 1479355589.py[line:347] - INFO: Epoch mean loss: 44.589009156098236\n",
      "2023-03-11 00:28:23,536 19860 1479355589.py[line:348] - INFO: warm_up_n_epochs:5\n",
      "2023-03-11 00:28:23,559 19860 1479355589.py[line:349] - INFO: Confusion Matrix:[[    0 72716]\n",
      " [    0     0]]\n",
      "2023-03-11 00:28:23,562 19860 1479355589.py[line:350] - INFO: FPR: 1.0\n",
      "2023-03-11 00:28:23,566 19860 1479355589.py[line:351] - INFO: TPR: nan\n",
      "2023-03-11 00:28:23,567 19860 1479355589.py[line:352] - INFO: test RR: 12.208815589196163\n",
      "last_best,best_epoch 44.589009156098236 4\n",
      "2023-03-11 00:28:23,718 19860 1479355589.py[line:306] - INFO: start 5 epoch\n"
     ]
    },
    {
     "name": "stderr",
     "output_type": "stream",
     "text": [
      "C:\\Users\\hxr\\AppData\\Local\\Temp\\2\\ipykernel_20156\\1479355589.py:346: RuntimeWarning: invalid value encountered in longlong_scalars\n",
      "  TPR = tp / (tp + fn)\n",
      "100%|██████████████████████████████████████████████████████████████████████████████████| 37/37 [00:08<00:00,  4.33it/s]\n"
     ]
    },
    {
     "name": "stdout",
     "output_type": "stream",
     "text": [
      "2023-03-11 00:28:32,500 19860 1479355589.py[line:347] - INFO: Epoch mean loss: 42.61317495397619\n",
      "2023-03-11 00:28:32,504 19860 1479355589.py[line:348] - INFO: warm_up_n_epochs:5\n",
      "2023-03-11 00:28:32,516 19860 1479355589.py[line:349] - INFO: Confusion Matrix:[[    0 72716]\n",
      " [    0     0]]\n",
      "2023-03-11 00:28:32,522 19860 1479355589.py[line:350] - INFO: FPR: 1.0\n",
      "2023-03-11 00:28:32,527 19860 1479355589.py[line:351] - INFO: TPR: nan\n",
      "2023-03-11 00:28:32,533 19860 1479355589.py[line:352] - INFO: test RR: 12.160143473864528\n",
      "last_best,best_epoch 42.61317495397619 5\n",
      "2023-03-11 00:28:32,688 19860 1479355589.py[line:306] - INFO: start 6 epoch\n"
     ]
    },
    {
     "name": "stderr",
     "output_type": "stream",
     "text": [
      "C:\\Users\\hxr\\AppData\\Local\\Temp\\2\\ipykernel_20156\\1479355589.py:346: RuntimeWarning: invalid value encountered in longlong_scalars\n",
      "  TPR = tp / (tp + fn)\n",
      "100%|██████████████████████████████████████████████████████████████████████████████████| 37/37 [00:08<00:00,  4.29it/s]\n"
     ]
    },
    {
     "name": "stdout",
     "output_type": "stream",
     "text": [
      "2023-03-11 00:28:41,550 19860 1479355589.py[line:347] - INFO: Epoch mean loss: 40.0758740193135\n",
      "2023-03-11 00:28:41,552 19860 1479355589.py[line:348] - INFO: warm_up_n_epochs:5\n",
      "2023-03-11 00:28:41,564 19860 1479355589.py[line:349] - INFO: Confusion Matrix:[[    0 72716]\n",
      " [    0     0]]\n",
      "2023-03-11 00:28:41,566 19860 1479355589.py[line:350] - INFO: FPR: 1.0\n",
      "2023-03-11 00:28:41,567 19860 1479355589.py[line:351] - INFO: TPR: nan\n",
      "2023-03-11 00:28:41,568 19860 1479355589.py[line:352] - INFO: test RR: 12.586955301047885\n",
      "last_best,best_epoch 40.0758740193135 6\n",
      "2023-03-11 00:28:41,713 19860 1479355589.py[line:306] - INFO: start 7 epoch\n"
     ]
    },
    {
     "name": "stderr",
     "output_type": "stream",
     "text": [
      "C:\\Users\\hxr\\AppData\\Local\\Temp\\2\\ipykernel_20156\\1479355589.py:346: RuntimeWarning: invalid value encountered in longlong_scalars\n",
      "  TPR = tp / (tp + fn)\n",
      "100%|██████████████████████████████████████████████████████████████████████████████████| 37/37 [00:08<00:00,  4.26it/s]\n"
     ]
    },
    {
     "name": "stdout",
     "output_type": "stream",
     "text": [
      "2023-03-11 00:28:50,645 19860 1479355589.py[line:347] - INFO: Epoch mean loss: 37.72538427404455\n",
      "2023-03-11 00:28:50,647 19860 1479355589.py[line:348] - INFO: warm_up_n_epochs:5\n",
      "2023-03-11 00:28:50,657 19860 1479355589.py[line:349] - INFO: Confusion Matrix:[[    0 72716]\n",
      " [    0     0]]\n",
      "2023-03-11 00:28:50,659 19860 1479355589.py[line:350] - INFO: FPR: 1.0\n",
      "2023-03-11 00:28:50,660 19860 1479355589.py[line:351] - INFO: TPR: nan\n",
      "2023-03-11 00:28:50,661 19860 1479355589.py[line:352] - INFO: test RR: 11.853430498192072\n",
      "last_best,best_epoch 37.72538427404455 7\n",
      "2023-03-11 00:28:50,807 19860 1479355589.py[line:306] - INFO: start 8 epoch\n"
     ]
    },
    {
     "name": "stderr",
     "output_type": "stream",
     "text": [
      "C:\\Users\\hxr\\AppData\\Local\\Temp\\2\\ipykernel_20156\\1479355589.py:346: RuntimeWarning: invalid value encountered in longlong_scalars\n",
      "  TPR = tp / (tp + fn)\n",
      "100%|██████████████████████████████████████████████████████████████████████████████████| 37/37 [00:08<00:00,  4.29it/s]\n"
     ]
    },
    {
     "name": "stdout",
     "output_type": "stream",
     "text": [
      "2023-03-11 00:28:59,684 19860 1479355589.py[line:347] - INFO: Epoch mean loss: 37.043333826838314\n",
      "2023-03-11 00:28:59,687 19860 1479355589.py[line:348] - INFO: warm_up_n_epochs:5\n",
      "2023-03-11 00:28:59,704 19860 1479355589.py[line:349] - INFO: Confusion Matrix:[[    0 72716]\n",
      " [    0     0]]\n",
      "2023-03-11 00:28:59,709 19860 1479355589.py[line:350] - INFO: FPR: 1.0\n",
      "2023-03-11 00:28:59,713 19860 1479355589.py[line:351] - INFO: TPR: nan\n",
      "2023-03-11 00:28:59,717 19860 1479355589.py[line:352] - INFO: test RR: 12.728293451030439\n",
      "last_best,best_epoch 37.043333826838314 8\n",
      "2023-03-11 00:28:59,860 19860 1479355589.py[line:306] - INFO: start 9 epoch\n"
     ]
    },
    {
     "name": "stderr",
     "output_type": "stream",
     "text": [
      "C:\\Users\\hxr\\AppData\\Local\\Temp\\2\\ipykernel_20156\\1479355589.py:346: RuntimeWarning: invalid value encountered in longlong_scalars\n",
      "  TPR = tp / (tp + fn)\n",
      "100%|██████████████████████████████████████████████████████████████████████████████████| 37/37 [00:08<00:00,  4.40it/s]\n"
     ]
    },
    {
     "name": "stdout",
     "output_type": "stream",
     "text": [
      "2023-03-11 00:29:08,489 19860 1479355589.py[line:347] - INFO: Epoch mean loss: 35.68194879067911\n",
      "2023-03-11 00:29:08,490 19860 1479355589.py[line:348] - INFO: warm_up_n_epochs:5\n",
      "2023-03-11 00:29:08,500 19860 1479355589.py[line:349] - INFO: Confusion Matrix:[[    0 72716]\n",
      " [    0     0]]\n",
      "2023-03-11 00:29:08,501 19860 1479355589.py[line:350] - INFO: FPR: 1.0\n",
      "2023-03-11 00:29:08,503 19860 1479355589.py[line:351] - INFO: TPR: nan\n",
      "2023-03-11 00:29:08,504 19860 1479355589.py[line:352] - INFO: test RR: 12.443179085269513\n",
      "last_best,best_epoch 35.68194879067911 9\n",
      "2023-03-11 00:29:08,637 19860 1479355589.py[line:306] - INFO: start 10 epoch\n"
     ]
    },
    {
     "name": "stderr",
     "output_type": "stream",
     "text": [
      "C:\\Users\\hxr\\AppData\\Local\\Temp\\2\\ipykernel_20156\\1479355589.py:346: RuntimeWarning: invalid value encountered in longlong_scalars\n",
      "  TPR = tp / (tp + fn)\n",
      "100%|██████████████████████████████████████████████████████████████████████████████████| 37/37 [00:08<00:00,  4.36it/s]\n"
     ]
    },
    {
     "name": "stdout",
     "output_type": "stream",
     "text": [
      "2023-03-11 00:29:17,350 19860 1479355589.py[line:347] - INFO: Epoch mean loss: 33.56486923630173\n",
      "2023-03-11 00:29:17,352 19860 1479355589.py[line:348] - INFO: warm_up_n_epochs:5\n",
      "2023-03-11 00:29:17,362 19860 1479355589.py[line:349] - INFO: Confusion Matrix:[[    0 72716]\n",
      " [    0     0]]\n",
      "2023-03-11 00:29:17,363 19860 1479355589.py[line:350] - INFO: FPR: 1.0\n",
      "2023-03-11 00:29:17,364 19860 1479355589.py[line:351] - INFO: TPR: nan\n",
      "2023-03-11 00:29:17,365 19860 1479355589.py[line:352] - INFO: test RR: 12.767331590535873\n",
      "last_best,best_epoch 33.56486923630173 10\n",
      "2023-03-11 00:29:17,497 19860 1479355589.py[line:306] - INFO: start 11 epoch\n"
     ]
    },
    {
     "name": "stderr",
     "output_type": "stream",
     "text": [
      "C:\\Users\\hxr\\AppData\\Local\\Temp\\2\\ipykernel_20156\\1479355589.py:346: RuntimeWarning: invalid value encountered in longlong_scalars\n",
      "  TPR = tp / (tp + fn)\n",
      "100%|██████████████████████████████████████████████████████████████████████████████████| 37/37 [00:08<00:00,  4.23it/s]\n"
     ]
    },
    {
     "name": "stdout",
     "output_type": "stream",
     "text": [
      "2023-03-11 00:29:26,487 19860 1479355589.py[line:347] - INFO: Epoch mean loss: 31.92556381225586\n",
      "2023-03-11 00:29:26,491 19860 1479355589.py[line:348] - INFO: warm_up_n_epochs:5\n",
      "2023-03-11 00:29:26,511 19860 1479355589.py[line:349] - INFO: Confusion Matrix:[[    0 72716]\n",
      " [    0     0]]\n",
      "2023-03-11 00:29:26,515 19860 1479355589.py[line:350] - INFO: FPR: 1.0\n",
      "2023-03-11 00:29:26,524 19860 1479355589.py[line:351] - INFO: TPR: nan\n",
      "2023-03-11 00:29:26,531 19860 1479355589.py[line:352] - INFO: test RR: 12.360384942540296\n",
      "last_best,best_epoch 31.92556381225586 11\n",
      "2023-03-11 00:29:26,667 19860 1479355589.py[line:306] - INFO: start 12 epoch\n"
     ]
    },
    {
     "name": "stderr",
     "output_type": "stream",
     "text": [
      "C:\\Users\\hxr\\AppData\\Local\\Temp\\2\\ipykernel_20156\\1479355589.py:346: RuntimeWarning: invalid value encountered in longlong_scalars\n",
      "  TPR = tp / (tp + fn)\n",
      "100%|██████████████████████████████████████████████████████████████████████████████████| 37/37 [00:08<00:00,  4.39it/s]\n"
     ]
    },
    {
     "name": "stdout",
     "output_type": "stream",
     "text": [
      "2023-03-11 00:29:35,314 19860 1479355589.py[line:347] - INFO: Epoch mean loss: 30.71113818400615\n",
      "2023-03-11 00:29:35,315 19860 1479355589.py[line:348] - INFO: warm_up_n_epochs:5\n",
      "2023-03-11 00:29:35,327 19860 1479355589.py[line:349] - INFO: Confusion Matrix:[[    0 72716]\n",
      " [    0     0]]\n",
      "2023-03-11 00:29:35,328 19860 1479355589.py[line:350] - INFO: FPR: 1.0\n",
      "2023-03-11 00:29:35,330 19860 1479355589.py[line:351] - INFO: TPR: nan\n",
      "2023-03-11 00:29:35,331 19860 1479355589.py[line:352] - INFO: test RR: 12.180104456475865\n",
      "last_best,best_epoch 30.71113818400615 12\n",
      "2023-03-11 00:29:35,466 19860 1479355589.py[line:306] - INFO: start 13 epoch\n"
     ]
    },
    {
     "name": "stderr",
     "output_type": "stream",
     "text": [
      "C:\\Users\\hxr\\AppData\\Local\\Temp\\2\\ipykernel_20156\\1479355589.py:346: RuntimeWarning: invalid value encountered in longlong_scalars\n",
      "  TPR = tp / (tp + fn)\n",
      "100%|██████████████████████████████████████████████████████████████████████████████████| 37/37 [00:08<00:00,  4.31it/s]\n"
     ]
    },
    {
     "name": "stdout",
     "output_type": "stream",
     "text": [
      "2023-03-11 00:29:44,275 19860 1479355589.py[line:347] - INFO: Epoch mean loss: 29.0108020370071\n",
      "2023-03-11 00:29:44,280 19860 1479355589.py[line:348] - INFO: warm_up_n_epochs:5\n",
      "2023-03-11 00:29:44,294 19860 1479355589.py[line:349] - INFO: Confusion Matrix:[[    0 72716]\n",
      " [    0     0]]\n",
      "2023-03-11 00:29:44,298 19860 1479355589.py[line:350] - INFO: FPR: 1.0\n",
      "2023-03-11 00:29:44,305 19860 1479355589.py[line:351] - INFO: TPR: nan\n",
      "2023-03-11 00:29:44,309 19860 1479355589.py[line:352] - INFO: test RR: 13.160554704431952\n",
      "last_best,best_epoch 29.0108020370071 13\n",
      "2023-03-11 00:29:44,451 19860 1479355589.py[line:306] - INFO: start 14 epoch\n"
     ]
    },
    {
     "name": "stderr",
     "output_type": "stream",
     "text": [
      "C:\\Users\\hxr\\AppData\\Local\\Temp\\2\\ipykernel_20156\\1479355589.py:346: RuntimeWarning: invalid value encountered in longlong_scalars\n",
      "  TPR = tp / (tp + fn)\n",
      "100%|██████████████████████████████████████████████████████████████████████████████████| 37/37 [00:08<00:00,  4.41it/s]\n"
     ]
    },
    {
     "name": "stdout",
     "output_type": "stream",
     "text": [
      "2023-03-11 00:29:53,051 19860 1479355589.py[line:347] - INFO: Epoch mean loss: 27.580763945708405\n",
      "2023-03-11 00:29:53,054 19860 1479355589.py[line:348] - INFO: warm_up_n_epochs:5\n",
      "2023-03-11 00:29:53,069 19860 1479355589.py[line:349] - INFO: Confusion Matrix:[[    0 72716]\n",
      " [    0     0]]\n",
      "2023-03-11 00:29:53,094 19860 1479355589.py[line:350] - INFO: FPR: 1.0\n",
      "2023-03-11 00:29:53,096 19860 1479355589.py[line:351] - INFO: TPR: nan\n",
      "2023-03-11 00:29:53,099 19860 1479355589.py[line:352] - INFO: test RR: 12.14732919569575\n",
      "last_best,best_epoch 27.580763945708405 14\n",
      "2023-03-11 00:29:53,234 19860 1479355589.py[line:306] - INFO: start 15 epoch\n"
     ]
    },
    {
     "name": "stderr",
     "output_type": "stream",
     "text": [
      "C:\\Users\\hxr\\AppData\\Local\\Temp\\2\\ipykernel_20156\\1479355589.py:346: RuntimeWarning: invalid value encountered in longlong_scalars\n",
      "  TPR = tp / (tp + fn)\n",
      "100%|██████████████████████████████████████████████████████████████████████████████████| 37/37 [00:08<00:00,  4.29it/s]\n"
     ]
    },
    {
     "name": "stdout",
     "output_type": "stream",
     "text": [
      "2023-03-11 00:30:02,085 19860 1479355589.py[line:347] - INFO: Epoch mean loss: 26.5131812224517\n",
      "2023-03-11 00:30:02,087 19860 1479355589.py[line:348] - INFO: warm_up_n_epochs:5\n",
      "2023-03-11 00:30:02,098 19860 1479355589.py[line:349] - INFO: Confusion Matrix:[[    0 72716]\n",
      " [    0     0]]\n",
      "2023-03-11 00:30:02,100 19860 1479355589.py[line:350] - INFO: FPR: 1.0\n",
      "2023-03-11 00:30:02,101 19860 1479355589.py[line:351] - INFO: TPR: nan\n",
      "2023-03-11 00:30:02,102 19860 1479355589.py[line:352] - INFO: test RR: 12.956940885026892\n",
      "last_best,best_epoch 26.5131812224517 15\n",
      "2023-03-11 00:30:02,239 19860 1479355589.py[line:306] - INFO: start 16 epoch\n"
     ]
    },
    {
     "name": "stderr",
     "output_type": "stream",
     "text": [
      "C:\\Users\\hxr\\AppData\\Local\\Temp\\2\\ipykernel_20156\\1479355589.py:346: RuntimeWarning: invalid value encountered in longlong_scalars\n",
      "  TPR = tp / (tp + fn)\n",
      "100%|██████████████████████████████████████████████████████████████████████████████████| 37/37 [00:08<00:00,  4.44it/s]\n"
     ]
    },
    {
     "name": "stdout",
     "output_type": "stream",
     "text": [
      "2023-03-11 00:30:10,807 19860 1479355589.py[line:347] - INFO: Epoch mean loss: 24.862457945540143\n",
      "2023-03-11 00:30:10,808 19860 1479355589.py[line:348] - INFO: warm_up_n_epochs:5\n",
      "2023-03-11 00:30:10,819 19860 1479355589.py[line:349] - INFO: Confusion Matrix:[[    0 72716]\n",
      " [    0     0]]\n",
      "2023-03-11 00:30:10,820 19860 1479355589.py[line:350] - INFO: FPR: 1.0\n",
      "2023-03-11 00:30:10,821 19860 1479355589.py[line:351] - INFO: TPR: nan\n",
      "2023-03-11 00:30:10,822 19860 1479355589.py[line:352] - INFO: test RR: 11.909277444279478\n"
     ]
    },
    {
     "name": "stderr",
     "output_type": "stream",
     "text": [
      "C:\\Users\\hxr\\AppData\\Local\\Temp\\2\\ipykernel_20156\\1479355589.py:346: RuntimeWarning: invalid value encountered in longlong_scalars\n",
      "  TPR = tp / (tp + fn)\n"
     ]
    },
    {
     "name": "stdout",
     "output_type": "stream",
     "text": [
      "last_best,best_epoch 24.862457945540143 16\n",
      "2023-03-11 00:30:11,023 19860 1479355589.py[line:306] - INFO: start 17 epoch\n"
     ]
    },
    {
     "name": "stderr",
     "output_type": "stream",
     "text": [
      "100%|██████████████████████████████████████████████████████████████████████████████████| 37/37 [00:08<00:00,  4.33it/s]\n"
     ]
    },
    {
     "name": "stdout",
     "output_type": "stream",
     "text": [
      "2023-03-11 00:30:19,800 19860 1479355589.py[line:347] - INFO: Epoch mean loss: 23.46189153516615\n",
      "2023-03-11 00:30:19,811 19860 1479355589.py[line:348] - INFO: warm_up_n_epochs:5\n",
      "2023-03-11 00:30:19,824 19860 1479355589.py[line:349] - INFO: Confusion Matrix:[[    0 72716]\n",
      " [    0     0]]\n",
      "2023-03-11 00:30:19,832 19860 1479355589.py[line:350] - INFO: FPR: 1.0\n",
      "2023-03-11 00:30:19,837 19860 1479355589.py[line:351] - INFO: TPR: nan\n",
      "2023-03-11 00:30:19,843 19860 1479355589.py[line:352] - INFO: test RR: 11.824473015561951\n",
      "last_best,best_epoch 23.46189153516615 17\n",
      "2023-03-11 00:30:19,991 19860 1479355589.py[line:306] - INFO: start 18 epoch\n"
     ]
    },
    {
     "name": "stderr",
     "output_type": "stream",
     "text": [
      "C:\\Users\\hxr\\AppData\\Local\\Temp\\2\\ipykernel_20156\\1479355589.py:346: RuntimeWarning: invalid value encountered in longlong_scalars\n",
      "  TPR = tp / (tp + fn)\n",
      "100%|██████████████████████████████████████████████████████████████████████████████████| 37/37 [00:08<00:00,  4.33it/s]\n"
     ]
    },
    {
     "name": "stdout",
     "output_type": "stream",
     "text": [
      "2023-03-11 00:30:28,759 19860 1479355589.py[line:347] - INFO: Epoch mean loss: 22.600684810329128\n",
      "2023-03-11 00:30:28,767 19860 1479355589.py[line:348] - INFO: warm_up_n_epochs:5\n",
      "2023-03-11 00:30:28,782 19860 1479355589.py[line:349] - INFO: Confusion Matrix:[[    0 72716]\n",
      " [    0     0]]\n",
      "2023-03-11 00:30:28,785 19860 1479355589.py[line:350] - INFO: FPR: 1.0\n",
      "2023-03-11 00:30:28,791 19860 1479355589.py[line:351] - INFO: TPR: nan\n",
      "2023-03-11 00:30:28,794 19860 1479355589.py[line:352] - INFO: test RR: 11.208774463320353\n",
      "last_best,best_epoch 22.600684810329128 18\n",
      "2023-03-11 00:30:28,944 19860 1479355589.py[line:306] - INFO: start 19 epoch\n"
     ]
    },
    {
     "name": "stderr",
     "output_type": "stream",
     "text": [
      "C:\\Users\\hxr\\AppData\\Local\\Temp\\2\\ipykernel_20156\\1479355589.py:346: RuntimeWarning: invalid value encountered in longlong_scalars\n",
      "  TPR = tp / (tp + fn)\n",
      "100%|██████████████████████████████████████████████████████████████████████████████████| 37/37 [00:08<00:00,  4.28it/s]\n"
     ]
    },
    {
     "name": "stdout",
     "output_type": "stream",
     "text": [
      "2023-03-11 00:30:37,844 19860 1479355589.py[line:347] - INFO: Epoch mean loss: 21.229566934946423\n",
      "2023-03-11 00:30:37,854 19860 1479355589.py[line:348] - INFO: warm_up_n_epochs:5\n",
      "2023-03-11 00:30:37,867 19860 1479355589.py[line:349] - INFO: Confusion Matrix:[[    0 72716]\n",
      " [    0     0]]\n",
      "2023-03-11 00:30:37,872 19860 1479355589.py[line:350] - INFO: FPR: 1.0\n",
      "2023-03-11 00:30:37,876 19860 1479355589.py[line:351] - INFO: TPR: nan\n",
      "2023-03-11 00:30:37,880 19860 1479355589.py[line:352] - INFO: test RR: 11.003249832346196\n",
      "last_best,best_epoch 21.229566934946423 19\n",
      "2023-03-11 00:30:38,021 19860 1479355589.py[line:306] - INFO: start 20 epoch\n"
     ]
    },
    {
     "name": "stderr",
     "output_type": "stream",
     "text": [
      "C:\\Users\\hxr\\AppData\\Local\\Temp\\2\\ipykernel_20156\\1479355589.py:346: RuntimeWarning: invalid value encountered in longlong_scalars\n",
      "  TPR = tp / (tp + fn)\n",
      "100%|██████████████████████████████████████████████████████████████████████████████████| 37/37 [00:08<00:00,  4.39it/s]\n"
     ]
    },
    {
     "name": "stdout",
     "output_type": "stream",
     "text": [
      "2023-03-11 00:30:46,670 19860 1479355589.py[line:347] - INFO: Epoch mean loss: 20.122063198605098\n",
      "2023-03-11 00:30:46,679 19860 1479355589.py[line:348] - INFO: warm_up_n_epochs:5\n",
      "2023-03-11 00:30:46,691 19860 1479355589.py[line:349] - INFO: Confusion Matrix:[[    0 72716]\n",
      " [    0     0]]\n",
      "2023-03-11 00:30:46,694 19860 1479355589.py[line:350] - INFO: FPR: 1.0\n",
      "2023-03-11 00:30:46,709 19860 1479355589.py[line:351] - INFO: TPR: nan\n",
      "2023-03-11 00:30:46,711 19860 1479355589.py[line:352] - INFO: test RR: 10.920731427623576\n",
      "last_best,best_epoch 20.122063198605098 20\n",
      "2023-03-11 00:30:46,867 19860 1479355589.py[line:306] - INFO: start 21 epoch\n"
     ]
    },
    {
     "name": "stderr",
     "output_type": "stream",
     "text": [
      "C:\\Users\\hxr\\AppData\\Local\\Temp\\2\\ipykernel_20156\\1479355589.py:346: RuntimeWarning: invalid value encountered in longlong_scalars\n",
      "  TPR = tp / (tp + fn)\n",
      "100%|██████████████████████████████████████████████████████████████████████████████████| 37/37 [00:08<00:00,  4.29it/s]\n"
     ]
    },
    {
     "name": "stdout",
     "output_type": "stream",
     "text": [
      "2023-03-11 00:30:55,749 19860 1479355589.py[line:347] - INFO: Epoch mean loss: 19.631585095379805\n",
      "2023-03-11 00:30:55,765 19860 1479355589.py[line:348] - INFO: warm_up_n_epochs:5\n",
      "2023-03-11 00:30:55,780 19860 1479355589.py[line:349] - INFO: Confusion Matrix:[[    5 72711]\n",
      " [    0     0]]\n",
      "2023-03-11 00:30:55,784 19860 1479355589.py[line:350] - INFO: FPR: 0.999931239342098\n",
      "2023-03-11 00:30:55,785 19860 1479355589.py[line:351] - INFO: TPR: nan\n",
      "2023-03-11 00:30:55,786 19860 1479355589.py[line:352] - INFO: test RR: 11.631589143850283\n",
      "last_best,best_epoch 19.631585095379805 21\n",
      "2023-03-11 00:30:55,928 19860 1479355589.py[line:306] - INFO: start 22 epoch\n"
     ]
    },
    {
     "name": "stderr",
     "output_type": "stream",
     "text": [
      "C:\\Users\\hxr\\AppData\\Local\\Temp\\2\\ipykernel_20156\\1479355589.py:346: RuntimeWarning: invalid value encountered in longlong_scalars\n",
      "  TPR = tp / (tp + fn)\n",
      "100%|██████████████████████████████████████████████████████████████████████████████████| 37/37 [00:08<00:00,  4.37it/s]\n"
     ]
    },
    {
     "name": "stdout",
     "output_type": "stream",
     "text": [
      "2023-03-11 00:31:04,616 19860 1479355589.py[line:347] - INFO: Epoch mean loss: 18.576121562236064\n",
      "2023-03-11 00:31:04,617 19860 1479355589.py[line:348] - INFO: warm_up_n_epochs:5\n",
      "2023-03-11 00:31:04,629 19860 1479355589.py[line:349] - INFO: Confusion Matrix:[[   59 72657]\n",
      " [    0     0]]\n",
      "2023-03-11 00:31:04,630 19860 1479355589.py[line:350] - INFO: FPR: 0.9991886242367567\n",
      "2023-03-11 00:31:04,632 19860 1479355589.py[line:351] - INFO: TPR: nan\n",
      "2023-03-11 00:31:04,633 19860 1479355589.py[line:352] - INFO: test RR: 11.582729164648187\n",
      "last_best,best_epoch 18.576121562236064 22\n",
      "2023-03-11 00:31:04,780 19860 1479355589.py[line:306] - INFO: start 23 epoch\n"
     ]
    },
    {
     "name": "stderr",
     "output_type": "stream",
     "text": [
      "C:\\Users\\hxr\\AppData\\Local\\Temp\\2\\ipykernel_20156\\1479355589.py:346: RuntimeWarning: invalid value encountered in longlong_scalars\n",
      "  TPR = tp / (tp + fn)\n",
      "100%|██████████████████████████████████████████████████████████████████████████████████| 37/37 [00:08<00:00,  4.35it/s]\n"
     ]
    },
    {
     "name": "stdout",
     "output_type": "stream",
     "text": [
      "2023-03-11 00:31:13,510 19860 1479355589.py[line:347] - INFO: Epoch mean loss: 17.368092459601325\n",
      "2023-03-11 00:31:13,512 19860 1479355589.py[line:348] - INFO: warm_up_n_epochs:5\n",
      "2023-03-11 00:31:13,523 19860 1479355589.py[line:349] - INFO: Confusion Matrix:[[   54 72662]\n",
      " [    0     0]]\n",
      "2023-03-11 00:31:13,525 19860 1479355589.py[line:350] - INFO: FPR: 0.9992573848946587\n",
      "2023-03-11 00:31:13,526 19860 1479355589.py[line:351] - INFO: TPR: nan\n",
      "2023-03-11 00:31:13,528 19860 1479355589.py[line:352] - INFO: test RR: 10.832705604602207\n",
      "last_best,best_epoch 17.368092459601325 23\n",
      "2023-03-11 00:31:13,672 19860 1479355589.py[line:306] - INFO: start 24 epoch\n"
     ]
    },
    {
     "name": "stderr",
     "output_type": "stream",
     "text": [
      "C:\\Users\\hxr\\AppData\\Local\\Temp\\2\\ipykernel_20156\\1479355589.py:346: RuntimeWarning: invalid value encountered in longlong_scalars\n",
      "  TPR = tp / (tp + fn)\n",
      "100%|██████████████████████████████████████████████████████████████████████████████████| 37/37 [00:08<00:00,  4.32it/s]\n"
     ]
    },
    {
     "name": "stdout",
     "output_type": "stream",
     "text": [
      "2023-03-11 00:31:22,474 19860 1479355589.py[line:347] - INFO: Epoch mean loss: 16.217346449156064\n",
      "2023-03-11 00:31:22,483 19860 1479355589.py[line:348] - INFO: warm_up_n_epochs:5\n",
      "2023-03-11 00:31:22,500 19860 1479355589.py[line:349] - INFO: Confusion Matrix:[[ 3337 69379]\n",
      " [    0     0]]\n",
      "2023-03-11 00:31:22,502 19860 1479355589.py[line:350] - INFO: FPR: 0.954109136916222\n",
      "2023-03-11 00:31:22,503 19860 1479355589.py[line:351] - INFO: TPR: nan\n",
      "2023-03-11 00:31:22,504 19860 1479355589.py[line:352] - INFO: test RR: 11.769847197110657\n",
      "last_best,best_epoch 16.217346449156064 24\n",
      "2023-03-11 00:31:22,643 19860 1479355589.py[line:306] - INFO: start 25 epoch\n"
     ]
    },
    {
     "name": "stderr",
     "output_type": "stream",
     "text": [
      "C:\\Users\\hxr\\AppData\\Local\\Temp\\2\\ipykernel_20156\\1479355589.py:346: RuntimeWarning: invalid value encountered in longlong_scalars\n",
      "  TPR = tp / (tp + fn)\n",
      "100%|██████████████████████████████████████████████████████████████████████████████████| 37/37 [00:08<00:00,  4.34it/s]\n"
     ]
    },
    {
     "name": "stdout",
     "output_type": "stream",
     "text": [
      "2023-03-11 00:31:31,427 19860 1479355589.py[line:347] - INFO: Epoch mean loss: 15.471789463146314\n",
      "2023-03-11 00:31:31,428 19860 1479355589.py[line:348] - INFO: warm_up_n_epochs:5\n",
      "2023-03-11 00:31:31,439 19860 1479355589.py[line:349] - INFO: Confusion Matrix:[[ 1498 71218]\n",
      " [    0     0]]\n",
      "2023-03-11 00:31:31,440 19860 1479355589.py[line:350] - INFO: FPR: 0.9793993068925684\n",
      "2023-03-11 00:31:31,441 19860 1479355589.py[line:351] - INFO: TPR: nan\n",
      "2023-03-11 00:31:31,442 19860 1479355589.py[line:352] - INFO: test RR: 10.779208272936181\n",
      "last_best,best_epoch 15.471789463146314 25\n",
      "2023-03-11 00:31:31,602 19860 1479355589.py[line:306] - INFO: start 26 epoch\n"
     ]
    },
    {
     "name": "stderr",
     "output_type": "stream",
     "text": [
      "C:\\Users\\hxr\\AppData\\Local\\Temp\\2\\ipykernel_20156\\1479355589.py:346: RuntimeWarning: invalid value encountered in longlong_scalars\n",
      "  TPR = tp / (tp + fn)\n",
      "100%|██████████████████████████████████████████████████████████████████████████████████| 37/37 [00:08<00:00,  4.18it/s]\n"
     ]
    },
    {
     "name": "stdout",
     "output_type": "stream",
     "text": [
      "2023-03-11 00:31:40,685 19860 1479355589.py[line:347] - INFO: Epoch mean loss: 14.988900416606182\n",
      "2023-03-11 00:31:40,695 19860 1479355589.py[line:348] - INFO: warm_up_n_epochs:5\n",
      "2023-03-11 00:31:40,712 19860 1479355589.py[line:349] - INFO: Confusion Matrix:[[ 2571 70145]\n",
      " [    0     0]]\n",
      "2023-03-11 00:31:40,719 19860 1479355589.py[line:350] - INFO: FPR: 0.9646432697068046\n",
      "2023-03-11 00:31:40,722 19860 1479355589.py[line:351] - INFO: TPR: nan\n",
      "2023-03-11 00:31:40,728 19860 1479355589.py[line:352] - INFO: test RR: 10.75673839707475\n",
      "last_best,best_epoch 14.988900416606182 26\n",
      "2023-03-11 00:31:40,874 19860 1479355589.py[line:306] - INFO: start 27 epoch\n"
     ]
    },
    {
     "name": "stderr",
     "output_type": "stream",
     "text": [
      "C:\\Users\\hxr\\AppData\\Local\\Temp\\2\\ipykernel_20156\\1479355589.py:346: RuntimeWarning: invalid value encountered in longlong_scalars\n",
      "  TPR = tp / (tp + fn)\n",
      "100%|██████████████████████████████████████████████████████████████████████████████████| 37/37 [00:08<00:00,  4.30it/s]\n"
     ]
    },
    {
     "name": "stdout",
     "output_type": "stream",
     "text": [
      "2023-03-11 00:31:49,713 19860 1479355589.py[line:347] - INFO: Epoch mean loss: 14.226519945505503\n",
      "2023-03-11 00:31:49,717 19860 1479355589.py[line:348] - INFO: warm_up_n_epochs:5\n",
      "2023-03-11 00:31:49,733 19860 1479355589.py[line:349] - INFO: Confusion Matrix:[[ 3333 69383]\n",
      " [    0     0]]\n",
      "2023-03-11 00:31:49,740 19860 1479355589.py[line:350] - INFO: FPR: 0.9541641454425436\n",
      "2023-03-11 00:31:49,749 19860 1479355589.py[line:351] - INFO: TPR: nan\n",
      "2023-03-11 00:31:49,758 19860 1479355589.py[line:352] - INFO: test RR: 10.267917616375685\n",
      "last_best,best_epoch 14.226519945505503 27\n",
      "2023-03-11 00:31:49,908 19860 1479355589.py[line:306] - INFO: start 28 epoch\n"
     ]
    },
    {
     "name": "stderr",
     "output_type": "stream",
     "text": [
      "C:\\Users\\hxr\\AppData\\Local\\Temp\\2\\ipykernel_20156\\1479355589.py:346: RuntimeWarning: invalid value encountered in longlong_scalars\n",
      "  TPR = tp / (tp + fn)\n",
      "100%|██████████████████████████████████████████████████████████████████████████████████| 37/37 [00:08<00:00,  4.30it/s]\n"
     ]
    },
    {
     "name": "stdout",
     "output_type": "stream",
     "text": [
      "2023-03-11 00:31:58,754 19860 1479355589.py[line:347] - INFO: Epoch mean loss: 13.19032297907649\n",
      "2023-03-11 00:31:58,755 19860 1479355589.py[line:348] - INFO: warm_up_n_epochs:5\n",
      "2023-03-11 00:31:58,766 19860 1479355589.py[line:349] - INFO: Confusion Matrix:[[14060 58656]\n",
      " [    0     0]]\n",
      "2023-03-11 00:31:58,767 19860 1479355589.py[line:350] - INFO: FPR: 0.8066450299796468\n",
      "2023-03-11 00:31:58,768 19860 1479355589.py[line:351] - INFO: TPR: nan\n",
      "2023-03-11 00:31:58,770 19860 1479355589.py[line:352] - INFO: test RR: 10.419241473635179\n",
      "last_best,best_epoch 13.19032297907649 28\n",
      "2023-03-11 00:31:58,926 19860 1479355589.py[line:306] - INFO: start 29 epoch\n"
     ]
    },
    {
     "name": "stderr",
     "output_type": "stream",
     "text": [
      "C:\\Users\\hxr\\AppData\\Local\\Temp\\2\\ipykernel_20156\\1479355589.py:346: RuntimeWarning: invalid value encountered in longlong_scalars\n",
      "  TPR = tp / (tp + fn)\n",
      "100%|██████████████████████████████████████████████████████████████████████████████████| 37/37 [00:08<00:00,  4.12it/s]\n"
     ]
    },
    {
     "name": "stdout",
     "output_type": "stream",
     "text": [
      "2023-03-11 00:32:08,191 19860 1479355589.py[line:347] - INFO: Epoch mean loss: 12.538188135301745\n",
      "2023-03-11 00:32:08,199 19860 1479355589.py[line:348] - INFO: warm_up_n_epochs:5\n",
      "2023-03-11 00:32:08,222 19860 1479355589.py[line:349] - INFO: Confusion Matrix:[[22054 50662]\n",
      " [    0     0]]\n",
      "2023-03-11 00:32:08,223 19860 1479355589.py[line:350] - INFO: FPR: 0.6967104901259695\n",
      "2023-03-11 00:32:08,225 19860 1479355589.py[line:351] - INFO: TPR: nan\n",
      "2023-03-11 00:32:08,226 19860 1479355589.py[line:352] - INFO: test RR: 10.385094551902993\n"
     ]
    },
    {
     "name": "stderr",
     "output_type": "stream",
     "text": [
      "C:\\Users\\hxr\\AppData\\Local\\Temp\\2\\ipykernel_20156\\1479355589.py:346: RuntimeWarning: invalid value encountered in longlong_scalars\n",
      "  TPR = tp / (tp + fn)\n"
     ]
    },
    {
     "name": "stdout",
     "output_type": "stream",
     "text": [
      "last_best,best_epoch 12.538188135301745 29\n",
      "2023-03-11 00:32:08,450 19860 1479355589.py[line:306] - INFO: start 30 epoch\n"
     ]
    },
    {
     "name": "stderr",
     "output_type": "stream",
     "text": [
      "100%|██████████████████████████████████████████████████████████████████████████████████| 37/37 [00:08<00:00,  4.20it/s]\n"
     ]
    },
    {
     "name": "stdout",
     "output_type": "stream",
     "text": [
      "2023-03-11 00:32:17,493 19860 1479355589.py[line:347] - INFO: Epoch mean loss: 12.10624632964263\n",
      "2023-03-11 00:32:17,495 19860 1479355589.py[line:348] - INFO: warm_up_n_epochs:5\n",
      "2023-03-11 00:32:17,506 19860 1479355589.py[line:349] - INFO: Confusion Matrix:[[31080 41636]\n",
      " [    0     0]]\n",
      "2023-03-11 00:32:17,508 19860 1479355589.py[line:350] - INFO: FPR: 0.5725837504813246\n",
      "2023-03-11 00:32:17,509 19860 1479355589.py[line:351] - INFO: TPR: nan\n",
      "2023-03-11 00:32:17,511 19860 1479355589.py[line:352] - INFO: test RR: 10.516032939442782\n",
      "last_best,best_epoch 12.10624632964263 30\n",
      "2023-03-11 00:32:17,647 19860 1479355589.py[line:306] - INFO: start 31 epoch\n"
     ]
    },
    {
     "name": "stderr",
     "output_type": "stream",
     "text": [
      "C:\\Users\\hxr\\AppData\\Local\\Temp\\2\\ipykernel_20156\\1479355589.py:346: RuntimeWarning: invalid value encountered in longlong_scalars\n",
      "  TPR = tp / (tp + fn)\n",
      "100%|██████████████████████████████████████████████████████████████████████████████████| 37/37 [00:08<00:00,  4.34it/s]\n"
     ]
    },
    {
     "name": "stdout",
     "output_type": "stream",
     "text": [
      "2023-03-11 00:32:26,413 19860 1479355589.py[line:347] - INFO: Epoch mean loss: 11.216446618776065\n",
      "2023-03-11 00:32:26,419 19860 1479355589.py[line:348] - INFO: warm_up_n_epochs:5\n",
      "2023-03-11 00:32:26,441 19860 1479355589.py[line:349] - INFO: Confusion Matrix:[[49164 23552]\n",
      " [    0     0]]\n",
      "2023-03-11 00:32:26,449 19860 1479355589.py[line:350] - INFO: FPR: 0.32389020298146215\n",
      "2023-03-11 00:32:26,458 19860 1479355589.py[line:351] - INFO: TPR: nan\n",
      "2023-03-11 00:32:26,469 19860 1479355589.py[line:352] - INFO: test RR: 10.917488291793113\n"
     ]
    },
    {
     "name": "stderr",
     "output_type": "stream",
     "text": [
      "C:\\Users\\hxr\\AppData\\Local\\Temp\\2\\ipykernel_20156\\1479355589.py:346: RuntimeWarning: invalid value encountered in longlong_scalars\n",
      "  TPR = tp / (tp + fn)\n"
     ]
    },
    {
     "name": "stdout",
     "output_type": "stream",
     "text": [
      "last_best,best_epoch 11.216446618776065 31\n",
      "2023-03-11 00:32:26,616 19860 1479355589.py[line:306] - INFO: start 32 epoch\n"
     ]
    },
    {
     "name": "stderr",
     "output_type": "stream",
     "text": [
      "100%|██████████████████████████████████████████████████████████████████████████████████| 37/37 [00:08<00:00,  4.38it/s]\n"
     ]
    },
    {
     "name": "stdout",
     "output_type": "stream",
     "text": [
      "2023-03-11 00:32:35,280 19860 1479355589.py[line:347] - INFO: Epoch mean loss: 10.724478773168615\n",
      "2023-03-11 00:32:35,285 19860 1479355589.py[line:348] - INFO: warm_up_n_epochs:5\n",
      "2023-03-11 00:32:35,296 19860 1479355589.py[line:349] - INFO: Confusion Matrix:[[47614 25102]\n",
      " [    0     0]]\n",
      "2023-03-11 00:32:35,298 19860 1479355589.py[line:350] - INFO: FPR: 0.34520600693107434\n",
      "2023-03-11 00:32:35,301 19860 1479355589.py[line:351] - INFO: TPR: nan\n",
      "2023-03-11 00:32:35,303 19860 1479355589.py[line:352] - INFO: test RR: 10.271082164243845\n",
      "last_best,best_epoch 10.724478773168615 32\n",
      "2023-03-11 00:32:35,464 19860 1479355589.py[line:306] - INFO: start 33 epoch\n"
     ]
    },
    {
     "name": "stderr",
     "output_type": "stream",
     "text": [
      "C:\\Users\\hxr\\AppData\\Local\\Temp\\2\\ipykernel_20156\\1479355589.py:346: RuntimeWarning: invalid value encountered in longlong_scalars\n",
      "  TPR = tp / (tp + fn)\n",
      "100%|██████████████████████████████████████████████████████████████████████████████████| 37/37 [00:08<00:00,  4.30it/s]\n"
     ]
    },
    {
     "name": "stdout",
     "output_type": "stream",
     "text": [
      "2023-03-11 00:32:44,302 19860 1479355589.py[line:347] - INFO: Epoch mean loss: 10.228751878480654\n",
      "2023-03-11 00:32:44,303 19860 1479355589.py[line:348] - INFO: warm_up_n_epochs:5\n",
      "2023-03-11 00:32:44,318 19860 1479355589.py[line:349] - INFO: Confusion Matrix:[[45838 26878]\n",
      " [    0     0]]\n",
      "2023-03-11 00:32:44,320 19860 1479355589.py[line:350] - INFO: FPR: 0.3696297926178558\n",
      "2023-03-11 00:32:44,321 19860 1479355589.py[line:351] - INFO: TPR: nan\n",
      "2023-03-11 00:32:44,323 19860 1479355589.py[line:352] - INFO: test RR: 9.621689755678767\n",
      "last_best,best_epoch 10.228751878480654 33\n",
      "2023-03-11 00:32:44,470 19860 1479355589.py[line:306] - INFO: start 34 epoch\n"
     ]
    },
    {
     "name": "stderr",
     "output_type": "stream",
     "text": [
      "C:\\Users\\hxr\\AppData\\Local\\Temp\\2\\ipykernel_20156\\1479355589.py:346: RuntimeWarning: invalid value encountered in longlong_scalars\n",
      "  TPR = tp / (tp + fn)\n",
      "100%|██████████████████████████████████████████████████████████████████████████████████| 37/37 [00:08<00:00,  4.25it/s]\n"
     ]
    },
    {
     "name": "stdout",
     "output_type": "stream",
     "text": [
      "2023-03-11 00:32:53,399 19860 1479355589.py[line:347] - INFO: Epoch mean loss: 9.6863702567848\n",
      "2023-03-11 00:32:53,400 19860 1479355589.py[line:348] - INFO: warm_up_n_epochs:5\n",
      "2023-03-11 00:32:53,409 19860 1479355589.py[line:349] - INFO: Confusion Matrix:[[52538 20178]\n",
      " [    0     0]]\n",
      "2023-03-11 00:32:53,411 19860 1479355589.py[line:350] - INFO: FPR: 0.2774905110292095\n",
      "2023-03-11 00:32:53,412 19860 1479355589.py[line:351] - INFO: TPR: nan\n",
      "2023-03-11 00:32:53,413 19860 1479355589.py[line:352] - INFO: test RR: 9.678017177917614\n",
      "last_best,best_epoch 9.6863702567848 34\n",
      "2023-03-11 00:32:53,569 19860 1479355589.py[line:306] - INFO: start 35 epoch\n"
     ]
    },
    {
     "name": "stderr",
     "output_type": "stream",
     "text": [
      "C:\\Users\\hxr\\AppData\\Local\\Temp\\2\\ipykernel_20156\\1479355589.py:346: RuntimeWarning: invalid value encountered in longlong_scalars\n",
      "  TPR = tp / (tp + fn)\n",
      "100%|██████████████████████████████████████████████████████████████████████████████████| 37/37 [00:08<00:00,  4.36it/s]\n"
     ]
    },
    {
     "name": "stdout",
     "output_type": "stream",
     "text": [
      "2023-03-11 00:33:02,301 19860 1479355589.py[line:347] - INFO: Epoch mean loss: 9.279871064263421\n",
      "2023-03-11 00:33:02,303 19860 1479355589.py[line:348] - INFO: warm_up_n_epochs:5\n",
      "2023-03-11 00:33:02,311 19860 1479355589.py[line:349] - INFO: Confusion Matrix:[[55375 17341]\n",
      " [    0     0]]\n",
      "2023-03-11 00:33:02,313 19860 1479355589.py[line:350] - INFO: FPR: 0.23847571373562904\n",
      "2023-03-11 00:33:02,314 19860 1479355589.py[line:351] - INFO: TPR: nan\n",
      "2023-03-11 00:33:02,315 19860 1479355589.py[line:352] - INFO: test RR: 9.611644570114061\n",
      "last_best,best_epoch 9.279871064263421 35\n",
      "2023-03-11 00:33:02,450 19860 1479355589.py[line:306] - INFO: start 36 epoch\n"
     ]
    },
    {
     "name": "stderr",
     "output_type": "stream",
     "text": [
      "C:\\Users\\hxr\\AppData\\Local\\Temp\\2\\ipykernel_20156\\1479355589.py:346: RuntimeWarning: invalid value encountered in longlong_scalars\n",
      "  TPR = tp / (tp + fn)\n",
      "100%|██████████████████████████████████████████████████████████████████████████████████| 37/37 [00:08<00:00,  4.29it/s]\n"
     ]
    },
    {
     "name": "stdout",
     "output_type": "stream",
     "text": [
      "2023-03-11 00:33:11,303 19860 1479355589.py[line:347] - INFO: Epoch mean loss: 8.940318391129777\n",
      "2023-03-11 00:33:11,305 19860 1479355589.py[line:348] - INFO: warm_up_n_epochs:5\n",
      "2023-03-11 00:33:11,313 19860 1479355589.py[line:349] - INFO: Confusion Matrix:[[56313 16403]\n",
      " [    0     0]]\n",
      "2023-03-11 00:33:11,315 19860 1479355589.py[line:350] - INFO: FPR: 0.22557621431321856\n",
      "2023-03-11 00:33:11,316 19860 1479355589.py[line:351] - INFO: TPR: nan\n",
      "2023-03-11 00:33:11,317 19860 1479355589.py[line:352] - INFO: test RR: 9.355005416447463\n",
      "last_best,best_epoch 8.940318391129777 36\n",
      "2023-03-11 00:33:11,468 19860 1479355589.py[line:306] - INFO: start 37 epoch\n"
     ]
    },
    {
     "name": "stderr",
     "output_type": "stream",
     "text": [
      "C:\\Users\\hxr\\AppData\\Local\\Temp\\2\\ipykernel_20156\\1479355589.py:346: RuntimeWarning: invalid value encountered in longlong_scalars\n",
      "  TPR = tp / (tp + fn)\n",
      "100%|██████████████████████████████████████████████████████████████████████████████████| 37/37 [00:08<00:00,  4.20it/s]\n"
     ]
    },
    {
     "name": "stdout",
     "output_type": "stream",
     "text": [
      "2023-03-11 00:33:20,522 19860 1479355589.py[line:347] - INFO: Epoch mean loss: 8.545746416658968\n",
      "2023-03-11 00:33:20,529 19860 1479355589.py[line:348] - INFO: warm_up_n_epochs:5\n",
      "2023-03-11 00:33:20,539 19860 1479355589.py[line:349] - INFO: Confusion Matrix:[[57337 15379]\n",
      " [    0     0]]\n",
      "2023-03-11 00:33:20,545 19860 1479355589.py[line:350] - INFO: FPR: 0.2114940315748941\n",
      "2023-03-11 00:33:20,550 19860 1479355589.py[line:351] - INFO: TPR: nan\n",
      "2023-03-11 00:33:20,553 19860 1479355589.py[line:352] - INFO: test RR: 9.129670820953802\n",
      "last_best,best_epoch 8.545746416658968 37\n",
      "2023-03-11 00:33:20,699 19860 1479355589.py[line:306] - INFO: start 38 epoch\n"
     ]
    },
    {
     "name": "stderr",
     "output_type": "stream",
     "text": [
      "C:\\Users\\hxr\\AppData\\Local\\Temp\\2\\ipykernel_20156\\1479355589.py:346: RuntimeWarning: invalid value encountered in longlong_scalars\n",
      "  TPR = tp / (tp + fn)\n",
      "100%|██████████████████████████████████████████████████████████████████████████████████| 37/37 [00:08<00:00,  4.18it/s]\n"
     ]
    },
    {
     "name": "stdout",
     "output_type": "stream",
     "text": [
      "2023-03-11 00:33:29,779 19860 1479355589.py[line:347] - INFO: Epoch mean loss: 8.14483862954217\n",
      "2023-03-11 00:33:29,781 19860 1479355589.py[line:348] - INFO: warm_up_n_epochs:5\n",
      "2023-03-11 00:33:29,790 19860 1479355589.py[line:349] - INFO: Confusion Matrix:[[59717 12999]\n",
      " [    0     0]]\n",
      "2023-03-11 00:33:29,794 19860 1479355589.py[line:350] - INFO: FPR: 0.1787639584135541\n",
      "2023-03-11 00:33:29,795 19860 1479355589.py[line:351] - INFO: TPR: nan\n",
      "2023-03-11 00:33:29,797 19860 1479355589.py[line:352] - INFO: test RR: 9.138322743225343\n",
      "last_best,best_epoch 8.14483862954217 38\n",
      "2023-03-11 00:33:29,949 19860 1479355589.py[line:306] - INFO: start 39 epoch\n"
     ]
    },
    {
     "name": "stderr",
     "output_type": "stream",
     "text": [
      "C:\\Users\\hxr\\AppData\\Local\\Temp\\2\\ipykernel_20156\\1479355589.py:346: RuntimeWarning: invalid value encountered in longlong_scalars\n",
      "  TPR = tp / (tp + fn)\n",
      "100%|██████████████████████████████████████████████████████████████████████████████████| 37/37 [00:08<00:00,  4.36it/s]\n"
     ]
    },
    {
     "name": "stdout",
     "output_type": "stream",
     "text": [
      "2023-03-11 00:33:38,660 19860 1479355589.py[line:347] - INFO: Epoch mean loss: 7.801893994614884\n",
      "2023-03-11 00:33:38,661 19860 1479355589.py[line:348] - INFO: warm_up_n_epochs:5\n",
      "2023-03-11 00:33:38,668 19860 1479355589.py[line:349] - INFO: Confusion Matrix:[[61505 11211]\n",
      " [    0     0]]\n",
      "2023-03-11 00:33:38,671 19860 1479355589.py[line:350] - INFO: FPR: 0.15417514714780792\n",
      "2023-03-11 00:33:38,675 19860 1479355589.py[line:351] - INFO: TPR: nan\n",
      "2023-03-11 00:33:38,678 19860 1479355589.py[line:352] - INFO: test RR: 9.210335164308761\n",
      "last_best,best_epoch 7.801893994614884 39\n",
      "2023-03-11 00:33:38,829 19860 1479355589.py[line:306] - INFO: start 40 epoch\n"
     ]
    },
    {
     "name": "stderr",
     "output_type": "stream",
     "text": [
      "C:\\Users\\hxr\\AppData\\Local\\Temp\\2\\ipykernel_20156\\1479355589.py:346: RuntimeWarning: invalid value encountered in longlong_scalars\n",
      "  TPR = tp / (tp + fn)\n",
      "100%|██████████████████████████████████████████████████████████████████████████████████| 37/37 [00:08<00:00,  4.33it/s]\n"
     ]
    },
    {
     "name": "stdout",
     "output_type": "stream",
     "text": [
      "2023-03-11 00:33:47,613 19860 1479355589.py[line:347] - INFO: Epoch mean loss: 7.436546854070715\n",
      "2023-03-11 00:33:47,622 19860 1479355589.py[line:348] - INFO: warm_up_n_epochs:5\n",
      "2023-03-11 00:33:47,632 19860 1479355589.py[line:349] - INFO: Confusion Matrix:[[62635 10081]\n",
      " [    0     0]]\n",
      "2023-03-11 00:33:47,635 19860 1479355589.py[line:350] - INFO: FPR: 0.1386352384619616\n",
      "2023-03-11 00:33:47,640 19860 1479355589.py[line:351] - INFO: TPR: nan\n",
      "2023-03-11 00:33:47,644 19860 1479355589.py[line:352] - INFO: test RR: 9.118668200683647\n",
      "last_best,best_epoch 7.436546854070715 40\n",
      "2023-03-11 00:33:47,789 19860 1479355589.py[line:306] - INFO: start 41 epoch\n"
     ]
    },
    {
     "name": "stderr",
     "output_type": "stream",
     "text": [
      "C:\\Users\\hxr\\AppData\\Local\\Temp\\2\\ipykernel_20156\\1479355589.py:346: RuntimeWarning: invalid value encountered in longlong_scalars\n",
      "  TPR = tp / (tp + fn)\n",
      "100%|██████████████████████████████████████████████████████████████████████████████████| 37/37 [00:08<00:00,  4.33it/s]\n"
     ]
    },
    {
     "name": "stdout",
     "output_type": "stream",
     "text": [
      "2023-03-11 00:33:56,570 19860 1479355589.py[line:347] - INFO: Epoch mean loss: 7.239482454351477\n",
      "2023-03-11 00:33:56,573 19860 1479355589.py[line:348] - INFO: warm_up_n_epochs:5\n",
      "2023-03-11 00:33:56,587 19860 1479355589.py[line:349] - INFO: Confusion Matrix:[[62853  9863]\n",
      " [    0     0]]\n",
      "2023-03-11 00:33:56,589 19860 1479355589.py[line:350] - INFO: FPR: 0.1356372737774355\n",
      "2023-03-11 00:33:56,591 19860 1479355589.py[line:351] - INFO: TPR: nan\n",
      "2023-03-11 00:33:56,602 19860 1479355589.py[line:352] - INFO: test RR: 8.950730793907153\n",
      "last_best,best_epoch 7.239482454351477 41\n",
      "2023-03-11 00:33:56,750 19860 1479355589.py[line:306] - INFO: start 42 epoch\n"
     ]
    },
    {
     "name": "stderr",
     "output_type": "stream",
     "text": [
      "C:\\Users\\hxr\\AppData\\Local\\Temp\\2\\ipykernel_20156\\1479355589.py:346: RuntimeWarning: invalid value encountered in longlong_scalars\n",
      "  TPR = tp / (tp + fn)\n",
      "100%|██████████████████████████████████████████████████████████████████████████████████| 37/37 [00:08<00:00,  4.31it/s]\n"
     ]
    },
    {
     "name": "stdout",
     "output_type": "stream",
     "text": [
      "2023-03-11 00:34:05,577 19860 1479355589.py[line:347] - INFO: Epoch mean loss: 7.153863481573157\n",
      "2023-03-11 00:34:05,584 19860 1479355589.py[line:348] - INFO: warm_up_n_epochs:5\n",
      "2023-03-11 00:34:05,595 19860 1479355589.py[line:349] - INFO: Confusion Matrix:[[63022  9694]\n",
      " [    0     0]]\n",
      "2023-03-11 00:34:05,596 19860 1479355589.py[line:350] - INFO: FPR: 0.13331316354034875\n",
      "2023-03-11 00:34:05,599 19860 1479355589.py[line:351] - INFO: TPR: nan\n",
      "2023-03-11 00:34:05,599 19860 1479355589.py[line:352] - INFO: test RR: 8.888601769068433\n",
      "last_best,best_epoch 7.153863481573157 42\n",
      "2023-03-11 00:34:05,746 19860 1479355589.py[line:306] - INFO: start 43 epoch\n"
     ]
    },
    {
     "name": "stderr",
     "output_type": "stream",
     "text": [
      "C:\\Users\\hxr\\AppData\\Local\\Temp\\2\\ipykernel_20156\\1479355589.py:346: RuntimeWarning: invalid value encountered in longlong_scalars\n",
      "  TPR = tp / (tp + fn)\n",
      "100%|██████████████████████████████████████████████████████████████████████████████████| 37/37 [00:08<00:00,  4.41it/s]\n"
     ]
    },
    {
     "name": "stdout",
     "output_type": "stream",
     "text": [
      "2023-03-11 00:34:14,412 19860 1479355589.py[line:347] - INFO: Epoch mean loss: 6.762770201708819\n",
      "2023-03-11 00:34:14,413 19860 1479355589.py[line:348] - INFO: warm_up_n_epochs:5\n",
      "2023-03-11 00:34:14,421 19860 1479355589.py[line:349] - INFO: Confusion Matrix:[[64569  8147]\n",
      " [    0     0]]\n",
      "2023-03-11 00:34:14,425 19860 1479355589.py[line:350] - INFO: FPR: 0.11203861598547775\n",
      "2023-03-11 00:34:14,429 19860 1479355589.py[line:351] - INFO: TPR: nan\n",
      "2023-03-11 00:34:14,430 19860 1479355589.py[line:352] - INFO: test RR: 9.1374874691038\n",
      "last_best,best_epoch 6.762770201708819 43\n",
      "2023-03-11 00:34:14,568 19860 1479355589.py[line:306] - INFO: start 44 epoch\n"
     ]
    },
    {
     "name": "stderr",
     "output_type": "stream",
     "text": [
      "C:\\Users\\hxr\\AppData\\Local\\Temp\\2\\ipykernel_20156\\1479355589.py:346: RuntimeWarning: invalid value encountered in longlong_scalars\n",
      "  TPR = tp / (tp + fn)\n",
      "100%|██████████████████████████████████████████████████████████████████████████████████| 37/37 [00:08<00:00,  4.36it/s]\n"
     ]
    },
    {
     "name": "stdout",
     "output_type": "stream",
     "text": [
      "2023-03-11 00:34:23,272 19860 1479355589.py[line:347] - INFO: Epoch mean loss: 6.322355476585594\n",
      "2023-03-11 00:34:23,274 19860 1479355589.py[line:348] - INFO: warm_up_n_epochs:5\n",
      "2023-03-11 00:34:23,285 19860 1479355589.py[line:349] - INFO: Confusion Matrix:[[65253  7463]\n",
      " [    0     0]]\n",
      "2023-03-11 00:34:23,287 19860 1479355589.py[line:350] - INFO: FPR: 0.10263215798448759\n",
      "2023-03-11 00:34:23,289 19860 1479355589.py[line:351] - INFO: TPR: nan\n",
      "2023-03-11 00:34:23,290 19860 1479355589.py[line:352] - INFO: test RR: 9.025592341138326\n",
      "last_best,best_epoch 6.322355476585594 44\n",
      "2023-03-11 00:34:23,430 19860 1479355589.py[line:306] - INFO: start 45 epoch\n"
     ]
    },
    {
     "name": "stderr",
     "output_type": "stream",
     "text": [
      "C:\\Users\\hxr\\AppData\\Local\\Temp\\2\\ipykernel_20156\\1479355589.py:346: RuntimeWarning: invalid value encountered in longlong_scalars\n",
      "  TPR = tp / (tp + fn)\n",
      "100%|██████████████████████████████████████████████████████████████████████████████████| 37/37 [00:08<00:00,  4.52it/s]\n"
     ]
    },
    {
     "name": "stdout",
     "output_type": "stream",
     "text": [
      "2023-03-11 00:34:31,841 19860 1479355589.py[line:347] - INFO: Epoch mean loss: 6.076819870923017\n",
      "2023-03-11 00:34:31,855 19860 1479355589.py[line:348] - INFO: warm_up_n_epochs:5\n",
      "2023-03-11 00:34:31,869 19860 1479355589.py[line:349] - INFO: Confusion Matrix:[[66031  6685]\n",
      " [    0     0]]\n",
      "2023-03-11 00:34:31,872 19860 1479355589.py[line:350] - INFO: FPR: 0.09193299961494032\n",
      "2023-03-11 00:34:31,880 19860 1479355589.py[line:351] - INFO: TPR: nan\n",
      "2023-03-11 00:34:31,885 19860 1479355589.py[line:352] - INFO: test RR: 9.246310185917686\n",
      "last_best,best_epoch 6.076819870923017 45\n",
      "2023-03-11 00:34:32,034 19860 1479355589.py[line:306] - INFO: start 46 epoch\n"
     ]
    },
    {
     "name": "stderr",
     "output_type": "stream",
     "text": [
      "C:\\Users\\hxr\\AppData\\Local\\Temp\\2\\ipykernel_20156\\1479355589.py:346: RuntimeWarning: invalid value encountered in longlong_scalars\n",
      "  TPR = tp / (tp + fn)\n",
      "100%|██████████████████████████████████████████████████████████████████████████████████| 37/37 [00:08<00:00,  4.43it/s]\n"
     ]
    },
    {
     "name": "stdout",
     "output_type": "stream",
     "text": [
      "2023-03-11 00:34:40,608 19860 1479355589.py[line:347] - INFO: Epoch mean loss: 5.779836693325558\n",
      "2023-03-11 00:34:40,621 19860 1479355589.py[line:348] - INFO: warm_up_n_epochs:5\n",
      "2023-03-11 00:34:40,640 19860 1479355589.py[line:349] - INFO: Confusion Matrix:[[66030  6686]\n",
      " [    0     0]]\n",
      "2023-03-11 00:34:40,646 19860 1479355589.py[line:350] - INFO: FPR: 0.09194675174652071\n",
      "2023-03-11 00:34:40,651 19860 1479355589.py[line:351] - INFO: TPR: nan\n",
      "2023-03-11 00:34:40,656 19860 1479355589.py[line:352] - INFO: test RR: 8.903876786613708\n",
      "last_best,best_epoch 5.779836693325558 46\n",
      "2023-03-11 00:34:40,791 19860 1479355589.py[line:306] - INFO: start 47 epoch\n"
     ]
    },
    {
     "name": "stderr",
     "output_type": "stream",
     "text": [
      "C:\\Users\\hxr\\AppData\\Local\\Temp\\2\\ipykernel_20156\\1479355589.py:346: RuntimeWarning: invalid value encountered in longlong_scalars\n",
      "  TPR = tp / (tp + fn)\n",
      "100%|██████████████████████████████████████████████████████████████████████████████████| 37/37 [00:08<00:00,  4.35it/s]\n"
     ]
    },
    {
     "name": "stdout",
     "output_type": "stream",
     "text": [
      "2023-03-11 00:34:49,523 19860 1479355589.py[line:347] - INFO: Epoch mean loss: 5.495881866764378\n",
      "2023-03-11 00:34:49,524 19860 1479355589.py[line:348] - INFO: warm_up_n_epochs:5\n",
      "2023-03-11 00:34:49,533 19860 1479355589.py[line:349] - INFO: Confusion Matrix:[[66602  6114]\n",
      " [    0     0]]\n",
      "2023-03-11 00:34:49,535 19860 1479355589.py[line:350] - INFO: FPR: 0.08408053248253479\n",
      "2023-03-11 00:34:49,537 19860 1479355589.py[line:351] - INFO: TPR: nan\n",
      "2023-03-11 00:34:49,539 19860 1479355589.py[line:352] - INFO: test RR: 9.009084793473578\n",
      "last_best,best_epoch 5.495881866764378 47\n",
      "2023-03-11 00:34:49,674 19860 1479355589.py[line:306] - INFO: start 48 epoch\n"
     ]
    },
    {
     "name": "stderr",
     "output_type": "stream",
     "text": [
      "C:\\Users\\hxr\\AppData\\Local\\Temp\\2\\ipykernel_20156\\1479355589.py:346: RuntimeWarning: invalid value encountered in longlong_scalars\n",
      "  TPR = tp / (tp + fn)\n",
      "100%|██████████████████████████████████████████████████████████████████████████████████| 37/37 [00:08<00:00,  4.32it/s]\n"
     ]
    },
    {
     "name": "stdout",
     "output_type": "stream",
     "text": [
      "2023-03-11 00:34:58,458 19860 1479355589.py[line:347] - INFO: Epoch mean loss: 5.290663500089903\n",
      "2023-03-11 00:34:58,460 19860 1479355589.py[line:348] - INFO: warm_up_n_epochs:5\n",
      "2023-03-11 00:34:58,471 19860 1479355589.py[line:349] - INFO: Confusion Matrix:[[66770  5946]\n",
      " [    0     0]]\n",
      "2023-03-11 00:34:58,473 19860 1479355589.py[line:350] - INFO: FPR: 0.08177017437702844\n",
      "2023-03-11 00:34:58,476 19860 1479355589.py[line:351] - INFO: TPR: nan\n",
      "2023-03-11 00:34:58,478 19860 1479355589.py[line:352] - INFO: test RR: 8.808405787325384\n",
      "last_best,best_epoch 5.290663500089903 48\n",
      "2023-03-11 00:34:58,630 19860 1479355589.py[line:306] - INFO: start 49 epoch\n"
     ]
    },
    {
     "name": "stderr",
     "output_type": "stream",
     "text": [
      "C:\\Users\\hxr\\AppData\\Local\\Temp\\2\\ipykernel_20156\\1479355589.py:346: RuntimeWarning: invalid value encountered in longlong_scalars\n",
      "  TPR = tp / (tp + fn)\n",
      "100%|██████████████████████████████████████████████████████████████████████████████████| 37/37 [00:08<00:00,  4.23it/s]\n"
     ]
    },
    {
     "name": "stdout",
     "output_type": "stream",
     "text": [
      "2023-03-11 00:35:07,610 19860 1479355589.py[line:347] - INFO: Epoch mean loss: 5.039338562939618\n",
      "2023-03-11 00:35:07,612 19860 1479355589.py[line:348] - INFO: warm_up_n_epochs:5\n",
      "2023-03-11 00:35:07,620 19860 1479355589.py[line:349] - INFO: Confusion Matrix:[[67502  5214]\n",
      " [    0     0]]\n",
      "2023-03-11 00:35:07,621 19860 1479355589.py[line:350] - INFO: FPR: 0.07170361406017933\n",
      "2023-03-11 00:35:07,623 19860 1479355589.py[line:351] - INFO: TPR: nan\n",
      "2023-03-11 00:35:07,624 19860 1479355589.py[line:352] - INFO: test RR: 8.923365615272793\n",
      "last_best,best_epoch 5.039338562939618 49\n",
      "2023-03-11 00:35:07,765 19860 1479355589.py[line:306] - INFO: start 50 epoch\n"
     ]
    },
    {
     "name": "stderr",
     "output_type": "stream",
     "text": [
      "C:\\Users\\hxr\\AppData\\Local\\Temp\\2\\ipykernel_20156\\1479355589.py:346: RuntimeWarning: invalid value encountered in longlong_scalars\n",
      "  TPR = tp / (tp + fn)\n",
      "100%|██████████████████████████████████████████████████████████████████████████████████| 37/37 [00:08<00:00,  4.50it/s]\n",
      "C:\\Users\\hxr\\AppData\\Local\\Temp\\2\\ipykernel_20156\\1479355589.py:346: RuntimeWarning: invalid value encountered in longlong_scalars\n",
      "  TPR = tp / (tp + fn)\n"
     ]
    },
    {
     "name": "stdout",
     "output_type": "stream",
     "text": [
      "2023-03-11 00:35:16,198 19860 1479355589.py[line:347] - INFO: Epoch mean loss: 4.795283059816103\n",
      "2023-03-11 00:35:16,200 19860 1479355589.py[line:348] - INFO: warm_up_n_epochs:5\n",
      "2023-03-11 00:35:16,208 19860 1479355589.py[line:349] - INFO: Confusion Matrix:[[67052  5664]\n",
      " [    0     0]]\n",
      "2023-03-11 00:35:16,210 19860 1479355589.py[line:350] - INFO: FPR: 0.07789207327135705\n",
      "2023-03-11 00:35:16,211 19860 1479355589.py[line:351] - INFO: TPR: nan\n",
      "2023-03-11 00:35:16,212 19860 1479355589.py[line:352] - INFO: test RR: 8.247420822859343\n",
      "last_best,best_epoch 4.795283059816103 50\n",
      "2023-03-11 00:35:16,353 19860 1479355589.py[line:306] - INFO: start 51 epoch\n"
     ]
    },
    {
     "name": "stderr",
     "output_type": "stream",
     "text": [
      "100%|██████████████████████████████████████████████████████████████████████████████████| 37/37 [00:08<00:00,  4.24it/s]\n",
      "C:\\Users\\hxr\\AppData\\Local\\Temp\\2\\ipykernel_20156\\1479355589.py:346: RuntimeWarning: invalid value encountered in longlong_scalars\n",
      "  TPR = tp / (tp + fn)\n"
     ]
    },
    {
     "name": "stdout",
     "output_type": "stream",
     "text": [
      "2023-03-11 00:35:25,317 19860 1479355589.py[line:347] - INFO: Epoch mean loss: 4.582566067979142\n",
      "2023-03-11 00:35:25,319 19860 1479355589.py[line:348] - INFO: warm_up_n_epochs:5\n",
      "2023-03-11 00:35:25,333 19860 1479355589.py[line:349] - INFO: Confusion Matrix:[[68212  4504]\n",
      " [    0     0]]\n",
      "2023-03-11 00:35:25,335 19860 1479355589.py[line:350] - INFO: FPR: 0.061939600638098904\n",
      "2023-03-11 00:35:25,336 19860 1479355589.py[line:351] - INFO: TPR: nan\n",
      "2023-03-11 00:35:25,338 19860 1479355589.py[line:352] - INFO: test RR: 8.778288999324943\n",
      "last_best,best_epoch 4.582566067979142 51\n",
      "2023-03-11 00:35:25,491 19860 1479355589.py[line:306] - INFO: start 52 epoch\n"
     ]
    },
    {
     "name": "stderr",
     "output_type": "stream",
     "text": [
      "100%|██████████████████████████████████████████████████████████████████████████████████| 37/37 [00:08<00:00,  4.41it/s]\n"
     ]
    },
    {
     "name": "stdout",
     "output_type": "stream",
     "text": [
      "2023-03-11 00:35:34,093 19860 1479355589.py[line:347] - INFO: Epoch mean loss: 4.402204281574971\n",
      "2023-03-11 00:35:34,103 19860 1479355589.py[line:348] - INFO: warm_up_n_epochs:5\n",
      "2023-03-11 00:35:34,116 19860 1479355589.py[line:349] - INFO: Confusion Matrix:[[68147  4569]\n",
      " [    0     0]]\n",
      "2023-03-11 00:35:34,124 19860 1479355589.py[line:350] - INFO: FPR: 0.06283348919082458\n",
      "2023-03-11 00:35:34,131 19860 1479355589.py[line:351] - INFO: TPR: nan\n",
      "2023-03-11 00:35:34,135 19860 1479355589.py[line:352] - INFO: test RR: 8.446863126806644\n",
      "last_best,best_epoch 4.402204281574971 52\n",
      "2023-03-11 00:35:34,295 19860 1479355589.py[line:306] - INFO: start 53 epoch\n"
     ]
    },
    {
     "name": "stderr",
     "output_type": "stream",
     "text": [
      "C:\\Users\\hxr\\AppData\\Local\\Temp\\2\\ipykernel_20156\\1479355589.py:346: RuntimeWarning: invalid value encountered in longlong_scalars\n",
      "  TPR = tp / (tp + fn)\n",
      "100%|██████████████████████████████████████████████████████████████████████████████████| 37/37 [00:08<00:00,  4.44it/s]\n"
     ]
    },
    {
     "name": "stdout",
     "output_type": "stream",
     "text": [
      "2023-03-11 00:35:42,840 19860 1479355589.py[line:347] - INFO: Epoch mean loss: 4.25592007508149\n",
      "2023-03-11 00:35:42,842 19860 1479355589.py[line:348] - INFO: warm_up_n_epochs:5\n",
      "2023-03-11 00:35:42,852 19860 1479355589.py[line:349] - INFO: Confusion Matrix:[[68162  4554]\n",
      " [    0     0]]\n",
      "2023-03-11 00:35:42,854 19860 1479355589.py[line:350] - INFO: FPR: 0.06262720721711865\n",
      "2023-03-11 00:35:42,856 19860 1479355589.py[line:351] - INFO: TPR: nan\n",
      "2023-03-11 00:35:42,857 19860 1479355589.py[line:352] - INFO: test RR: 8.200228747132323\n",
      "last_best,best_epoch 4.25592007508149 53\n",
      "2023-03-11 00:35:42,987 19860 1479355589.py[line:306] - INFO: start 54 epoch\n"
     ]
    },
    {
     "name": "stderr",
     "output_type": "stream",
     "text": [
      "C:\\Users\\hxr\\AppData\\Local\\Temp\\2\\ipykernel_20156\\1479355589.py:346: RuntimeWarning: invalid value encountered in longlong_scalars\n",
      "  TPR = tp / (tp + fn)\n",
      "100%|██████████████████████████████████████████████████████████████████████████████████| 37/37 [00:08<00:00,  4.23it/s]\n"
     ]
    },
    {
     "name": "stdout",
     "output_type": "stream",
     "text": [
      "2023-03-11 00:35:51,953 19860 1479355589.py[line:347] - INFO: Epoch mean loss: 4.1091499715238005\n",
      "2023-03-11 00:35:51,955 19860 1479355589.py[line:348] - INFO: warm_up_n_epochs:5\n",
      "2023-03-11 00:35:51,966 19860 1479355589.py[line:349] - INFO: Confusion Matrix:[[68317  4399]\n",
      " [    0     0]]\n",
      "2023-03-11 00:35:51,968 19860 1479355589.py[line:350] - INFO: FPR: 0.060495626822157436\n",
      "2023-03-11 00:35:51,969 19860 1479355589.py[line:351] - INFO: TPR: nan\n",
      "2023-03-11 00:35:51,970 19860 1479355589.py[line:352] - INFO: test RR: 8.139211779356573\n",
      "last_best,best_epoch 4.1091499715238005 54\n",
      "2023-03-11 00:35:52,118 19860 1479355589.py[line:306] - INFO: start 55 epoch\n"
     ]
    },
    {
     "name": "stderr",
     "output_type": "stream",
     "text": [
      "C:\\Users\\hxr\\AppData\\Local\\Temp\\2\\ipykernel_20156\\1479355589.py:346: RuntimeWarning: invalid value encountered in longlong_scalars\n",
      "  TPR = tp / (tp + fn)\n",
      "100%|██████████████████████████████████████████████████████████████████████████████████| 37/37 [00:08<00:00,  4.28it/s]\n"
     ]
    },
    {
     "name": "stdout",
     "output_type": "stream",
     "text": [
      "2023-03-11 00:36:00,981 19860 1479355589.py[line:347] - INFO: Epoch mean loss: 3.9224387117334314\n",
      "2023-03-11 00:36:00,982 19860 1479355589.py[line:348] - INFO: warm_up_n_epochs:5\n",
      "2023-03-11 00:36:00,989 19860 1479355589.py[line:349] - INFO: Confusion Matrix:[[68391  4325]\n",
      " [    0     0]]\n",
      "2023-03-11 00:36:00,991 19860 1479355589.py[line:350] - INFO: FPR: 0.05947796908520821\n",
      "2023-03-11 00:36:00,993 19860 1479355589.py[line:351] - INFO: TPR: nan\n",
      "2023-03-11 00:36:00,994 19860 1479355589.py[line:352] - INFO: test RR: 7.969234173562828\n",
      "last_best,best_epoch 3.9224387117334314 55\n",
      "2023-03-11 00:36:01,125 19860 1479355589.py[line:306] - INFO: start 56 epoch\n"
     ]
    },
    {
     "name": "stderr",
     "output_type": "stream",
     "text": [
      "C:\\Users\\hxr\\AppData\\Local\\Temp\\2\\ipykernel_20156\\1479355589.py:346: RuntimeWarning: invalid value encountered in longlong_scalars\n",
      "  TPR = tp / (tp + fn)\n",
      "100%|██████████████████████████████████████████████████████████████████████████████████| 37/37 [00:08<00:00,  4.29it/s]\n"
     ]
    },
    {
     "name": "stdout",
     "output_type": "stream",
     "text": [
      "2023-03-11 00:36:09,975 19860 1479355589.py[line:347] - INFO: Epoch mean loss: 3.7878282263472274\n",
      "2023-03-11 00:36:09,976 19860 1479355589.py[line:348] - INFO: warm_up_n_epochs:5\n",
      "2023-03-11 00:36:09,984 19860 1479355589.py[line:349] - INFO: Confusion Matrix:[[68923  3793]\n",
      " [    0     0]]\n",
      "2023-03-11 00:36:09,986 19860 1479355589.py[line:350] - INFO: FPR: 0.052161835084438085\n",
      "2023-03-11 00:36:09,987 19860 1479355589.py[line:351] - INFO: TPR: nan\n",
      "2023-03-11 00:36:09,989 19860 1479355589.py[line:352] - INFO: test RR: 8.359677449515292\n",
      "last_best,best_epoch 3.7878282263472274 56\n",
      "2023-03-11 00:36:10,123 19860 1479355589.py[line:306] - INFO: start 57 epoch\n"
     ]
    },
    {
     "name": "stderr",
     "output_type": "stream",
     "text": [
      "C:\\Users\\hxr\\AppData\\Local\\Temp\\2\\ipykernel_20156\\1479355589.py:346: RuntimeWarning: invalid value encountered in longlong_scalars\n",
      "  TPR = tp / (tp + fn)\n",
      "100%|██████████████████████████████████████████████████████████████████████████████████| 37/37 [00:08<00:00,  4.33it/s]\n"
     ]
    },
    {
     "name": "stdout",
     "output_type": "stream",
     "text": [
      "2023-03-11 00:36:18,898 19860 1479355589.py[line:347] - INFO: Epoch mean loss: 3.6994265350135596\n",
      "2023-03-11 00:36:18,899 19860 1479355589.py[line:348] - INFO: warm_up_n_epochs:5\n",
      "2023-03-11 00:36:18,906 19860 1479355589.py[line:349] - INFO: Confusion Matrix:[[68766  3950]\n",
      " [    0     0]]\n",
      "2023-03-11 00:36:18,908 19860 1479355589.py[line:350] - INFO: FPR: 0.0543209197425601\n",
      "2023-03-11 00:36:18,909 19860 1479355589.py[line:351] - INFO: TPR: nan\n",
      "2023-03-11 00:36:18,910 19860 1479355589.py[line:352] - INFO: test RR: 8.054916850996362\n",
      "last_best,best_epoch 3.6994265350135596 57\n",
      "2023-03-11 00:36:19,057 19860 1479355589.py[line:306] - INFO: start 58 epoch\n"
     ]
    },
    {
     "name": "stderr",
     "output_type": "stream",
     "text": [
      "C:\\Users\\hxr\\AppData\\Local\\Temp\\2\\ipykernel_20156\\1479355589.py:346: RuntimeWarning: invalid value encountered in longlong_scalars\n",
      "  TPR = tp / (tp + fn)\n",
      "100%|██████████████████████████████████████████████████████████████████████████████████| 37/37 [00:08<00:00,  4.36it/s]\n"
     ]
    },
    {
     "name": "stdout",
     "output_type": "stream",
     "text": [
      "2023-03-11 00:36:27,797 19860 1479355589.py[line:347] - INFO: Epoch mean loss: 3.6014301583573625\n",
      "2023-03-11 00:36:27,798 19860 1479355589.py[line:348] - INFO: warm_up_n_epochs:5\n",
      "2023-03-11 00:36:27,806 19860 1479355589.py[line:349] - INFO: Confusion Matrix:[[68907  3809]\n",
      " [    0     0]]\n",
      "2023-03-11 00:36:27,808 19860 1479355589.py[line:350] - INFO: FPR: 0.05238186918972441\n",
      "2023-03-11 00:36:27,810 19860 1479355589.py[line:351] - INFO: TPR: nan\n",
      "2023-03-11 00:36:27,811 19860 1479355589.py[line:352] - INFO: test RR: 8.053611398580623\n",
      "last_best,best_epoch 3.6014301583573625 58\n",
      "2023-03-11 00:36:27,960 19860 1479355589.py[line:306] - INFO: start 59 epoch\n"
     ]
    },
    {
     "name": "stderr",
     "output_type": "stream",
     "text": [
      "C:\\Users\\hxr\\AppData\\Local\\Temp\\2\\ipykernel_20156\\1479355589.py:346: RuntimeWarning: invalid value encountered in longlong_scalars\n",
      "  TPR = tp / (tp + fn)\n",
      "100%|██████████████████████████████████████████████████████████████████████████████████| 37/37 [00:08<00:00,  4.43it/s]\n"
     ]
    },
    {
     "name": "stdout",
     "output_type": "stream",
     "text": [
      "2023-03-11 00:36:36,564 19860 1479355589.py[line:347] - INFO: Epoch mean loss: 3.3975327530422725\n",
      "2023-03-11 00:36:36,565 19860 1479355589.py[line:348] - INFO: warm_up_n_epochs:5\n",
      "2023-03-11 00:36:36,575 19860 1479355589.py[line:349] - INFO: Confusion Matrix:[[69456  3260]\n",
      " [    0     0]]\n",
      "2023-03-11 00:36:36,577 19860 1479355589.py[line:350] - INFO: FPR: 0.04483194895208757\n",
      "2023-03-11 00:36:36,579 19860 1479355589.py[line:351] - INFO: TPR: nan\n",
      "2023-03-11 00:36:36,581 19860 1479355589.py[line:352] - INFO: test RR: 8.443963494683247\n",
      "last_best,best_epoch 3.3975327530422725 59\n",
      "2023-03-11 00:36:36,736 19860 1479355589.py[line:306] - INFO: start 60 epoch\n"
     ]
    },
    {
     "name": "stderr",
     "output_type": "stream",
     "text": [
      "C:\\Users\\hxr\\AppData\\Local\\Temp\\2\\ipykernel_20156\\1479355589.py:346: RuntimeWarning: invalid value encountered in longlong_scalars\n",
      "  TPR = tp / (tp + fn)\n",
      "100%|██████████████████████████████████████████████████████████████████████████████████| 37/37 [00:08<00:00,  4.36it/s]\n"
     ]
    },
    {
     "name": "stdout",
     "output_type": "stream",
     "text": [
      "2023-03-11 00:36:45,515 19860 1479355589.py[line:347] - INFO: Epoch mean loss: 3.2078353843173466\n",
      "2023-03-11 00:36:45,516 19860 1479355589.py[line:348] - INFO: warm_up_n_epochs:5\n",
      "2023-03-11 00:36:45,523 19860 1479355589.py[line:349] - INFO: Confusion Matrix:[[69247  3469]\n",
      " [    0     0]]\n",
      "2023-03-11 00:36:45,524 19860 1479355589.py[line:350] - INFO: FPR: 0.04770614445239012\n",
      "2023-03-11 00:36:45,526 19860 1479355589.py[line:351] - INFO: TPR: nan\n",
      "2023-03-11 00:36:45,527 19860 1479355589.py[line:352] - INFO: test RR: 7.960987172676934\n",
      "last_best,best_epoch 3.2078353843173466 60\n",
      "2023-03-11 00:36:45,664 19860 1479355589.py[line:306] - INFO: start 61 epoch\n"
     ]
    },
    {
     "name": "stderr",
     "output_type": "stream",
     "text": [
      "C:\\Users\\hxr\\AppData\\Local\\Temp\\2\\ipykernel_20156\\1479355589.py:346: RuntimeWarning: invalid value encountered in longlong_scalars\n",
      "  TPR = tp / (tp + fn)\n",
      "100%|██████████████████████████████████████████████████████████████████████████████████| 37/37 [00:08<00:00,  4.24it/s]\n",
      "C:\\Users\\hxr\\AppData\\Local\\Temp\\2\\ipykernel_20156\\1479355589.py:346: RuntimeWarning: invalid value encountered in longlong_scalars\n",
      "  TPR = tp / (tp + fn)\n"
     ]
    },
    {
     "name": "stdout",
     "output_type": "stream",
     "text": [
      "2023-03-11 00:36:54,614 19860 1479355589.py[line:347] - INFO: Epoch mean loss: 3.105556449374637\n",
      "2023-03-11 00:36:54,616 19860 1479355589.py[line:348] - INFO: warm_up_n_epochs:5\n",
      "2023-03-11 00:36:54,626 19860 1479355589.py[line:349] - INFO: Confusion Matrix:[[69566  3150]\n",
      " [    0     0]]\n",
      "2023-03-11 00:36:54,627 19860 1479355589.py[line:350] - INFO: FPR: 0.04331921447824413\n",
      "2023-03-11 00:36:54,629 19860 1479355589.py[line:351] - INFO: TPR: nan\n",
      "2023-03-11 00:36:54,630 19860 1479355589.py[line:352] - INFO: test RR: 8.224283866363027\n",
      "last_best,best_epoch 3.105556449374637 61\n",
      "2023-03-11 00:36:54,792 19860 1479355589.py[line:306] - INFO: start 62 epoch\n"
     ]
    },
    {
     "name": "stderr",
     "output_type": "stream",
     "text": [
      "100%|██████████████████████████████████████████████████████████████████████████████████| 37/37 [00:08<00:00,  4.30it/s]\n"
     ]
    },
    {
     "name": "stdout",
     "output_type": "stream",
     "text": [
      "2023-03-11 00:37:03,635 19860 1479355589.py[line:347] - INFO: Epoch mean loss: 3.0010289179312215\n",
      "2023-03-11 00:37:03,641 19860 1479355589.py[line:348] - INFO: warm_up_n_epochs:5\n",
      "2023-03-11 00:37:03,654 19860 1479355589.py[line:349] - INFO: Confusion Matrix:[[69451  3265]\n",
      " [    0     0]]\n",
      "2023-03-11 00:37:03,660 19860 1479355589.py[line:350] - INFO: FPR: 0.04490070960998955\n",
      "2023-03-11 00:37:03,671 19860 1479355589.py[line:351] - INFO: TPR: nan\n",
      "2023-03-11 00:37:03,677 19860 1479355589.py[line:352] - INFO: test RR: 7.864509202532577\n"
     ]
    },
    {
     "name": "stderr",
     "output_type": "stream",
     "text": [
      "C:\\Users\\hxr\\AppData\\Local\\Temp\\2\\ipykernel_20156\\1479355589.py:346: RuntimeWarning: invalid value encountered in longlong_scalars\n",
      "  TPR = tp / (tp + fn)\n"
     ]
    },
    {
     "name": "stdout",
     "output_type": "stream",
     "text": [
      "last_best,best_epoch 3.0010289179312215 62\n",
      "2023-03-11 00:37:03,824 19860 1479355589.py[line:306] - INFO: start 63 epoch\n"
     ]
    },
    {
     "name": "stderr",
     "output_type": "stream",
     "text": [
      "100%|██████████████████████████████████████████████████████████████████████████████████| 37/37 [00:09<00:00,  4.05it/s]\n"
     ]
    },
    {
     "name": "stdout",
     "output_type": "stream",
     "text": [
      "2023-03-11 00:37:13,182 19860 1479355589.py[line:347] - INFO: Epoch mean loss: 2.919287533373446\n",
      "2023-03-11 00:37:13,192 19860 1479355589.py[line:348] - INFO: warm_up_n_epochs:5\n",
      "2023-03-11 00:37:13,201 19860 1479355589.py[line:349] - INFO: Confusion Matrix:[[69577  3139]\n",
      " [    0     0]]\n",
      "2023-03-11 00:37:13,203 19860 1479355589.py[line:350] - INFO: FPR: 0.04316794103085978\n",
      "2023-03-11 00:37:13,206 19860 1479355589.py[line:351] - INFO: TPR: nan\n",
      "2023-03-11 00:37:13,214 19860 1479355589.py[line:352] - INFO: test RR: 7.912909369422361\n",
      "last_best,best_epoch 2.919287533373446 63\n",
      "2023-03-11 00:37:13,361 19860 1479355589.py[line:306] - INFO: start 64 epoch\n"
     ]
    },
    {
     "name": "stderr",
     "output_type": "stream",
     "text": [
      "C:\\Users\\hxr\\AppData\\Local\\Temp\\2\\ipykernel_20156\\1479355589.py:346: RuntimeWarning: invalid value encountered in longlong_scalars\n",
      "  TPR = tp / (tp + fn)\n",
      "100%|██████████████████████████████████████████████████████████████████████████████████| 37/37 [00:08<00:00,  4.38it/s]\n"
     ]
    },
    {
     "name": "stdout",
     "output_type": "stream",
     "text": [
      "2023-03-11 00:37:22,029 19860 1479355589.py[line:347] - INFO: Epoch mean loss: 2.8284627489141516\n",
      "2023-03-11 00:37:22,041 19860 1479355589.py[line:348] - INFO: warm_up_n_epochs:5\n",
      "2023-03-11 00:37:22,051 19860 1479355589.py[line:349] - INFO: Confusion Matrix:[[69587  3129]\n",
      " [    0     0]]\n",
      "2023-03-11 00:37:22,058 19860 1479355589.py[line:350] - INFO: FPR: 0.043030419715055834\n",
      "2023-03-11 00:37:22,062 19860 1479355589.py[line:351] - INFO: TPR: nan\n",
      "2023-03-11 00:37:22,065 19860 1479355589.py[line:352] - INFO: test RR: 7.77767825153031\n",
      "last_best,best_epoch 2.8284627489141516 64\n",
      "2023-03-11 00:37:22,208 19860 1479355589.py[line:306] - INFO: start 65 epoch\n"
     ]
    },
    {
     "name": "stderr",
     "output_type": "stream",
     "text": [
      "C:\\Users\\hxr\\AppData\\Local\\Temp\\2\\ipykernel_20156\\1479355589.py:346: RuntimeWarning: invalid value encountered in longlong_scalars\n",
      "  TPR = tp / (tp + fn)\n",
      "100%|██████████████████████████████████████████████████████████████████████████████████| 37/37 [00:08<00:00,  4.27it/s]\n"
     ]
    },
    {
     "name": "stdout",
     "output_type": "stream",
     "text": [
      "2023-03-11 00:37:31,111 19860 1479355589.py[line:347] - INFO: Epoch mean loss: 2.7210395271713668\n",
      "2023-03-11 00:37:31,113 19860 1479355589.py[line:348] - INFO: warm_up_n_epochs:5\n",
      "2023-03-11 00:37:31,128 19860 1479355589.py[line:349] - INFO: Confusion Matrix:[[69547  3169]\n",
      " [    0     0]]\n",
      "2023-03-11 00:37:31,130 19860 1479355589.py[line:350] - INFO: FPR: 0.04358050497827163\n",
      "2023-03-11 00:37:31,133 19860 1479355589.py[line:351] - INFO: TPR: nan\n",
      "2023-03-11 00:37:31,134 19860 1479355589.py[line:352] - INFO: test RR: 7.590151150585093\n",
      "last_best,best_epoch 2.7210395271713668 65\n",
      "2023-03-11 00:37:31,275 19860 1479355589.py[line:306] - INFO: start 66 epoch\n"
     ]
    },
    {
     "name": "stderr",
     "output_type": "stream",
     "text": [
      "C:\\Users\\hxr\\AppData\\Local\\Temp\\2\\ipykernel_20156\\1479355589.py:346: RuntimeWarning: invalid value encountered in longlong_scalars\n",
      "  TPR = tp / (tp + fn)\n",
      "100%|██████████████████████████████████████████████████████████████████████████████████| 37/37 [00:08<00:00,  4.40it/s]\n"
     ]
    },
    {
     "name": "stdout",
     "output_type": "stream",
     "text": [
      "2023-03-11 00:37:39,898 19860 1479355589.py[line:347] - INFO: Epoch mean loss: 2.621806492676606\n",
      "2023-03-11 00:37:39,899 19860 1479355589.py[line:348] - INFO: warm_up_n_epochs:5\n",
      "2023-03-11 00:37:39,910 19860 1479355589.py[line:349] - INFO: Confusion Matrix:[[69863  2853]\n",
      " [    0     0]]\n",
      "2023-03-11 00:37:39,912 19860 1479355589.py[line:350] - INFO: FPR: 0.039234831398866826\n",
      "2023-03-11 00:37:39,914 19860 1479355589.py[line:351] - INFO: TPR: nan\n",
      "2023-03-11 00:37:39,915 19860 1479355589.py[line:352] - INFO: test RR: 7.870457880596398\n",
      "last_best,best_epoch 2.621806492676606 66\n",
      "2023-03-11 00:37:40,057 19860 1479355589.py[line:306] - INFO: start 67 epoch\n"
     ]
    },
    {
     "name": "stderr",
     "output_type": "stream",
     "text": [
      "C:\\Users\\hxr\\AppData\\Local\\Temp\\2\\ipykernel_20156\\1479355589.py:346: RuntimeWarning: invalid value encountered in longlong_scalars\n",
      "  TPR = tp / (tp + fn)\n",
      "100%|██████████████████████████████████████████████████████████████████████████████████| 37/37 [00:08<00:00,  4.25it/s]\n"
     ]
    },
    {
     "name": "stdout",
     "output_type": "stream",
     "text": [
      "2023-03-11 00:37:48,997 19860 1479355589.py[line:347] - INFO: Epoch mean loss: 2.584793709419869\n",
      "2023-03-11 00:37:49,004 19860 1479355589.py[line:348] - INFO: warm_up_n_epochs:5\n",
      "2023-03-11 00:37:49,014 19860 1479355589.py[line:349] - INFO: Confusion Matrix:[[69674  3042]\n",
      " [    0     0]]\n",
      "2023-03-11 00:37:49,022 19860 1479355589.py[line:350] - INFO: FPR: 0.04183398426756147\n",
      "2023-03-11 00:37:49,028 19860 1479355589.py[line:351] - INFO: TPR: nan\n",
      "2023-03-11 00:37:49,031 19860 1479355589.py[line:352] - INFO: test RR: 7.5026851094738465\n",
      "last_best,best_epoch 2.584793709419869 67\n",
      "2023-03-11 00:37:49,178 19860 1479355589.py[line:306] - INFO: start 68 epoch\n"
     ]
    },
    {
     "name": "stderr",
     "output_type": "stream",
     "text": [
      "C:\\Users\\hxr\\AppData\\Local\\Temp\\2\\ipykernel_20156\\1479355589.py:346: RuntimeWarning: invalid value encountered in longlong_scalars\n",
      "  TPR = tp / (tp + fn)\n",
      "100%|██████████████████████████████████████████████████████████████████████████████████| 37/37 [00:08<00:00,  4.36it/s]\n"
     ]
    },
    {
     "name": "stdout",
     "output_type": "stream",
     "text": [
      "2023-03-11 00:37:57,893 19860 1479355589.py[line:347] - INFO: Epoch mean loss: 2.4942078719267973\n",
      "2023-03-11 00:37:57,894 19860 1479355589.py[line:348] - INFO: warm_up_n_epochs:5\n",
      "2023-03-11 00:37:57,906 19860 1479355589.py[line:349] - INFO: Confusion Matrix:[[69912  2804]\n",
      " [    0     0]]\n",
      "2023-03-11 00:37:57,909 19860 1479355589.py[line:350] - INFO: FPR: 0.03856097695142747\n",
      "2023-03-11 00:37:57,910 19860 1479355589.py[line:351] - INFO: TPR: nan\n",
      "2023-03-11 00:37:57,911 19860 1479355589.py[line:352] - INFO: test RR: 7.75937235426912\n",
      "last_best,best_epoch 2.4942078719267973 68\n",
      "2023-03-11 00:37:58,052 19860 1479355589.py[line:306] - INFO: start 69 epoch\n"
     ]
    },
    {
     "name": "stderr",
     "output_type": "stream",
     "text": [
      "C:\\Users\\hxr\\AppData\\Local\\Temp\\2\\ipykernel_20156\\1479355589.py:346: RuntimeWarning: invalid value encountered in longlong_scalars\n",
      "  TPR = tp / (tp + fn)\n",
      "100%|██████████████████████████████████████████████████████████████████████████████████| 37/37 [00:08<00:00,  4.40it/s]\n",
      "C:\\Users\\hxr\\AppData\\Local\\Temp\\2\\ipykernel_20156\\1479355589.py:346: RuntimeWarning: invalid value encountered in longlong_scalars\n",
      "  TPR = tp / (tp + fn)\n"
     ]
    },
    {
     "name": "stdout",
     "output_type": "stream",
     "text": [
      "2023-03-11 00:38:06,678 19860 1479355589.py[line:347] - INFO: Epoch mean loss: 2.4299362285717114\n",
      "2023-03-11 00:38:06,679 19860 1479355589.py[line:348] - INFO: warm_up_n_epochs:5\n",
      "2023-03-11 00:38:06,687 19860 1479355589.py[line:349] - INFO: Confusion Matrix:[[70065  2651]\n",
      " [    0     0]]\n",
      "2023-03-11 00:38:06,689 19860 1479355589.py[line:350] - INFO: FPR: 0.03645690081962704\n",
      "2023-03-11 00:38:06,694 19860 1479355589.py[line:351] - INFO: TPR: nan\n",
      "2023-03-11 00:38:06,696 19860 1479355589.py[line:352] - INFO: test RR: 7.818862407758272\n",
      "last_best,best_epoch 2.4299362285717114 69\n",
      "2023-03-11 00:38:06,838 19860 1479355589.py[line:306] - INFO: start 70 epoch\n"
     ]
    },
    {
     "name": "stderr",
     "output_type": "stream",
     "text": [
      "100%|██████████████████████████████████████████████████████████████████████████████████| 37/37 [00:08<00:00,  4.34it/s]\n"
     ]
    },
    {
     "name": "stdout",
     "output_type": "stream",
     "text": [
      "2023-03-11 00:38:15,596 19860 1479355589.py[line:347] - INFO: Epoch mean loss: 2.3614221263576196\n",
      "2023-03-11 00:38:15,598 19860 1479355589.py[line:348] - INFO: warm_up_n_epochs:5\n",
      "2023-03-11 00:38:15,608 19860 1479355589.py[line:349] - INFO: Confusion Matrix:[[69998  2718]\n",
      " [    0     0]]\n",
      "2023-03-11 00:38:15,614 19860 1479355589.py[line:350] - INFO: FPR: 0.0373782936355135\n",
      "2023-03-11 00:38:15,616 19860 1479355589.py[line:351] - INFO: TPR: nan\n",
      "2023-03-11 00:38:15,618 19860 1479355589.py[line:352] - INFO: test RR: 7.5845046126143805\n",
      "last_best,best_epoch 2.3614221263576196 70\n",
      "2023-03-11 00:38:15,770 19860 1479355589.py[line:306] - INFO: start 71 epoch\n"
     ]
    },
    {
     "name": "stderr",
     "output_type": "stream",
     "text": [
      "C:\\Users\\hxr\\AppData\\Local\\Temp\\2\\ipykernel_20156\\1479355589.py:346: RuntimeWarning: invalid value encountered in longlong_scalars\n",
      "  TPR = tp / (tp + fn)\n",
      "100%|██████████████████████████████████████████████████████████████████████████████████| 37/37 [00:08<00:00,  4.32it/s]\n"
     ]
    },
    {
     "name": "stdout",
     "output_type": "stream",
     "text": [
      "2023-03-11 00:38:24,566 19860 1479355589.py[line:347] - INFO: Epoch mean loss: 2.3135118871121794\n",
      "2023-03-11 00:38:24,569 19860 1479355589.py[line:348] - INFO: warm_up_n_epochs:5\n",
      "2023-03-11 00:38:24,582 19860 1479355589.py[line:349] - INFO: Confusion Matrix:[[70016  2700]\n",
      " [    0     0]]\n",
      "2023-03-11 00:38:24,588 19860 1479355589.py[line:350] - INFO: FPR: 0.0371307552670664\n",
      "2023-03-11 00:38:24,588 19860 1479355589.py[line:351] - INFO: TPR: nan\n",
      "2023-03-11 00:38:24,591 19860 1479355589.py[line:352] - INFO: test RR: 7.572697995045759\n",
      "last_best,best_epoch 2.3135118871121794 71\n",
      "2023-03-11 00:38:24,740 19860 1479355589.py[line:306] - INFO: start 72 epoch\n"
     ]
    },
    {
     "name": "stderr",
     "output_type": "stream",
     "text": [
      "C:\\Users\\hxr\\AppData\\Local\\Temp\\2\\ipykernel_20156\\1479355589.py:346: RuntimeWarning: invalid value encountered in longlong_scalars\n",
      "  TPR = tp / (tp + fn)\n",
      "100%|██████████████████████████████████████████████████████████████████████████████████| 37/37 [00:08<00:00,  4.33it/s]\n"
     ]
    },
    {
     "name": "stdout",
     "output_type": "stream",
     "text": [
      "2023-03-11 00:38:33,511 19860 1479355589.py[line:347] - INFO: Epoch mean loss: 2.282524534173914\n",
      "2023-03-11 00:38:33,513 19860 1479355589.py[line:348] - INFO: warm_up_n_epochs:5\n",
      "2023-03-11 00:38:33,520 19860 1479355589.py[line:349] - INFO: Confusion Matrix:[[70182  2534]\n",
      " [    0     0]]\n",
      "2023-03-11 00:38:33,523 19860 1479355589.py[line:350] - INFO: FPR: 0.03484790142472083\n",
      "2023-03-11 00:38:33,524 19860 1479355589.py[line:351] - INFO: TPR: nan\n",
      "2023-03-11 00:38:33,529 19860 1479355589.py[line:352] - INFO: test RR: 7.688548498465018\n",
      "last_best,best_epoch 2.282524534173914 72\n",
      "2023-03-11 00:38:33,683 19860 1479355589.py[line:306] - INFO: start 73 epoch\n"
     ]
    },
    {
     "name": "stderr",
     "output_type": "stream",
     "text": [
      "C:\\Users\\hxr\\AppData\\Local\\Temp\\2\\ipykernel_20156\\1479355589.py:346: RuntimeWarning: invalid value encountered in longlong_scalars\n",
      "  TPR = tp / (tp + fn)\n",
      "100%|██████████████████████████████████████████████████████████████████████████████████| 37/37 [00:08<00:00,  4.49it/s]\n"
     ]
    },
    {
     "name": "stdout",
     "output_type": "stream",
     "text": [
      "2023-03-11 00:38:42,142 19860 1479355589.py[line:347] - INFO: Epoch mean loss: 2.2310072666889913\n",
      "2023-03-11 00:38:42,152 19860 1479355589.py[line:348] - INFO: warm_up_n_epochs:5\n",
      "2023-03-11 00:38:42,161 19860 1479355589.py[line:349] - INFO: Confusion Matrix:[[70340  2376]\n",
      " [    0     0]]\n",
      "2023-03-11 00:38:42,163 19860 1479355589.py[line:350] - INFO: FPR: 0.03267506463501843\n",
      "2023-03-11 00:38:42,165 19860 1479355589.py[line:351] - INFO: TPR: nan\n",
      "2023-03-11 00:38:42,168 19860 1479355589.py[line:352] - INFO: test RR: 7.893267981125667\n",
      "last_best,best_epoch 2.2310072666889913 73\n",
      "2023-03-11 00:38:42,307 19860 1479355589.py[line:306] - INFO: start 74 epoch\n"
     ]
    },
    {
     "name": "stderr",
     "output_type": "stream",
     "text": [
      "C:\\Users\\hxr\\AppData\\Local\\Temp\\2\\ipykernel_20156\\1479355589.py:346: RuntimeWarning: invalid value encountered in longlong_scalars\n",
      "  TPR = tp / (tp + fn)\n",
      "100%|██████████████████████████████████████████████████████████████████████████████████| 37/37 [00:08<00:00,  4.33it/s]\n",
      "C:\\Users\\hxr\\AppData\\Local\\Temp\\2\\ipykernel_20156\\1479355589.py:346: RuntimeWarning: invalid value encountered in longlong_scalars\n",
      "  TPR = tp / (tp + fn)\n"
     ]
    },
    {
     "name": "stdout",
     "output_type": "stream",
     "text": [
      "2023-03-11 00:38:51,069 19860 1479355589.py[line:347] - INFO: Epoch mean loss: 2.167403775292474\n",
      "2023-03-11 00:38:51,070 19860 1479355589.py[line:348] - INFO: warm_up_n_epochs:5\n",
      "2023-03-11 00:38:51,084 19860 1479355589.py[line:349] - INFO: Confusion Matrix:[[70210  2506]\n",
      " [    0     0]]\n",
      "2023-03-11 00:38:51,086 19860 1479355589.py[line:350] - INFO: FPR: 0.03446284174046977\n",
      "2023-03-11 00:38:51,087 19860 1479355589.py[line:351] - INFO: TPR: nan\n",
      "2023-03-11 00:38:51,089 19860 1479355589.py[line:352] - INFO: test RR: 7.569284084964349\n",
      "last_best,best_epoch 2.167403775292474 74\n",
      "2023-03-11 00:38:51,223 19860 1479355589.py[line:306] - INFO: start 75 epoch\n"
     ]
    },
    {
     "name": "stderr",
     "output_type": "stream",
     "text": [
      "100%|██████████████████████████████████████████████████████████████████████████████████| 37/37 [00:08<00:00,  4.32it/s]\n"
     ]
    },
    {
     "name": "stdout",
     "output_type": "stream",
     "text": [
      "2023-03-11 00:39:00,018 19860 1479355589.py[line:347] - INFO: Epoch mean loss: 2.090299661095078\n",
      "2023-03-11 00:39:00,022 19860 1479355589.py[line:348] - INFO: warm_up_n_epochs:5\n",
      "2023-03-11 00:39:00,036 19860 1479355589.py[line:349] - INFO: Confusion Matrix:[[70060  2656]\n",
      " [    0     0]]\n",
      "2023-03-11 00:39:00,054 19860 1479355589.py[line:350] - INFO: FPR: 0.03652566147752902\n",
      "2023-03-11 00:39:00,061 19860 1479355589.py[line:351] - INFO: TPR: nan\n",
      "2023-03-11 00:39:00,065 19860 1479355589.py[line:352] - INFO: test RR: 7.273785022425891\n",
      "last_best,best_epoch 2.090299661095078 75\n",
      "2023-03-11 00:39:00,207 19860 1479355589.py[line:306] - INFO: start 76 epoch\n"
     ]
    },
    {
     "name": "stderr",
     "output_type": "stream",
     "text": [
      "C:\\Users\\hxr\\AppData\\Local\\Temp\\2\\ipykernel_20156\\1479355589.py:346: RuntimeWarning: invalid value encountered in longlong_scalars\n",
      "  TPR = tp / (tp + fn)\n",
      "100%|██████████████████████████████████████████████████████████████████████████████████| 37/37 [00:08<00:00,  4.40it/s]\n"
     ]
    },
    {
     "name": "stdout",
     "output_type": "stream",
     "text": [
      "2023-03-11 00:39:08,830 19860 1479355589.py[line:347] - INFO: Epoch mean loss: 2.026198947751844\n",
      "2023-03-11 00:39:08,832 19860 1479355589.py[line:348] - INFO: warm_up_n_epochs:5\n",
      "2023-03-11 00:39:08,840 19860 1479355589.py[line:349] - INFO: Confusion Matrix:[[70248  2468]\n",
      " [    0     0]]\n",
      "2023-03-11 00:39:08,841 19860 1479355589.py[line:350] - INFO: FPR: 0.033940260740414764\n",
      "2023-03-11 00:39:08,843 19860 1479355589.py[line:351] - INFO: TPR: nan\n",
      "2023-03-11 00:39:08,844 19860 1479355589.py[line:352] - INFO: test RR: 7.43126483214094\n",
      "last_best,best_epoch 2.026198947751844 76\n",
      "2023-03-11 00:39:08,987 19860 1479355589.py[line:306] - INFO: start 77 epoch\n"
     ]
    },
    {
     "name": "stderr",
     "output_type": "stream",
     "text": [
      "C:\\Users\\hxr\\AppData\\Local\\Temp\\2\\ipykernel_20156\\1479355589.py:346: RuntimeWarning: invalid value encountered in longlong_scalars\n",
      "  TPR = tp / (tp + fn)\n",
      "100%|██████████████████████████████████████████████████████████████████████████████████| 37/37 [00:08<00:00,  4.50it/s]\n"
     ]
    },
    {
     "name": "stdout",
     "output_type": "stream",
     "text": [
      "2023-03-11 00:39:17,445 19860 1479355589.py[line:347] - INFO: Epoch mean loss: 1.983786918021537\n",
      "2023-03-11 00:39:17,446 19860 1479355589.py[line:348] - INFO: warm_up_n_epochs:5\n",
      "2023-03-11 00:39:17,455 19860 1479355589.py[line:349] - INFO: Confusion Matrix:[[70318  2398]\n",
      " [    0     0]]\n",
      "2023-03-11 00:39:17,456 19860 1479355589.py[line:350] - INFO: FPR: 0.032977611529787114\n",
      "2023-03-11 00:39:17,458 19860 1479355589.py[line:351] - INFO: TPR: nan\n",
      "2023-03-11 00:39:17,459 19860 1479355589.py[line:352] - INFO: test RR: 7.467663856650501\n",
      "last_best,best_epoch 1.983786918021537 77\n",
      "2023-03-11 00:39:17,607 19860 1479355589.py[line:306] - INFO: start 78 epoch\n"
     ]
    },
    {
     "name": "stderr",
     "output_type": "stream",
     "text": [
      "C:\\Users\\hxr\\AppData\\Local\\Temp\\2\\ipykernel_20156\\1479355589.py:346: RuntimeWarning: invalid value encountered in longlong_scalars\n",
      "  TPR = tp / (tp + fn)\n",
      "100%|██████████████████████████████████████████████████████████████████████████████████| 37/37 [00:08<00:00,  4.23it/s]\n"
     ]
    },
    {
     "name": "stdout",
     "output_type": "stream",
     "text": [
      "2023-03-11 00:39:26,586 19860 1479355589.py[line:347] - INFO: Epoch mean loss: 1.955110736795374\n",
      "2023-03-11 00:39:26,588 19860 1479355589.py[line:348] - INFO: warm_up_n_epochs:5\n",
      "2023-03-11 00:39:26,594 19860 1479355589.py[line:349] - INFO: Confusion Matrix:[[70414  2302]\n",
      " [    0     0]]\n",
      "2023-03-11 00:39:26,596 19860 1479355589.py[line:350] - INFO: FPR: 0.0316574068980692\n",
      "2023-03-11 00:39:26,597 19860 1479355589.py[line:351] - INFO: TPR: nan\n",
      "2023-03-11 00:39:26,597 19860 1479355589.py[line:352] - INFO: test RR: 7.5878535592795435\n",
      "last_best,best_epoch 1.955110736795374 78\n",
      "2023-03-11 00:39:26,755 19860 1479355589.py[line:306] - INFO: start 79 epoch\n"
     ]
    },
    {
     "name": "stderr",
     "output_type": "stream",
     "text": [
      "C:\\Users\\hxr\\AppData\\Local\\Temp\\2\\ipykernel_20156\\1479355589.py:346: RuntimeWarning: invalid value encountered in longlong_scalars\n",
      "  TPR = tp / (tp + fn)\n",
      "100%|██████████████████████████████████████████████████████████████████████████████████| 37/37 [00:08<00:00,  4.35it/s]\n",
      "C:\\Users\\hxr\\AppData\\Local\\Temp\\2\\ipykernel_20156\\1479355589.py:346: RuntimeWarning: invalid value encountered in longlong_scalars\n",
      "  TPR = tp / (tp + fn)\n"
     ]
    },
    {
     "name": "stdout",
     "output_type": "stream",
     "text": [
      "2023-03-11 00:39:35,498 19860 1479355589.py[line:347] - INFO: Epoch mean loss: 1.9254111405965444\n",
      "2023-03-11 00:39:35,499 19860 1479355589.py[line:348] - INFO: warm_up_n_epochs:5\n",
      "2023-03-11 00:39:35,506 19860 1479355589.py[line:349] - INFO: Confusion Matrix:[[70315  2401]\n",
      " [    0     0]]\n",
      "2023-03-11 00:39:35,508 19860 1479355589.py[line:350] - INFO: FPR: 0.0330188679245283\n",
      "2023-03-11 00:39:35,509 19860 1479355589.py[line:351] - INFO: TPR: nan\n",
      "2023-03-11 00:39:35,510 19860 1479355589.py[line:352] - INFO: test RR: 7.374820774078745\n",
      "last_best,best_epoch 1.9254111405965444 79\n",
      "2023-03-11 00:39:35,721 19860 1479355589.py[line:306] - INFO: start 80 epoch\n"
     ]
    },
    {
     "name": "stderr",
     "output_type": "stream",
     "text": [
      "100%|██████████████████████████████████████████████████████████████████████████████████| 37/37 [00:08<00:00,  4.41it/s]\n"
     ]
    },
    {
     "name": "stdout",
     "output_type": "stream",
     "text": [
      "2023-03-11 00:39:44,340 19860 1479355589.py[line:347] - INFO: Epoch mean loss: 1.9108174169385754\n",
      "2023-03-11 00:39:44,341 19860 1479355589.py[line:348] - INFO: warm_up_n_epochs:5\n",
      "2023-03-11 00:39:44,347 19860 1479355589.py[line:349] - INFO: Confusion Matrix:[[70467  2249]\n",
      " [    0     0]]\n",
      "2023-03-11 00:39:44,350 19860 1479355589.py[line:350] - INFO: FPR: 0.030928543924308268\n",
      "2023-03-11 00:39:44,351 19860 1479355589.py[line:351] - INFO: TPR: nan\n",
      "2023-03-11 00:39:44,353 19860 1479355589.py[line:352] - INFO: test RR: 7.665602532935862\n",
      "last_best,best_epoch 1.9108174169385754 80\n",
      "2023-03-11 00:39:44,527 19860 1479355589.py[line:306] - INFO: start 81 epoch\n"
     ]
    },
    {
     "name": "stderr",
     "output_type": "stream",
     "text": [
      "C:\\Users\\hxr\\AppData\\Local\\Temp\\2\\ipykernel_20156\\1479355589.py:346: RuntimeWarning: invalid value encountered in longlong_scalars\n",
      "  TPR = tp / (tp + fn)\n",
      "100%|██████████████████████████████████████████████████████████████████████████████████| 37/37 [00:08<00:00,  4.27it/s]\n"
     ]
    },
    {
     "name": "stdout",
     "output_type": "stream",
     "text": [
      "2023-03-11 00:39:53,423 19860 1479355589.py[line:347] - INFO: Epoch mean loss: 1.8842442325643591\n",
      "2023-03-11 00:39:53,428 19860 1479355589.py[line:348] - INFO: warm_up_n_epochs:5\n",
      "2023-03-11 00:39:53,437 19860 1479355589.py[line:349] - INFO: Confusion Matrix:[[70531  2185]\n",
      " [    0     0]]\n",
      "2023-03-11 00:39:53,440 19860 1479355589.py[line:350] - INFO: FPR: 0.03004840750316299\n",
      "2023-03-11 00:39:53,442 19860 1479355589.py[line:351] - INFO: TPR: nan\n",
      "2023-03-11 00:39:53,447 19860 1479355589.py[line:352] - INFO: test RR: 7.705640866743451\n",
      "last_best,best_epoch 1.8842442325643591 81\n",
      "2023-03-11 00:39:53,593 19860 1479355589.py[line:306] - INFO: start 82 epoch\n"
     ]
    },
    {
     "name": "stderr",
     "output_type": "stream",
     "text": [
      "C:\\Users\\hxr\\AppData\\Local\\Temp\\2\\ipykernel_20156\\1479355589.py:346: RuntimeWarning: invalid value encountered in longlong_scalars\n",
      "  TPR = tp / (tp + fn)\n",
      "100%|██████████████████████████████████████████████████████████████████████████████████| 37/37 [00:08<00:00,  4.38it/s]\n"
     ]
    },
    {
     "name": "stdout",
     "output_type": "stream",
     "text": [
      "2023-03-11 00:40:02,279 19860 1479355589.py[line:347] - INFO: Epoch mean loss: 1.8226332052333936\n",
      "2023-03-11 00:40:02,281 19860 1479355589.py[line:348] - INFO: warm_up_n_epochs:5\n",
      "2023-03-11 00:40:02,289 19860 1479355589.py[line:349] - INFO: Confusion Matrix:[[70531  2185]\n",
      " [    0     0]]\n",
      "2023-03-11 00:40:02,290 19860 1479355589.py[line:350] - INFO: FPR: 0.03004840750316299\n",
      "2023-03-11 00:40:02,292 19860 1479355589.py[line:351] - INFO: TPR: nan\n",
      "2023-03-11 00:40:02,294 19860 1479355589.py[line:352] - INFO: test RR: 7.67925803771791\n",
      "last_best,best_epoch 1.8226332052333936 82\n",
      "2023-03-11 00:40:02,430 19860 1479355589.py[line:306] - INFO: start 83 epoch\n"
     ]
    },
    {
     "name": "stderr",
     "output_type": "stream",
     "text": [
      "C:\\Users\\hxr\\AppData\\Local\\Temp\\2\\ipykernel_20156\\1479355589.py:346: RuntimeWarning: invalid value encountered in longlong_scalars\n",
      "  TPR = tp / (tp + fn)\n",
      "100%|██████████████████████████████████████████████████████████████████████████████████| 37/37 [00:08<00:00,  4.38it/s]\n"
     ]
    },
    {
     "name": "stdout",
     "output_type": "stream",
     "text": [
      "2023-03-11 00:40:11,120 19860 1479355589.py[line:347] - INFO: Epoch mean loss: 1.7752148202947668\n",
      "2023-03-11 00:40:11,122 19860 1479355589.py[line:348] - INFO: warm_up_n_epochs:5\n",
      "2023-03-11 00:40:11,130 19860 1479355589.py[line:349] - INFO: Confusion Matrix:[[70572  2144]\n",
      " [    0     0]]\n",
      "2023-03-11 00:40:11,131 19860 1479355589.py[line:350] - INFO: FPR: 0.029484570108366796\n",
      "2023-03-11 00:40:11,133 19860 1479355589.py[line:351] - INFO: TPR: nan\n",
      "2023-03-11 00:40:11,134 19860 1479355589.py[line:352] - INFO: test RR: 7.633640574122994\n",
      "last_best,best_epoch 1.7752148202947668 83\n",
      "2023-03-11 00:40:11,272 19860 1479355589.py[line:306] - INFO: start 84 epoch\n"
     ]
    },
    {
     "name": "stderr",
     "output_type": "stream",
     "text": [
      "C:\\Users\\hxr\\AppData\\Local\\Temp\\2\\ipykernel_20156\\1479355589.py:346: RuntimeWarning: invalid value encountered in longlong_scalars\n",
      "  TPR = tp / (tp + fn)\n",
      "100%|██████████████████████████████████████████████████████████████████████████████████| 37/37 [00:08<00:00,  4.21it/s]\n"
     ]
    },
    {
     "name": "stdout",
     "output_type": "stream",
     "text": [
      "2023-03-11 00:40:20,290 19860 1479355589.py[line:347] - INFO: Epoch mean loss: 1.7821184300087594\n",
      "2023-03-11 00:40:20,291 19860 1479355589.py[line:348] - INFO: warm_up_n_epochs:5\n",
      "2023-03-11 00:40:20,301 19860 1479355589.py[line:349] - INFO: Confusion Matrix:[[70394  2322]\n",
      " [    0     0]]\n",
      "2023-03-11 00:40:20,304 19860 1479355589.py[line:350] - INFO: FPR: 0.0319324495296771\n",
      "2023-03-11 00:40:20,305 19860 1479355589.py[line:351] - INFO: TPR: nan\n",
      "2023-03-11 00:40:20,307 19860 1479355589.py[line:352] - INFO: test RR: 7.304641297437084\n",
      "last_best,best_epoch 1.7752148202947668 83\n",
      "2023-03-11 00:40:20,445 19860 1479355589.py[line:306] - INFO: start 85 epoch\n"
     ]
    },
    {
     "name": "stderr",
     "output_type": "stream",
     "text": [
      "C:\\Users\\hxr\\AppData\\Local\\Temp\\2\\ipykernel_20156\\1479355589.py:346: RuntimeWarning: invalid value encountered in longlong_scalars\n",
      "  TPR = tp / (tp + fn)\n",
      "100%|██████████████████████████████████████████████████████████████████████████████████| 37/37 [00:08<00:00,  4.29it/s]\n"
     ]
    },
    {
     "name": "stdout",
     "output_type": "stream",
     "text": [
      "2023-03-11 00:40:29,316 19860 1479355589.py[line:347] - INFO: Epoch mean loss: 1.7479364549791492\n",
      "2023-03-11 00:40:29,317 19860 1479355589.py[line:348] - INFO: warm_up_n_epochs:5\n",
      "2023-03-11 00:40:29,324 19860 1479355589.py[line:349] - INFO: Confusion Matrix:[[70549  2167]\n",
      " [    0     0]]\n",
      "2023-03-11 00:40:29,326 19860 1479355589.py[line:350] - INFO: FPR: 0.02980086913471588\n",
      "2023-03-11 00:40:29,327 19860 1479355589.py[line:351] - INFO: TPR: nan\n",
      "2023-03-11 00:40:29,328 19860 1479355589.py[line:352] - INFO: test RR: 7.5534585737499\n",
      "last_best,best_epoch 1.7479364549791492 85\n",
      "2023-03-11 00:40:29,488 19860 1479355589.py[line:306] - INFO: start 86 epoch\n"
     ]
    },
    {
     "name": "stderr",
     "output_type": "stream",
     "text": [
      "C:\\Users\\hxr\\AppData\\Local\\Temp\\2\\ipykernel_20156\\1479355589.py:346: RuntimeWarning: invalid value encountered in longlong_scalars\n",
      "  TPR = tp / (tp + fn)\n",
      "100%|██████████████████████████████████████████████████████████████████████████████████| 37/37 [00:08<00:00,  4.26it/s]\n"
     ]
    },
    {
     "name": "stdout",
     "output_type": "stream",
     "text": [
      "2023-03-11 00:40:38,398 19860 1479355589.py[line:347] - INFO: Epoch mean loss: 1.7035737585377049\n",
      "2023-03-11 00:40:38,400 19860 1479355589.py[line:348] - INFO: warm_up_n_epochs:5\n",
      "2023-03-11 00:40:38,406 19860 1479355589.py[line:349] - INFO: Confusion Matrix:[[70734  1982]\n",
      " [    0     0]]\n",
      "2023-03-11 00:40:38,408 19860 1479355589.py[line:350] - INFO: FPR: 0.027256724792342812\n",
      "2023-03-11 00:40:38,409 19860 1479355589.py[line:351] - INFO: TPR: nan\n",
      "2023-03-11 00:40:38,410 19860 1479355589.py[line:352] - INFO: test RR: 7.953642631937693\n",
      "last_best,best_epoch 1.7035737585377049 86\n",
      "2023-03-11 00:40:38,552 19860 1479355589.py[line:306] - INFO: start 87 epoch\n"
     ]
    },
    {
     "name": "stderr",
     "output_type": "stream",
     "text": [
      "C:\\Users\\hxr\\AppData\\Local\\Temp\\2\\ipykernel_20156\\1479355589.py:346: RuntimeWarning: invalid value encountered in longlong_scalars\n",
      "  TPR = tp / (tp + fn)\n",
      "100%|██████████████████████████████████████████████████████████████████████████████████| 37/37 [00:08<00:00,  4.48it/s]\n"
     ]
    },
    {
     "name": "stdout",
     "output_type": "stream",
     "text": [
      "2023-03-11 00:40:47,052 19860 1479355589.py[line:347] - INFO: Epoch mean loss: 1.6720054246283866\n",
      "2023-03-11 00:40:47,061 19860 1479355589.py[line:348] - INFO: warm_up_n_epochs:5\n",
      "2023-03-11 00:40:47,072 19860 1479355589.py[line:349] - INFO: Confusion Matrix:[[70361  2355]\n",
      " [    0     0]]\n",
      "2023-03-11 00:40:47,078 19860 1479355589.py[line:350] - INFO: FPR: 0.03238626987183013\n",
      "2023-03-11 00:40:47,083 19860 1479355589.py[line:351] - INFO: TPR: nan\n",
      "2023-03-11 00:40:47,095 19860 1479355589.py[line:352] - INFO: test RR: 7.110457642939488\n",
      "last_best,best_epoch 1.6720054246283866 87\n",
      "2023-03-11 00:40:47,234 19860 1479355589.py[line:306] - INFO: start 88 epoch\n"
     ]
    },
    {
     "name": "stderr",
     "output_type": "stream",
     "text": [
      "C:\\Users\\hxr\\AppData\\Local\\Temp\\2\\ipykernel_20156\\1479355589.py:346: RuntimeWarning: invalid value encountered in longlong_scalars\n",
      "  TPR = tp / (tp + fn)\n",
      "100%|██████████████████████████████████████████████████████████████████████████████████| 37/37 [00:08<00:00,  4.27it/s]\n"
     ]
    },
    {
     "name": "stdout",
     "output_type": "stream",
     "text": [
      "2023-03-11 00:40:56,117 19860 1479355589.py[line:347] - INFO: Epoch mean loss: 2.285491759712632\n",
      "2023-03-11 00:40:56,118 19860 1479355589.py[line:348] - INFO: warm_up_n_epochs:5\n",
      "2023-03-11 00:40:56,125 19860 1479355589.py[line:349] - INFO: Confusion Matrix:[[71002  1714]\n",
      " [    0     0]]\n",
      "2023-03-11 00:40:56,128 19860 1479355589.py[line:350] - INFO: FPR: 0.023571153528796962\n",
      "2023-03-11 00:40:56,129 19860 1479355589.py[line:351] - INFO: TPR: nan\n",
      "2023-03-11 00:40:56,130 19860 1479355589.py[line:352] - INFO: test RR: 9.522396753740566\n",
      "last_best,best_epoch 1.6720054246283866 87\n",
      "2023-03-11 00:40:56,271 19860 1479355589.py[line:306] - INFO: start 89 epoch\n"
     ]
    },
    {
     "name": "stderr",
     "output_type": "stream",
     "text": [
      "C:\\Users\\hxr\\AppData\\Local\\Temp\\2\\ipykernel_20156\\1479355589.py:346: RuntimeWarning: invalid value encountered in longlong_scalars\n",
      "  TPR = tp / (tp + fn)\n",
      "100%|██████████████████████████████████████████████████████████████████████████████████| 37/37 [00:08<00:00,  4.30it/s]\n"
     ]
    },
    {
     "name": "stdout",
     "output_type": "stream",
     "text": [
      "2023-03-11 00:41:05,096 19860 1479355589.py[line:347] - INFO: Epoch mean loss: 2.075690475670067\n",
      "2023-03-11 00:41:05,097 19860 1479355589.py[line:348] - INFO: warm_up_n_epochs:5\n",
      "2023-03-11 00:41:05,104 19860 1479355589.py[line:349] - INFO: Confusion Matrix:[[70814  1902]\n",
      " [    0     0]]\n",
      "2023-03-11 00:41:05,105 19860 1479355589.py[line:350] - INFO: FPR: 0.026156554265911215\n",
      "2023-03-11 00:41:05,106 19860 1479355589.py[line:351] - INFO: TPR: nan\n",
      "2023-03-11 00:41:05,107 19860 1479355589.py[line:352] - INFO: test RR: 8.781275338608545\n"
     ]
    },
    {
     "name": "stderr",
     "output_type": "stream",
     "text": [
      "C:\\Users\\hxr\\AppData\\Local\\Temp\\2\\ipykernel_20156\\1479355589.py:346: RuntimeWarning: invalid value encountered in longlong_scalars\n",
      "  TPR = tp / (tp + fn)\n"
     ]
    },
    {
     "name": "stdout",
     "output_type": "stream",
     "text": [
      "last_best,best_epoch 1.6720054246283866 87\n",
      "2023-03-11 00:41:05,305 19860 1479355589.py[line:306] - INFO: start 90 epoch\n"
     ]
    },
    {
     "name": "stderr",
     "output_type": "stream",
     "text": [
      "100%|██████████████████████████████████████████████████████████████████████████████████| 37/37 [00:08<00:00,  4.23it/s]\n"
     ]
    },
    {
     "name": "stdout",
     "output_type": "stream",
     "text": [
      "2023-03-11 00:41:14,285 19860 1479355589.py[line:347] - INFO: Epoch mean loss: 1.9104224153467126\n",
      "2023-03-11 00:41:14,286 19860 1479355589.py[line:348] - INFO: warm_up_n_epochs:5\n",
      "2023-03-11 00:41:14,294 19860 1479355589.py[line:349] - INFO: Confusion Matrix:[[70944  1772]\n",
      " [    0     0]]\n",
      "2023-03-11 00:41:14,296 19860 1479355589.py[line:350] - INFO: FPR: 0.024368777160459872\n",
      "2023-03-11 00:41:14,298 19860 1479355589.py[line:351] - INFO: TPR: nan\n",
      "2023-03-11 00:41:14,299 19860 1479355589.py[line:352] - INFO: test RR: 8.923373597102314\n",
      "last_best,best_epoch 1.6720054246283866 87\n",
      "2023-03-11 00:41:14,437 19860 1479355589.py[line:306] - INFO: start 91 epoch\n"
     ]
    },
    {
     "name": "stderr",
     "output_type": "stream",
     "text": [
      "C:\\Users\\hxr\\AppData\\Local\\Temp\\2\\ipykernel_20156\\1479355589.py:346: RuntimeWarning: invalid value encountered in longlong_scalars\n",
      "  TPR = tp / (tp + fn)\n",
      "100%|██████████████████████████████████████████████████████████████████████████████████| 37/37 [00:08<00:00,  4.34it/s]\n"
     ]
    },
    {
     "name": "stdout",
     "output_type": "stream",
     "text": [
      "2023-03-11 00:41:23,192 19860 1479355589.py[line:347] - INFO: Epoch mean loss: 1.8158806143580257\n",
      "2023-03-11 00:41:23,197 19860 1479355589.py[line:348] - INFO: warm_up_n_epochs:5\n",
      "2023-03-11 00:41:23,212 19860 1479355589.py[line:349] - INFO: Confusion Matrix:[[70968  1748]\n",
      " [    0     0]]\n",
      "2023-03-11 00:41:23,221 19860 1479355589.py[line:350] - INFO: FPR: 0.024038726002530392\n",
      "2023-03-11 00:41:23,227 19860 1479355589.py[line:351] - INFO: TPR: nan\n",
      "2023-03-11 00:41:23,231 19860 1479355589.py[line:352] - INFO: test RR: 8.787645600036866\n",
      "last_best,best_epoch 1.6720054246283866 87\n",
      "2023-03-11 00:41:23,384 19860 1479355589.py[line:306] - INFO: start 92 epoch\n"
     ]
    },
    {
     "name": "stderr",
     "output_type": "stream",
     "text": [
      "C:\\Users\\hxr\\AppData\\Local\\Temp\\2\\ipykernel_20156\\1479355589.py:346: RuntimeWarning: invalid value encountered in longlong_scalars\n",
      "  TPR = tp / (tp + fn)\n",
      "100%|██████████████████████████████████████████████████████████████████████████████████| 37/37 [00:08<00:00,  4.48it/s]\n"
     ]
    },
    {
     "name": "stdout",
     "output_type": "stream",
     "text": [
      "2023-03-11 00:41:31,862 19860 1479355589.py[line:347] - INFO: Epoch mean loss: 1.7535098597810075\n",
      "2023-03-11 00:41:31,864 19860 1479355589.py[line:348] - INFO: warm_up_n_epochs:5\n",
      "2023-03-11 00:41:31,871 19860 1479355589.py[line:349] - INFO: Confusion Matrix:[[71119  1597]\n",
      " [    0     0]]\n",
      "2023-03-11 00:41:31,873 19860 1479355589.py[line:350] - INFO: FPR: 0.021962154133890754\n",
      "2023-03-11 00:41:31,874 19860 1479355589.py[line:351] - INFO: TPR: nan\n",
      "2023-03-11 00:41:31,875 19860 1479355589.py[line:352] - INFO: test RR: 9.104014517122284\n",
      "last_best,best_epoch 1.6720054246283866 87\n",
      "2023-03-11 00:41:32,011 19860 1479355589.py[line:306] - INFO: start 93 epoch\n"
     ]
    },
    {
     "name": "stderr",
     "output_type": "stream",
     "text": [
      "C:\\Users\\hxr\\AppData\\Local\\Temp\\2\\ipykernel_20156\\1479355589.py:346: RuntimeWarning: invalid value encountered in longlong_scalars\n",
      "  TPR = tp / (tp + fn)\n",
      "100%|██████████████████████████████████████████████████████████████████████████████████| 37/37 [00:08<00:00,  4.26it/s]\n"
     ]
    },
    {
     "name": "stdout",
     "output_type": "stream",
     "text": [
      "2023-03-11 00:41:40,948 19860 1479355589.py[line:347] - INFO: Epoch mean loss: 1.710797583734667\n",
      "2023-03-11 00:41:40,954 19860 1479355589.py[line:348] - INFO: warm_up_n_epochs:5\n",
      "2023-03-11 00:41:40,965 19860 1479355589.py[line:349] - INFO: Confusion Matrix:[[70926  1790]\n",
      " [    0     0]]\n",
      "2023-03-11 00:41:40,968 19860 1479355589.py[line:350] - INFO: FPR: 0.02461631552890698\n",
      "2023-03-11 00:41:40,970 19860 1479355589.py[line:351] - INFO: TPR: nan\n",
      "2023-03-11 00:41:40,978 19860 1479355589.py[line:352] - INFO: test RR: 8.461469951108748\n",
      "last_best,best_epoch 1.6720054246283866 87\n",
      "2023-03-11 00:41:41,116 19860 1479355589.py[line:306] - INFO: start 94 epoch\n"
     ]
    },
    {
     "name": "stderr",
     "output_type": "stream",
     "text": [
      "C:\\Users\\hxr\\AppData\\Local\\Temp\\2\\ipykernel_20156\\1479355589.py:346: RuntimeWarning: invalid value encountered in longlong_scalars\n",
      "  TPR = tp / (tp + fn)\n",
      "100%|██████████████████████████████████████████████████████████████████████████████████| 37/37 [00:08<00:00,  4.36it/s]\n"
     ]
    },
    {
     "name": "stdout",
     "output_type": "stream",
     "text": [
      "2023-03-11 00:41:49,833 19860 1479355589.py[line:347] - INFO: Epoch mean loss: 1.6696791616646018\n",
      "2023-03-11 00:41:49,834 19860 1479355589.py[line:348] - INFO: warm_up_n_epochs:5\n",
      "2023-03-11 00:41:49,849 19860 1479355589.py[line:349] - INFO: Confusion Matrix:[[71237  1479]\n",
      " [    0     0]]\n",
      "2023-03-11 00:41:49,861 19860 1479355589.py[line:350] - INFO: FPR: 0.020339402607404147\n",
      "2023-03-11 00:41:49,862 19860 1479355589.py[line:351] - INFO: TPR: nan\n",
      "2023-03-11 00:41:49,863 19860 1479355589.py[line:352] - INFO: test RR: 9.282779803193616\n",
      "last_best,best_epoch 1.6696791616646018 94\n",
      "2023-03-11 00:41:50,004 19860 1479355589.py[line:306] - INFO: start 95 epoch\n"
     ]
    },
    {
     "name": "stderr",
     "output_type": "stream",
     "text": [
      "C:\\Users\\hxr\\AppData\\Local\\Temp\\2\\ipykernel_20156\\1479355589.py:346: RuntimeWarning: invalid value encountered in longlong_scalars\n",
      "  TPR = tp / (tp + fn)\n",
      "100%|██████████████████████████████████████████████████████████████████████████████████| 37/37 [00:08<00:00,  4.24it/s]\n"
     ]
    },
    {
     "name": "stdout",
     "output_type": "stream",
     "text": [
      "2023-03-11 00:41:59,004 19860 1479355589.py[line:347] - INFO: Epoch mean loss: 1.6407551378817171\n",
      "2023-03-11 00:41:59,006 19860 1479355589.py[line:348] - INFO: warm_up_n_epochs:5\n",
      "2023-03-11 00:41:59,013 19860 1479355589.py[line:349] - INFO: Confusion Matrix:[[71052  1664]\n",
      " [    0     0]]\n",
      "2023-03-11 00:41:59,015 19860 1479355589.py[line:350] - INFO: FPR: 0.022883546949777216\n",
      "2023-03-11 00:41:59,016 19860 1479355589.py[line:351] - INFO: TPR: nan\n",
      "2023-03-11 00:41:59,018 19860 1479355589.py[line:352] - INFO: test RR: 8.703425573206319\n",
      "last_best,best_epoch 1.6407551378817171 95\n",
      "2023-03-11 00:41:59,152 19860 1479355589.py[line:306] - INFO: start 96 epoch\n"
     ]
    },
    {
     "name": "stderr",
     "output_type": "stream",
     "text": [
      "C:\\Users\\hxr\\AppData\\Local\\Temp\\2\\ipykernel_20156\\1479355589.py:346: RuntimeWarning: invalid value encountered in longlong_scalars\n",
      "  TPR = tp / (tp + fn)\n",
      "100%|██████████████████████████████████████████████████████████████████████████████████| 37/37 [00:08<00:00,  4.44it/s]\n"
     ]
    },
    {
     "name": "stdout",
     "output_type": "stream",
     "text": [
      "2023-03-11 00:42:07,713 19860 1479355589.py[line:347] - INFO: Epoch mean loss: 1.6198803605260075\n",
      "2023-03-11 00:42:07,714 19860 1479355589.py[line:348] - INFO: warm_up_n_epochs:5\n",
      "2023-03-11 00:42:07,722 19860 1479355589.py[line:349] - INFO: Confusion Matrix:[[71218  1498]\n",
      " [    0     0]]\n",
      "2023-03-11 00:42:07,724 19860 1479355589.py[line:350] - INFO: FPR: 0.020600693107431654\n",
      "2023-03-11 00:42:07,725 19860 1479355589.py[line:351] - INFO: TPR: nan\n",
      "2023-03-11 00:42:07,727 19860 1479355589.py[line:352] - INFO: test RR: 9.068952499201425\n",
      "last_best,best_epoch 1.6198803605260075 96\n",
      "2023-03-11 00:42:07,868 19860 1479355589.py[line:306] - INFO: start 97 epoch\n"
     ]
    },
    {
     "name": "stderr",
     "output_type": "stream",
     "text": [
      "C:\\Users\\hxr\\AppData\\Local\\Temp\\2\\ipykernel_20156\\1479355589.py:346: RuntimeWarning: invalid value encountered in longlong_scalars\n",
      "  TPR = tp / (tp + fn)\n",
      "100%|██████████████████████████████████████████████████████████████████████████████████| 37/37 [00:08<00:00,  4.31it/s]\n",
      "C:\\Users\\hxr\\AppData\\Local\\Temp\\2\\ipykernel_20156\\1479355589.py:346: RuntimeWarning: invalid value encountered in longlong_scalars\n",
      "  TPR = tp / (tp + fn)\n"
     ]
    },
    {
     "name": "stdout",
     "output_type": "stream",
     "text": [
      "2023-03-11 00:42:16,663 19860 1479355589.py[line:347] - INFO: Epoch mean loss: 1.5900067767581425\n",
      "2023-03-11 00:42:16,665 19860 1479355589.py[line:348] - INFO: warm_up_n_epochs:5\n",
      "2023-03-11 00:42:16,672 19860 1479355589.py[line:349] - INFO: Confusion Matrix:[[71248  1468]\n",
      " [    0     0]]\n",
      "2023-03-11 00:42:16,674 19860 1479355589.py[line:350] - INFO: FPR: 0.020188129160019802\n",
      "2023-03-11 00:42:16,678 19860 1479355589.py[line:351] - INFO: TPR: nan\n",
      "2023-03-11 00:42:16,685 19860 1479355589.py[line:352] - INFO: test RR: 9.124522035653019\n",
      "last_best,best_epoch 1.5900067767581425 97\n",
      "2023-03-11 00:42:16,814 19860 1479355589.py[line:306] - INFO: start 98 epoch\n"
     ]
    },
    {
     "name": "stderr",
     "output_type": "stream",
     "text": [
      "100%|██████████████████████████████████████████████████████████████████████████████████| 37/37 [00:08<00:00,  4.27it/s]\n"
     ]
    },
    {
     "name": "stdout",
     "output_type": "stream",
     "text": [
      "2023-03-11 00:42:25,702 19860 1479355589.py[line:347] - INFO: Epoch mean loss: 1.5409080531146075\n",
      "2023-03-11 00:42:25,703 19860 1479355589.py[line:348] - INFO: warm_up_n_epochs:5\n",
      "2023-03-11 00:42:25,711 19860 1479355589.py[line:349] - INFO: Confusion Matrix:[[71054  1662]\n",
      " [    0     0]]\n",
      "2023-03-11 00:42:25,714 19860 1479355589.py[line:350] - INFO: FPR: 0.022856042686616427\n",
      "2023-03-11 00:42:25,716 19860 1479355589.py[line:351] - INFO: TPR: nan\n",
      "2023-03-11 00:42:25,717 19860 1479355589.py[line:352] - INFO: test RR: 8.505241904601512\n",
      "last_best,best_epoch 1.5409080531146075 98\n",
      "2023-03-11 00:42:25,867 19860 1479355589.py[line:306] - INFO: start 99 epoch\n"
     ]
    },
    {
     "name": "stderr",
     "output_type": "stream",
     "text": [
      "C:\\Users\\hxr\\AppData\\Local\\Temp\\2\\ipykernel_20156\\1479355589.py:346: RuntimeWarning: invalid value encountered in longlong_scalars\n",
      "  TPR = tp / (tp + fn)\n",
      "100%|██████████████████████████████████████████████████████████████████████████████████| 37/37 [00:09<00:00,  4.03it/s]\n"
     ]
    },
    {
     "name": "stdout",
     "output_type": "stream",
     "text": [
      "2023-03-11 00:42:35,292 19860 1479355589.py[line:347] - INFO: Epoch mean loss: 1.5225847476237528\n",
      "2023-03-11 00:42:35,294 19860 1479355589.py[line:348] - INFO: warm_up_n_epochs:5\n",
      "2023-03-11 00:42:35,301 19860 1479355589.py[line:349] - INFO: Confusion Matrix:[[71059  1657]\n",
      " [    0     0]]\n",
      "2023-03-11 00:42:35,303 19860 1479355589.py[line:350] - INFO: FPR: 0.02278728202871445\n",
      "2023-03-11 00:42:35,304 19860 1479355589.py[line:351] - INFO: TPR: nan\n",
      "2023-03-11 00:42:35,306 19860 1479355589.py[line:352] - INFO: test RR: 8.530606756640951\n",
      "last_best,best_epoch 1.5225847476237528 99\n",
      "2023-03-11 00:42:35,436 19860 1479355589.py[line:306] - INFO: start 100 epoch\n"
     ]
    },
    {
     "name": "stderr",
     "output_type": "stream",
     "text": [
      "C:\\Users\\hxr\\AppData\\Local\\Temp\\2\\ipykernel_20156\\1479355589.py:346: RuntimeWarning: invalid value encountered in longlong_scalars\n",
      "  TPR = tp / (tp + fn)\n",
      "100%|██████████████████████████████████████████████████████████████████████████████████| 37/37 [00:09<00:00,  3.97it/s]\n"
     ]
    },
    {
     "name": "stdout",
     "output_type": "stream",
     "text": [
      "2023-03-11 00:42:45,005 19860 1479355589.py[line:347] - INFO: Epoch mean loss: 1.5038440098633636\n",
      "2023-03-11 00:42:45,007 19860 1479355589.py[line:348] - INFO: warm_up_n_epochs:5\n",
      "2023-03-11 00:42:45,015 19860 1479355589.py[line:349] - INFO: Confusion Matrix:[[71118  1598]\n",
      " [    0     0]]\n",
      "2023-03-11 00:42:45,017 19860 1479355589.py[line:350] - INFO: FPR: 0.02197590626547115\n",
      "2023-03-11 00:42:45,018 19860 1479355589.py[line:351] - INFO: TPR: nan\n",
      "2023-03-11 00:42:45,020 19860 1479355589.py[line:352] - INFO: test RR: 8.618678391795243\n",
      "last_best,best_epoch 1.5038440098633636 100\n",
      "2023-03-11 00:42:45,165 19860 1479355589.py[line:306] - INFO: start 101 epoch\n"
     ]
    },
    {
     "name": "stderr",
     "output_type": "stream",
     "text": [
      "C:\\Users\\hxr\\AppData\\Local\\Temp\\2\\ipykernel_20156\\1479355589.py:346: RuntimeWarning: invalid value encountered in longlong_scalars\n",
      "  TPR = tp / (tp + fn)\n",
      "100%|██████████████████████████████████████████████████████████████████████████████████| 37/37 [00:08<00:00,  4.27it/s]\n"
     ]
    },
    {
     "name": "stdout",
     "output_type": "stream",
     "text": [
      "2023-03-11 00:42:54,094 19860 1479355589.py[line:347] - INFO: Epoch mean loss: 1.4682446106060132\n",
      "2023-03-11 00:42:54,100 19860 1479355589.py[line:348] - INFO: warm_up_n_epochs:5\n",
      "2023-03-11 00:42:54,113 19860 1479355589.py[line:349] - INFO: Confusion Matrix:[[71004  1712]\n",
      " [    0     0]]\n",
      "2023-03-11 00:42:54,121 19860 1479355589.py[line:350] - INFO: FPR: 0.023543649265636173\n",
      "2023-03-11 00:42:54,128 19860 1479355589.py[line:351] - INFO: TPR: nan\n",
      "2023-03-11 00:42:54,139 19860 1479355589.py[line:352] - INFO: test RR: 8.169701707747278\n",
      "last_best,best_epoch 1.4682446106060132 101\n",
      "2023-03-11 00:42:54,284 19860 1479355589.py[line:306] - INFO: start 102 epoch\n"
     ]
    },
    {
     "name": "stderr",
     "output_type": "stream",
     "text": [
      "C:\\Users\\hxr\\AppData\\Local\\Temp\\2\\ipykernel_20156\\1479355589.py:346: RuntimeWarning: invalid value encountered in longlong_scalars\n",
      "  TPR = tp / (tp + fn)\n",
      "100%|██████████████████████████████████████████████████████████████████████████████████| 37/37 [00:08<00:00,  4.40it/s]\n"
     ]
    },
    {
     "name": "stdout",
     "output_type": "stream",
     "text": [
      "2023-03-11 00:43:02,943 19860 1479355589.py[line:347] - INFO: Epoch mean loss: 1.4576063897158649\n",
      "2023-03-11 00:43:02,945 19860 1479355589.py[line:348] - INFO: warm_up_n_epochs:5\n",
      "2023-03-11 00:43:02,955 19860 1479355589.py[line:349] - INFO: Confusion Matrix:[[71056  1660]\n",
      " [    0     0]]\n",
      "2023-03-11 00:43:02,957 19860 1479355589.py[line:350] - INFO: FPR: 0.022828538423455634\n",
      "2023-03-11 00:43:02,959 19860 1479355589.py[line:351] - INFO: TPR: nan\n",
      "2023-03-11 00:43:02,960 19860 1479355589.py[line:352] - INFO: test RR: 8.325601979450642\n",
      "last_best,best_epoch 1.4576063897158649 102\n",
      "2023-03-11 00:43:03,102 19860 1479355589.py[line:306] - INFO: start 103 epoch\n"
     ]
    },
    {
     "name": "stderr",
     "output_type": "stream",
     "text": [
      "C:\\Users\\hxr\\AppData\\Local\\Temp\\2\\ipykernel_20156\\1479355589.py:346: RuntimeWarning: invalid value encountered in longlong_scalars\n",
      "  TPR = tp / (tp + fn)\n",
      "100%|██████████████████████████████████████████████████████████████████████████████████| 37/37 [00:08<00:00,  4.35it/s]\n"
     ]
    },
    {
     "name": "stdout",
     "output_type": "stream",
     "text": [
      "2023-03-11 00:43:11,837 19860 1479355589.py[line:347] - INFO: Epoch mean loss: 1.4517088580775905\n",
      "2023-03-11 00:43:11,839 19860 1479355589.py[line:348] - INFO: warm_up_n_epochs:5\n",
      "2023-03-11 00:43:11,849 19860 1479355589.py[line:349] - INFO: Confusion Matrix:[[71090  1626]\n",
      " [    0     0]]\n",
      "2023-03-11 00:43:11,851 19860 1479355589.py[line:350] - INFO: FPR: 0.022360965949722207\n",
      "2023-03-11 00:43:11,855 19860 1479355589.py[line:351] - INFO: TPR: nan\n",
      "2023-03-11 00:43:11,857 19860 1479355589.py[line:352] - INFO: test RR: 8.406046651745768\n",
      "last_best,best_epoch 1.4517088580775905 103\n",
      "2023-03-11 00:43:11,997 19860 1479355589.py[line:306] - INFO: start 104 epoch\n"
     ]
    },
    {
     "name": "stderr",
     "output_type": "stream",
     "text": [
      "C:\\Users\\hxr\\AppData\\Local\\Temp\\2\\ipykernel_20156\\1479355589.py:346: RuntimeWarning: invalid value encountered in longlong_scalars\n",
      "  TPR = tp / (tp + fn)\n",
      "100%|██████████████████████████████████████████████████████████████████████████████████| 37/37 [00:08<00:00,  4.29it/s]\n"
     ]
    },
    {
     "name": "stdout",
     "output_type": "stream",
     "text": [
      "2023-03-11 00:43:20,852 19860 1479355589.py[line:347] - INFO: Epoch mean loss: 1.4427352950379655\n",
      "2023-03-11 00:43:20,856 19860 1479355589.py[line:348] - INFO: warm_up_n_epochs:5\n",
      "2023-03-11 00:43:20,865 19860 1479355589.py[line:349] - INFO: Confusion Matrix:[[71096  1620]\n",
      " [    0     0]]\n",
      "2023-03-11 00:43:20,865 19860 1479355589.py[line:350] - INFO: FPR: 0.02227845316023984\n",
      "2023-03-11 00:43:20,868 19860 1479355589.py[line:351] - INFO: TPR: nan\n",
      "2023-03-11 00:43:20,870 19860 1479355589.py[line:352] - INFO: test RR: 8.413223173572177\n",
      "last_best,best_epoch 1.4427352950379655 104\n",
      "2023-03-11 00:43:21,015 19860 1479355589.py[line:306] - INFO: start 105 epoch\n"
     ]
    },
    {
     "name": "stderr",
     "output_type": "stream",
     "text": [
      "C:\\Users\\hxr\\AppData\\Local\\Temp\\2\\ipykernel_20156\\1479355589.py:346: RuntimeWarning: invalid value encountered in longlong_scalars\n",
      "  TPR = tp / (tp + fn)\n",
      "100%|██████████████████████████████████████████████████████████████████████████████████| 37/37 [00:08<00:00,  4.43it/s]\n"
     ]
    },
    {
     "name": "stdout",
     "output_type": "stream",
     "text": [
      "2023-03-11 00:43:29,608 19860 1479355589.py[line:347] - INFO: Epoch mean loss: 1.4213465033350765\n",
      "2023-03-11 00:43:29,612 19860 1479355589.py[line:348] - INFO: warm_up_n_epochs:5\n",
      "2023-03-11 00:43:29,625 19860 1479355589.py[line:349] - INFO: Confusion Matrix:[[70991  1725]\n",
      " [    0     0]]\n",
      "2023-03-11 00:43:29,634 19860 1479355589.py[line:350] - INFO: FPR: 0.023722426976181307\n",
      "2023-03-11 00:43:29,643 19860 1479355589.py[line:351] - INFO: TPR: nan\n",
      "2023-03-11 00:43:29,644 19860 1479355589.py[line:352] - INFO: test RR: 8.035715756469797\n",
      "last_best,best_epoch 1.4213465033350765 105\n",
      "2023-03-11 00:43:29,784 19860 1479355589.py[line:306] - INFO: start 106 epoch\n"
     ]
    },
    {
     "name": "stderr",
     "output_type": "stream",
     "text": [
      "C:\\Users\\hxr\\AppData\\Local\\Temp\\2\\ipykernel_20156\\1479355589.py:346: RuntimeWarning: invalid value encountered in longlong_scalars\n",
      "  TPR = tp / (tp + fn)\n",
      "100%|██████████████████████████████████████████████████████████████████████████████████| 37/37 [00:08<00:00,  4.34it/s]\n"
     ]
    },
    {
     "name": "stdout",
     "output_type": "stream",
     "text": [
      "2023-03-11 00:43:38,536 19860 1479355589.py[line:347] - INFO: Epoch mean loss: 1.420995831489563\n",
      "2023-03-11 00:43:38,537 19860 1479355589.py[line:348] - INFO: warm_up_n_epochs:5\n",
      "2023-03-11 00:43:38,548 19860 1479355589.py[line:349] - INFO: Confusion Matrix:[[71035  1681]\n",
      " [    0     0]]\n",
      "2023-03-11 00:43:38,550 19860 1479355589.py[line:350] - INFO: FPR: 0.02311733318664393\n",
      "2023-03-11 00:43:38,552 19860 1479355589.py[line:351] - INFO: TPR: nan\n",
      "2023-03-11 00:43:38,553 19860 1479355589.py[line:352] - INFO: test RR: 8.182021530819224\n",
      "last_best,best_epoch 1.420995831489563 106\n",
      "2023-03-11 00:43:38,694 19860 1479355589.py[line:306] - INFO: start 107 epoch\n"
     ]
    },
    {
     "name": "stderr",
     "output_type": "stream",
     "text": [
      "C:\\Users\\hxr\\AppData\\Local\\Temp\\2\\ipykernel_20156\\1479355589.py:346: RuntimeWarning: invalid value encountered in longlong_scalars\n",
      "  TPR = tp / (tp + fn)\n",
      "100%|██████████████████████████████████████████████████████████████████████████████████| 37/37 [00:08<00:00,  4.24it/s]\n"
     ]
    },
    {
     "name": "stdout",
     "output_type": "stream",
     "text": [
      "2023-03-11 00:43:47,646 19860 1479355589.py[line:347] - INFO: Epoch mean loss: 1.3887373788936719\n",
      "2023-03-11 00:43:47,648 19860 1479355589.py[line:348] - INFO: warm_up_n_epochs:5\n",
      "2023-03-11 00:43:47,656 19860 1479355589.py[line:349] - INFO: Confusion Matrix:[[70950  1766]\n",
      " [    0     0]]\n",
      "2023-03-11 00:43:47,660 19860 1479355589.py[line:350] - INFO: FPR: 0.0242862643709775\n",
      "2023-03-11 00:43:47,662 19860 1479355589.py[line:351] - INFO: TPR: nan\n",
      "2023-03-11 00:43:47,663 19860 1479355589.py[line:352] - INFO: test RR: 7.841567092615941\n",
      "last_best,best_epoch 1.3887373788936719 107\n",
      "2023-03-11 00:43:47,812 19860 1479355589.py[line:306] - INFO: start 108 epoch\n"
     ]
    },
    {
     "name": "stderr",
     "output_type": "stream",
     "text": [
      "C:\\Users\\hxr\\AppData\\Local\\Temp\\2\\ipykernel_20156\\1479355589.py:346: RuntimeWarning: invalid value encountered in longlong_scalars\n",
      "  TPR = tp / (tp + fn)\n",
      "100%|██████████████████████████████████████████████████████████████████████████████████| 37/37 [00:08<00:00,  4.40it/s]\n"
     ]
    },
    {
     "name": "stdout",
     "output_type": "stream",
     "text": [
      "2023-03-11 00:43:56,458 19860 1479355589.py[line:347] - INFO: Epoch mean loss: 1.3702467067821607\n",
      "2023-03-11 00:43:56,460 19860 1479355589.py[line:348] - INFO: warm_up_n_epochs:5\n",
      "2023-03-11 00:43:56,468 19860 1479355589.py[line:349] - INFO: Confusion Matrix:[[71035  1681]\n",
      " [    0     0]]\n",
      "2023-03-11 00:43:56,470 19860 1479355589.py[line:350] - INFO: FPR: 0.02311733318664393\n",
      "2023-03-11 00:43:56,471 19860 1479355589.py[line:351] - INFO: TPR: nan\n",
      "2023-03-11 00:43:56,473 19860 1479355589.py[line:352] - INFO: test RR: 8.038350293644424\n",
      "last_best,best_epoch 1.3702467067821607 108\n",
      "2023-03-11 00:43:56,613 19860 1479355589.py[line:306] - INFO: start 109 epoch\n"
     ]
    },
    {
     "name": "stderr",
     "output_type": "stream",
     "text": [
      "C:\\Users\\hxr\\AppData\\Local\\Temp\\2\\ipykernel_20156\\1479355589.py:346: RuntimeWarning: invalid value encountered in longlong_scalars\n",
      "  TPR = tp / (tp + fn)\n",
      "100%|██████████████████████████████████████████████████████████████████████████████████| 37/37 [00:08<00:00,  4.37it/s]\n"
     ]
    },
    {
     "name": "stdout",
     "output_type": "stream",
     "text": [
      "2023-03-11 00:44:05,301 19860 1479355589.py[line:347] - INFO: Epoch mean loss: 1.3798899682792458\n",
      "2023-03-11 00:44:05,303 19860 1479355589.py[line:348] - INFO: warm_up_n_epochs:5\n",
      "2023-03-11 00:44:05,312 19860 1479355589.py[line:349] - INFO: Confusion Matrix:[[71163  1553]\n",
      " [    0     0]]\n",
      "2023-03-11 00:44:05,313 19860 1479355589.py[line:350] - INFO: FPR: 0.021357060344353376\n",
      "2023-03-11 00:44:05,314 19860 1479355589.py[line:351] - INFO: TPR: nan\n",
      "2023-03-11 00:44:05,316 19860 1479355589.py[line:352] - INFO: test RR: 8.380155300753838\n"
     ]
    },
    {
     "name": "stderr",
     "output_type": "stream",
     "text": [
      "C:\\Users\\hxr\\AppData\\Local\\Temp\\2\\ipykernel_20156\\1479355589.py:346: RuntimeWarning: invalid value encountered in longlong_scalars\n",
      "  TPR = tp / (tp + fn)\n"
     ]
    },
    {
     "name": "stdout",
     "output_type": "stream",
     "text": [
      "last_best,best_epoch 1.3702467067821607 108\n",
      "2023-03-11 00:44:05,563 19860 1479355589.py[line:306] - INFO: start 110 epoch\n"
     ]
    },
    {
     "name": "stderr",
     "output_type": "stream",
     "text": [
      "100%|██████████████████████████████████████████████████████████████████████████████████| 37/37 [00:08<00:00,  4.57it/s]\n"
     ]
    },
    {
     "name": "stdout",
     "output_type": "stream",
     "text": [
      "2023-03-11 00:44:13,894 19860 1479355589.py[line:347] - INFO: Epoch mean loss: 1.3501650384954504\n",
      "2023-03-11 00:44:13,896 19860 1479355589.py[line:348] - INFO: warm_up_n_epochs:5\n",
      "2023-03-11 00:44:13,902 19860 1479355589.py[line:349] - INFO: Confusion Matrix:[[71104  1612]\n",
      " [    0     0]]\n",
      "2023-03-11 00:44:13,904 19860 1479355589.py[line:350] - INFO: FPR: 0.022168436107596678\n",
      "2023-03-11 00:44:13,905 19860 1479355589.py[line:351] - INFO: TPR: nan\n",
      "2023-03-11 00:44:13,907 19860 1479355589.py[line:352] - INFO: test RR: 8.222334415160308\n"
     ]
    },
    {
     "name": "stderr",
     "output_type": "stream",
     "text": [
      "C:\\Users\\hxr\\AppData\\Local\\Temp\\2\\ipykernel_20156\\1479355589.py:346: RuntimeWarning: invalid value encountered in longlong_scalars\n",
      "  TPR = tp / (tp + fn)\n"
     ]
    },
    {
     "name": "stdout",
     "output_type": "stream",
     "text": [
      "last_best,best_epoch 1.3501650384954504 110\n",
      "2023-03-11 00:44:14,187 19860 1479355589.py[line:306] - INFO: start 111 epoch\n"
     ]
    },
    {
     "name": "stderr",
     "output_type": "stream",
     "text": [
      "100%|██████████████████████████████████████████████████████████████████████████████████| 37/37 [00:08<00:00,  4.50it/s]\n"
     ]
    },
    {
     "name": "stdout",
     "output_type": "stream",
     "text": [
      "2023-03-11 00:44:22,666 19860 1479355589.py[line:347] - INFO: Epoch mean loss: 1.349783784634358\n",
      "2023-03-11 00:44:22,668 19860 1479355589.py[line:348] - INFO: warm_up_n_epochs:5\n",
      "2023-03-11 00:44:22,675 19860 1479355589.py[line:349] - INFO: Confusion Matrix:[[71080  1636]\n",
      " [    0     0]]\n",
      "2023-03-11 00:44:22,676 19860 1479355589.py[line:350] - INFO: FPR: 0.022498487265526158\n",
      "2023-03-11 00:44:22,681 19860 1479355589.py[line:351] - INFO: TPR: nan\n",
      "2023-03-11 00:44:22,685 19860 1479355589.py[line:352] - INFO: test RR: 8.144811369276358\n",
      "last_best,best_epoch 1.349783784634358 111\n",
      "2023-03-11 00:44:22,832 19860 1479355589.py[line:306] - INFO: start 112 epoch\n"
     ]
    },
    {
     "name": "stderr",
     "output_type": "stream",
     "text": [
      "C:\\Users\\hxr\\AppData\\Local\\Temp\\2\\ipykernel_20156\\1479355589.py:346: RuntimeWarning: invalid value encountered in longlong_scalars\n",
      "  TPR = tp / (tp + fn)\n",
      "100%|██████████████████████████████████████████████████████████████████████████████████| 37/37 [00:08<00:00,  4.54it/s]\n"
     ]
    },
    {
     "name": "stdout",
     "output_type": "stream",
     "text": [
      "2023-03-11 00:44:31,199 19860 1479355589.py[line:347] - INFO: Epoch mean loss: 1.3253597697696171\n",
      "2023-03-11 00:44:31,200 19860 1479355589.py[line:348] - INFO: warm_up_n_epochs:5\n",
      "2023-03-11 00:44:31,208 19860 1479355589.py[line:349] - INFO: Confusion Matrix:[[70918  1798]\n",
      " [    0     0]]\n",
      "2023-03-11 00:44:31,210 19860 1479355589.py[line:350] - INFO: FPR: 0.02472633258155014\n",
      "2023-03-11 00:44:31,212 19860 1479355589.py[line:351] - INFO: TPR: nan\n",
      "2023-03-11 00:44:31,213 19860 1479355589.py[line:352] - INFO: test RR: 7.598914141917471\n",
      "last_best,best_epoch 1.3253597697696171 112\n",
      "2023-03-11 00:44:31,356 19860 1479355589.py[line:306] - INFO: start 113 epoch\n"
     ]
    },
    {
     "name": "stderr",
     "output_type": "stream",
     "text": [
      "C:\\Users\\hxr\\AppData\\Local\\Temp\\2\\ipykernel_20156\\1479355589.py:346: RuntimeWarning: invalid value encountered in longlong_scalars\n",
      "  TPR = tp / (tp + fn)\n",
      "100%|██████████████████████████████████████████████████████████████████████████████████| 37/37 [00:08<00:00,  4.56it/s]\n"
     ]
    },
    {
     "name": "stdout",
     "output_type": "stream",
     "text": [
      "2023-03-11 00:44:39,740 19860 1479355589.py[line:347] - INFO: Epoch mean loss: 1.3162057625280845\n",
      "2023-03-11 00:44:39,742 19860 1479355589.py[line:348] - INFO: warm_up_n_epochs:5\n",
      "2023-03-11 00:44:39,749 19860 1479355589.py[line:349] - INFO: Confusion Matrix:[[71025  1691]\n",
      " [    0     0]]\n",
      "2023-03-11 00:44:39,752 19860 1479355589.py[line:350] - INFO: FPR: 0.02325485450244788\n",
      "2023-03-11 00:44:39,754 19860 1479355589.py[line:351] - INFO: TPR: nan\n",
      "2023-03-11 00:44:39,760 19860 1479355589.py[line:352] - INFO: test RR: 7.886276265800436\n",
      "last_best,best_epoch 1.3162057625280845 113\n",
      "2023-03-11 00:44:39,927 19860 1479355589.py[line:306] - INFO: start 114 epoch\n"
     ]
    },
    {
     "name": "stderr",
     "output_type": "stream",
     "text": [
      "C:\\Users\\hxr\\AppData\\Local\\Temp\\2\\ipykernel_20156\\1479355589.py:346: RuntimeWarning: invalid value encountered in longlong_scalars\n",
      "  TPR = tp / (tp + fn)\n",
      "100%|██████████████████████████████████████████████████████████████████████████████████| 37/37 [00:07<00:00,  4.63it/s]\n"
     ]
    },
    {
     "name": "stdout",
     "output_type": "stream",
     "text": [
      "2023-03-11 00:44:48,197 19860 1479355589.py[line:347] - INFO: Epoch mean loss: 1.3074698834805876\n",
      "2023-03-11 00:44:48,199 19860 1479355589.py[line:348] - INFO: warm_up_n_epochs:5\n",
      "2023-03-11 00:44:48,206 19860 1479355589.py[line:349] - INFO: Confusion Matrix:[[70969  1747]\n",
      " [    0     0]]\n",
      "2023-03-11 00:44:48,207 19860 1479355589.py[line:350] - INFO: FPR: 0.024024973870949998\n",
      "2023-03-11 00:44:48,209 19860 1479355589.py[line:351] - INFO: TPR: nan\n",
      "2023-03-11 00:44:48,210 19860 1479355589.py[line:352] - INFO: test RR: 7.700092124227905\n",
      "last_best,best_epoch 1.3074698834805876 114\n",
      "2023-03-11 00:44:48,369 19860 1479355589.py[line:306] - INFO: start 115 epoch\n"
     ]
    },
    {
     "name": "stderr",
     "output_type": "stream",
     "text": [
      "C:\\Users\\hxr\\AppData\\Local\\Temp\\2\\ipykernel_20156\\1479355589.py:346: RuntimeWarning: invalid value encountered in longlong_scalars\n",
      "  TPR = tp / (tp + fn)\n",
      "100%|██████████████████████████████████████████████████████████████████████████████████| 37/37 [00:08<00:00,  4.60it/s]\n"
     ]
    },
    {
     "name": "stdout",
     "output_type": "stream",
     "text": [
      "2023-03-11 00:44:56,664 19860 1479355589.py[line:347] - INFO: Epoch mean loss: 1.2825959212071187\n",
      "2023-03-11 00:44:56,666 19860 1479355589.py[line:348] - INFO: warm_up_n_epochs:5\n",
      "2023-03-11 00:44:56,673 19860 1479355589.py[line:349] - INFO: Confusion Matrix:[[71260  1456]\n",
      " [    0     0]]\n",
      "2023-03-11 00:44:56,675 19860 1479355589.py[line:350] - INFO: FPR: 0.020023103581055062\n",
      "2023-03-11 00:44:56,676 19860 1479355589.py[line:351] - INFO: TPR: nan\n",
      "2023-03-11 00:44:56,678 19860 1479355589.py[line:352] - INFO: test RR: 8.468438693763288\n",
      "last_best,best_epoch 1.2825959212071187 115\n",
      "2023-03-11 00:44:56,830 19860 1479355589.py[line:306] - INFO: start 116 epoch\n"
     ]
    },
    {
     "name": "stderr",
     "output_type": "stream",
     "text": [
      "C:\\Users\\hxr\\AppData\\Local\\Temp\\2\\ipykernel_20156\\1479355589.py:346: RuntimeWarning: invalid value encountered in longlong_scalars\n",
      "  TPR = tp / (tp + fn)\n",
      "100%|██████████████████████████████████████████████████████████████████████████████████| 37/37 [00:08<00:00,  4.52it/s]\n"
     ]
    },
    {
     "name": "stdout",
     "output_type": "stream",
     "text": [
      "2023-03-11 00:45:05,252 19860 1479355589.py[line:347] - INFO: Epoch mean loss: 1.2733411402315706\n",
      "2023-03-11 00:45:05,254 19860 1479355589.py[line:348] - INFO: warm_up_n_epochs:5\n",
      "2023-03-11 00:45:05,266 19860 1479355589.py[line:349] - INFO: Confusion Matrix:[[70976  1740]\n",
      " [    0     0]]\n",
      "2023-03-11 00:45:05,268 19860 1479355589.py[line:350] - INFO: FPR: 0.02392870894988723\n",
      "2023-03-11 00:45:05,275 19860 1479355589.py[line:351] - INFO: TPR: nan\n",
      "2023-03-11 00:45:05,280 19860 1479355589.py[line:352] - INFO: test RR: 7.574676352264378\n",
      "last_best,best_epoch 1.2733411402315706 116\n",
      "2023-03-11 00:45:05,444 19860 1479355589.py[line:306] - INFO: start 117 epoch\n"
     ]
    },
    {
     "name": "stderr",
     "output_type": "stream",
     "text": [
      "C:\\Users\\hxr\\AppData\\Local\\Temp\\2\\ipykernel_20156\\1479355589.py:346: RuntimeWarning: invalid value encountered in longlong_scalars\n",
      "  TPR = tp / (tp + fn)\n",
      "100%|██████████████████████████████████████████████████████████████████████████████████| 37/37 [00:08<00:00,  4.55it/s]\n"
     ]
    },
    {
     "name": "stdout",
     "output_type": "stream",
     "text": [
      "2023-03-11 00:45:13,802 19860 1479355589.py[line:347] - INFO: Epoch mean loss: 1.2653193248284829\n",
      "2023-03-11 00:45:13,804 19860 1479355589.py[line:348] - INFO: warm_up_n_epochs:5\n",
      "2023-03-11 00:45:13,811 19860 1479355589.py[line:349] - INFO: Confusion Matrix:[[71092  1624]\n",
      " [    0     0]]\n",
      "2023-03-11 00:45:13,812 19860 1479355589.py[line:350] - INFO: FPR: 0.022333461686561418\n",
      "2023-03-11 00:45:13,814 19860 1479355589.py[line:351] - INFO: TPR: nan\n",
      "2023-03-11 00:45:13,815 19860 1479355589.py[line:352] - INFO: test RR: 7.92972269859354\n",
      "last_best,best_epoch 1.2653193248284829 117\n",
      "2023-03-11 00:45:13,957 19860 1479355589.py[line:306] - INFO: start 118 epoch\n"
     ]
    },
    {
     "name": "stderr",
     "output_type": "stream",
     "text": [
      "C:\\Users\\hxr\\AppData\\Local\\Temp\\2\\ipykernel_20156\\1479355589.py:346: RuntimeWarning: invalid value encountered in longlong_scalars\n",
      "  TPR = tp / (tp + fn)\n",
      "100%|██████████████████████████████████████████████████████████████████████████████████| 37/37 [00:08<00:00,  4.56it/s]\n"
     ]
    },
    {
     "name": "stdout",
     "output_type": "stream",
     "text": [
      "2023-03-11 00:45:22,306 19860 1479355589.py[line:347] - INFO: Epoch mean loss: 1.2632192373275757\n",
      "2023-03-11 00:45:22,308 19860 1479355589.py[line:348] - INFO: warm_up_n_epochs:5\n",
      "2023-03-11 00:45:22,315 19860 1479355589.py[line:349] - INFO: Confusion Matrix:[[71193  1523]\n",
      " [    0     0]]\n",
      "2023-03-11 00:45:22,316 19860 1479355589.py[line:350] - INFO: FPR: 0.020944496396941525\n",
      "2023-03-11 00:45:22,317 19860 1479355589.py[line:351] - INFO: TPR: nan\n",
      "2023-03-11 00:45:22,325 19860 1479355589.py[line:352] - INFO: test RR: 8.253345623542971\n",
      "last_best,best_epoch 1.2632192373275757 118\n",
      "2023-03-11 00:45:22,465 19860 1479355589.py[line:306] - INFO: start 119 epoch\n"
     ]
    },
    {
     "name": "stderr",
     "output_type": "stream",
     "text": [
      "C:\\Users\\hxr\\AppData\\Local\\Temp\\2\\ipykernel_20156\\1479355589.py:346: RuntimeWarning: invalid value encountered in longlong_scalars\n",
      "  TPR = tp / (tp + fn)\n",
      "100%|██████████████████████████████████████████████████████████████████████████████████| 37/37 [00:07<00:00,  4.65it/s]\n"
     ]
    },
    {
     "name": "stdout",
     "output_type": "stream",
     "text": [
      "2023-03-11 00:45:30,658 19860 1479355589.py[line:347] - INFO: Epoch mean loss: 1.2455769229579616\n",
      "2023-03-11 00:45:30,660 19860 1479355589.py[line:348] - INFO: warm_up_n_epochs:5\n",
      "2023-03-11 00:45:30,669 19860 1479355589.py[line:349] - INFO: Confusion Matrix:[[71037  1679]\n",
      " [    0     0]]\n",
      "2023-03-11 00:45:30,672 19860 1479355589.py[line:350] - INFO: FPR: 0.02308982892348314\n",
      "2023-03-11 00:45:30,673 19860 1479355589.py[line:351] - INFO: TPR: nan\n",
      "2023-03-11 00:45:30,675 19860 1479355589.py[line:352] - INFO: test RR: 7.703181649959945\n",
      "last_best,best_epoch 1.2455769229579616 119\n",
      "2023-03-11 00:45:30,822 19860 1479355589.py[line:306] - INFO: start 120 epoch\n"
     ]
    },
    {
     "name": "stderr",
     "output_type": "stream",
     "text": [
      "C:\\Users\\hxr\\AppData\\Local\\Temp\\2\\ipykernel_20156\\1479355589.py:346: RuntimeWarning: invalid value encountered in longlong_scalars\n",
      "  TPR = tp / (tp + fn)\n",
      "100%|██████████████████████████████████████████████████████████████████████████████████| 37/37 [00:08<00:00,  4.49it/s]\n"
     ]
    },
    {
     "name": "stdout",
     "output_type": "stream",
     "text": [
      "2023-03-11 00:45:39,307 19860 1479355589.py[line:347] - INFO: Epoch mean loss: 1.2333092528420526\n",
      "2023-03-11 00:45:39,308 19860 1479355589.py[line:348] - INFO: warm_up_n_epochs:5\n",
      "2023-03-11 00:45:39,316 19860 1479355589.py[line:349] - INFO: Confusion Matrix:[[70971  1745]\n",
      " [    0     0]]\n",
      "2023-03-11 00:45:39,317 19860 1479355589.py[line:350] - INFO: FPR: 0.02399746960778921\n",
      "2023-03-11 00:45:39,318 19860 1479355589.py[line:351] - INFO: TPR: nan\n",
      "2023-03-11 00:45:39,320 19860 1479355589.py[line:352] - INFO: test RR: 7.564440349325037\n",
      "last_best,best_epoch 1.2333092528420526 120\n",
      "2023-03-11 00:45:39,465 19860 1479355589.py[line:306] - INFO: start 121 epoch\n"
     ]
    },
    {
     "name": "stderr",
     "output_type": "stream",
     "text": [
      "C:\\Users\\hxr\\AppData\\Local\\Temp\\2\\ipykernel_20156\\1479355589.py:346: RuntimeWarning: invalid value encountered in longlong_scalars\n",
      "  TPR = tp / (tp + fn)\n",
      "100%|██████████████████████████████████████████████████████████████████████████████████| 37/37 [00:08<00:00,  4.54it/s]\n"
     ]
    },
    {
     "name": "stdout",
     "output_type": "stream",
     "text": [
      "2023-03-11 00:45:47,837 19860 1479355589.py[line:347] - INFO: Epoch mean loss: 1.2377837993003227\n",
      "2023-03-11 00:45:47,839 19860 1479355589.py[line:348] - INFO: warm_up_n_epochs:5\n",
      "2023-03-11 00:45:47,847 19860 1479355589.py[line:349] - INFO: Confusion Matrix:[[70888  1828]\n",
      " [    0     0]]\n",
      "2023-03-11 00:45:47,851 19860 1479355589.py[line:350] - INFO: FPR: 0.02513889652896199\n",
      "2023-03-11 00:45:47,853 19860 1479355589.py[line:351] - INFO: TPR: nan\n",
      "2023-03-11 00:45:47,856 19860 1479355589.py[line:352] - INFO: test RR: 7.339489107373891\n",
      "last_best,best_epoch 1.2333092528420526 120\n",
      "2023-03-11 00:45:48,005 19860 1479355589.py[line:306] - INFO: start 122 epoch\n"
     ]
    },
    {
     "name": "stderr",
     "output_type": "stream",
     "text": [
      "C:\\Users\\hxr\\AppData\\Local\\Temp\\2\\ipykernel_20156\\1479355589.py:346: RuntimeWarning: invalid value encountered in longlong_scalars\n",
      "  TPR = tp / (tp + fn)\n",
      "100%|██████████████████████████████████████████████████████████████████████████████████| 37/37 [00:08<00:00,  4.49it/s]\n"
     ]
    },
    {
     "name": "stdout",
     "output_type": "stream",
     "text": [
      "2023-03-11 00:45:56,536 19860 1479355589.py[line:347] - INFO: Epoch mean loss: 1.2180930182740495\n",
      "2023-03-11 00:45:56,537 19860 1479355589.py[line:348] - INFO: warm_up_n_epochs:5\n",
      "2023-03-11 00:45:56,545 19860 1479355589.py[line:349] - INFO: Confusion Matrix:[[71287  1429]\n",
      " [    0     0]]\n",
      "2023-03-11 00:45:56,547 19860 1479355589.py[line:350] - INFO: FPR: 0.019651796028384398\n",
      "2023-03-11 00:45:56,548 19860 1479355589.py[line:351] - INFO: TPR: nan\n",
      "2023-03-11 00:45:56,549 19860 1479355589.py[line:352] - INFO: test RR: 8.422228400469857\n",
      "last_best,best_epoch 1.2180930182740495 122\n",
      "2023-03-11 00:45:56,698 19860 1479355589.py[line:306] - INFO: start 123 epoch\n"
     ]
    },
    {
     "name": "stderr",
     "output_type": "stream",
     "text": [
      "C:\\Users\\hxr\\AppData\\Local\\Temp\\2\\ipykernel_20156\\1479355589.py:346: RuntimeWarning: invalid value encountered in longlong_scalars\n",
      "  TPR = tp / (tp + fn)\n",
      "100%|██████████████████████████████████████████████████████████████████████████████████| 37/37 [00:08<00:00,  4.61it/s]\n"
     ]
    },
    {
     "name": "stdout",
     "output_type": "stream",
     "text": [
      "2023-03-11 00:46:04,980 19860 1479355589.py[line:347] - INFO: Epoch mean loss: 1.197016174728806\n",
      "2023-03-11 00:46:04,981 19860 1479355589.py[line:348] - INFO: warm_up_n_epochs:5\n",
      "2023-03-11 00:46:04,988 19860 1479355589.py[line:349] - INFO: Confusion Matrix:[[70893  1823]\n",
      " [    0     0]]\n",
      "2023-03-11 00:46:04,990 19860 1479355589.py[line:350] - INFO: FPR: 0.025070135871060013\n",
      "2023-03-11 00:46:04,992 19860 1479355589.py[line:351] - INFO: TPR: nan\n",
      "2023-03-11 00:46:04,993 19860 1479355589.py[line:352] - INFO: test RR: 7.2355306124738545\n",
      "last_best,best_epoch 1.197016174728806 123\n",
      "2023-03-11 00:46:05,136 19860 1479355589.py[line:306] - INFO: start 124 epoch\n"
     ]
    },
    {
     "name": "stderr",
     "output_type": "stream",
     "text": [
      "C:\\Users\\hxr\\AppData\\Local\\Temp\\2\\ipykernel_20156\\1479355589.py:346: RuntimeWarning: invalid value encountered in longlong_scalars\n",
      "  TPR = tp / (tp + fn)\n",
      "100%|██████████████████████████████████████████████████████████████████████████████████| 37/37 [00:08<00:00,  4.54it/s]\n"
     ]
    },
    {
     "name": "stdout",
     "output_type": "stream",
     "text": [
      "2023-03-11 00:46:13,530 19860 1479355589.py[line:347] - INFO: Epoch mean loss: 1.1927361101717562\n",
      "2023-03-11 00:46:13,531 19860 1479355589.py[line:348] - INFO: warm_up_n_epochs:5\n",
      "2023-03-11 00:46:13,541 19860 1479355589.py[line:349] - INFO: Confusion Matrix:[[71145  1571]\n",
      " [    0     0]]\n",
      "2023-03-11 00:46:13,543 19860 1479355589.py[line:350] - INFO: FPR: 0.021604598712800484\n",
      "2023-03-11 00:46:13,545 19860 1479355589.py[line:351] - INFO: TPR: nan\n",
      "2023-03-11 00:46:13,546 19860 1479355589.py[line:352] - INFO: test RR: 7.929201345327477\n",
      "last_best,best_epoch 1.1927361101717562 124\n",
      "2023-03-11 00:46:13,694 19860 1479355589.py[line:306] - INFO: start 125 epoch\n"
     ]
    },
    {
     "name": "stderr",
     "output_type": "stream",
     "text": [
      "C:\\Users\\hxr\\AppData\\Local\\Temp\\2\\ipykernel_20156\\1479355589.py:346: RuntimeWarning: invalid value encountered in longlong_scalars\n",
      "  TPR = tp / (tp + fn)\n",
      "100%|██████████████████████████████████████████████████████████████████████████████████| 37/37 [00:08<00:00,  4.54it/s]\n"
     ]
    },
    {
     "name": "stdout",
     "output_type": "stream",
     "text": [
      "2023-03-11 00:46:22,122 19860 1479355589.py[line:347] - INFO: Epoch mean loss: 1.1850093087634526\n",
      "2023-03-11 00:46:22,123 19860 1479355589.py[line:348] - INFO: warm_up_n_epochs:5\n",
      "2023-03-11 00:46:22,131 19860 1479355589.py[line:349] - INFO: Confusion Matrix:[[70916  1800]\n",
      " [    0     0]]\n",
      "2023-03-11 00:46:22,132 19860 1479355589.py[line:350] - INFO: FPR: 0.02475383684471093\n",
      "2023-03-11 00:46:22,133 19860 1479355589.py[line:351] - INFO: TPR: nan\n",
      "2023-03-11 00:46:22,135 19860 1479355589.py[line:352] - INFO: test RR: 7.224699272637747\n",
      "last_best,best_epoch 1.1850093087634526 125\n",
      "2023-03-11 00:46:22,286 19860 1479355589.py[line:306] - INFO: start 126 epoch\n"
     ]
    },
    {
     "name": "stderr",
     "output_type": "stream",
     "text": [
      "C:\\Users\\hxr\\AppData\\Local\\Temp\\2\\ipykernel_20156\\1479355589.py:346: RuntimeWarning: invalid value encountered in longlong_scalars\n",
      "  TPR = tp / (tp + fn)\n",
      "100%|██████████████████████████████████████████████████████████████████████████████████| 37/37 [00:08<00:00,  4.49it/s]\n"
     ]
    },
    {
     "name": "stdout",
     "output_type": "stream",
     "text": [
      "2023-03-11 00:46:30,768 19860 1479355589.py[line:347] - INFO: Epoch mean loss: 1.1797602466634802\n",
      "2023-03-11 00:46:30,771 19860 1479355589.py[line:348] - INFO: warm_up_n_epochs:5\n",
      "2023-03-11 00:46:30,778 19860 1479355589.py[line:349] - INFO: Confusion Matrix:[[71177  1539]\n",
      " [    0     0]]\n",
      "2023-03-11 00:46:30,779 19860 1479355589.py[line:350] - INFO: FPR: 0.021164530502227847\n",
      "2023-03-11 00:46:30,782 19860 1479355589.py[line:351] - INFO: TPR: nan\n",
      "2023-03-11 00:46:30,783 19860 1479355589.py[line:352] - INFO: test RR: 7.985015918209255\n",
      "last_best,best_epoch 1.1797602466634802 126\n",
      "2023-03-11 00:46:30,932 19860 1479355589.py[line:306] - INFO: start 127 epoch\n"
     ]
    },
    {
     "name": "stderr",
     "output_type": "stream",
     "text": [
      "C:\\Users\\hxr\\AppData\\Local\\Temp\\2\\ipykernel_20156\\1479355589.py:346: RuntimeWarning: invalid value encountered in longlong_scalars\n",
      "  TPR = tp / (tp + fn)\n",
      "100%|██████████████████████████████████████████████████████████████████████████████████| 37/37 [00:08<00:00,  4.58it/s]\n"
     ]
    },
    {
     "name": "stdout",
     "output_type": "stream",
     "text": [
      "2023-03-11 00:46:39,302 19860 1479355589.py[line:347] - INFO: Epoch mean loss: 1.175040747668292\n",
      "2023-03-11 00:46:39,303 19860 1479355589.py[line:348] - INFO: warm_up_n_epochs:5\n",
      "2023-03-11 00:46:39,310 19860 1479355589.py[line:349] - INFO: Confusion Matrix:[[70793  1923]\n",
      " [    0     0]]\n",
      "2023-03-11 00:46:39,312 19860 1479355589.py[line:350] - INFO: FPR: 0.02644534902909951\n",
      "2023-03-11 00:46:39,313 19860 1479355589.py[line:351] - INFO: TPR: nan\n",
      "2023-03-11 00:46:39,314 19860 1479355589.py[line:352] - INFO: test RR: 6.881471940995143\n",
      "last_best,best_epoch 1.175040747668292 127\n",
      "2023-03-11 00:46:39,458 19860 1479355589.py[line:306] - INFO: start 128 epoch\n"
     ]
    },
    {
     "name": "stderr",
     "output_type": "stream",
     "text": [
      "C:\\Users\\hxr\\AppData\\Local\\Temp\\2\\ipykernel_20156\\1479355589.py:346: RuntimeWarning: invalid value encountered in longlong_scalars\n",
      "  TPR = tp / (tp + fn)\n",
      "100%|██████████████████████████████████████████████████████████████████████████████████| 37/37 [00:08<00:00,  4.59it/s]\n"
     ]
    },
    {
     "name": "stdout",
     "output_type": "stream",
     "text": [
      "2023-03-11 00:46:47,823 19860 1479355589.py[line:347] - INFO: Epoch mean loss: 1.1641388164984214\n",
      "2023-03-11 00:46:47,824 19860 1479355589.py[line:348] - INFO: warm_up_n_epochs:5\n",
      "2023-03-11 00:46:47,834 19860 1479355589.py[line:349] - INFO: Confusion Matrix:[[70945  1771]\n",
      " [    0     0]]\n",
      "2023-03-11 00:46:47,835 19860 1479355589.py[line:350] - INFO: FPR: 0.024355025028879478\n",
      "2023-03-11 00:46:47,836 19860 1479355589.py[line:351] - INFO: TPR: nan\n",
      "2023-03-11 00:46:47,838 19860 1479355589.py[line:352] - INFO: test RR: 7.296791535522998\n",
      "last_best,best_epoch 1.1641388164984214 128\n",
      "2023-03-11 00:46:47,999 19860 1479355589.py[line:306] - INFO: start 129 epoch\n"
     ]
    },
    {
     "name": "stderr",
     "output_type": "stream",
     "text": [
      "C:\\Users\\hxr\\AppData\\Local\\Temp\\2\\ipykernel_20156\\1479355589.py:346: RuntimeWarning: invalid value encountered in longlong_scalars\n",
      "  TPR = tp / (tp + fn)\n",
      "100%|██████████████████████████████████████████████████████████████████████████████████| 37/37 [00:08<00:00,  4.51it/s]\n"
     ]
    },
    {
     "name": "stdout",
     "output_type": "stream",
     "text": [
      "2023-03-11 00:46:56,460 19860 1479355589.py[line:347] - INFO: Epoch mean loss: 1.1583166315748885\n",
      "2023-03-11 00:46:56,462 19860 1479355589.py[line:348] - INFO: warm_up_n_epochs:5\n",
      "2023-03-11 00:46:56,473 19860 1479355589.py[line:349] - INFO: Confusion Matrix:[[70840  1876]\n",
      " [    0     0]]\n",
      "2023-03-11 00:46:56,475 19860 1479355589.py[line:350] - INFO: FPR: 0.025798998844820946\n",
      "2023-03-11 00:46:56,476 19860 1479355589.py[line:351] - INFO: TPR: nan\n",
      "2023-03-11 00:46:56,478 19860 1479355589.py[line:352] - INFO: test RR: 6.986686277653664\n",
      "last_best,best_epoch 1.1583166315748885 129\n",
      "2023-03-11 00:46:56,628 19860 1479355589.py[line:306] - INFO: start 130 epoch\n"
     ]
    },
    {
     "name": "stderr",
     "output_type": "stream",
     "text": [
      "C:\\Users\\hxr\\AppData\\Local\\Temp\\2\\ipykernel_20156\\1479355589.py:346: RuntimeWarning: invalid value encountered in longlong_scalars\n",
      "  TPR = tp / (tp + fn)\n",
      "100%|██████████████████████████████████████████████████████████████████████████████████| 37/37 [00:07<00:00,  4.63it/s]\n"
     ]
    },
    {
     "name": "stdout",
     "output_type": "stream",
     "text": [
      "2023-03-11 00:47:04,872 19860 1479355589.py[line:347] - INFO: Epoch mean loss: 1.1598957615929681\n",
      "2023-03-11 00:47:04,874 19860 1479355589.py[line:348] - INFO: warm_up_n_epochs:5\n",
      "2023-03-11 00:47:04,881 19860 1479355589.py[line:349] - INFO: Confusion Matrix:[[70949  1767]\n",
      " [    0     0]]\n",
      "2023-03-11 00:47:04,883 19860 1479355589.py[line:350] - INFO: FPR: 0.024300016502557895\n",
      "2023-03-11 00:47:04,884 19860 1479355589.py[line:351] - INFO: TPR: nan\n",
      "2023-03-11 00:47:04,885 19860 1479355589.py[line:352] - INFO: test RR: 7.277984468251564\n",
      "last_best,best_epoch 1.1583166315748885 129\n",
      "2023-03-11 00:47:05,043 19860 1479355589.py[line:306] - INFO: start 131 epoch\n"
     ]
    },
    {
     "name": "stderr",
     "output_type": "stream",
     "text": [
      "C:\\Users\\hxr\\AppData\\Local\\Temp\\2\\ipykernel_20156\\1479355589.py:346: RuntimeWarning: invalid value encountered in longlong_scalars\n",
      "  TPR = tp / (tp + fn)\n",
      "100%|██████████████████████████████████████████████████████████████████████████████████| 37/37 [00:08<00:00,  4.44it/s]\n"
     ]
    },
    {
     "name": "stdout",
     "output_type": "stream",
     "text": [
      "2023-03-11 00:47:13,621 19860 1479355589.py[line:347] - INFO: Epoch mean loss: 1.14194152484069\n",
      "2023-03-11 00:47:13,622 19860 1479355589.py[line:348] - INFO: warm_up_n_epochs:5\n",
      "2023-03-11 00:47:13,629 19860 1479355589.py[line:349] - INFO: Confusion Matrix:[[70754  1962]\n",
      " [    0     0]]\n",
      "2023-03-11 00:47:13,632 19860 1479355589.py[line:350] - INFO: FPR: 0.026981682160734915\n",
      "2023-03-11 00:47:13,637 19860 1479355589.py[line:351] - INFO: TPR: nan\n",
      "2023-03-11 00:47:13,638 19860 1479355589.py[line:352] - INFO: test RR: 6.69074366427066\n",
      "last_best,best_epoch 1.14194152484069 131\n",
      "2023-03-11 00:47:13,796 19860 1479355589.py[line:306] - INFO: start 132 epoch\n"
     ]
    },
    {
     "name": "stderr",
     "output_type": "stream",
     "text": [
      "C:\\Users\\hxr\\AppData\\Local\\Temp\\2\\ipykernel_20156\\1479355589.py:346: RuntimeWarning: invalid value encountered in longlong_scalars\n",
      "  TPR = tp / (tp + fn)\n",
      "100%|██████████████████████████████████████████████████████████████████████████████████| 37/37 [00:07<00:00,  4.66it/s]\n"
     ]
    },
    {
     "name": "stdout",
     "output_type": "stream",
     "text": [
      "2023-03-11 00:47:22,026 19860 1479355589.py[line:347] - INFO: Epoch mean loss: 1.130230980950433\n",
      "2023-03-11 00:47:22,028 19860 1479355589.py[line:348] - INFO: warm_up_n_epochs:5\n",
      "2023-03-11 00:47:22,036 19860 1479355589.py[line:349] - INFO: Confusion Matrix:[[70634  2082]\n",
      " [    0     0]]\n",
      "2023-03-11 00:47:22,037 19860 1479355589.py[line:350] - INFO: FPR: 0.02863193795038231\n",
      "2023-03-11 00:47:22,038 19860 1479355589.py[line:351] - INFO: TPR: nan\n",
      "2023-03-11 00:47:22,039 19860 1479355589.py[line:352] - INFO: test RR: 6.3987902657066735\n",
      "last_best,best_epoch 1.130230980950433 132\n",
      "2023-03-11 00:47:22,183 19860 1479355589.py[line:306] - INFO: start 133 epoch\n"
     ]
    },
    {
     "name": "stderr",
     "output_type": "stream",
     "text": [
      "C:\\Users\\hxr\\AppData\\Local\\Temp\\2\\ipykernel_20156\\1479355589.py:346: RuntimeWarning: invalid value encountered in longlong_scalars\n",
      "  TPR = tp / (tp + fn)\n",
      "100%|██████████████████████████████████████████████████████████████████████████████████| 37/37 [00:08<00:00,  4.55it/s]\n"
     ]
    },
    {
     "name": "stdout",
     "output_type": "stream",
     "text": [
      "2023-03-11 00:47:30,535 19860 1479355589.py[line:347] - INFO: Epoch mean loss: 1.132082848935514\n",
      "2023-03-11 00:47:30,536 19860 1479355589.py[line:348] - INFO: warm_up_n_epochs:5\n",
      "2023-03-11 00:47:30,548 19860 1479355589.py[line:349] - INFO: Confusion Matrix:[[71104  1612]\n",
      " [    0     0]]\n",
      "2023-03-11 00:47:30,553 19860 1479355589.py[line:350] - INFO: FPR: 0.022168436107596678\n",
      "2023-03-11 00:47:30,557 19860 1479355589.py[line:351] - INFO: TPR: nan\n",
      "2023-03-11 00:47:30,564 19860 1479355589.py[line:352] - INFO: test RR: 7.640178037199625\n",
      "last_best,best_epoch 1.130230980950433 132\n",
      "2023-03-11 00:47:30,707 19860 1479355589.py[line:306] - INFO: start 134 epoch\n"
     ]
    },
    {
     "name": "stderr",
     "output_type": "stream",
     "text": [
      "C:\\Users\\hxr\\AppData\\Local\\Temp\\2\\ipykernel_20156\\1479355589.py:346: RuntimeWarning: invalid value encountered in longlong_scalars\n",
      "  TPR = tp / (tp + fn)\n",
      "100%|██████████████████████████████████████████████████████████████████████████████████| 37/37 [00:08<00:00,  4.51it/s]\n"
     ]
    },
    {
     "name": "stdout",
     "output_type": "stream",
     "text": [
      "2023-03-11 00:47:39,158 19860 1479355589.py[line:347] - INFO: Epoch mean loss: 1.1366439896660883\n",
      "2023-03-11 00:47:39,161 19860 1479355589.py[line:348] - INFO: warm_up_n_epochs:5\n",
      "2023-03-11 00:47:39,182 19860 1479355589.py[line:349] - INFO: Confusion Matrix:[[71086  1630]\n",
      " [    0     0]]\n",
      "2023-03-11 00:47:39,186 19860 1479355589.py[line:350] - INFO: FPR: 0.022415974476043786\n",
      "2023-03-11 00:47:39,190 19860 1479355589.py[line:351] - INFO: TPR: nan\n",
      "2023-03-11 00:47:39,191 19860 1479355589.py[line:352] - INFO: test RR: 7.559932723953984\n",
      "last_best,best_epoch 1.130230980950433 132\n",
      "2023-03-11 00:47:39,334 19860 1479355589.py[line:306] - INFO: start 135 epoch\n"
     ]
    },
    {
     "name": "stderr",
     "output_type": "stream",
     "text": [
      "C:\\Users\\hxr\\AppData\\Local\\Temp\\2\\ipykernel_20156\\1479355589.py:346: RuntimeWarning: invalid value encountered in longlong_scalars\n",
      "  TPR = tp / (tp + fn)\n",
      "100%|██████████████████████████████████████████████████████████████████████████████████| 37/37 [00:08<00:00,  4.53it/s]\n"
     ]
    },
    {
     "name": "stdout",
     "output_type": "stream",
     "text": [
      "2023-03-11 00:47:47,738 19860 1479355589.py[line:347] - INFO: Epoch mean loss: 1.1177624270722673\n",
      "2023-03-11 00:47:47,739 19860 1479355589.py[line:348] - INFO: warm_up_n_epochs:5\n",
      "2023-03-11 00:47:47,746 19860 1479355589.py[line:349] - INFO: Confusion Matrix:[[70807  1909]\n",
      " [    0     0]]\n",
      "2023-03-11 00:47:47,750 19860 1479355589.py[line:350] - INFO: FPR: 0.02625281918697398\n",
      "2023-03-11 00:47:47,751 19860 1479355589.py[line:351] - INFO: TPR: nan\n",
      "2023-03-11 00:47:47,753 19860 1479355589.py[line:352] - INFO: test RR: 6.763500407613806\n",
      "last_best,best_epoch 1.1177624270722673 135\n",
      "2023-03-11 00:47:47,911 19860 1479355589.py[line:306] - INFO: start 136 epoch\n"
     ]
    },
    {
     "name": "stderr",
     "output_type": "stream",
     "text": [
      "C:\\Users\\hxr\\AppData\\Local\\Temp\\2\\ipykernel_20156\\1479355589.py:346: RuntimeWarning: invalid value encountered in longlong_scalars\n",
      "  TPR = tp / (tp + fn)\n",
      "100%|██████████████████████████████████████████████████████████████████████████████████| 37/37 [00:08<00:00,  4.53it/s]\n"
     ]
    },
    {
     "name": "stdout",
     "output_type": "stream",
     "text": [
      "2023-03-11 00:47:56,349 19860 1479355589.py[line:347] - INFO: Epoch mean loss: 1.1074256381473027\n",
      "2023-03-11 00:47:56,350 19860 1479355589.py[line:348] - INFO: warm_up_n_epochs:5\n",
      "2023-03-11 00:47:56,368 19860 1479355589.py[line:349] - INFO: Confusion Matrix:[[70852  1864]\n",
      " [    0     0]]\n",
      "2023-03-11 00:47:56,375 19860 1479355589.py[line:350] - INFO: FPR: 0.02563397326585621\n",
      "2023-03-11 00:47:56,379 19860 1479355589.py[line:351] - INFO: TPR: nan\n",
      "2023-03-11 00:47:56,383 19860 1479355589.py[line:352] - INFO: test RR: 6.870405016618607\n",
      "last_best,best_epoch 1.1074256381473027 136\n",
      "2023-03-11 00:47:56,540 19860 1479355589.py[line:306] - INFO: start 137 epoch\n"
     ]
    },
    {
     "name": "stderr",
     "output_type": "stream",
     "text": [
      "C:\\Users\\hxr\\AppData\\Local\\Temp\\2\\ipykernel_20156\\1479355589.py:346: RuntimeWarning: invalid value encountered in longlong_scalars\n",
      "  TPR = tp / (tp + fn)\n",
      "100%|██████████████████████████████████████████████████████████████████████████████████| 37/37 [00:07<00:00,  4.66it/s]\n"
     ]
    },
    {
     "name": "stdout",
     "output_type": "stream",
     "text": [
      "2023-03-11 00:48:04,754 19860 1479355589.py[line:347] - INFO: Epoch mean loss: 1.0997245343955788\n",
      "2023-03-11 00:48:04,756 19860 1479355589.py[line:348] - INFO: warm_up_n_epochs:5\n",
      "2023-03-11 00:48:04,764 19860 1479355589.py[line:349] - INFO: Confusion Matrix:[[70697  2019]\n",
      " [    0     0]]\n",
      "2023-03-11 00:48:04,765 19860 1479355589.py[line:350] - INFO: FPR: 0.027765553660817427\n",
      "2023-03-11 00:48:04,767 19860 1479355589.py[line:351] - INFO: TPR: nan\n",
      "2023-03-11 00:48:04,768 19860 1479355589.py[line:352] - INFO: test RR: 6.472597782067915\n",
      "last_best,best_epoch 1.0997245343955788 137\n",
      "2023-03-11 00:48:04,917 19860 1479355589.py[line:306] - INFO: start 138 epoch\n"
     ]
    },
    {
     "name": "stderr",
     "output_type": "stream",
     "text": [
      "C:\\Users\\hxr\\AppData\\Local\\Temp\\2\\ipykernel_20156\\1479355589.py:346: RuntimeWarning: invalid value encountered in longlong_scalars\n",
      "  TPR = tp / (tp + fn)\n",
      "100%|██████████████████████████████████████████████████████████████████████████████████| 37/37 [00:08<00:00,  4.55it/s]\n"
     ]
    },
    {
     "name": "stdout",
     "output_type": "stream",
     "text": [
      "2023-03-11 00:48:13,281 19860 1479355589.py[line:347] - INFO: Epoch mean loss: 1.0939832378078151\n",
      "2023-03-11 00:48:13,285 19860 1479355589.py[line:348] - INFO: warm_up_n_epochs:5\n",
      "2023-03-11 00:48:13,301 19860 1479355589.py[line:349] - INFO: Confusion Matrix:[[70655  2061]\n",
      " [    0     0]]\n",
      "2023-03-11 00:48:13,302 19860 1479355589.py[line:350] - INFO: FPR: 0.028343143187194015\n",
      "2023-03-11 00:48:13,304 19860 1479355589.py[line:351] - INFO: TPR: nan\n",
      "2023-03-11 00:48:13,312 19860 1479355589.py[line:352] - INFO: test RR: 6.341524043228583\n",
      "last_best,best_epoch 1.0939832378078151 138\n",
      "2023-03-11 00:48:13,458 19860 1479355589.py[line:306] - INFO: start 139 epoch\n"
     ]
    },
    {
     "name": "stderr",
     "output_type": "stream",
     "text": [
      "C:\\Users\\hxr\\AppData\\Local\\Temp\\2\\ipykernel_20156\\1479355589.py:346: RuntimeWarning: invalid value encountered in longlong_scalars\n",
      "  TPR = tp / (tp + fn)\n",
      "100%|██████████████████████████████████████████████████████████████████████████████████| 37/37 [00:08<00:00,  4.54it/s]\n"
     ]
    },
    {
     "name": "stdout",
     "output_type": "stream",
     "text": [
      "2023-03-11 00:48:21,850 19860 1479355589.py[line:347] - INFO: Epoch mean loss: 1.0792044707246728\n",
      "2023-03-11 00:48:21,852 19860 1479355589.py[line:348] - INFO: warm_up_n_epochs:5\n",
      "2023-03-11 00:48:21,864 19860 1479355589.py[line:349] - INFO: Confusion Matrix:[[70639  2077]\n",
      " [    0     0]]\n",
      "2023-03-11 00:48:21,866 19860 1479355589.py[line:350] - INFO: FPR: 0.028563177292480334\n",
      "2023-03-11 00:48:21,867 19860 1479355589.py[line:351] - INFO: TPR: nan\n",
      "2023-03-11 00:48:21,869 19860 1479355589.py[line:352] - INFO: test RR: 6.331153611046809\n",
      "last_best,best_epoch 1.0792044707246728 139\n",
      "2023-03-11 00:48:22,021 19860 1479355589.py[line:306] - INFO: start 140 epoch\n"
     ]
    },
    {
     "name": "stderr",
     "output_type": "stream",
     "text": [
      "C:\\Users\\hxr\\AppData\\Local\\Temp\\2\\ipykernel_20156\\1479355589.py:346: RuntimeWarning: invalid value encountered in longlong_scalars\n",
      "  TPR = tp / (tp + fn)\n",
      "100%|██████████████████████████████████████████████████████████████████████████████████| 37/37 [00:08<00:00,  4.48it/s]\n"
     ]
    },
    {
     "name": "stdout",
     "output_type": "stream",
     "text": [
      "2023-03-11 00:48:30,513 19860 1479355589.py[line:347] - INFO: Epoch mean loss: 1.0783222398242436\n",
      "2023-03-11 00:48:30,515 19860 1479355589.py[line:348] - INFO: warm_up_n_epochs:5\n",
      "2023-03-11 00:48:30,523 19860 1479355589.py[line:349] - INFO: Confusion Matrix:[[70860  1856]\n",
      " [    0     0]]\n",
      "2023-03-11 00:48:30,524 19860 1479355589.py[line:350] - INFO: FPR: 0.02552395621321305\n",
      "2023-03-11 00:48:30,526 19860 1479355589.py[line:351] - INFO: TPR: nan\n",
      "2023-03-11 00:48:30,528 19860 1479355589.py[line:352] - INFO: test RR: 6.828027275788054\n",
      "last_best,best_epoch 1.0783222398242436 140\n",
      "2023-03-11 00:48:30,672 19860 1479355589.py[line:306] - INFO: start 141 epoch\n"
     ]
    },
    {
     "name": "stderr",
     "output_type": "stream",
     "text": [
      "C:\\Users\\hxr\\AppData\\Local\\Temp\\2\\ipykernel_20156\\1479355589.py:346: RuntimeWarning: invalid value encountered in longlong_scalars\n",
      "  TPR = tp / (tp + fn)\n",
      "100%|██████████████████████████████████████████████████████████████████████████████████| 37/37 [00:08<00:00,  4.53it/s]\n",
      "C:\\Users\\hxr\\AppData\\Local\\Temp\\2\\ipykernel_20156\\1479355589.py:346: RuntimeWarning: invalid value encountered in longlong_scalars\n",
      "  TPR = tp / (tp + fn)\n"
     ]
    },
    {
     "name": "stdout",
     "output_type": "stream",
     "text": [
      "2023-03-11 00:48:39,085 19860 1479355589.py[line:347] - INFO: Epoch mean loss: 1.0674770941605438\n",
      "2023-03-11 00:48:39,087 19860 1479355589.py[line:348] - INFO: warm_up_n_epochs:5\n",
      "2023-03-11 00:48:39,094 19860 1479355589.py[line:349] - INFO: Confusion Matrix:[[70470  2246]\n",
      " [    0     0]]\n",
      "2023-03-11 00:48:39,101 19860 1479355589.py[line:350] - INFO: FPR: 0.030887287529567084\n",
      "2023-03-11 00:48:39,104 19860 1479355589.py[line:351] - INFO: TPR: nan\n",
      "2023-03-11 00:48:39,105 19860 1479355589.py[line:352] - INFO: test RR: 5.97889620750329\n",
      "last_best,best_epoch 1.0674770941605438 141\n",
      "2023-03-11 00:48:39,255 19860 1479355589.py[line:306] - INFO: start 142 epoch\n"
     ]
    },
    {
     "name": "stderr",
     "output_type": "stream",
     "text": [
      "100%|██████████████████████████████████████████████████████████████████████████████████| 37/37 [00:07<00:00,  4.65it/s]\n"
     ]
    },
    {
     "name": "stdout",
     "output_type": "stream",
     "text": [
      "2023-03-11 00:48:47,496 19860 1479355589.py[line:347] - INFO: Epoch mean loss: 1.063927490968962\n",
      "2023-03-11 00:48:47,497 19860 1479355589.py[line:348] - INFO: warm_up_n_epochs:5\n",
      "2023-03-11 00:48:47,504 19860 1479355589.py[line:349] - INFO: Confusion Matrix:[[70663  2053]\n",
      " [    0     0]]\n",
      "2023-03-11 00:48:47,506 19860 1479355589.py[line:350] - INFO: FPR: 0.028233126134550854\n",
      "2023-03-11 00:48:47,507 19860 1479355589.py[line:351] - INFO: TPR: nan\n",
      "2023-03-11 00:48:47,508 19860 1479355589.py[line:352] - INFO: test RR: 6.345667615326733\n",
      "last_best,best_epoch 1.063927490968962 142\n",
      "2023-03-11 00:48:47,644 19860 1479355589.py[line:306] - INFO: start 143 epoch\n"
     ]
    },
    {
     "name": "stderr",
     "output_type": "stream",
     "text": [
      "C:\\Users\\hxr\\AppData\\Local\\Temp\\2\\ipykernel_20156\\1479355589.py:346: RuntimeWarning: invalid value encountered in longlong_scalars\n",
      "  TPR = tp / (tp + fn)\n",
      "100%|██████████████████████████████████████████████████████████████████████████████████| 37/37 [00:08<00:00,  4.57it/s]\n"
     ]
    },
    {
     "name": "stdout",
     "output_type": "stream",
     "text": [
      "2023-03-11 00:48:55,968 19860 1479355589.py[line:347] - INFO: Epoch mean loss: 1.059980170146839\n",
      "2023-03-11 00:48:55,969 19860 1479355589.py[line:348] - INFO: warm_up_n_epochs:5\n",
      "2023-03-11 00:48:55,976 19860 1479355589.py[line:349] - INFO: Confusion Matrix:[[70467  2249]\n",
      " [    0     0]]\n",
      "2023-03-11 00:48:55,977 19860 1479355589.py[line:350] - INFO: FPR: 0.030928543924308268\n",
      "2023-03-11 00:48:55,979 19860 1479355589.py[line:351] - INFO: TPR: nan\n",
      "2023-03-11 00:48:55,980 19860 1479355589.py[line:352] - INFO: test RR: 5.953525216895927\n",
      "last_best,best_epoch 1.059980170146839 143\n",
      "2023-03-11 00:48:56,121 19860 1479355589.py[line:306] - INFO: start 144 epoch\n"
     ]
    },
    {
     "name": "stderr",
     "output_type": "stream",
     "text": [
      "C:\\Users\\hxr\\AppData\\Local\\Temp\\2\\ipykernel_20156\\1479355589.py:346: RuntimeWarning: invalid value encountered in longlong_scalars\n",
      "  TPR = tp / (tp + fn)\n",
      "100%|██████████████████████████████████████████████████████████████████████████████████| 37/37 [00:08<00:00,  4.50it/s]\n"
     ]
    },
    {
     "name": "stdout",
     "output_type": "stream",
     "text": [
      "2023-03-11 00:49:04,640 19860 1479355589.py[line:347] - INFO: Epoch mean loss: 1.0582535234657493\n",
      "2023-03-11 00:49:04,641 19860 1479355589.py[line:348] - INFO: warm_up_n_epochs:5\n",
      "2023-03-11 00:49:04,649 19860 1479355589.py[line:349] - INFO: Confusion Matrix:[[70834  1882]\n",
      " [    0     0]]\n",
      "2023-03-11 00:49:04,651 19860 1479355589.py[line:350] - INFO: FPR: 0.025881511634303318\n",
      "2023-03-11 00:49:04,652 19860 1479355589.py[line:351] - INFO: TPR: nan\n",
      "2023-03-11 00:49:04,653 19860 1479355589.py[line:352] - INFO: test RR: 6.753838587725303\n",
      "last_best,best_epoch 1.0582535234657493 144\n",
      "2023-03-11 00:49:04,809 19860 1479355589.py[line:306] - INFO: start 145 epoch\n"
     ]
    },
    {
     "name": "stderr",
     "output_type": "stream",
     "text": [
      "C:\\Users\\hxr\\AppData\\Local\\Temp\\2\\ipykernel_20156\\1479355589.py:346: RuntimeWarning: invalid value encountered in longlong_scalars\n",
      "  TPR = tp / (tp + fn)\n",
      "100%|██████████████████████████████████████████████████████████████████████████████████| 37/37 [00:08<00:00,  4.45it/s]\n"
     ]
    },
    {
     "name": "stdout",
     "output_type": "stream",
     "text": [
      "2023-03-11 00:49:13,368 19860 1479355589.py[line:347] - INFO: Epoch mean loss: 1.0311994568721667\n",
      "2023-03-11 00:49:13,370 19860 1479355589.py[line:348] - INFO: warm_up_n_epochs:5\n",
      "2023-03-11 00:49:13,378 19860 1479355589.py[line:349] - INFO: Confusion Matrix:[[70531  2185]\n",
      " [    0     0]]\n",
      "2023-03-11 00:49:13,379 19860 1479355589.py[line:350] - INFO: FPR: 0.03004840750316299\n",
      "2023-03-11 00:49:13,380 19860 1479355589.py[line:351] - INFO: TPR: nan\n",
      "2023-03-11 00:49:13,381 19860 1479355589.py[line:352] - INFO: test RR: 6.002991941645812\n",
      "last_best,best_epoch 1.0311994568721667 145\n",
      "2023-03-11 00:49:13,518 19860 1479355589.py[line:306] - INFO: start 146 epoch\n"
     ]
    },
    {
     "name": "stderr",
     "output_type": "stream",
     "text": [
      "C:\\Users\\hxr\\AppData\\Local\\Temp\\2\\ipykernel_20156\\1479355589.py:346: RuntimeWarning: invalid value encountered in longlong_scalars\n",
      "  TPR = tp / (tp + fn)\n",
      "100%|██████████████████████████████████████████████████████████████████████████████████| 37/37 [00:07<00:00,  4.64it/s]\n"
     ]
    },
    {
     "name": "stdout",
     "output_type": "stream",
     "text": [
      "2023-03-11 00:49:21,781 19860 1479355589.py[line:347] - INFO: Epoch mean loss: 1.0234014601320833\n",
      "2023-03-11 00:49:21,783 19860 1479355589.py[line:348] - INFO: warm_up_n_epochs:5\n",
      "2023-03-11 00:49:21,791 19860 1479355589.py[line:349] - INFO: Confusion Matrix:[[70479  2237]\n",
      " [    0     0]]\n",
      "2023-03-11 00:49:21,793 19860 1479355589.py[line:350] - INFO: FPR: 0.030763518345343528\n",
      "2023-03-11 00:49:21,796 19860 1479355589.py[line:351] - INFO: TPR: nan\n",
      "2023-03-11 00:49:21,802 19860 1479355589.py[line:352] - INFO: test RR: 5.8995623748593005\n",
      "last_best,best_epoch 1.0234014601320833 146\n",
      "2023-03-11 00:49:21,951 19860 1479355589.py[line:306] - INFO: start 147 epoch\n"
     ]
    },
    {
     "name": "stderr",
     "output_type": "stream",
     "text": [
      "C:\\Users\\hxr\\AppData\\Local\\Temp\\2\\ipykernel_20156\\1479355589.py:346: RuntimeWarning: invalid value encountered in longlong_scalars\n",
      "  TPR = tp / (tp + fn)\n",
      "100%|██████████████████████████████████████████████████████████████████████████████████| 37/37 [00:08<00:00,  4.51it/s]\n"
     ]
    },
    {
     "name": "stdout",
     "output_type": "stream",
     "text": [
      "2023-03-11 00:49:30,374 19860 1479355589.py[line:347] - INFO: Epoch mean loss: 1.0216789422808468\n",
      "2023-03-11 00:49:30,376 19860 1479355589.py[line:348] - INFO: warm_up_n_epochs:5\n",
      "2023-03-11 00:49:30,382 19860 1479355589.py[line:349] - INFO: Confusion Matrix:[[70520  2196]\n",
      " [    0     0]]\n",
      "2023-03-11 00:49:30,384 19860 1479355589.py[line:350] - INFO: FPR: 0.030199680950547335\n",
      "2023-03-11 00:49:30,386 19860 1479355589.py[line:351] - INFO: TPR: nan\n",
      "2023-03-11 00:49:30,387 19860 1479355589.py[line:352] - INFO: test RR: 5.961762722306158\n",
      "last_best,best_epoch 1.0216789422808468 147\n",
      "2023-03-11 00:49:30,530 19860 1479355589.py[line:306] - INFO: start 148 epoch\n"
     ]
    },
    {
     "name": "stderr",
     "output_type": "stream",
     "text": [
      "C:\\Users\\hxr\\AppData\\Local\\Temp\\2\\ipykernel_20156\\1479355589.py:346: RuntimeWarning: invalid value encountered in longlong_scalars\n",
      "  TPR = tp / (tp + fn)\n",
      "100%|██████████████████████████████████████████████████████████████████████████████████| 37/37 [00:08<00:00,  4.52it/s]\n"
     ]
    },
    {
     "name": "stdout",
     "output_type": "stream",
     "text": [
      "2023-03-11 00:49:38,948 19860 1479355589.py[line:347] - INFO: Epoch mean loss: 1.0181875921584465\n",
      "2023-03-11 00:49:38,949 19860 1479355589.py[line:348] - INFO: warm_up_n_epochs:5\n",
      "2023-03-11 00:49:38,956 19860 1479355589.py[line:349] - INFO: Confusion Matrix:[[70951  1765]\n",
      " [    0     0]]\n",
      "2023-03-11 00:49:38,958 19860 1479355589.py[line:350] - INFO: FPR: 0.024272512239397106\n",
      "2023-03-11 00:49:38,959 19860 1479355589.py[line:351] - INFO: TPR: nan\n",
      "2023-03-11 00:49:38,960 19860 1479355589.py[line:352] - INFO: test RR: 6.966587092426886\n",
      "last_best,best_epoch 1.0181875921584465 148\n",
      "2023-03-11 00:49:39,102 19860 1479355589.py[line:306] - INFO: start 149 epoch\n"
     ]
    },
    {
     "name": "stderr",
     "output_type": "stream",
     "text": [
      "C:\\Users\\hxr\\AppData\\Local\\Temp\\2\\ipykernel_20156\\1479355589.py:346: RuntimeWarning: invalid value encountered in longlong_scalars\n",
      "  TPR = tp / (tp + fn)\n",
      "100%|██████████████████████████████████████████████████████████████████████████████████| 37/37 [00:08<00:00,  4.52it/s]\n"
     ]
    },
    {
     "name": "stdout",
     "output_type": "stream",
     "text": [
      "2023-03-11 00:49:47,576 19860 1479355589.py[line:347] - INFO: Epoch mean loss: 1.0042774290651888\n",
      "2023-03-11 00:49:47,578 19860 1479355589.py[line:348] - INFO: warm_up_n_epochs:5\n",
      "2023-03-11 00:49:47,586 19860 1479355589.py[line:349] - INFO: Confusion Matrix:[[70675  2041]\n",
      " [    0     0]]\n",
      "2023-03-11 00:49:47,588 19860 1479355589.py[line:350] - INFO: FPR: 0.028068100555586117\n",
      "2023-03-11 00:49:47,589 19860 1479355589.py[line:351] - INFO: TPR: nan\n",
      "2023-03-11 00:49:47,590 19860 1479355589.py[line:352] - INFO: test RR: 6.26348388033042\n",
      "last_best,best_epoch 1.0042774290651888 149\n",
      "2023-03-11 00:49:47,678 19860 1479355589.py[line:364] - INFO: Traing endding\n"
     ]
    },
    {
     "name": "stderr",
     "output_type": "stream",
     "text": [
      "C:\\Users\\hxr\\AppData\\Local\\Temp\\2\\ipykernel_20156\\1479355589.py:346: RuntimeWarning: invalid value encountered in longlong_scalars\n",
      "  TPR = tp / (tp + fn)\n"
     ]
    }
   ],
   "source": [
    "import os\n",
    "import math\n",
    "\n",
    "import numpy as np\n",
    "import random\n",
    "\n",
    "from tqdm import tqdm\n",
    "import matplotlib\n",
    "matplotlib.use('TkAgg')\n",
    "import matplotlib.pyplot as plt\n",
    "\n",
    "import torch\n",
    "\n",
    "from sklearn.metrics import confusion_matrix, average_precision_score, roc_curve, roc_auc_score, accuracy_score,f1_score, normalized_mutual_info_score\n",
    "\n",
    "from model.models import LBG\n",
    "from model.temporalNeighbor import temporalNeighbor\n",
    "from logger import logger\n",
    "from collections import Counter\n",
    "from sklearn.preprocessing import StandardScaler\n",
    "#聚类指标：轮廓系数\n",
    "from sklearn.metrics import silhouette_score\n",
    "\n",
    "### Utility function and class\n",
    "class EarlyStopMonitor(object):\n",
    "    def __init__(self, max_round=10, higher_better=True, tolerance=1e-4):\n",
    "        self.max_round = max_round\n",
    "        self.num_round = 0\n",
    "\n",
    "        self.epoch_count = 0\n",
    "        self.best_epoch = 0\n",
    "\n",
    "        self.last_best = None\n",
    "        self.higher_better = higher_better\n",
    "        self.tolerance = tolerance\n",
    "\n",
    "    def early_stop_check(self, curr_val):\n",
    "\n",
    "        if not self.higher_better:\n",
    "            curr_val *= -1\n",
    "        if self.last_best is None:\n",
    "            self.last_best = curr_val\n",
    "        elif (curr_val - self.last_best) / np.abs(self.last_best) < -self.tolerance:\n",
    "            self.last_best = curr_val\n",
    "            self.num_round = 0\n",
    "            self.best_epoch = self.epoch_count\n",
    "        else:\n",
    "            self.num_round += 1\n",
    "        self.epoch_count += 1\n",
    "        print('last_best,best_epoch',self.last_best,self.best_epoch)\n",
    "        return self.num_round >= self.max_round\n",
    "\n",
    "class RandEdgeSampler(object):\n",
    "    def __init__(self, src_list, dst_list):\n",
    "        self.src_list = np.unique(src_list)\n",
    "        self.dst_list = np.unique(dst_list)\n",
    "\n",
    "    def sample(self, size):\n",
    "        src_index = np.random.randint(0, len(self.src_list), size)\n",
    "        dst_index = np.random.randint(0, len(self.dst_list), size)\n",
    "        return self.src_list[src_index], self.dst_list[dst_index]\n",
    "\n",
    "#5120,0.03达到0.977，0.039\n",
    "#8000，0.03 达到0.979，0.039\n",
    "#8000，0.01. nei 16达（0.9776，0.0367），（0.88，0.028）\n",
    "#8000,2,8,0.01达0.9936，0.036\n",
    "#8000,1,24,0.005达0.98，0.033\n",
    "#8000,1,24,0.005达0.976，0.032\n",
    "#8000,1,24,16head,0.005达0.974，0.0315,\n",
    "#8000,1,24,,0.001加属性达0.986，0.034,\n",
    "SEED = 1\n",
    "ADGAT_EPOCHS = 150\n",
    "BATCH_SIZE = 2000\n",
    "NUM_LAYER = 1\n",
    "UNIFORM = True\n",
    "GPU = 0\n",
    "NUM_NEIGHBORS = 200\n",
    "NUM_HEADS = 16\n",
    "DROP_OUT = 0.1\n",
    "input_feat = 128\n",
    "output_feat = 128\n",
    "hidden = 128\n",
    "USE_TIME = 'time'\n",
    "AGG_METHOD = 'attn'\n",
    "ATTN_MODE = 'prod'\n",
    "objective = 'soft-boundary' #'hard'\n",
    "SEQ_LEN = NUM_NEIGHBORS\n",
    "LEARNING_RATE = 1e-4\n",
    "DATA = 'auth'\n",
    "c = None\n",
    "R=0\n",
    "RR = 0#阈值，判断当前点在球体外\n",
    "att_feat = 4\n",
    "warm_up_n_epochs = 5\n",
    "nu=1e-5\n",
    "\n",
    "\n",
    "logger.info('\\n---------------------------------------new start training--------------------------------------\\n')\n",
    "logger.info('parameter,ADGAT_EPOCHS:{},BATCH_SIZE:{},NUM_LAYER:{}'.format(ADGAT_EPOCHS,BATCH_SIZE,NUM_LAYER))\n",
    "logger.info('parameter,NUM_NEIGHBORS:{},NUM_HEADS:{},DROP_OUT:{},input_feat:{}'.format(NUM_NEIGHBORS,NUM_HEADS,DROP_OUT,input_feat))\n",
    "logger.info('nu:{},att_feat:{},warm_up_n_epochs:{}'.format(nu,att_feat,warm_up_n_epochs))\n",
    "\n",
    "ALLEDGEPATH= './auth/opt_TUDCC3.txt'#41590401,4603678\n",
    "ADGATMODEL_SAVE_PATH = f'./save_models/ADGAT/{AGG_METHOD}-{ATTN_MODE}-{DATA}.pth'\n",
    "ADGATget_checkpoint_path = lambda epoch: f'./save_checkpoints/ADGAT/{AGG_METHOD}-{ATTN_MODE}-{DATA}-{epoch}.pth'\n",
    "red_team_name = './auth/nredteam.txt'\n",
    "auth_att_node = \"./auth/auth_att_node1.txt\"\n",
    "precess_file_path = './auth/new_events.txt'\n",
    "logger.info('current file:{}'.format(ALLEDGEPATH))\n",
    "\n",
    "def setup_seed(seed):\n",
    "    if torch.cuda.is_available():\n",
    "        logger.info(\"gpu cuda is available!\")\n",
    "        torch.cuda.manual_seed_all(seed)\n",
    "    else:\n",
    "        logger.info(\"cuda is not available! cpu is available!\")\n",
    "        torch.manual_seed(seed)\n",
    "    torch.manual_seed(seed)\n",
    "    np.random.seed(seed)\n",
    "    random.seed(seed)\n",
    "    torch.backends.cudnn.deterministic = True\n",
    "    os.environ['PYTHONHASHSEED'] = str(seed)\n",
    "\n",
    "\n",
    "setup_seed(SEED)\n",
    "red_team_file = set(open(red_team_name, 'r').readlines())\n",
    "\n",
    "\n",
    "def model_roc_curve(test_node,FPR, TPR):\n",
    "    fig_roc = plt.figure()\n",
    "    plt.plot([0, 1], [0, 1], 'k--')\n",
    "    A, = plt.step(FPR, TPR, color=\"#ff5722\", linestyle='-.', alpha=1, where='post', label=\"roc\")\n",
    "    font1 = {'family': 'Times New Roman',\n",
    "             'weight': 'normal',\n",
    "             'size': 16,\n",
    "             }\n",
    "    font2 = {'family': 'Times New Roman',\n",
    "             'weight': 'normal',\n",
    "             'size': 13,\n",
    "             }\n",
    "    plt.tick_params(labelsize=12)\n",
    "    plt.xlabel('False positive rate', font1)\n",
    "    plt.ylabel('True positive rate', font1)\n",
    "    plt.ylim([0.0, 1.05])\n",
    "    plt.xlim([0.0, 1.0])\n",
    "\n",
    "    legend = plt.legend(handles=[A], prop=font2)\n",
    "\n",
    "    plt.title('ROC curve', fontsize=14)\n",
    "\n",
    "    fig_roc.savefig(test_node+\".png\", dpi=500, bbox_inches='tight')\n",
    "\n",
    "\n",
    "def load_data(file):\n",
    "    edge_train = []\n",
    "    label_src = []\n",
    "    label_dst = []\n",
    "    node_id = set()\n",
    "    train_src_l = []\n",
    "    train_dst_l = []\n",
    "    train_ts_l = []\n",
    "    train_label_l = []\n",
    "    i = 0\n",
    "    with open(file, 'r', encoding='utf-8') as fi:\n",
    "        while True:\n",
    "            line = fi.readline()\n",
    "            if not line:\n",
    "                break\n",
    "            l = line.strip().split(',')\n",
    "            if (int(l[0]) > 150884):#72-83\n",
    "                continue\n",
    "            str_line = str(l[0]) + ',' + str(l[1]) + ',' + str(l[2]) + ',' + str(l[3]) + ',' + str(l[6]) + '\\n'\n",
    "            if str_line in red_team_file:\n",
    "                train_label_l.append(1)\n",
    "            else:\n",
    "                train_label_l.append(0)\n",
    "            C1 = int(l[3].strip('C'))\n",
    "            C2 = int(l[6].strip('C'))\n",
    "            node_id.add(C1)\n",
    "            node_id.add(C2)\n",
    "            i = i + 1\n",
    "\n",
    "            edge_train.append([C1, C2, int(l[0])])\n",
    "            train_src_l.append(C1)\n",
    "            label_src.append(0)\n",
    "            train_dst_l.append(C2)\n",
    "            label_dst.append(0)\n",
    "            train_ts_l.append(int(l[0]))\n",
    "\n",
    "    return node_id, train_src_l, train_dst_l, train_ts_l, train_label_l, label_src, label_dst\n",
    "\n",
    "\n",
    "node_id, train_src_l, train_dst_l, train_ts_l, train_label_l, label_src, label_dst = load_data(ALLEDGEPATH)\n",
    "\n",
    "feat_edge = np.zeros((len(train_src_l), input_feat))\n",
    "max_idx = max(30000, max(node_id))  #max(node_id)27193\n",
    "#max_idx = max(node_id)+1\n",
    "\n",
    "feat_node = np.random.random((max_idx, input_feat))\n",
    "feat_nodes = feat_node\n",
    "# feat_node_nor = (feat_nodes - feat_nodes.min(axis=1)) / (feat_nodes.max(axis=1) - feat_nodes.min(axis=1))\n",
    "Mm = StandardScaler()\n",
    "feat_node_nor = Mm.fit_transform(feat_nodes)\n",
    "# feat_node_nor = ((feat_nodes.T - feat_nodes.min(axis=1)) / (feat_nodes.max(axis=1) - feat_nodes.min(axis=1))).T\n",
    "#feat_node_nor = (feat_nodes-feat_nodes.mean(axis=0))/feat_nodes.std(axis=0)\n",
    "\n",
    "att_node = np.zeros((max_idx, att_feat))\n",
    "with open(auth_att_node, 'r', encoding='utf-8') as fi:\n",
    "     while True:\n",
    "        line = fi.readline()\n",
    "        if not line:\n",
    "            break\n",
    "        l = line.strip().split(',')\n",
    "        att = list(map(float, l[1].split()))\n",
    "        #feat_node[int(l[0].strip('C'))] = att[0:input_feat]\n",
    "        att_node[int(l[0].strip('C'))] = att[-4:] #np.append(att[:8],att[-2:])\n",
    "fi.close()\n",
    "att_node_nor = (att_node - att_node.min(axis=0)) / (att_node.max(axis=0) - att_node.min(axis=0))\n",
    "#assert(len(node_id)==len(feat_node))\n",
    "assert (len(train_src_l) == len(train_dst_l))\n",
    "assert (len(train_dst_l) == len(train_ts_l))\n",
    "#assert(len(train_ts_l)==len(feat_edge))\n",
    "train_e_idx_l = list(np.arange(len(train_src_l)))\n",
    "logger.info(\"Finish Loading Data\")\n",
    "\n",
    "adj_list = [[] for _ in range(max_idx + 1)]\n",
    "train_src_l = np.array(train_src_l)\n",
    "train_dst_l = np.array(train_dst_l)\n",
    "train_ts_l = np.array(train_ts_l)\n",
    "train_label_l = np.array(train_label_l)\n",
    "label_src = np.array(label_src)\n",
    "label_dst = np.array(label_dst)\n",
    "### Initialize the data structure for graph and edge sampling\n",
    "for src, dst, eidx, ts in zip(train_src_l, train_dst_l, train_e_idx_l, train_ts_l):\n",
    "    adj_list[src].append((dst, eidx, ts))\n",
    "    #adj_list[dst].append((src, eidx, ts))\n",
    "train_ngh_finder = temporalNeighbor(adj_list, uniform=UNIFORM)\n",
    "### Model initialize\n",
    "device = torch.device('cuda:{}'.format(GPU))\n",
    "#device = torch.device('cpu')\n",
    "lbg = LBG(train_ngh_finder, feat_node_nor, att_node_nor,num_layers=NUM_LAYER, use_time=USE_TIME,\n",
    "            agg_method=AGG_METHOD, attn_mode=ATTN_MODE, seq_len=SEQ_LEN, n_head=NUM_HEADS,\n",
    "            drop_out=DROP_OUT, node_dim=hidden, time_dim=hidden)\n",
    "optimizer = torch.optim.Adam(lbg.parameters(), lr=LEARNING_RATE)\n",
    "#optimizer = torch.optim.SGD(lbg.parameters(), lr=LEARNING_RATE,weight_decay=1e-2)\n",
    "lbg = lbg.to(device)\n",
    "\n",
    "num_instance = len(train_src_l)\n",
    "num_batch = math.ceil(num_instance / BATCH_SIZE)\n",
    "logger.info('num of training instances: {}'.format(num_instance))\n",
    "logger.info('num of batches per epoch: {}'.format(num_batch))\n",
    "logger.info('num of red team: {}'.format(sum(train_label_l)))\n",
    "\n",
    "train_rand_sampler = RandEdgeSampler(train_src_l, train_dst_l)\n",
    "\n",
    "idc = np.arange(num_instance)\n",
    "\n",
    "\n",
    "def Deep_SVDD(output, R, c, nu):\n",
    "    dist = torch.sum((output-c) ** 2, dim=1)\n",
    "    # if objective == 'soft-boundary':\n",
    "    #     scores = dist - R ** 2\n",
    "    #     loss = R ** 2 + (1 / nu) * torch.mean(torch.max(torch.zeros_like(scores), scores))\n",
    "    # else:\n",
    "    scores = dist\n",
    "    loss = torch.mean(dist)\n",
    "    return scores,loss\n",
    "\n",
    "def update_center(src_l, dst_l,ts_l,lbg,num_instance,num_batch):\n",
    "    # c = torch.zeros(2 * (output_feat+att_feat)).to(device)\n",
    "    c = torch.zeros(2 * (output_feat)).to(device)\n",
    "    eps = 0.1\n",
    "    lbg = lbg.eval()\n",
    "    n_samples = 0\n",
    "    idx = np.arange(num_instance)\n",
    "    with torch.no_grad():\n",
    "        for k in tqdm(range(num_batch)):\n",
    "            s_idx = k * BATCH_SIZE\n",
    "            e_idx = min(num_instance - 1, s_idx + BATCH_SIZE)\n",
    "            if (s_idx == e_idx):\n",
    "                continue\n",
    "            batch_idx = idx[s_idx:e_idx]\n",
    "            src_l_cut, dst_l_cut,ts_l_cut = src_l[batch_idx], dst_l[batch_idx],ts_l[batch_idx]\n",
    "            enc = lbg(src_l_cut, dst_l_cut, ts_l_cut, NUM_NEIGHBORS)\n",
    "            n_samples += enc.shape[0]\n",
    "            c += torch.sum(enc, dim=0)\n",
    "        c /= n_samples\n",
    "        c[(abs(c) < eps) & (c < 0)] = -eps\n",
    "        c[(abs(c) < eps) & (c > 0)] = eps\n",
    "    return c\n",
    "center = update_center( train_src_l, train_dst_l,train_ts_l,lbg,num_instance,num_batch).to(device)\n",
    "ADGATearly_stopper = EarlyStopMonitor()\n",
    "\n",
    "\n",
    "def get_radius(dist: torch.Tensor, nu: float):\n",
    "    \"\"\"Optimally solve for radius R via the (1-nu)-quantile of distances.\"\"\"\n",
    "    return np.quantile(np.sqrt(dist.clone().data.cpu().numpy()), 1 - nu)\n",
    "\n",
    "j=1\n",
    "for epoch in (range(ADGAT_EPOCHS)):\n",
    "    # Training\n",
    "    # training use only training graph\n",
    "    lbg.ngh_finder = train_ngh_finder\n",
    "    acc, ap, f1, auc, m_loss, fpr, tpr, nmi,temR = [], [], [], [], [], [], [], [],[]\n",
    "    pred_ll, true_ll, link_embed = [], [], []\n",
    "    logger.info('start {} epoch'.format(epoch))\n",
    "    idx = np.arange(num_instance)\n",
    "    np.random.shuffle(idx)\n",
    "    for k in tqdm(range(num_batch)):\n",
    "        s_idx = k * BATCH_SIZE\n",
    "        e_idx = min(num_instance - 1, s_idx + BATCH_SIZE)\n",
    "        if (s_idx == e_idx):\n",
    "            continue\n",
    "        batch_idx = idx[s_idx:e_idx]\n",
    "        src_l_cut, dst_l_cut, ts_l_cut= train_src_l[batch_idx], train_dst_l[batch_idx],train_ts_l[batch_idx]\n",
    "        label_l_cut = train_label_l[batch_idx]\n",
    "        size = len(src_l_cut)\n",
    "\n",
    "        with torch.no_grad():\n",
    "            pos_label = torch.from_numpy(label_l_cut).float().to(device)\n",
    "        optimizer.zero_grad()\n",
    "\n",
    "        lbg = lbg.train()\n",
    "        # score, loss, RR = lbg(src_l_cut, dst_l_cut, ts_l_cut, center,epoch, NUM_NEIGHBORS)\n",
    "        link = lbg(src_l_cut, dst_l_cut, ts_l_cut, NUM_NEIGHBORS)\n",
    "        # if (epoch > warm_up_n_epochs and objective == 'soft-boundary'):\n",
    "        #     R= torch.tensor(get_radius(torch.sum((link - center) ** 2, dim=1), nu)).to(device)\n",
    "        score, loss = Deep_SVDD(link, R, center, nu)\n",
    "        loss.backward()\n",
    "        optimizer.step()\n",
    "        link_embed.extend(link.cpu())\n",
    "        m_loss.append(loss.item())\n",
    "        with torch.no_grad():\n",
    "            lbg = lbg.eval()\n",
    "            pred_score = score.cpu().detach().numpy()\n",
    "            true_label = pos_label.cpu().numpy()\n",
    "            pred_ll.extend(list(pred_score))\n",
    "            true_ll.extend(list(true_label))\n",
    "    pred_ll = np.array(pred_ll)\n",
    "    true_ll = np.array(true_ll)\n",
    "    link_embed = torch.stack(link_embed)\n",
    "#     auc = roc_auc_score(true_ll, pred_ll)\n",
    "    RR = get_radius(torch.sum((link_embed - center.cpu()) ** 2, dim=1), nu)\n",
    "    tn, fp, fn, tp = confusion_matrix(true_ll, pred_ll>RR, labels=[False, True]).ravel()\n",
    "    FPR = fp / (fp + tn)\n",
    "    TPR = tp / (tp + fn)\n",
    "    logger.info('Epoch mean loss: {}'.format(np.mean(m_loss)))\n",
    "    logger.info('warm_up_n_epochs:{}'.format(warm_up_n_epochs))\n",
    "    logger.info(\"Confusion Matrix:{}\".format(confusion_matrix(true_ll, pred_ll > RR, labels=[False, True])))\n",
    "    logger.info(\"FPR: {}\".format(FPR))\n",
    "    logger.info(\"TPR: {}\".format(TPR) )\n",
    "    logger.info('test RR: {}'.format(RR))\n",
    "#     logger.info('train auc: {}'.format(auc))\n",
    "    # logger.info('train f1: {}'.format(f1))\n",
    "    if ADGATearly_stopper.early_stop_check(np.mean(m_loss)):\n",
    "        logger.info('Loss is no decline over {} epochs , stop training'.format(ADGATearly_stopper.max_round))\n",
    "        logger.info(f'Loading the best model at epoch {ADGATearly_stopper.best_epoch}')\n",
    "        best_model_path = ADGATget_checkpoint_path(ADGATearly_stopper.best_epoch)\n",
    "        lbg.load_state_dict(torch.load(best_model_path))\n",
    "        logger.info(f'Loaded the best model at epoch {ADGATearly_stopper.best_epoch} for inference')\n",
    "        break\n",
    "    else:\n",
    "        torch.save(lbg.state_dict(), ADGATget_checkpoint_path(epoch))\n",
    "logger.info('Traing endding')\n",
    "\n",
    "\n"
   ]
  },
  {
   "cell_type": "code",
   "execution_count": 2,
   "id": "9841a9b9-4e6d-4500-bdfd-952d3f48d187",
   "metadata": {},
   "outputs": [],
   "source": [
    "def test(test_node,lbg,R,num_instance,src_l,dst_l,ts_l,label_l,center):\n",
    "    logger.info(\"{}\".format(test_node))\n",
    "    acc, ap, f1, auc, m_loss, fpr, tpr, nmi = [], [], [], [], [], [], [], []\n",
    "    link_embed= []\n",
    "    pred_ll, true_ll = [], []\n",
    "    #np.random.shuffle(idc)\n",
    "    with torch.no_grad():\n",
    "        lbg = lbg.eval()\n",
    "        BATCH_SIZE = 4000\n",
    "        num_batch = math.ceil(num_instance / BATCH_SIZE)\n",
    "        for k in tqdm(range(num_batch)):\n",
    "            s_idx = k * BATCH_SIZE\n",
    "            e_idx = min(num_instance - 1, s_idx + BATCH_SIZE)\n",
    "            if (s_idx == e_idx):\n",
    "                continue\n",
    "            batch_idx = idc[s_idx:e_idx]\n",
    "            src_l_cut, dst_l_cut,ts_l_cut = src_l[batch_idx], dst_l[batch_idx],ts_l[batch_idx]\n",
    "\n",
    "            label_l_cut = label_l[batch_idx]\n",
    "\n",
    "            pos_label = torch.from_numpy(label_l_cut).float().to(device)\n",
    "            # score, _ , RR= lbg(src_l_cut, dst_l_cut, ts_l_cut, center, best_epoch, NUM_NEIGHBORS)\n",
    "            link = lbg(src_l_cut, dst_l_cut, ts_l_cut, NUM_NEIGHBORS)\n",
    "            score,_= Deep_SVDD(link, R, center, nu)\n",
    "            pred_score = score.cpu().detach().numpy()\n",
    "            true_label = pos_label.cpu().numpy()\n",
    "            pred_ll.extend(list(pred_score))\n",
    "            true_ll.extend(list(true_label))\n",
    "            link_embed.extend(link.cpu())\n",
    "            m_loss.append(_.item())\n",
    "\n",
    "        pred_ll = np.array(pred_ll)\n",
    "        true_ll = np.array(true_ll)\n",
    "        link_embed = torch.stack(link_embed)\n",
    "        #acc = ((pred_ll > RR) == true_ll).mean()\n",
    "        #ap = average_precision_score(true_ll, pred_ll)\n",
    "        # f1 = f1_score(true_ll, pred_ll > RR)\n",
    "        auc = roc_auc_score(true_ll, pred_ll)\n",
    "        # RR = get_radius(torch.sum((link_embed - center.cpu()) ** 2, dim=1), nu)\n",
    "        FPR_curve, TPR_curve, threshold1s = roc_curve(true_ll, pred_ll)\n",
    "        logger.info(\"FPR_curve,: {},TPR_curve,:{}\".format(FPR_curve, TPR_curve))\n",
    "        # NMI = normalized_mutual_info_score(true_ll, pred_ll, average_method='arithmetic')\n",
    "        tn, fp, fn, tp = confusion_matrix(true_ll, pred_ll>RR, labels=[False, True]).ravel()\n",
    "        logger.info('Epoch mean loss: {}'.format(np.mean(m_loss)))\n",
    "        logger.info(\"Confusion Matrix:{}\".format(confusion_matrix(true_ll, pred_ll>RR, labels=[False, True])))\n",
    "        FPR = fp / (fp + tn)\n",
    "        TPR = tp / (tp + fn)\n",
    "        logger.info(\"FPR: {}\".format(FPR))\n",
    "        logger.info(\"TPR: {}\".format(TPR))\n",
    "        print(FPR,TPR,auc)\n",
    "        #logger.info('train acc: {}'.format(acc))\n",
    "        logger.info('test RR: {}'.format(RR))\n",
    "        logger.info('test auc: {}'.format(auc))\n",
    "        #logger.info('train ap: {}'.format(ap))\n",
    "        # logger.info('test f1: {}'.format(f1))\n",
    "        # logger.info('test NMI: {}'.format(NMI))  #越高越好\n",
    "        #logger.info(FPR, TPR)\n",
    "        model_roc_curve(test_node,FPR_curve, TPR_curve)\n",
    "        pred_label = pred_ll>RR\n",
    "        redlink_idx = np.where(pred_label==1)[0]\n",
    "        red_src_detect, red_dst_detect,red_tsl_detect = src_l[redlink_idx], dst_l[redlink_idx],ts_l[redlink_idx]\n",
    "    return red_src_detect, red_dst_detect,red_tsl_detect,link_embed,true_ll"
   ]
  },
  {
   "cell_type": "code",
   "execution_count": 3,
   "id": "4a0b9523",
   "metadata": {},
   "outputs": [
    {
     "name": "stdout",
     "output_type": "stream",
     "text": [
      "2023-03-11 00:50:25,993 19860 3223813446.py[line:2] - INFO: test for old nodes\n"
     ]
    },
    {
     "name": "stderr",
     "output_type": "stream",
     "text": [
      "100%|██████████████████████████████████████████████████████████████████████████████| 1073/1073 [09:39<00:00,  1.85it/s]\n"
     ]
    },
    {
     "name": "stdout",
     "output_type": "stream",
     "text": [
      "2023-03-11 01:00:16,984 19860 3223813446.py[line:41] - INFO: FPR_curve,: [0.00000000e+00 2.33069212e-07 4.03209736e-05 ... 9.99912832e-01\n",
      " 9.99913298e-01 1.00000000e+00],TPR_curve,:[0. 0. 0. ... 1. 1. 1.]\n",
      "2023-03-11 01:00:17,732 19860 3223813446.py[line:44] - INFO: Epoch mean loss: 3.5881765502585723\n",
      "2023-03-11 01:00:18,563 19860 3223813446.py[line:45] - INFO: Confusion Matrix:[[3555240  735331]\n",
      " [      9     633]]\n",
      "2023-03-11 01:00:18,565 19860 3223813446.py[line:48] - INFO: FPR: 0.17138301638639705\n",
      "2023-03-11 01:00:18,566 19860 3223813446.py[line:49] - INFO: TPR: 0.985981308411215\n",
      "0.17138301638639705 0.985981308411215 0.9821348759096793\n",
      "2023-03-11 01:00:18,568 19860 3223813446.py[line:52] - INFO: test RR: 6.26348388033042\n",
      "2023-03-11 01:00:18,568 19860 3223813446.py[line:53] - INFO: test auc: 0.9821348759096793\n"
     ]
    }
   ],
   "source": [
    "def load_data(file):\n",
    "    edge_train = []\n",
    "    label_src = []\n",
    "    label_dst = []\n",
    "    node_id = set()\n",
    "    train_src_l = []\n",
    "    train_dst_l = []\n",
    "    train_ts_l = []\n",
    "    train_label_l = []\n",
    "    i = 0\n",
    "    with open(file, 'r', encoding='utf-8') as fi:\n",
    "        while True:\n",
    "            line = fi.readline()\n",
    "            if not line:\n",
    "                break\n",
    "            l = line.strip().split(',')\n",
    "            if (int(l[0]) < 150885 ):#72-83\n",
    "                 continue\n",
    "            str_line = str(l[0]) + ',' + str(l[1]) + ',' + str(l[2]) + ',' + str(l[3]) + ',' + str(l[6]) + '\\n'\n",
    "            if str_line in red_team_file:\n",
    "                train_label_l.append(1)\n",
    "            else:\n",
    "                train_label_l.append(0)\n",
    "            C1 = int(l[3].strip('C'))\n",
    "            C2 = int(l[6].strip('C'))\n",
    "            node_id.add(C1)\n",
    "            node_id.add(C2)\n",
    "            i = i + 1\n",
    "\n",
    "            edge_train.append([C1, C2, int(l[0])])\n",
    "            train_src_l.append(C1)\n",
    "            label_src.append(0)\n",
    "            train_dst_l.append(C2)\n",
    "            label_dst.append(0)\n",
    "            train_ts_l.append(int(l[0]))\n",
    "\n",
    "    return node_id, train_src_l, train_dst_l, train_ts_l, train_label_l, label_src, label_dst\n",
    "\n",
    "\n",
    "node_id, te_src_l, te_dst_l, te_ts_l, te_label_l, label_src, label_dst = load_data(ALLEDGEPATH)\n",
    "te_src_l = np.array(te_src_l)\n",
    "te_dst_l = np.array(te_dst_l)\n",
    "te_ts_l = np.array(te_ts_l)\n",
    "te_label_l = np.array(te_label_l)\n",
    "num_instance = len(te_src_l)\n",
    "full_adj_list = adj_list.copy()\n",
    "e_idx_l = list(np.arange(len(train_src_l)+len(te_src_l)))\n",
    "for src, dst, eidx, ts in zip(te_src_l, te_dst_l, e_idx_l, te_ts_l):\n",
    "    full_adj_list[src].append((dst, eidx, ts))\n",
    "full_ngh_finder = temporalNeighbor(full_adj_list, uniform=UNIFORM)\n",
    "lbg.ngh_finder = full_ngh_finder\n",
    "idc = np.arange(num_instance)\n",
    "num_batch = math.ceil(num_instance / BATCH_SIZE)\n",
    "red_links = test('test for old nodes',lbg,R,num_instance,te_src_l,te_dst_l,te_ts_l,te_label_l,center)\n",
    "rednodes_predict = set(red_links[0])|set(red_links[1])"
   ]
  },
  {
   "cell_type": "code",
   "execution_count": 11,
   "id": "6dccb57d",
   "metadata": {},
   "outputs": [
    {
     "name": "stdout",
     "output_type": "stream",
     "text": [
      "2023-03-11 01:19:24,965 19860 2768182876.py[line:5] - INFO: num of predict red nodes: 80\n",
      "2023-03-11 01:19:24,998 19860 2768182876.py[line:7] - INFO: num of predict red edges: 163184\n",
      "2023-03-11 01:20:32,441 19860 2768182876.py[line:45] - INFO: num of new nodes: 5812\n",
      "2023-03-11 01:20:32,443 19860 2768182876.py[line:46] - INFO: num of new events: 1995000\n",
      "2023-03-11 01:20:32,471 19860 2768182876.py[line:47] - INFO: num of red team: 40\n"
     ]
    }
   ],
   "source": [
    "nodes_count = dict(Counter(list(red_links[0])+list(red_links[1])))\n",
    "#red_samenodes = [key for key,value in nodes_count.items()if value > 1]\n",
    "node_sort=sorted(nodes_count.items(), key=lambda x: x[1], reverse=True)\n",
    "red_samenodes = dict(node_sort[:80]).keys()\n",
    "logger.info('num of predict red nodes: {}'.format(len(red_samenodes)))\n",
    "nred_links = [(x,y) for x,y in zip(red_links[0],red_links[1])]\n",
    "logger.info('num of predict red edges: {}'.format(len(nred_links)))\n",
    "min_t = 0\n",
    "max_t = 1296000\n",
    "\n",
    "def inductive_link(red_samenodes,min_t,max_t):\n",
    "    node_id = set()\n",
    "    test_src_l = []\n",
    "    test_dst_l = []\n",
    "    test_ts_l = []\n",
    "    test_label_l = []\n",
    "    i = 0\n",
    "    with open(precess_file_path, 'r', encoding='utf-8') as fi:\n",
    "        fi.readline()\n",
    "        while True:\n",
    "            line = fi.readline()\n",
    "            if not line:\n",
    "                break\n",
    "            l = line.strip().split(',')\n",
    "            C1 = int(l[3].strip('C'))\n",
    "            C2 = int(l[6].strip('C'))\n",
    "            if (int(l[0]) < min_t or int(l[0]) > max_t):\n",
    "                continue\n",
    "            if (C1 in red_samenodes or C2 in red_samenodes):\n",
    "                test_src_l.append(C1)\n",
    "                test_dst_l.append(C2)\n",
    "                test_ts_l.append(int(l[0]))\n",
    "                node_id.add(C1)\n",
    "                node_id.add(C2)\n",
    "                str_line = str(l[0]) + ',' + str(l[1]) + ',' + str(l[2]) + ',' + str(l[3]) + ',' + str(l[6]) + '\\n'\n",
    "                if str_line in red_team_file:\n",
    "                    test_label_l.append(1)\n",
    "                else:\n",
    "                    test_label_l.append(0)\n",
    "            i = i + 1\n",
    "\n",
    "    return node_id, test_src_l, test_dst_l, test_ts_l, test_label_l\n",
    "\n",
    "test_node_id, test_src_l, test_dst_l, test_ts_l, test_label_l = inductive_link(red_samenodes,min_t,max_t)\n",
    "logger.info('num of new nodes: {}'.format(len(set(test_node_id)-set(node_id))))\n",
    "logger.info('num of new events: {}'.format(len(test_src_l)))\n",
    "logger.info('num of red team: {}'.format(sum(test_label_l)))\n",
    "test_src_l = np.array(test_src_l)\n",
    "test_dst_l = np.array(test_dst_l)\n",
    "test_ts_l = np.array(test_ts_l)\n",
    "test_label_l = np.array(test_label_l)\n",
    "num_instance = len(test_src_l)\n",
    "full_adj_list = adj_list.copy()\n",
    "e_idx_l = list(np.arange(len(train_src_l)+len(test_src_l)))\n",
    "for src, dst, eidx, ts in zip(test_src_l, test_dst_l, e_idx_l, test_ts_l):\n",
    "    full_adj_list[src].append((dst, eidx, ts))\n",
    "full_ngh_finder = temporalNeighbor(full_adj_list, uniform=UNIFORM)\n",
    "lbg.ngh_finder = full_ngh_finder\n",
    "idc = np.arange(num_instance)\n",
    "num_batch = math.ceil(num_instance / BATCH_SIZE)"
   ]
  },
  {
   "cell_type": "code",
   "execution_count": 12,
   "id": "1bd727c9-49f9-4ebf-adfc-894077bf85b1",
   "metadata": {},
   "outputs": [
    {
     "name": "stderr",
     "output_type": "stream",
     "text": [
      "100%|████████████████████████████████████████████████████████████████████████████████| 998/998 [04:55<00:00,  3.38it/s]"
     ]
    },
    {
     "name": "stdout",
     "output_type": "stream",
     "text": [
      "2023-03-11 01:25:38,298 19860 3223813446.py[line:2] - INFO: test for new nodes\n"
     ]
    },
    {
     "name": "stderr",
     "output_type": "stream",
     "text": [
      "\n",
      "100%|████████████████████████████████████████████████████████████████████████████████| 499/499 [04:43<00:00,  1.76it/s]\n"
     ]
    },
    {
     "name": "stdout",
     "output_type": "stream",
     "text": [
      "2023-03-11 01:30:26,460 19860 3223813446.py[line:41] - INFO: FPR_curve,: [0.00000000e+00 5.01263434e-07 2.38100131e-04 ... 9.99604503e-01\n",
      " 9.99605506e-01 1.00000000e+00],TPR_curve,:[0. 0. 0. ... 1. 1. 1.]\n",
      "2023-03-11 01:30:26,772 19860 3223813446.py[line:44] - INFO: Epoch mean loss: 17.017244337078086\n",
      "2023-03-11 01:30:27,074 19860 3223813446.py[line:45] - INFO: Confusion Matrix:[[1463479  531480]\n",
      " [      4      36]]\n",
      "2023-03-11 01:30:27,076 19860 3223813446.py[line:48] - INFO: FPR: 0.26641149016095067\n",
      "2023-03-11 01:30:27,077 19860 3223813446.py[line:49] - INFO: TPR: 0.9\n",
      "0.26641149016095067 0.9 0.8637177631219489\n",
      "2023-03-11 01:30:27,079 19860 3223813446.py[line:52] - INFO: test RR: 20\n",
      "2023-03-11 01:30:27,080 19860 3223813446.py[line:53] - INFO: test auc: 0.8637177631219489\n"
     ]
    }
   ],
   "source": [
    "RR = 20\n",
    "new_center = update_center( test_src_l, test_dst_l,test_ts_l,lbg,num_instance,num_batch).to(device)\n",
    "new_redlinks = test('test for new nodes', lbg, R, num_instance, test_src_l, test_dst_l, test_ts_l, test_label_l,new_center)"
   ]
  },
  {
   "cell_type": "code",
   "execution_count": null,
   "id": "b16ae625",
   "metadata": {},
   "outputs": [],
   "source": []
  }
 ],
 "metadata": {
  "kernelspec": {
   "display_name": "pytorch",
   "language": "python",
   "name": "pytorch"
  },
  "language_info": {
   "codemirror_mode": {
    "name": "ipython",
    "version": 3
   },
   "file_extension": ".py",
   "mimetype": "text/x-python",
   "name": "python",
   "nbconvert_exporter": "python",
   "pygments_lexer": "ipython3",
   "version": "3.8.13"
  }
 },
 "nbformat": 4,
 "nbformat_minor": 5
}

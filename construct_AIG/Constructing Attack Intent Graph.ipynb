{
 "cells": [
  {
   "cell_type": "code",
   "execution_count": 1,
   "id": "ad748ce6",
   "metadata": {},
   "outputs": [],
   "source": [
    "import os\n",
    "import logging\n",
    "import networkx as nx\n",
    "import numpy as np\n",
    "#import seaborn as sns\n",
    "import random\n",
    "import math\n",
    "from scipy.stats import truncnorm\n",
    "import time\n",
    "import copy\n",
    "import matplotlib.pyplot as plt\n",
    "from random import sample\n",
    "import itertools\n",
    "from collections import Counter\n",
    "from tqdm import tqdm\n",
    "data_name = \"auth\"\n",
    "NCCPATH = '../data/LANL/TCG_LANL.txt'\n",
    "SEED = 1\n",
    "\n",
    "MasterGraph = nx.DiGraph()\n",
    "MGedges = set()\n",
    "wei = {}\n",
    "time_link = {}\n",
    "with open(NCCPATH, 'r', encoding='utf-8') as fi:\n",
    "    fi.readline()\n",
    "    total_lines = sum(1 for line in fi)\n",
    "    fi.seek(0)\n",
    "    while True:\n",
    "        line = fi.readline()\n",
    "        if not line:\n",
    "            break\n",
    "        l = line.strip().split(',')\n",
    "        if((l[3], l[6])in MGedges):\n",
    "            MasterGraph.edges[l[3],l[6]]['weight'] +=1\n",
    "            MasterGraph.edges[l[3],l[6]]['time'] = l[0]\n",
    "            time_link[l[3],l[6]].add(int(l[0]))\n",
    "        else:\n",
    "            MGedges.add((l[3], l[6]))\n",
    "            MasterGraph.add_edge(l[3], l[6], time=l[0],weight=1)\n",
    "            time_link[l[3], l[6]] = set()\n",
    "            time_link[l[3], l[6]].add(int(l[0]))"
   ]
  },
  {
   "cell_type": "code",
   "execution_count": 2,
   "id": "c9e3c026",
   "metadata": {},
   "outputs": [
    {
     "name": "stdout",
     "output_type": "stream",
     "text": [
      "Total nodes: 15343\n",
      "Total edges: 163371\n"
     ]
    }
   ],
   "source": [
    "num_nodes = MasterGraph.number_of_nodes()\n",
    "num_edges = MasterGraph.number_of_edges()\n",
    "\n",
    "\n",
    "print(\"Total nodes:\", num_nodes)\n",
    "print(\"Total edges:\", num_edges)"
   ]
  },
  {
   "cell_type": "code",
   "execution_count": 3,
   "id": "db8398e4",
   "metadata": {},
   "outputs": [],
   "source": [
    "sub_Graph = nx.DiGraph()\n",
    "red_team = '../data/LANL/nredteam.txt'\n",
    "red_file = set(open(red_team, 'r').readlines())\n",
    "red_edge = []\n",
    "for red in red_file:\n",
    "    l = red.strip().split(',')\n",
    "    if ([l[3], l[4]] not in red_edge):\n",
    "        red_edge.append([l[3], l[4]])\n",
    "red_edge.remove([' source', 'target'])\n",
    "red_graph = nx.DiGraph()\n",
    "for e in red_edge:\n",
    "    red_graph.add_edge(e[0],e[1])"
   ]
  },
  {
   "cell_type": "markdown",
   "id": "bfa7e948",
   "metadata": {},
   "source": [
    "# Potential attack path discovery guided by target"
   ]
  },
  {
   "cell_type": "code",
   "execution_count": 4,
   "id": "58ce9f66",
   "metadata": {},
   "outputs": [
    {
     "name": "stdout",
     "output_type": "stream",
     "text": [
      "number of target and source nodes 4 7831\n"
     ]
    }
   ],
   "source": [
    "zero_id = set([key for key, value in dict(MasterGraph.in_degree()).items() if value == 0] )\n",
    "tar ={'C2189','C528', 'C2388','C1065'}\n",
    "sta = list(zero_id)\n",
    "print('number of target and source nodes',len(tar),len(sta))"
   ]
  },
  {
   "cell_type": "code",
   "execution_count": 5,
   "id": "57969229",
   "metadata": {},
   "outputs": [
    {
     "name": "stdout",
     "output_type": "stream",
     "text": [
      "0\n"
     ]
    }
   ],
   "source": [
    "m = 1\n",
    "sz = math.ceil(len(sta)/m)\n",
    "FS = {}\n",
    "prohibit = {}  \n",
    "for i in range(0,m):\n",
    "    prohibit[i] = set()\n",
    "    FS[i] = set()\n",
    "for i in range(0,m):\n",
    "    if(len(sta)<sz):\n",
    "        FS[i] =sta\n",
    "    else:\n",
    "        FS[i] = np.random.choice(sta, size=sz, replace=False)\n",
    "    sta = list(set(sta) - set(FS[i]))\n",
    "    print(len(sta))\n",
    "path_list = {}\n",
    "path_at = path_list.fromkeys(list(MasterGraph.nodes()))\n",
    "path_unat = path_list.fromkeys(list(MasterGraph.nodes()))\n",
    "for key in path_at:\n",
    "    path_at[key] = []\n",
    "    path_unat[key] = set()"
   ]
  },
  {
   "cell_type": "code",
   "execution_count": 6,
   "id": "a4ae705f",
   "metadata": {},
   "outputs": [
    {
     "name": "stdout",
     "output_type": "stream",
     "text": [
      "iter 0\n",
      "iter 1\n",
      "iter 2\n",
      "iter 3\n",
      "iter 4\n"
     ]
    }
   ],
   "source": [
    "def update(source,pro_node):\n",
    "    next_nodes = []\n",
    "    for node in source:\n",
    "        neigh = list(nx.neighbors(MasterGraph, node))\n",
    "        access = list(set(neigh)-pro_node)\n",
    "        for key in access:\n",
    "            path_unat[key].add(node)\n",
    "        next_nodes.extend(access)\n",
    "    source = copy.deepcopy(set(next_nodes))\n",
    "    return source,set(next_nodes)\n",
    "iter = 0\n",
    "redundancy = set()\n",
    "merged_values = set(itertools.chain(*FS.values()))\n",
    "while (len(merged_values)>0):\n",
    "    print(\"iter\",iter)\n",
    "    for i in range(0, m):\n",
    "        fs_temph,pro = update( FS[i],prohibit[i])\n",
    "        prohibit[i].update(pro)\n",
    "        prohibit[i] = prohibit[i]-set(tar)\n",
    "        FS[i] = fs_temph\n",
    "    merged_values = set(itertools.chain(*FS.values()))-tar\n",
    "    iter+=1"
   ]
  },
  {
   "cell_type": "code",
   "execution_count": 7,
   "id": "1ad5c273",
   "metadata": {},
   "outputs": [
    {
     "name": "stdout",
     "output_type": "stream",
     "text": [
      "141010 14320\n"
     ]
    }
   ],
   "source": [
    "def Computepath(key, keys, reNei, edge):\n",
    "#     print(reNei[key])\n",
    "    if (key not in keys) and (reNei[key] != []):\n",
    "        keys.add(key)\n",
    "        for x in reNei[key]:\n",
    "            edge.append([key, x])\n",
    "            Computepath(x, keys, reNei, edge)\n",
    "    return edge\n",
    "\n",
    "\n",
    "for key in tar:\n",
    "    edge = []\n",
    "    keys = set()\n",
    "    path_at[key] = Computepath(key, keys, path_unat, edge)\n",
    "\n",
    "edgelist = []\n",
    "target = []\n",
    "for k in path_at:\n",
    "    if(path_at[k]==[]):\n",
    "        continue\n",
    "    edgelist.extend(path_at[k])\n",
    "keynode = set()\n",
    "for n in edgelist:\n",
    "    keynode.add(n[0])\n",
    "    keynode.add(n[1])\n",
    "print(len(edgelist), len(keynode))\n"
   ]
  },
  {
   "cell_type": "markdown",
   "id": "e839e34b",
   "metadata": {},
   "source": [
    "# Potential atack path discovery based on rare events."
   ]
  },
  {
   "cell_type": "code",
   "execution_count": 8,
   "id": "4c1d6915",
   "metadata": {},
   "outputs": [],
   "source": [
    "#add edge frequency\n",
    "sum_wei = {}\n",
    "lamda = {}\n",
    "for e in MasterGraph.edges():\n",
    "    day_number = (max(time_link[e])-min(time_link[e]))/86400\n",
    "    lamda[e] = MasterGraph.edges[(e)]['weight']/(day_number+1)\n",
    "    if(e[0] in sum_wei):\n",
    "        sum_wei[e[0]] += lamda[e]\n",
    "    else:\n",
    "        sum_wei[e[0]] = lamda[e]\n",
    "\n",
    "#     print(MasterGraph.edges[e]['oweight'])\n",
    "\n"
   ]
  },
  {
   "cell_type": "code",
   "execution_count": 9,
   "id": "6f8112ff",
   "metadata": {},
   "outputs": [],
   "source": [
    "for e in MasterGraph.edges():\n",
    "    MasterGraph.edges[e]['oweight']=math.ceil((lamda[e]*lamda[e]) / sum_wei[e[0]])"
   ]
  },
  {
   "cell_type": "code",
   "execution_count": 10,
   "id": "3674972a",
   "metadata": {},
   "outputs": [
    {
     "name": "stdout",
     "output_type": "stream",
     "text": [
      "num of attack host links 918\n"
     ]
    }
   ],
   "source": [
    "right_edge = []\n",
    "MG = nx.DiGraph()\n",
    "for e in edgelist:\n",
    "    right_edge.append([e[1], e[0]])\n",
    "    MG.add_edge(e[1], e[0],time = int(MasterGraph.edges[e[1], e[0]]['time']),weight = MasterGraph.edges[e[1], e[0]]['oweight'])\n",
    "\n",
    "km = 0\n",
    "for e in right_edge:\n",
    "    if ('C17693' in e or 'C18025' in e or 'C19932' in e or 'C22409' in e):\n",
    "        km += 1\n",
    "print('num of attack host links', km)"
   ]
  },
  {
   "cell_type": "code",
   "execution_count": 11,
   "id": "2b453076",
   "metadata": {},
   "outputs": [
    {
     "name": "stdout",
     "output_type": "stream",
     "text": [
      "num of attack links 274\n",
      "number of source at target  7744\n"
     ]
    }
   ],
   "source": [
    "k = 0\n",
    "for red_e in red_edge:\n",
    "    if (red_e in right_edge):\n",
    "        k += 1\n",
    "print('num of attack links', k)\n",
    "sta = list(zero_id)\n",
    "#shortest path at target\n",
    "all_simple_edges = set()\n",
    "def path_to_edge(paths):\n",
    "    e = set()\n",
    "    for path in paths:\n",
    "        for l in range(1,len(path)):\n",
    "            e.add((path[l-1],path[l]))\n",
    "    return e\n",
    "source = set([key for key, value in dict(MG.in_degree()).items() if value == 0] ).intersection(sta)\n",
    "\n",
    "print(\"number of source at target \",len(source))"
   ]
  },
  {
   "cell_type": "code",
   "execution_count": 12,
   "id": "c1715aa8",
   "metadata": {},
   "outputs": [
    {
     "name": "stdout",
     "output_type": "stream",
     "text": [
      "num of attack links， nodes 185 187\n",
      "filter edges and nodes 28420 8538\n"
     ]
    }
   ],
   "source": [
    "\n",
    "def compute_rare_path(MG,all_simple_edges):\n",
    "    current_scan = 0\n",
    "    for n1 in tar:\n",
    "        for n2 in source:\n",
    "            try:\n",
    "                paths = list(nx.all_shortest_paths(MG,n2,n1,'weight'))\n",
    "                # paths = [path for path, weight in top_10_weighted_paths(MG,n2,n1)]\n",
    "                every_simple_edges = path_to_edge(paths)\n",
    "                all_simple_edges.update(every_simple_edges)\n",
    "            except nx.NetworkXNoPath:\n",
    "                    logging.info('There are no path detected in the graph')\n",
    "                    continue\n",
    "        current_scan+=1\n",
    "        # print('current_scan',current_scan)\n",
    "    return all_simple_edges\n",
    "all_simple_edges = compute_rare_path(MG,all_simple_edges)\n",
    "k = 0\n",
    "num_attnode = set()\n",
    "for red_e in red_edge:\n",
    "    if (tuple(red_e) in all_simple_edges):\n",
    "        k += 1\n",
    "        num_attnode.add(red_e[0])\n",
    "        num_attnode.add(red_e[1])\n",
    "print('num of attack links， nodes',k,len(num_attnode))\n",
    "\n",
    "all_nodes = set()\n",
    "all_edges = []\n",
    "for e in all_simple_edges:\n",
    "    all_nodes.add(e[0])\n",
    "    all_nodes.add(e[1])\n",
    "    all_edges.append([e[0],e[1]])\n",
    "print(\"filter edges and nodes\",len(all_edges),len(all_nodes))"
   ]
  },
  {
   "cell_type": "code",
   "execution_count": 13,
   "id": "6edf5ac8",
   "metadata": {},
   "outputs": [
    {
     "name": "stdout",
     "output_type": "stream",
     "text": [
      "num of attack links， nodes 230 233\n",
      "filter edges and nodes 42842 13075\n",
      "num of attack links， nodes 238 241\n",
      "filter edges and nodes 44307 13658\n",
      "num of attack links， nodes 242 245\n",
      "filter edges and nodes 44832 13876\n",
      "num of attack links， nodes 244 247\n",
      "filter edges and nodes 45093 13990\n",
      "num of attack links， nodes 245 248\n",
      "filter edges and nodes 45181 14031\n"
     ]
    }
   ],
   "source": [
    "for m in range(5):\n",
    "    for e in all_simple_edges:\n",
    "        if e not in MG.edges():\n",
    "            continue\n",
    "        MG.remove_edge(e[0],e[1])\n",
    "    all_simple_edges = compute_rare_path(MG,all_simple_edges)\n",
    "    # print('number of edges at target',len(all_simple_edges))\n",
    "    k = 0\n",
    "    num_attnode = set()\n",
    "    for red_e in red_edge:\n",
    "        if (tuple(red_e) in all_simple_edges):\n",
    "            k += 1\n",
    "            num_attnode.add(red_e[0])\n",
    "            num_attnode.add(red_e[1])\n",
    "    print('num of attack links， nodes',k,len(num_attnode))\n",
    "\n",
    "    all_nodes = set()\n",
    "    all_edges = []\n",
    "    for e in all_simple_edges:\n",
    "        all_nodes.add(e[0])\n",
    "        all_nodes.add(e[1])\n",
    "        all_edges.append([e[0],e[1]])\n",
    "    print(\"filter edges and nodes\",len(all_edges),len(all_nodes))"
   ]
  },
  {
   "cell_type": "markdown",
   "id": "642420fd",
   "metadata": {},
   "source": [
    "# Potential atack path selection under time constraints"
   ]
  },
  {
   "cell_type": "code",
   "execution_count": 14,
   "id": "ca2af7e8",
   "metadata": {},
   "outputs": [
    {
     "name": "stdout",
     "output_type": "stream",
     "text": [
      "1.2185046672821045\n",
      "2.4362504482269287\n",
      "3.650578022003174\n",
      "4.855380296707153\n",
      "6.0746965408325195\n",
      "7.280638933181763\n",
      "8.468815565109253\n",
      "9.659446477890015\n",
      "10.84904146194458\n",
      "12.053351879119873\n",
      "13.262638568878174\n",
      "14.461922645568848\n",
      "15.660815238952637\n",
      "16.849971532821655\n",
      "18.040684938430786\n",
      "19.227465391159058\n",
      "20.39924454689026\n",
      "21.569523334503174\n",
      "22.739723682403564\n",
      "23.90704607963562\n",
      "25.073901891708374\n",
      "26.239107608795166\n",
      "27.407455682754517\n",
      "28.56575345993042\n",
      "29.733853816986084\n",
      "30.934895992279053\n",
      "32.14112138748169\n",
      "33.33604884147644\n",
      "34.51798701286316\n",
      "35.72206401824951\n",
      "36.92845916748047\n",
      "38.13573431968689\n",
      "39.3616738319397\n",
      "40.57926964759827\n",
      "41.79654026031494\n",
      "43.01736879348755\n",
      "num of attack events 569.0\n",
      "num of all events 4979752\n"
     ]
    }
   ],
   "source": [
    "in_edge = {}\n",
    "for e in MG.edges():\n",
    "    if (e[1] in in_edge):\n",
    "        in_edge[e[1]].add(int(MG.edges[e[0], e[1]]['time']))\n",
    "    else:\n",
    "        in_edge[e[1]] = set()\n",
    "        in_edge[e[1]].add(int(MG.edges[e[0], e[1]]['time']))\n",
    "\n",
    "Min_int = {}\n",
    "for x in in_edge:\n",
    "    Min_int[x] = min(in_edge[x])\n",
    "np.savetxt('../data/LANL/new_edge.txt',all_edges, fmt='%s,%s')\n",
    "np.savetxt(\"../data/LANL/new_node.txt\", np.array(list(all_nodes)), fmt='%s')\n",
    "\n",
    "CCPATH = '../data/LANL/new_edge.txt'\n",
    "TUDCCPATH = '../data/LANL/AIG_LANL.txt'\n",
    "fCC = open(CCPATH, 'r')\n",
    "CC = fCC.readlines()\n",
    "Sort_CC = set(sorted(CC))\n",
    "with open(TUDCCPATH, 'a') as sf:\n",
    "    sf.truncate(0)\n",
    "    sf.close()\n",
    "i = 0\n",
    "k = 0\n",
    "with open(NCCPATH, 'r', encoding='utf-8') as fi:\n",
    "    fi.readline()\n",
    "    start = time.time()\n",
    "    sf = open(TUDCCPATH, 'a')\n",
    "    while True:\n",
    "        line = fi.readline()\n",
    "        i = i + 1\n",
    "        lline = line.strip().split(',')\n",
    "        if not line:\n",
    "            break\n",
    "        scc = str(lline[3]) + ',' + str(lline[6]) + '\\n'\n",
    "        if (scc in (Sort_CC)):\n",
    "            if (lline[3] in in_edge):\n",
    "                if (int(lline[0]) > Min_int[lline[3]]):\n",
    "                    sf.write(line)\n",
    "            else:\n",
    "                sf.write(line)\n",
    "            k += 1\n",
    "        if (i % 1000000 == 0):\n",
    "            print(time.time() - start)\n",
    "fi.close()\n",
    "fCC.close()\n",
    "sf.close()\n",
    "\n",
    "j = 0\n",
    "label = np.zeros(k)\n",
    "sub_Graph = nx.DiGraph()\n",
    "red_team = '../data/LANL/nredteam.txt'\n",
    "red_file = set(open(red_team, 'r').readlines())\n",
    "with open(TUDCCPATH, 'r', encoding='utf-8') as fi:\n",
    "    while True:\n",
    "        line = fi.readline()\n",
    "        if not line:\n",
    "            break\n",
    "        l = line.strip().split(',')\n",
    "        str_line = str(l[0]) + ',' + str(l[1]) + ',' + str(l[2]) + ',' + str(l[3]) + ',' + str(l[6]) + '\\n'\n",
    "        sub_Graph.add_edge(l[3], l[6])\n",
    "        if str_line in red_file:\n",
    "            label[j] = 1\n",
    "        j += 1\n",
    "    fi.close()\n",
    "print(\"num of attack events\",sum(label))\n",
    "\n",
    "def iter_count(file_name):\n",
    "    from itertools import (takewhile, repeat)\n",
    "    buffer = 1024 * 1024\n",
    "    with open(file_name) as f:\n",
    "        buf_gen = takewhile(lambda x: x, (f.read(buffer) for _ in repeat(None)))\n",
    "        return sum(buf.count('\\n') for buf in buf_gen)\n",
    "\n",
    "\n",
    "print(\"num of all events\",iter_count(TUDCCPATH))"
   ]
  },
  {
   "cell_type": "code",
   "execution_count": null,
   "id": "4f1350a4",
   "metadata": {},
   "outputs": [],
   "source": []
  },
  {
   "cell_type": "code",
   "execution_count": null,
   "id": "7abdb7c6",
   "metadata": {},
   "outputs": [],
   "source": []
  }
 ],
 "metadata": {
  "kernelspec": {
   "display_name": "Python [conda env:cybersim] *",
   "language": "python",
   "name": "conda-env-cybersim-py"
  },
  "language_info": {
   "codemirror_mode": {
    "name": "ipython",
    "version": 3
   },
   "file_extension": ".py",
   "mimetype": "text/x-python",
   "name": "python",
   "nbconvert_exporter": "python",
   "pygments_lexer": "ipython3",
   "version": "3.9.19"
  }
 },
 "nbformat": 4,
 "nbformat_minor": 5
}

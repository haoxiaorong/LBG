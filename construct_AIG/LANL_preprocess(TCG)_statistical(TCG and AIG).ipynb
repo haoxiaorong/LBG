{
 "cells": [
  {
   "cell_type": "code",
   "execution_count": 1,
   "id": "0365430d",
   "metadata": {},
   "outputs": [],
   "source": [
    "import time\n",
    "import networkx as nx\n",
    "import numpy as np\n",
    "import pandas as pd\n",
    "import math\n",
    "import os\n",
    "import codecs\n",
    "import seaborn as sns\n",
    "import matplotlib as plt"
   ]
  },
  {
   "cell_type": "code",
   "execution_count": 2,
   "id": "29c4cc63",
   "metadata": {},
   "outputs": [],
   "source": [
    "'''filter out some self-login events consistent with the source and target devices'''\n",
    "def sim_red(file,savefile):\n",
    "    savefile.truncate(0)\n",
    "    savefile.writelines('time,suser,sdomain, source,tuser,tdomain,target,auth_type,log_type,logon,authon\\n')\n",
    "    j=0\n",
    "    oe = 0\n",
    "    with open(file, 'r', encoding='utf-8') as fi:\n",
    "        start = time.time()\n",
    "        while True:\n",
    "            line = fi.readline()\n",
    "            oe+=1\n",
    "            if not line:\n",
    "                break\n",
    "            l = line.strip().split(',')\n",
    "            if(l[5]==\"?\" or l[6]==\"?\" or l[7]==\"LogOff\" ):\n",
    "                continue\n",
    "            if(\"U\" in l[1] and \"U\" in l[2]):\n",
    "                s_ud = l[1].strip().split('@')\n",
    "                t_ud = l[2].strip().split('@')\n",
    "                if(s_ud[0]==\"ANONYMOUS LOGON\" or t_ud[0]==\"ANONYMOUS LOGON\" or l[3]==l[4] or s_ud[0]!=t_ud[0]):\n",
    "                    continue\n",
    "                if(s_ud[1]=='?'or t_ud[1]=='?'):\n",
    "                    continue\n",
    "                logon = 0 if l[7]==\"LogOn\" else 1\n",
    "                authon = 0 if l[8]==\"Success\" else 1\n",
    "                savefile.writelines(str(l[0])+ ','+str(s_ud[0]) + ','+str(s_ud[1])+ \\\n",
    "                                         ','+str(l[3])+ ','+str(t_ud[0]) + ','+str(t_ud[1])+ \\\n",
    "                                         ','+str(l[4])+ ','+str(l[5])+','+ str(l[6])+ ','+ str(logon)+ \\\n",
    "                                         ','+str(authon)+ '\\n')\n",
    "            end = time.time()\n",
    "            if(float(end-start)>j*100):\n",
    "                print(\"print current read time : \" + l[0])\n",
    "                j+=1\n",
    "        fi.close()\n",
    "        savefile.close()\n",
    "    return oe"
   ]
  },
  {
   "cell_type": "code",
   "execution_count": 3,
   "id": "59552817",
   "metadata": {
    "scrolled": true
   },
   "outputs": [
    {
     "name": "stdout",
     "output_type": "stream",
     "text": [
      "print current read time : 1\n",
      "print current read time : 237762\n",
      "print current read time : 508469\n",
      "print current read time : 719462\n",
      "print current read time : 951703\n",
      "print current read time : 1172640\n",
      "print current read time : 1371852\n",
      "print current read time : 1655857\n",
      "print current read time : 1884142\n",
      "print current read time : 1923456\n",
      "print current read time : 2044366\n",
      "print current read time : 2306473\n",
      "print current read time : 2507409\n",
      "print current read time : 2742008\n",
      "print current read time : 2942336\n",
      "print current read time : 2942336\n",
      "print current read time : 3118820\n",
      "print current read time : 3347343\n",
      "print current read time : 3458658\n",
      "print current read time : 3517352\n",
      "print current read time : 3685668\n",
      "print current read time : 3822687\n",
      "print current read time : 4002615\n",
      "print current read time : 4204559\n",
      "print current read time : 4239307\n",
      "print current read time : 4239307\n",
      "print current read time : 4239307\n",
      "print current read time : 4323139\n",
      "print current read time : 4523227\n",
      "print current read time : 4673030\n",
      "print current read time : 4673030\n",
      "print current read time : 4673030\n",
      "print current read time : 4673030\n",
      "print current read time : 4680831\n",
      "print current read time : 4868546\n"
     ]
    }
   ],
   "source": [
    "PATH = 'G:/EngD/data/Dynamic Cybersecurity/data/auth.txt'# add the path of auth.txt\n",
    "newauth = codecs.open('../data/LANL' + '/nedge.txt', 'w+', 'utf-8')\n",
    "original_events = sim_red(PATH,newauth)"
   ]
  },
  {
   "cell_type": "code",
   "execution_count": 4,
   "id": "c8bf80c3",
   "metadata": {},
   "outputs": [],
   "source": [
    "def iter_count(file_name):\n",
    "    from itertools import (takewhile, repeat)\n",
    "    buffer = 1024 * 1024\n",
    "    with open(file_name) as f:\n",
    "        buf_gen = takewhile(lambda x: x, (f.read(buffer) for _ in repeat(None)))\n",
    "        return sum(buf.count('\\n') for buf in buf_gen)"
   ]
  },
  {
   "cell_type": "code",
   "execution_count": 5,
   "id": "40bb9205",
   "metadata": {},
   "outputs": [
    {
     "name": "stdout",
     "output_type": "stream",
     "text": [
      "the number of all events: 1051430460\n"
     ]
    }
   ],
   "source": [
    "#original events\n",
    "print(\"the number of all events:\",original_events)"
   ]
  },
  {
   "cell_type": "code",
   "execution_count": 6,
   "id": "c6e053db",
   "metadata": {},
   "outputs": [
    {
     "name": "stdout",
     "output_type": "stream",
     "text": [
      "the number of filter events: 101662851\n"
     ]
    }
   ],
   "source": [
    "#filter events\n",
    "number_nevents = iter_count('../data/LANL/nedge.txt')\n",
    "print(\"the number of filter events:\",number_nevents)"
   ]
  },
  {
   "cell_type": "code",
   "execution_count": 8,
   "id": "d051534b",
   "metadata": {},
   "outputs": [],
   "source": [
    "#filter some obviously normal events are also removed, such as frequent connections that occur greater than 24 times each day\n",
    "fre_events = {}#greater than 24 times each day\n",
    "Fre_edge = set()\n",
    "half_events = {}#\n",
    "filter_events = '../data/LANL/TCG_LANL.txt'\n",
    "with open('../data/LANL/nedge.txt', 'r', encoding='utf-8') as fi:\n",
    "    line = fi.readline()\n",
    "    while True:\n",
    "        line = fi.readline()\n",
    "        if not line:\n",
    "            break\n",
    "        l = line.strip().split(',')\n",
    "        str_line = str(l[1])+','+str(l[2])+','+str(l[3])+','+str(l[4])+','+str(l[5])+','+str(l[6])+','+str(l[7])+','+str(l[8])+','+str(l[9])+','+str(l[10])\n",
    "        if str_line in fre_events:\n",
    "            if(int(l[0])-fre_events[str_line][0]<=86400):\n",
    "                fre_events[str_line][1] += 1\n",
    "            elif(fre_events[str_line][1]>=24):\n",
    "                Fre_edge.add(str_line)\n",
    "                fre_events[str_line] = [int(l[0]),0]\n",
    "                half_events[str_line] += 1\n",
    "        else:\n",
    "            fre_events[str_line] = [int(l[0]),1]\n",
    "            half_events[str_line] = 1\n",
    "    fi.close()"
   ]
  },
  {
   "cell_type": "code",
   "execution_count": 9,
   "id": "db9c5db9",
   "metadata": {},
   "outputs": [],
   "source": [
    "hf_events = set()#one event occur greater than half of all time\n",
    "for e in half_events:\n",
    "    if(half_events[e]>=5011198/172800):\n",
    "        hf_events.add(e)"
   ]
  },
  {
   "cell_type": "code",
   "execution_count": 10,
   "id": "e8330f31",
   "metadata": {},
   "outputs": [],
   "source": [
    "with open('../data/LANL/nedge.txt', 'r', encoding='utf-8') as fi:\n",
    "    line = fi.readline()\n",
    "    ofr = open(filter_events,'w+')\n",
    "    while True:\n",
    "        line = fi.readline()\n",
    "        if not line:\n",
    "            break\n",
    "        l = line.strip().split(',')\n",
    "        str_line = str(l[1])+','+str(l[2])+','+str(l[3])+','+str(l[4])+','+str(l[5])+','+str(l[6])+','+str(l[7])+','+str(l[8])+','+str(l[9])+','+str(l[10])\n",
    "        if(str_line in Fre_edge):\n",
    "            continue\n",
    "        else:\n",
    "            ofr.write(line)\n",
    "    fi.close()\n",
    "    ofr.close()"
   ]
  },
  {
   "cell_type": "code",
   "execution_count": 22,
   "id": "099d3123",
   "metadata": {},
   "outputs": [],
   "source": [
    "red_team = '../data/LANL/nredteam.txt'\n",
    "red_file = set(open(red_team,'r').readlines())\n",
    "num_redteam = 0\n",
    "with open(filter_events, 'r', encoding='utf-8') as fi:\n",
    "    line = fi.readline()\n",
    "    while True:\n",
    "        line = fi.readline()\n",
    "        if not line:\n",
    "            break\n",
    "        l = line.strip().split(',')\n",
    "        str_line =str(l[0])+','+str(l[1])+','+str(l[2])+','+str(l[3])+','+str(l[6])+'\\n'\n",
    "        if str_line in red_file:\n",
    "            num_redteam+=1\n",
    "    fi.close()"
   ]
  },
  {
   "cell_type": "code",
   "execution_count": 23,
   "id": "7dbfd111",
   "metadata": {},
   "outputs": [
    {
     "name": "stdout",
     "output_type": "stream",
     "text": [
      "number of red_team 702\n"
     ]
    }
   ],
   "source": [
    "print('number of red_team',num_redteam)"
   ]
  },
  {
   "cell_type": "code",
   "execution_count": 24,
   "id": "32ef23a7",
   "metadata": {},
   "outputs": [
    {
     "name": "stdout",
     "output_type": "stream",
     "text": [
      "filt frequency and half date events 36946085\n"
     ]
    }
   ],
   "source": [
    "num_filter = iter_count(filter_events)\n",
    "print(\"filt frequency and half date events\",num_filter)"
   ]
  },
  {
   "cell_type": "markdown",
   "id": "ad642bca",
   "metadata": {},
   "source": [
    "# statistical"
   ]
  },
  {
   "cell_type": "code",
   "execution_count": 1,
   "id": "b2acace0",
   "metadata": {},
   "outputs": [],
   "source": [
    "#statistical_TCG\n",
    "filter_events = '../data/LANL/TCG_LANL.txt'"
   ]
  },
  {
   "cell_type": "code",
   "execution_count": 2,
   "id": "6b8aaddf",
   "metadata": {},
   "outputs": [],
   "source": [
    "num_users= set()\n",
    "num_devices = set()\n",
    "with open(filter_events, 'r', encoding='utf-8') as fi:\n",
    "    line = fi.readline()\n",
    "    while True:\n",
    "        line = fi.readline()\n",
    "        if not line:\n",
    "            break\n",
    "        l = line.strip().split(',')\n",
    "        num_users.add(l[1])\n",
    "        num_users.add(l[4])\n",
    "        num_devices.add(l[3])\n",
    "        num_devices.add(l[6])\n",
    "    fi.close()"
   ]
  },
  {
   "cell_type": "code",
   "execution_count": 3,
   "id": "6be5ab76",
   "metadata": {},
   "outputs": [
    {
     "name": "stdout",
     "output_type": "stream",
     "text": [
      "numbers of users in preprocess: 10840\n",
      "numbers of devices in preprocess: 15343\n"
     ]
    }
   ],
   "source": [
    "print(\"numbers of users in preprocess:\",len(num_users))\n",
    "print(\"numbers of devices in preprocess:\",len(num_devices))"
   ]
  },
  {
   "cell_type": "code",
   "execution_count": 4,
   "id": "054c55a6",
   "metadata": {},
   "outputs": [],
   "source": [
    "red_team = '../data/LANL/nredteam.txt'\n",
    "red_file = set(open(red_team,'r').readlines())"
   ]
  },
  {
   "cell_type": "code",
   "execution_count": 6,
   "id": "8ea4b620",
   "metadata": {},
   "outputs": [],
   "source": [
    "j=0\n",
    "num_redteam = 0\n",
    "origin_file_redteam = '../data/LANL/redteam.txt'\n",
    "logon_list = []\n",
    "red_users = set()\n",
    "red_devices = set()\n",
    "flag=1\n",
    "flag_red = 1\n",
    "with open(filter_events, 'r', encoding='utf-8') as fi:\n",
    "    line = fi.readline()\n",
    "    ofr = open(origin_file_redteam,'w+')\n",
    "    while True:\n",
    "        line = fi.readline()\n",
    "        if not line:\n",
    "            break\n",
    "        l = line.strip().split(',')\n",
    "        '''if(int(l[0])<150885):\n",
    "            continue'''\n",
    "        str_line =str(l[0])+','+str(l[1])+','+str(l[2])+','+str(l[3])+','+str(l[6])+'\\n'\n",
    "        #print(str_line)\n",
    "        if(flag):\n",
    "            start_t = l[0]\n",
    "            flag = 0\n",
    "        last_t=l[0]\n",
    "        if str_line in red_file:\n",
    "            #label[j]=1\n",
    "            if(flag_red):\n",
    "                start_redt = l[0]\n",
    "                flag_red = 0\n",
    "            last_redt = l[0]\n",
    "            num_redteam+=1\n",
    "            red_users.add(l[1])\n",
    "            red_users.add(l[4])\n",
    "            red_devices.add(l[3])\n",
    "            red_devices.add(l[6])\n",
    "            logon_list.append(l[-2])\n",
    "            ofr.write(line)\n",
    "        j+=1\n",
    "    fi.close()\n",
    "    ofr.close()"
   ]
  },
  {
   "cell_type": "code",
   "execution_count": 7,
   "id": "c7eb67dc",
   "metadata": {},
   "outputs": [
    {
     "name": "stdout",
     "output_type": "stream",
     "text": [
      "The number of lateral movement: 702\n",
      "The number of red users: 98\n",
      "The number of red devices: 299\n",
      "The time span of all log: 57.99997685185185\n",
      "The time span of red team: 27.849097222222223\n"
     ]
    }
   ],
   "source": [
    "print(\"The number of lateral movement:\",num_redteam)\n",
    "print(\"The number of red users:\",len(red_users))\n",
    "print(\"The number of red devices:\",len(red_devices))\n",
    "print(\"The time span of all log:\",(int(last_t)-int(start_t))/3600/24)\n",
    "print(\"The time span of red team:\",(int(last_redt)-int(start_redt))/3600/24)"
   ]
  },
  {
   "cell_type": "code",
   "execution_count": null,
   "id": "1b5b9de9",
   "metadata": {},
   "outputs": [],
   "source": [
    "#statistical_AIG\n",
    "num_users= set()\n",
    "num_devices = set()\n",
    "AIGfile = \"opt_TUDCC3.txt\"\n",
    "with open(AIGfile, 'r', encoding='utf-8') as fi:\n",
    "    line = fi.readline()\n",
    "    while True:\n",
    "        line = fi.readline()\n",
    "        if not line:\n",
    "            break\n",
    "        l = line.strip().split(',')\n",
    "        num_users.add(l[1])\n",
    "        num_users.add(l[4])\n",
    "        num_devices.add(l[3])\n",
    "        num_devices.add(l[6])\n",
    "    fi.close()"
   ]
  },
  {
   "cell_type": "code",
   "execution_count": null,
   "id": "7a87f90d",
   "metadata": {},
   "outputs": [],
   "source": [
    "j=0\n",
    "#label = np.zeros(1051430459)\n",
    "num_redteam = 0\n",
    "origin_file_redteam = '../data/LANL/origin_file_redteam.txt'\n",
    "red_team = '../data/LANL/nredteam.txt'\n",
    "red_file = set(open(red_team,'r').readlines())\n",
    "logon_list = []\n",
    "red_users = set()\n",
    "red_devices = set()\n",
    "flag=1\n",
    "flag_red = 1\n",
    "with open(AIGfile, 'r', encoding='utf-8') as fi:\n",
    "    line = fi.readline()\n",
    "    ofr = open(origin_file_redteam,'w+')\n",
    "    while True:\n",
    "        line = fi.readline()\n",
    "        if not line:\n",
    "            break\n",
    "        l = line.strip().split(',')\n",
    "        str_line =str(l[0])+','+str(l[1])+','+str(l[2])+','+str(l[3])+','+str(l[6])+'\\n'\n",
    "        if(flag):\n",
    "            start_t = l[0]\n",
    "            flag = 0\n",
    "        last_t=l[0]\n",
    "        if str_line in red_file:\n",
    "            #label[j]=1\n",
    "            if(flag_red):\n",
    "                start_redt = l[0]\n",
    "                flag_red = 0\n",
    "            last_redt = l[0]\n",
    "            num_redteam+=1\n",
    "            red_users.add(l[1])\n",
    "            red_users.add(l[4])\n",
    "            red_devices.add(l[3])\n",
    "            red_devices.add(l[6])\n",
    "            logon_list.append(l[-2])\n",
    "            ofr.write(line)\n",
    "        j+=1\n",
    "    fi.close()\n",
    "    ofr.close()"
   ]
  },
  {
   "cell_type": "code",
   "execution_count": null,
   "id": "d421dd4f",
   "metadata": {},
   "outputs": [],
   "source": [
    "print(\"numbers of users in preprocess:\",len(num_users))\n",
    "print(\"numbers of devices in preprocess:\",len(num_devices))\n",
    "print(\"The number of lateral movement:\",num_redteam)\n",
    "print(\"The number of red users:\",len(red_users))\n",
    "print(\"The number of red devices:\",len(red_devices))\n",
    "print(\"The time span of all log:\",(int(last_t)-int(start_t))/3600/24)\n",
    "print(\"The time span of red team:\",(int(last_redt)-int(start_redt))/3600/24)"
   ]
  },
  {
   "cell_type": "code",
   "execution_count": null,
   "id": "e3cf4701",
   "metadata": {},
   "outputs": [],
   "source": [
    "iter_count(red_team)"
   ]
  },
  {
   "cell_type": "code",
   "execution_count": null,
   "id": "6ab84e1b",
   "metadata": {},
   "outputs": [],
   "source": [
    "TUDCCPATH = './opt_TUDCC.txt'\n",
    "iter_count(TUDCCPATH)"
   ]
  },
  {
   "cell_type": "code",
   "execution_count": null,
   "id": "38fc4de8",
   "metadata": {},
   "outputs": [],
   "source": []
  },
  {
   "cell_type": "code",
   "execution_count": null,
   "id": "ef9a3165",
   "metadata": {},
   "outputs": [],
   "source": []
  }
 ],
 "metadata": {
  "kernelspec": {
   "display_name": "pytorch_env",
   "language": "python",
   "name": "pytorch_env"
  },
  "language_info": {
   "codemirror_mode": {
    "name": "ipython",
    "version": 3
   },
   "file_extension": ".py",
   "mimetype": "text/x-python",
   "name": "python",
   "nbconvert_exporter": "python",
   "pygments_lexer": "ipython3",
   "version": "3.7.11"
  }
 },
 "nbformat": 4,
 "nbformat_minor": 5
}
